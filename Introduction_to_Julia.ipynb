{
 "cells": [
  {
   "cell_type": "markdown",
   "metadata": {},
   "source": [
    "# Introduction to Julia\n",
    "## Julia Language context and basic concepts\n",
    "by Iga Szczesniak (AIR Centre) and Júlio Hoffimann (Arpeggeo®)"
   ]
  },
  {
   "cell_type": "markdown",
   "metadata": {},
   "source": [
    "![Julia EO 2024 Banner](figures/JuliaEOlogo.png \"Julia EO 2024 Banner\")"
   ]
  },
  {
   "cell_type": "markdown",
   "metadata": {},
   "source": [
    ">**Quick Facts**\n",
    ">\n",
    ">- Julia is an **open-source**, **high-level**, and **high-performance** programming language developed at MIT by Jeff Bezanson, Stefan Karpinski, Viral B. Shah, and Alan Edelman.\n",
    ">- It was **first released in 2012**, with version 1.0 being released in 2018. The latest version is 1.9.3, and version 1.10 is expected to be released soon.\n",
    ">- Julia solves **the two-language problem**, providing the speed of C and user-friendly syntax similar to Python or MATLAB.\n",
    ">- It is **dynamically typed** and **just-in-time compiled**.\n",
    ">- Julia is a **function-oriented** language.\n",
    ">- Well-suited for **data science applications, technical computing, and scientific machine learning**."
   ]
  },
  {
   "cell_type": "code",
   "execution_count": 1,
   "metadata": {},
   "outputs": [
    {
     "name": "stdout",
     "output_type": "stream",
     "text": [
      "Julia Version 1.8.0\n",
      "Commit 5544a0fab76 (2022-08-17 13:38 UTC)\n",
      "Platform Info:\n",
      "  OS: macOS (x86_64-apple-darwin21.4.0)\n",
      "  CPU: 8 × Intel(R) Core(TM) i5-1038NG7 CPU @ 2.00GHz\n",
      "  WORD_SIZE: 64\n",
      "  LIBM: libopenlibm\n",
      "  LLVM: libLLVM-13.0.1 (ORCJIT, icelake-client)\n",
      "  Threads: 1 on 8 virtual cores\n",
      "Environment:\n",
      "  JULIA_NUM_THREADS = \n"
     ]
    }
   ],
   "source": [
    "versioninfo()"
   ]
  },
  {
   "cell_type": "code",
   "execution_count": 2,
   "metadata": {},
   "outputs": [
    {
     "data": {
      "text/plain": [
       "v\"1.8.0\""
      ]
     },
     "metadata": {},
     "output_type": "display_data"
    }
   ],
   "source": [
    "VERSION"
   ]
  },
  {
   "cell_type": "markdown",
   "metadata": {},
   "source": [
    "## 1. Getting started\n",
    "- Defining variables\n",
    "- Printing \n",
    "- Simple math syntax"
   ]
  },
  {
   "cell_type": "markdown",
   "metadata": {},
   "source": [
    "### Defining variables"
   ]
  },
  {
   "cell_type": "code",
   "execution_count": 3,
   "metadata": {},
   "outputs": [
    {
     "data": {
      "text/plain": [
       "\"JuliaEO\""
      ]
     },
     "metadata": {},
     "output_type": "display_data"
    }
   ],
   "source": [
    "name = \"JuliaEO\""
   ]
  },
  {
   "cell_type": "code",
   "execution_count": 4,
   "metadata": {},
   "outputs": [
    {
     "data": {
      "text/plain": [
       "2"
      ]
     },
     "metadata": {},
     "output_type": "display_data"
    }
   ],
   "source": [
    "age = 2 # years\n",
    "# You can leave comments by typing the hash key"
   ]
  },
  {
   "cell_type": "code",
   "execution_count": 5,
   "metadata": {},
   "outputs": [
    {
     "data": {
      "text/plain": [
       "String"
      ]
     },
     "metadata": {},
     "output_type": "display_data"
    }
   ],
   "source": [
    "typeof(name)\n",
    "# Shift enter or the play button to execute the cell"
   ]
  },
  {
   "cell_type": "code",
   "execution_count": 6,
   "metadata": {},
   "outputs": [
    {
     "data": {
      "text/plain": [
       "Int64"
      ]
     },
     "metadata": {},
     "output_type": "display_data"
    }
   ],
   "source": [
    "typeof(age)"
   ]
  },
  {
   "cell_type": "code",
   "execution_count": 7,
   "metadata": {},
   "outputs": [
    {
     "data": {
      "text/plain": [
       "2.0f0"
      ]
     },
     "metadata": {},
     "output_type": "display_data"
    }
   ],
   "source": [
    "# Convert age to a float and assign it to the variable age_float\n",
    "age_float = convert(Float32, age)"
   ]
  },
  {
   "cell_type": "markdown",
   "metadata": {},
   "source": [
    "### Printing"
   ]
  },
  {
   "cell_type": "code",
   "execution_count": 8,
   "metadata": {},
   "outputs": [
    {
     "name": "stdout",
     "output_type": "stream",
     "text": [
      "Hello JuliaEO!\n"
     ]
    }
   ],
   "source": [
    "println(\"Hello JuliaEO!\")"
   ]
  },
  {
   "cell_type": "markdown",
   "metadata": {},
   "source": [
    "We can use the `$` sign to insert existing variables into a string"
   ]
  },
  {
   "cell_type": "code",
   "execution_count": 9,
   "metadata": {},
   "outputs": [
    {
     "name": "stdout",
     "output_type": "stream",
     "text": [
      "Name = JuliaEO\n"
     ]
    }
   ],
   "source": [
    "println(\"Name = $name\")"
   ]
  },
  {
   "cell_type": "markdown",
   "metadata": {},
   "source": [
    "We can use the `*` sign for concatenation"
   ]
  },
  {
   "cell_type": "code",
   "execution_count": 10,
   "metadata": {},
   "outputs": [
    {
     "data": {
      "text/plain": [
       "\"Name = JuliaEO, Age = 2\""
      ]
     },
     "metadata": {},
     "output_type": "display_data"
    }
   ],
   "source": [
    "\"Name = $name, \" * \"Age = $age\""
   ]
  },
  {
   "cell_type": "markdown",
   "metadata": {},
   "source": [
    "### Simple math syntax "
   ]
  },
  {
   "cell_type": "code",
   "execution_count": 11,
   "metadata": {},
   "outputs": [
    {
     "data": {
      "text/plain": [
       "6"
      ]
     },
     "metadata": {},
     "output_type": "display_data"
    }
   ],
   "source": [
    "sum = 2 + 4"
   ]
  },
  {
   "cell_type": "code",
   "execution_count": 12,
   "metadata": {},
   "outputs": [
    {
     "data": {
      "text/plain": [
       "2"
      ]
     },
     "metadata": {},
     "output_type": "display_data"
    }
   ],
   "source": [
    "difference = 5 - 3"
   ]
  },
  {
   "cell_type": "code",
   "execution_count": 13,
   "metadata": {},
   "outputs": [
    {
     "data": {
      "text/plain": [
       "300"
      ]
     },
     "metadata": {},
     "output_type": "display_data"
    }
   ],
   "source": [
    "product = 3 * 100"
   ]
  },
  {
   "cell_type": "code",
   "execution_count": 14,
   "metadata": {},
   "outputs": [
    {
     "data": {
      "text/plain": [
       "5.0"
      ]
     },
     "metadata": {},
     "output_type": "display_data"
    }
   ],
   "source": [
    "quotinet = 20 / 4"
   ]
  },
  {
   "cell_type": "code",
   "execution_count": 15,
   "metadata": {},
   "outputs": [
    {
     "data": {
      "text/plain": [
       "100"
      ]
     },
     "metadata": {},
     "output_type": "display_data"
    }
   ],
   "source": [
    "power = 10 ^ 2 "
   ]
  },
  {
   "cell_type": "markdown",
   "metadata": {},
   "source": [
    "## 2. Data Structures\n",
    "Once we start working with many variables, it is better to store the data in structures. "
   ]
  },
  {
   "cell_type": "markdown",
   "metadata": {},
   "source": [
    "### Struct"
   ]
  },
  {
   "cell_type": "markdown",
   "metadata": {},
   "source": [
    "We can define the custom data structures that can hold multiple pieces of data in a well-defined format with a `struct`.\n",
    "<br>Note: Structs are **immutable**. Once we assign values to the struct, we cannot change them later.<br>  "
   ]
  },
  {
   "cell_type": "code",
   "execution_count": 16,
   "metadata": {},
   "outputs": [],
   "source": [
    "struct Location\n",
    "    name::String\n",
    "    lat::Float32\n",
    "    lon::Float32\n",
    "    island::Bool\n",
    "end"
   ]
  },
  {
   "cell_type": "code",
   "execution_count": 17,
   "metadata": {},
   "outputs": [
    {
     "data": {
      "text/plain": [
       "(:name, :lat, :lon, :island)"
      ]
     },
     "metadata": {},
     "output_type": "display_data"
    }
   ],
   "source": [
    "fieldnames(Location)"
   ]
  },
  {
   "cell_type": "code",
   "execution_count": 18,
   "metadata": {},
   "outputs": [
    {
     "data": {
      "text/plain": [
       "Location(\"Terceira\", 38.7216f0, 27.2206f0, true)"
      ]
     },
     "metadata": {},
     "output_type": "display_data"
    }
   ],
   "source": [
    "terceira = Location(\"Terceira\", 38.7216, 27.2206, true)"
   ]
  },
  {
   "cell_type": "code",
   "execution_count": 19,
   "metadata": {},
   "outputs": [
    {
     "data": {
      "text/plain": [
       "Location(\"Paris\", 48.8566f0, 2.3522f0, false)"
      ]
     },
     "metadata": {},
     "output_type": "display_data"
    }
   ],
   "source": [
    "paris = Location(\"Paris\", 48.8566, 2.3522, false)"
   ]
  },
  {
   "cell_type": "markdown",
   "metadata": {},
   "source": [
    "### Mutable Struct"
   ]
  },
  {
   "cell_type": "markdown",
   "metadata": {},
   "source": [
    "If we want to update any of the variables, we use a `mutable struct`."
   ]
  },
  {
   "cell_type": "code",
   "execution_count": 20,
   "metadata": {},
   "outputs": [],
   "source": [
    "mutable struct MutableLocation\n",
    "    name::String\n",
    "    lat::Float32\n",
    "    lon::Float32\n",
    "    island::Bool\n",
    "end"
   ]
  },
  {
   "cell_type": "code",
   "execution_count": 21,
   "metadata": {},
   "outputs": [
    {
     "data": {
      "text/plain": [
       "MutableLocation(\"Terceira\", 38.7216f0, 27.2206f0, true)"
      ]
     },
     "metadata": {},
     "output_type": "display_data"
    }
   ],
   "source": [
    "terceira_mutable = MutableLocation(\"Terceira\", 38.7216, 27.2206, true)"
   ]
  },
  {
   "cell_type": "code",
   "execution_count": 22,
   "metadata": {},
   "outputs": [
    {
     "data": {
      "text/plain": [
       "\"TER\""
      ]
     },
     "metadata": {},
     "output_type": "display_data"
    }
   ],
   "source": [
    "terceira_mutable.name = \"TER\""
   ]
  },
  {
   "cell_type": "code",
   "execution_count": 23,
   "metadata": {},
   "outputs": [
    {
     "data": {
      "text/plain": [
       "MutableLocation(\"TER\", 38.7216f0, 27.2206f0, true)"
      ]
     },
     "metadata": {},
     "output_type": "display_data"
    }
   ],
   "source": [
    "terceira_mutable"
   ]
  },
  {
   "cell_type": "markdown",
   "metadata": {},
   "source": [
    "## 3. Native Data Structures "
   ]
  },
  {
   "cell_type": "markdown",
   "metadata": {},
   "source": [
    "### Tuples\n",
    "Tuples are ordered sequences of elements that allow indexing. They are **immutable**, meaning their fields cannot be updated."
   ]
  },
  {
   "cell_type": "code",
   "execution_count": 24,
   "metadata": {},
   "outputs": [
    {
     "data": {
      "text/plain": [
       "(1, \"hello\", 3.14)"
      ]
     },
     "metadata": {},
     "output_type": "display_data"
    }
   ],
   "source": [
    "my_tuple = (1, \"hello\", 3.14)"
   ]
  },
  {
   "cell_type": "code",
   "execution_count": 25,
   "metadata": {},
   "outputs": [
    {
     "data": {
      "text/plain": [
       "1"
      ]
     },
     "metadata": {},
     "output_type": "display_data"
    }
   ],
   "source": [
    "my_tuple[1]"
   ]
  },
  {
   "cell_type": "code",
   "execution_count": 26,
   "metadata": {},
   "outputs": [
    {
     "data": {
      "text/plain": [
       "Tuple{Int64, String, Float64}"
      ]
     },
     "metadata": {},
     "output_type": "display_data"
    }
   ],
   "source": [
    "typeof(my_tuple)"
   ]
  },
  {
   "cell_type": "markdown",
   "metadata": {},
   "source": [
    ">Note: Julia is 1-based indexing, not 0-based like Python."
   ]
  },
  {
   "cell_type": "markdown",
   "metadata": {},
   "source": [
    "Named Tuples are almost like regular Tuples, but they assign a name to each element."
   ]
  },
  {
   "cell_type": "code",
   "execution_count": 27,
   "metadata": {},
   "outputs": [
    {
     "data": {
      "text/plain": [
       "(number = 1, word = \"hello\", pi = \"3.14\")"
      ]
     },
     "metadata": {},
     "output_type": "display_data"
    }
   ],
   "source": [
    "named_tuple = (number = 1, word = \"hello\", pi = \"3.14\")"
   ]
  },
  {
   "cell_type": "code",
   "execution_count": 28,
   "metadata": {},
   "outputs": [
    {
     "data": {
      "text/plain": [
       "1"
      ]
     },
     "metadata": {},
     "output_type": "display_data"
    }
   ],
   "source": [
    "named_tuple[1]"
   ]
  },
  {
   "cell_type": "code",
   "execution_count": 29,
   "metadata": {},
   "outputs": [
    {
     "data": {
      "text/plain": [
       "\"hello\""
      ]
     },
     "metadata": {},
     "output_type": "display_data"
    }
   ],
   "source": [
    "named_tuple.word"
   ]
  },
  {
   "cell_type": "code",
   "execution_count": 30,
   "metadata": {},
   "outputs": [
    {
     "data": {
      "text/plain": [
       "NamedTuple{(:number, :word, :pi), Tuple{Int64, String, String}}"
      ]
     },
     "metadata": {},
     "output_type": "display_data"
    }
   ],
   "source": [
    "typeof(named_tuple)"
   ]
  },
  {
   "cell_type": "markdown",
   "metadata": {},
   "source": [
    "### Dictionaries\n",
    "Dictionaries store sets of data that are related to each other, e.g. contacts lists. \n",
    "<br>They are **mutable**, allowing us to update their fields but we cannot index into them directly.<br>"
   ]
  },
  {
   "cell_type": "code",
   "execution_count": 31,
   "metadata": {},
   "outputs": [
    {
     "data": {
      "text/plain": [
       "Dict{String, String} with 2 entries:\n",
       "  \"Alice\" => \"222 888\"\n",
       "  \"Marta\" => \"555 333\""
      ]
     },
     "metadata": {},
     "output_type": "display_data"
    }
   ],
   "source": [
    "contactslist = Dict(\"Marta\" => \"555 333\", \"Alice\" => \"222 888\")"
   ]
  },
  {
   "cell_type": "code",
   "execution_count": 32,
   "metadata": {},
   "outputs": [
    {
     "data": {
      "text/plain": [
       "\"222 888\""
      ]
     },
     "metadata": {},
     "output_type": "display_data"
    }
   ],
   "source": [
    "# Accessing elements from a dictionary \n",
    "contactslist[\"Alice\"]"
   ]
  },
  {
   "cell_type": "code",
   "execution_count": 33,
   "metadata": {},
   "outputs": [
    {
     "data": {
      "text/plain": [
       "\"111 000\""
      ]
     },
     "metadata": {},
     "output_type": "display_data"
    }
   ],
   "source": [
    "# Adding another entry to a dictionary \n",
    "contactslist[\"Emma\"] = \"111 000\""
   ]
  },
  {
   "cell_type": "code",
   "execution_count": 34,
   "metadata": {},
   "outputs": [
    {
     "data": {
      "text/plain": [
       "Dict{String, String} with 3 entries:\n",
       "  \"Alice\" => \"222 888\"\n",
       "  \"Marta\" => \"555 333\"\n",
       "  \"Emma\"  => \"111 000\""
      ]
     },
     "metadata": {},
     "output_type": "display_data"
    }
   ],
   "source": [
    "contactslist"
   ]
  },
  {
   "cell_type": "code",
   "execution_count": 35,
   "metadata": {},
   "outputs": [
    {
     "data": {
      "text/plain": [
       "\"222 888\""
      ]
     },
     "metadata": {},
     "output_type": "display_data"
    }
   ],
   "source": [
    "# Removing elements from a dictionary \n",
    "pop!(contactslist, \"Alice\")"
   ]
  },
  {
   "cell_type": "code",
   "execution_count": 36,
   "metadata": {},
   "outputs": [
    {
     "data": {
      "text/plain": [
       "Dict{String, String} with 2 entries:\n",
       "  \"Marta\" => \"555 333\"\n",
       "  \"Emma\"  => \"111 000\""
      ]
     },
     "metadata": {},
     "output_type": "display_data"
    }
   ],
   "source": [
    "contactslist"
   ]
  },
  {
   "cell_type": "markdown",
   "metadata": {},
   "source": [
    "Dictionaries are not ordered and we can't index into them."
   ]
  },
  {
   "cell_type": "code",
   "execution_count": 37,
   "metadata": {},
   "outputs": [
    {
     "ename": "KeyError",
     "evalue": "KeyError: key 1 not found",
     "output_type": "error",
     "traceback": [
      "KeyError: key 1 not found\n",
      "\n",
      "Stacktrace:\n",
      " [1] getindex(h::Dict{String, String}, key::Int64)\n",
      "   @ Base ./dict.jl:498\n",
      " [2] top-level scope\n",
      "   @ ~/Desktop/coding/juliaeo24_notebook/Introduction_to_Julia.ipynb:1"
     ]
    }
   ],
   "source": [
    "contactslist[1]"
   ]
  },
  {
   "cell_type": "markdown",
   "metadata": {},
   "source": [
    "But they are mutable and we can update their fields\n"
   ]
  },
  {
   "cell_type": "code",
   "execution_count": 38,
   "metadata": {},
   "outputs": [
    {
     "data": {
      "text/plain": [
       "Dict{String, String} with 2 entries:\n",
       "  \"Marta\" => \"555 333\"\n",
       "  \"Emma\"  => \"222 000\""
      ]
     },
     "metadata": {},
     "output_type": "display_data"
    }
   ],
   "source": [
    "contactslist[\"Emma\"] = \"222 000\"\n",
    "contactslist"
   ]
  },
  {
   "cell_type": "markdown",
   "metadata": {},
   "source": [
    "### Arrays\n",
    "Arrays are **mutable** and **ordered** which means we can update their fields and index into them.  "
   ]
  },
  {
   "cell_type": "code",
   "execution_count": 39,
   "metadata": {},
   "outputs": [
    {
     "data": {
      "text/plain": [
       "5-element Vector{String}:\n",
       " \"Harry Potter\"\n",
       " \"Interstellar\"\n",
       " \"Black Swan\"\n",
       " \"Oppenheimer\"\n",
       " \"Moonrise Kingdom\""
      ]
     },
     "metadata": {},
     "output_type": "display_data"
    }
   ],
   "source": [
    "bestmovies = [\"Harry Potter\", \"Interstellar\", \"Black Swan\", \"Oppenheimer\", \"Moonrise Kingdom\"]"
   ]
  },
  {
   "cell_type": "code",
   "execution_count": 40,
   "metadata": {},
   "outputs": [
    {
     "data": {
      "text/plain": [
       "\"Harry Potter\""
      ]
     },
     "metadata": {},
     "output_type": "display_data"
    }
   ],
   "source": [
    "bestmovies[1]"
   ]
  },
  {
   "cell_type": "code",
   "execution_count": 41,
   "metadata": {},
   "outputs": [
    {
     "data": {
      "text/plain": [
       "\"The Godfather\""
      ]
     },
     "metadata": {},
     "output_type": "display_data"
    }
   ],
   "source": [
    "bestmovies[1] = \"The Godfather\""
   ]
  },
  {
   "cell_type": "code",
   "execution_count": 42,
   "metadata": {},
   "outputs": [
    {
     "data": {
      "text/plain": [
       "5-element Vector{String}:\n",
       " \"The Godfather\"\n",
       " \"Interstellar\"\n",
       " \"Black Swan\"\n",
       " \"Oppenheimer\"\n",
       " \"Moonrise Kingdom\""
      ]
     },
     "metadata": {},
     "output_type": "display_data"
    }
   ],
   "source": [
    "bestmovies"
   ]
  },
  {
   "cell_type": "markdown",
   "metadata": {},
   "source": [
    "We can also edit an array by using the `push!` and `pop!` functions. `push!` adds an element to the end of an array and `pop!` removes the last element of an array."
   ]
  },
  {
   "cell_type": "code",
   "execution_count": 43,
   "metadata": {},
   "outputs": [
    {
     "data": {
      "text/plain": [
       "6-element Vector{String}:\n",
       " \"The Godfather\"\n",
       " \"Interstellar\"\n",
       " \"Black Swan\"\n",
       " \"Oppenheimer\"\n",
       " \"Moonrise Kingdom\"\n",
       " \"Lost in Translation\""
      ]
     },
     "metadata": {},
     "output_type": "display_data"
    }
   ],
   "source": [
    "push!(bestmovies, \"Lost in Translation\")"
   ]
  },
  {
   "cell_type": "markdown",
   "metadata": {},
   "source": [
    "And then remove it."
   ]
  },
  {
   "cell_type": "code",
   "execution_count": 44,
   "metadata": {},
   "outputs": [
    {
     "data": {
      "text/plain": [
       "\"Lost in Translation\""
      ]
     },
     "metadata": {},
     "output_type": "display_data"
    }
   ],
   "source": [
    "pop!(bestmovies)"
   ]
  },
  {
   "cell_type": "code",
   "execution_count": 45,
   "metadata": {},
   "outputs": [
    {
     "data": {
      "text/plain": [
       "5-element Vector{String}:\n",
       " \"The Godfather\"\n",
       " \"Interstellar\"\n",
       " \"Black Swan\"\n",
       " \"Oppenheimer\"\n",
       " \"Moonrise Kingdom\""
      ]
     },
     "metadata": {},
     "output_type": "display_data"
    }
   ],
   "source": [
    "bestmovies"
   ]
  },
  {
   "cell_type": "markdown",
   "metadata": {},
   "source": [
    "Arrays can have any number of dimesnsions and they can store other arrays too."
   ]
  },
  {
   "cell_type": "code",
   "execution_count": 46,
   "metadata": {},
   "outputs": [
    {
     "data": {
      "text/plain": [
       "3-element Vector{Vector{Int64}}:\n",
       " [1, 2, 3]\n",
       " [4, 5]\n",
       " [6, 7, 8, 9]"
      ]
     },
     "metadata": {},
     "output_type": "display_data"
    }
   ],
   "source": [
    "numbers = [[1, 2, 3], [4, 5], [6, 7, 8, 9]]"
   ]
  },
  {
   "cell_type": "code",
   "execution_count": 47,
   "metadata": {},
   "outputs": [
    {
     "data": {
      "text/plain": [
       "4×5 Matrix{Float64}:\n",
       " 0.551281  0.897038  0.503431  0.686993  0.169638\n",
       " 0.811472  0.38126   0.813474  0.297635  0.527261\n",
       " 0.713482  0.026436  0.674491  0.886785  0.0810035\n",
       " 0.720147  0.530874  0.778473  0.113303  0.00497299"
      ]
     },
     "metadata": {},
     "output_type": "display_data"
    }
   ],
   "source": [
    "rand(4,5)"
   ]
  },
  {
   "cell_type": "markdown",
   "metadata": {},
   "source": [
    "**Common arrays**"
   ]
  },
  {
   "cell_type": "code",
   "execution_count": 48,
   "metadata": {},
   "outputs": [
    {
     "data": {
      "text/plain": [
       "3×3 Matrix{Float64}:\n",
       " 0.0  0.0  0.0\n",
       " 0.0  0.0  0.0\n",
       " 0.0  0.0  0.0"
      ]
     },
     "metadata": {},
     "output_type": "display_data"
    }
   ],
   "source": [
    "zeros(3,3)"
   ]
  },
  {
   "cell_type": "code",
   "execution_count": 49,
   "metadata": {},
   "outputs": [
    {
     "data": {
      "text/plain": [
       "3×3 Matrix{Int64}:\n",
       " 1  1  1\n",
       " 1  1  1\n",
       " 1  1  1"
      ]
     },
     "metadata": {},
     "output_type": "display_data"
    }
   ],
   "source": [
    "ones(Int64, 3,3)"
   ]
  },
  {
   "cell_type": "markdown",
   "metadata": {},
   "source": [
    "**Concatenation of arrays**"
   ]
  },
  {
   "cell_type": "markdown",
   "metadata": {},
   "source": [
    "The `cat()` is a built in function for concatenating arrays or collections of objects along a specified dimensions."
   ]
  },
  {
   "cell_type": "code",
   "execution_count": 50,
   "metadata": {},
   "outputs": [
    {
     "data": {
      "text/plain": [
       "8-element Vector{Int64}:\n",
       "  1\n",
       "  2\n",
       "  3\n",
       "  4\n",
       "  5\n",
       " 10\n",
       " 15\n",
       " 20"
      ]
     },
     "metadata": {},
     "output_type": "display_data"
    }
   ],
   "source": [
    "a = [1, 2, 3, 4] \n",
    "b = [5, 10, 15, 20] \n",
    "cat(a, b, dims=1) # vcat"
   ]
  },
  {
   "cell_type": "code",
   "execution_count": 51,
   "metadata": {},
   "outputs": [
    {
     "data": {
      "text/plain": [
       "4×2 Matrix{Int64}:\n",
       " 1   5\n",
       " 2  10\n",
       " 3  15\n",
       " 4  20"
      ]
     },
     "metadata": {},
     "output_type": "display_data"
    }
   ],
   "source": [
    "cat(a, b, dims=2) # hcat"
   ]
  },
  {
   "cell_type": "markdown",
   "metadata": {},
   "source": [
    "Alternatively we could use the `vcat()` to concatenate the given arrays along dimension 1 and `hcat()` to concatenate the given arrays along dimension 2."
   ]
  },
  {
   "cell_type": "code",
   "execution_count": 52,
   "metadata": {},
   "outputs": [
    {
     "data": {
      "text/plain": [
       "8-element Vector{Int64}:\n",
       "  1\n",
       "  2\n",
       "  3\n",
       "  4\n",
       "  5\n",
       " 10\n",
       " 15\n",
       " 20"
      ]
     },
     "metadata": {},
     "output_type": "display_data"
    }
   ],
   "source": [
    "vcat(a, b) "
   ]
  },
  {
   "cell_type": "code",
   "execution_count": 53,
   "metadata": {},
   "outputs": [
    {
     "data": {
      "text/plain": [
       "4×2 Matrix{Int64}:\n",
       " 1   5\n",
       " 2  10\n",
       " 3  15\n",
       " 4  20"
      ]
     },
     "metadata": {},
     "output_type": "display_data"
    }
   ],
   "source": [
    "hcat(a, b) "
   ]
  },
  {
   "cell_type": "markdown",
   "metadata": {},
   "source": [
    "**Array Inspection**"
   ]
  },
  {
   "cell_type": "code",
   "execution_count": 54,
   "metadata": {},
   "outputs": [
    {
     "data": {
      "text/plain": [
       "String"
      ]
     },
     "metadata": {},
     "output_type": "display_data"
    }
   ],
   "source": [
    "eltype(bestmovies)"
   ]
  },
  {
   "cell_type": "code",
   "execution_count": 55,
   "metadata": {},
   "outputs": [
    {
     "data": {
      "text/plain": [
       "5"
      ]
     },
     "metadata": {},
     "output_type": "display_data"
    }
   ],
   "source": [
    "length(bestmovies) # Total number of elements"
   ]
  },
  {
   "cell_type": "code",
   "execution_count": 56,
   "metadata": {},
   "outputs": [
    {
     "data": {
      "text/plain": [
       "1"
      ]
     },
     "metadata": {},
     "output_type": "display_data"
    }
   ],
   "source": [
    "ndims(bestmovies) # Number of dimensions"
   ]
  },
  {
   "cell_type": "code",
   "execution_count": 57,
   "metadata": {},
   "outputs": [
    {
     "data": {
      "text/plain": [
       "(5,)"
      ]
     },
     "metadata": {},
     "output_type": "display_data"
    }
   ],
   "source": [
    "size(bestmovies) # Array’s dimensions"
   ]
  },
  {
   "cell_type": "code",
   "execution_count": 58,
   "metadata": {},
   "outputs": [
    {
     "data": {
      "text/plain": [
       "5"
      ]
     },
     "metadata": {},
     "output_type": "display_data"
    }
   ],
   "source": [
    "size(bestmovies, 1)"
   ]
  },
  {
   "cell_type": "markdown",
   "metadata": {},
   "source": [
    "**Indexing**"
   ]
  },
  {
   "cell_type": "code",
   "execution_count": 59,
   "metadata": {},
   "outputs": [
    {
     "data": {
      "text/plain": [
       "5-element Vector{Int64}:\n",
       " 1\n",
       " 2\n",
       " 3\n",
       " 4\n",
       " 5"
      ]
     },
     "metadata": {},
     "output_type": "display_data"
    }
   ],
   "source": [
    "# Example vector\n",
    "my_vec = [1, 2, 3, 4, 5]"
   ]
  },
  {
   "cell_type": "code",
   "execution_count": 60,
   "metadata": {},
   "outputs": [
    {
     "data": {
      "text/plain": [
       "3×3 Matrix{Int64}:\n",
       " 1  2  3\n",
       " 4  5  6\n",
       " 7  8  9"
      ]
     },
     "metadata": {},
     "output_type": "display_data"
    }
   ],
   "source": [
    "# Example matrix\n",
    "my_mat = [[1 2 3]\n",
    "          [4 5 6]\n",
    "          [7 8 9]]"
   ]
  },
  {
   "cell_type": "code",
   "execution_count": 61,
   "metadata": {},
   "outputs": [
    {
     "data": {
      "text/plain": [
       "3"
      ]
     },
     "metadata": {},
     "output_type": "display_data"
    }
   ],
   "source": [
    "my_vec[3]"
   ]
  },
  {
   "cell_type": "code",
   "execution_count": 62,
   "metadata": {},
   "outputs": [
    {
     "data": {
      "text/plain": [
       "4"
      ]
     },
     "metadata": {},
     "output_type": "display_data"
    }
   ],
   "source": [
    "my_mat[2,1]"
   ]
  },
  {
   "cell_type": "code",
   "execution_count": 63,
   "metadata": {},
   "outputs": [
    {
     "data": {
      "text/plain": [
       "5"
      ]
     },
     "metadata": {},
     "output_type": "display_data"
    }
   ],
   "source": [
    "my_vec[end]"
   ]
  },
  {
   "cell_type": "markdown",
   "metadata": {},
   "source": [
    "**Slicing**"
   ]
  },
  {
   "cell_type": "code",
   "execution_count": 64,
   "metadata": {},
   "outputs": [
    {
     "data": {
      "text/plain": [
       "3-element Vector{Int64}:\n",
       " 2\n",
       " 3\n",
       " 4"
      ]
     },
     "metadata": {},
     "output_type": "display_data"
    }
   ],
   "source": [
    "my_vec[2:4]"
   ]
  },
  {
   "cell_type": "code",
   "execution_count": 65,
   "metadata": {},
   "outputs": [
    {
     "data": {
      "text/plain": [
       "3-element Vector{Int64}:\n",
       " 4\n",
       " 5\n",
       " 6"
      ]
     },
     "metadata": {},
     "output_type": "display_data"
    }
   ],
   "source": [
    "my_mat[2, :]"
   ]
  },
  {
   "cell_type": "markdown",
   "metadata": {},
   "source": [
    "**Manipulations**"
   ]
  },
  {
   "cell_type": "code",
   "execution_count": 66,
   "metadata": {},
   "outputs": [
    {
     "data": {
      "text/plain": [
       "100"
      ]
     },
     "metadata": {},
     "output_type": "display_data"
    }
   ],
   "source": [
    "my_mat[2,2] = 100"
   ]
  },
  {
   "cell_type": "code",
   "execution_count": 67,
   "metadata": {},
   "outputs": [
    {
     "data": {
      "text/plain": [
       "3×3 Matrix{Int64}:\n",
       " 1    2  3\n",
       " 4  100  6\n",
       " 7    8  9"
      ]
     },
     "metadata": {},
     "output_type": "display_data"
    }
   ],
   "source": [
    "my_mat"
   ]
  },
  {
   "cell_type": "code",
   "execution_count": 68,
   "metadata": {},
   "outputs": [
    {
     "data": {
      "text/plain": [
       "3-element Vector{Int64}:\n",
       " 99\n",
       " 99\n",
       " 99"
      ]
     },
     "metadata": {},
     "output_type": "display_data"
    }
   ],
   "source": [
    "my_mat[3, :] = [99,99,99]"
   ]
  },
  {
   "cell_type": "code",
   "execution_count": 69,
   "metadata": {},
   "outputs": [
    {
     "data": {
      "text/plain": [
       "3×3 Matrix{Int64}:\n",
       "  1    2   3\n",
       "  4  100   6\n",
       " 99   99  99"
      ]
     },
     "metadata": {},
     "output_type": "display_data"
    }
   ],
   "source": [
    "my_mat"
   ]
  },
  {
   "cell_type": "markdown",
   "metadata": {},
   "source": [
    "**Multiplication**"
   ]
  },
  {
   "cell_type": "code",
   "execution_count": 70,
   "metadata": {},
   "outputs": [],
   "source": [
    "# Exercise\n",
    "# Try to define a random matrix A and a vector of ones x\n",
    "# Insert your code here\n",
    "\n",
    "\n"
   ]
  },
  {
   "cell_type": "code",
   "execution_count": 71,
   "metadata": {},
   "outputs": [
    {
     "data": {
      "text/plain": [
       "3×3 Matrix{Int64}:\n",
       " 4  3  2\n",
       " 3  7  4\n",
       " 7  7  6"
      ]
     },
     "metadata": {},
     "output_type": "display_data"
    }
   ],
   "source": [
    "# Answer \n",
    "A = rand(0:9,3,3)"
   ]
  },
  {
   "cell_type": "code",
   "execution_count": 72,
   "metadata": {},
   "outputs": [
    {
     "data": {
      "text/plain": [
       "3-element Vector{Float64}:\n",
       " 1.0\n",
       " 1.0\n",
       " 1.0"
      ]
     },
     "metadata": {},
     "output_type": "display_data"
    }
   ],
   "source": [
    "# Answer \n",
    "x = fill(1.0, (3,))"
   ]
  },
  {
   "cell_type": "code",
   "execution_count": 73,
   "metadata": {},
   "outputs": [
    {
     "data": {
      "text/plain": [
       "3-element Vector{Float64}:\n",
       "  9.0\n",
       " 14.0\n",
       " 20.0"
      ]
     },
     "metadata": {},
     "output_type": "display_data"
    }
   ],
   "source": [
    "b = A*x"
   ]
  },
  {
   "cell_type": "markdown",
   "metadata": {},
   "source": [
    "**Transposition**"
   ]
  },
  {
   "cell_type": "code",
   "execution_count": 74,
   "metadata": {},
   "outputs": [
    {
     "data": {
      "text/plain": [
       "3×3 adjoint(::Matrix{Int64}) with eltype Int64:\n",
       " 4  3  7\n",
       " 3  7  7\n",
       " 2  4  6"
      ]
     },
     "metadata": {},
     "output_type": "display_data"
    }
   ],
   "source": [
    "A'"
   ]
  },
  {
   "cell_type": "markdown",
   "metadata": {},
   "source": [
    "or"
   ]
  },
  {
   "cell_type": "code",
   "execution_count": 75,
   "metadata": {},
   "outputs": [
    {
     "data": {
      "text/plain": [
       "3×3 transpose(::Matrix{Int64}) with eltype Int64:\n",
       " 4  3  7\n",
       " 3  7  7\n",
       " 2  4  6"
      ]
     },
     "metadata": {},
     "output_type": "display_data"
    }
   ],
   "source": [
    "transpose(A)"
   ]
  },
  {
   "cell_type": "code",
   "execution_count": 76,
   "metadata": {},
   "outputs": [
    {
     "data": {
      "text/plain": [
       "3×3 Matrix{Int64}:\n",
       " 74   82  62\n",
       " 82  107  76\n",
       " 62   76  56"
      ]
     },
     "metadata": {},
     "output_type": "display_data"
    }
   ],
   "source": [
    "A'A"
   ]
  },
  {
   "cell_type": "markdown",
   "metadata": {},
   "source": [
    "**UnitRange**"
   ]
  },
  {
   "cell_type": "code",
   "execution_count": 77,
   "metadata": {},
   "outputs": [
    {
     "data": {
      "text/plain": [
       "1:10"
      ]
     },
     "metadata": {},
     "output_type": "display_data"
    }
   ],
   "source": [
    "1:10"
   ]
  },
  {
   "cell_type": "code",
   "execution_count": 78,
   "metadata": {},
   "outputs": [
    {
     "data": {
      "text/plain": [
       "0.0:0.2:1.0"
      ]
     },
     "metadata": {},
     "output_type": "display_data"
    }
   ],
   "source": [
    "0.0:0.2:1.0"
   ]
  },
  {
   "cell_type": "code",
   "execution_count": 79,
   "metadata": {},
   "outputs": [
    {
     "data": {
      "text/plain": [
       "UnitRange{Int64}"
      ]
     },
     "metadata": {},
     "output_type": "display_data"
    }
   ],
   "source": [
    "typeof(1:10)"
   ]
  },
  {
   "cell_type": "markdown",
   "metadata": {},
   "source": [
    "Materialize a range into a collection"
   ]
  },
  {
   "cell_type": "code",
   "execution_count": 80,
   "metadata": {},
   "outputs": [
    {
     "data": {
      "text/plain": [
       "10-element Vector{Int64}:\n",
       "  1\n",
       "  2\n",
       "  3\n",
       "  4\n",
       "  5\n",
       "  6\n",
       "  7\n",
       "  8\n",
       "  9\n",
       " 10"
      ]
     },
     "metadata": {},
     "output_type": "display_data"
    }
   ],
   "source": [
    "collect(1:10)"
   ]
  },
  {
   "cell_type": "markdown",
   "metadata": {},
   "source": [
    "It's the same result as if you create an array"
   ]
  },
  {
   "cell_type": "markdown",
   "metadata": {},
   "source": [
    "## 4. Loops"
   ]
  },
  {
   "cell_type": "markdown",
   "metadata": {},
   "source": [
    "### While loop\n",
    "\n",
    "The syntax for a `while` loop is:\n",
    "\n",
    "```julia\n",
    "while *condition*\n",
    "    *loop body*\n",
    "end\n",
    "```\n",
    "\n",
    "For example, we could use `while` to count or to iterate over an array."
   ]
  },
  {
   "cell_type": "code",
   "execution_count": 81,
   "metadata": {},
   "outputs": [
    {
     "name": "stdout",
     "output_type": "stream",
     "text": [
      "1\n",
      "2\n",
      "3\n",
      "4\n",
      "5\n",
      "6\n",
      "7\n",
      "8\n",
      "9\n",
      "10\n"
     ]
    }
   ],
   "source": [
    "n = 0\n",
    "while n < 10\n",
    "    n += 1\n",
    "    println(n)\n",
    "end"
   ]
  },
  {
   "cell_type": "markdown",
   "metadata": {},
   "source": [
    "### For loop\n",
    "\n",
    "The syntax for a `for` loop is:\n",
    "\n",
    "```julia\n",
    "for *var* in *loop iterable*\n",
    "    *loop body*\n",
    "end\n",
    "```\n",
    "\n",
    "We could use a `for` loop to generate the same result as in the example above."
   ]
  },
  {
   "cell_type": "code",
   "execution_count": 82,
   "metadata": {},
   "outputs": [
    {
     "name": "stdout",
     "output_type": "stream",
     "text": [
      "1\n",
      "2\n",
      "3\n",
      "4\n",
      "5\n",
      "6\n",
      "7\n",
      "8\n",
      "9\n",
      "10\n"
     ]
    }
   ],
   "source": [
    "for n in 1:10\n",
    "    println(n)\n",
    "end"
   ]
  },
  {
   "cell_type": "code",
   "execution_count": 83,
   "metadata": {},
   "outputs": [
    {
     "name": "stdout",
     "output_type": "stream",
     "text": [
      "1\n",
      "2\n",
      "3\n",
      "4\n",
      "5\n",
      "6\n",
      "7\n",
      "8\n",
      "9\n",
      "10\n"
     ]
    }
   ],
   "source": [
    "for n ∈ 1:10\n",
    "    println(n)\n",
    "end"
   ]
  },
  {
   "cell_type": "markdown",
   "metadata": {},
   "source": [
    "## 5. Conditionals"
   ]
  },
  {
   "cell_type": "markdown",
   "metadata": {},
   "source": [
    "#### with the `if` keyword\n",
    "In Julia, the syntax\n",
    "\n",
    "```julia\n",
    "if *condition 1*\n",
    "    *option 1*\n",
    "elseif *condition 2*\n",
    "    *option 2*\n",
    "else\n",
    "    *option 3*\n",
    "end\n",
    "```"
   ]
  },
  {
   "cell_type": "markdown",
   "metadata": {},
   "source": [
    "For example, we want to write a conditional statement that prints a number if the number is even and the string \"odd\" if the number is odd."
   ]
  },
  {
   "cell_type": "code",
   "execution_count": 84,
   "metadata": {},
   "outputs": [
    {
     "data": {
      "text/plain": [
       "1"
      ]
     },
     "metadata": {},
     "output_type": "display_data"
    }
   ],
   "source": [
    "x = 1"
   ]
  },
  {
   "cell_type": "code",
   "execution_count": 85,
   "metadata": {},
   "outputs": [
    {
     "name": "stdout",
     "output_type": "stream",
     "text": [
      "odd\n"
     ]
    }
   ],
   "source": [
    "if (x % 2 == 0)\n",
    "    println(x)\n",
    "else\n",
    "    println(\"odd\")\n",
    "end"
   ]
  },
  {
   "cell_type": "markdown",
   "metadata": {},
   "source": [
    "#### with ternary operators\n",
    "In Julia, we can rewrite this code using the tenary operator \n",
    "\n",
    "```julia\n",
    "a ? b : c\n",
    "```\n",
    "\n",
    "which is equal to \n",
    "\n",
    "```julia\n",
    "if a\n",
    "    b\n",
    "else\n",
    "    c\n",
    "end\n",
    "```"
   ]
  },
  {
   "cell_type": "code",
   "execution_count": 86,
   "metadata": {},
   "outputs": [
    {
     "data": {
      "text/plain": [
       "\"odd\""
      ]
     },
     "metadata": {},
     "output_type": "display_data"
    }
   ],
   "source": [
    "(x % 2 == 0) ? x : \"odd\""
   ]
  },
  {
   "cell_type": "markdown",
   "metadata": {},
   "source": [
    "## 6. Functions"
   ]
  },
  {
   "cell_type": "markdown",
   "metadata": {},
   "source": [
    "The basic syntax for defining functions in Julia is using `function` and `end` keywords"
   ]
  },
  {
   "cell_type": "code",
   "execution_count": 87,
   "metadata": {},
   "outputs": [
    {
     "data": {
      "text/plain": [
       "sayhi (generic function with 1 method)"
      ]
     },
     "metadata": {},
     "output_type": "display_data"
    }
   ],
   "source": [
    "function sayhi(name)\n",
    "    println(\"Hi $name, it's great to see you!\")\n",
    "end"
   ]
  },
  {
   "cell_type": "code",
   "execution_count": 88,
   "metadata": {},
   "outputs": [
    {
     "name": "stdout",
     "output_type": "stream",
     "text": [
      "Hi Julia, it's great to see you!\n"
     ]
    }
   ],
   "source": [
    "sayhi(\"Julia\")"
   ]
  },
  {
   "cell_type": "code",
   "execution_count": 89,
   "metadata": {},
   "outputs": [
    {
     "data": {
      "text/plain": [
       "f (generic function with 1 method)"
      ]
     },
     "metadata": {},
     "output_type": "display_data"
    }
   ],
   "source": [
    "function f(x)\n",
    "    x^2\n",
    "end"
   ]
  },
  {
   "cell_type": "code",
   "execution_count": 90,
   "metadata": {},
   "outputs": [
    {
     "data": {
      "text/plain": [
       "225"
      ]
     },
     "metadata": {},
     "output_type": "display_data"
    }
   ],
   "source": [
    "f(15)"
   ]
  },
  {
   "cell_type": "markdown",
   "metadata": {},
   "source": [
    "Alternatively, we could have declared the above functions in just a single line"
   ]
  },
  {
   "cell_type": "code",
   "execution_count": 91,
   "metadata": {},
   "outputs": [
    {
     "data": {
      "text/plain": [
       "sayhi2 (generic function with 1 method)"
      ]
     },
     "metadata": {},
     "output_type": "display_data"
    }
   ],
   "source": [
    "sayhi2(name) = println(\"Hi $name, it's great to see you!\")"
   ]
  },
  {
   "cell_type": "code",
   "execution_count": 92,
   "metadata": {},
   "outputs": [
    {
     "data": {
      "text/plain": [
       "f2 (generic function with 1 method)"
      ]
     },
     "metadata": {},
     "output_type": "display_data"
    }
   ],
   "source": [
    "f2(x) = x^2"
   ]
  },
  {
   "cell_type": "code",
   "execution_count": 93,
   "metadata": {},
   "outputs": [
    {
     "name": "stdout",
     "output_type": "stream",
     "text": [
      "Hi Iga, it's great to see you!\n"
     ]
    }
   ],
   "source": [
    "sayhi2(\"Iga\")"
   ]
  },
  {
   "cell_type": "code",
   "execution_count": 94,
   "metadata": {},
   "outputs": [
    {
     "data": {
      "text/plain": [
       "225"
      ]
     },
     "metadata": {},
     "output_type": "display_data"
    }
   ],
   "source": [
    "f2(15)"
   ]
  },
  {
   "cell_type": "markdown",
   "metadata": {},
   "source": [
    "Or we could have declared them as the \"anonymous\" functions"
   ]
  },
  {
   "cell_type": "code",
   "execution_count": 95,
   "metadata": {},
   "outputs": [
    {
     "data": {
      "text/plain": [
       "#9 (generic function with 1 method)"
      ]
     },
     "metadata": {},
     "output_type": "display_data"
    }
   ],
   "source": [
    "sayhi3 = name -> println(\"Hi $name, it's great to see you!\")"
   ]
  },
  {
   "cell_type": "code",
   "execution_count": 96,
   "metadata": {},
   "outputs": [
    {
     "data": {
      "text/plain": [
       "#11 (generic function with 1 method)"
      ]
     },
     "metadata": {},
     "output_type": "display_data"
    }
   ],
   "source": [
    "f3 = x -> x^2"
   ]
  },
  {
   "cell_type": "code",
   "execution_count": 97,
   "metadata": {},
   "outputs": [
    {
     "name": "stdout",
     "output_type": "stream",
     "text": [
      "Hi Eva, it's great to see you!\n"
     ]
    }
   ],
   "source": [
    "sayhi3(\"Eva\")"
   ]
  },
  {
   "cell_type": "code",
   "execution_count": 98,
   "metadata": {},
   "outputs": [
    {
     "data": {
      "text/plain": [
       "225"
      ]
     },
     "metadata": {},
     "output_type": "display_data"
    }
   ],
   "source": [
    "f3(15)"
   ]
  },
  {
   "cell_type": "code",
   "execution_count": 99,
   "metadata": {},
   "outputs": [],
   "source": [
    "# Exercise\n",
    "# Try to make a function that prints \"Hello Iga\" if the given name is \"Iga\" and prints \"Hello World\" if the given name is different. \n",
    "# Insert your code here\n",
    "\n",
    "\n"
   ]
  },
  {
   "cell_type": "code",
   "execution_count": 100,
   "metadata": {},
   "outputs": [
    {
     "data": {
      "text/plain": [
       "print_hello (generic function with 1 method)"
      ]
     },
     "metadata": {},
     "output_type": "display_data"
    }
   ],
   "source": [
    "# Answer\n",
    "function print_hello(name)\n",
    "    if name == \"Iga\"\n",
    "        println(\"Hello Iga\")\n",
    "    else\n",
    "        println(\"Hello World\")\n",
    "    end \n",
    "end"
   ]
  },
  {
   "cell_type": "code",
   "execution_count": 101,
   "metadata": {},
   "outputs": [
    {
     "name": "stdout",
     "output_type": "stream",
     "text": [
      "Hello World\n"
     ]
    }
   ],
   "source": [
    "print_hello(\"Alex\")"
   ]
  },
  {
   "cell_type": "markdown",
   "metadata": {},
   "source": [
    "### Mutating vs non-mutating functions"
   ]
  },
  {
   "cell_type": "markdown",
   "metadata": {},
   "source": [
    "Using a non-mutating function `sort` without `!` "
   ]
  },
  {
   "cell_type": "code",
   "execution_count": 102,
   "metadata": {},
   "outputs": [
    {
     "data": {
      "text/plain": [
       "3-element Vector{Int64}:\n",
       " 3\n",
       " 5\n",
       " 2"
      ]
     },
     "metadata": {},
     "output_type": "display_data"
    }
   ],
   "source": [
    "v = [3, 5, 2]"
   ]
  },
  {
   "cell_type": "code",
   "execution_count": 103,
   "metadata": {},
   "outputs": [
    {
     "data": {
      "text/plain": [
       "3-element Vector{Int64}:\n",
       " 2\n",
       " 3\n",
       " 5"
      ]
     },
     "metadata": {},
     "output_type": "display_data"
    }
   ],
   "source": [
    "sort(v)"
   ]
  },
  {
   "cell_type": "code",
   "execution_count": 104,
   "metadata": {},
   "outputs": [
    {
     "data": {
      "text/plain": [
       "3-element Vector{Int64}:\n",
       " 3\n",
       " 5\n",
       " 2"
      ]
     },
     "metadata": {},
     "output_type": "display_data"
    }
   ],
   "source": [
    "v"
   ]
  },
  {
   "cell_type": "markdown",
   "metadata": {},
   "source": [
    "The exclamation mark `!` at the end of a function `sort!` performs a mutation on its arguments. Well, let's see."
   ]
  },
  {
   "cell_type": "code",
   "execution_count": 105,
   "metadata": {},
   "outputs": [
    {
     "data": {
      "text/plain": [
       "3-element Vector{Int64}:\n",
       " 2\n",
       " 3\n",
       " 5"
      ]
     },
     "metadata": {},
     "output_type": "display_data"
    }
   ],
   "source": [
    "sort!(v)"
   ]
  },
  {
   "cell_type": "code",
   "execution_count": 106,
   "metadata": {},
   "outputs": [
    {
     "data": {
      "text/plain": [
       "3-element Vector{Int64}:\n",
       " 2\n",
       " 3\n",
       " 5"
      ]
     },
     "metadata": {},
     "output_type": "display_data"
    }
   ],
   "source": [
    "v"
   ]
  },
  {
   "cell_type": "markdown",
   "metadata": {},
   "source": [
    "### Broadcasting"
   ]
  },
  {
   "cell_type": "markdown",
   "metadata": {},
   "source": [
    "We can apply a function element-wise to arrays or collections without explicitly using loops by *broadcasting* using the dot `.` syntax. "
   ]
  },
  {
   "cell_type": "code",
   "execution_count": 107,
   "metadata": {},
   "outputs": [
    {
     "data": {
      "text/plain": [
       "3-element Vector{Int64}:\n",
       " 1\n",
       " 4\n",
       " 9"
      ]
     },
     "metadata": {},
     "output_type": "display_data"
    }
   ],
   "source": [
    "f.([1, 2, 3])"
   ]
  },
  {
   "cell_type": "markdown",
   "metadata": {},
   "source": [
    "E.g. multiply each element of A by the scalar x."
   ]
  },
  {
   "cell_type": "code",
   "execution_count": 108,
   "metadata": {},
   "outputs": [
    {
     "data": {
      "text/plain": [
       "3×3 Matrix{Int64}:\n",
       " 1  2  3\n",
       " 4  5  6\n",
       " 7  8  9"
      ]
     },
     "metadata": {},
     "output_type": "display_data"
    }
   ],
   "source": [
    "A = [1 2 3; 4 5 6; 7 8 9]"
   ]
  },
  {
   "cell_type": "code",
   "execution_count": 109,
   "metadata": {},
   "outputs": [
    {
     "data": {
      "text/plain": [
       "2"
      ]
     },
     "metadata": {},
     "output_type": "display_data"
    }
   ],
   "source": [
    "x = 2"
   ]
  },
  {
   "cell_type": "code",
   "execution_count": 110,
   "metadata": {},
   "outputs": [
    {
     "data": {
      "text/plain": [
       "3×3 Matrix{Int64}:\n",
       "  2   4   6\n",
       "  8  10  12\n",
       " 14  16  18"
      ]
     },
     "metadata": {},
     "output_type": "display_data"
    }
   ],
   "source": [
    "result = A .* x"
   ]
  },
  {
   "cell_type": "markdown",
   "metadata": {},
   "source": [
    "## 7. Multiple Dispatch \n",
    "A key feature of Julia that makes your code *generic* and *fast*. "
   ]
  },
  {
   "cell_type": "markdown",
   "metadata": {},
   "source": [
    "Julia is a dynamically typed language, meaning we don't need to specify the types of our input arguments when declaring a function. It is optional because Julia dynamically determines the correct types on the fly. However, we can still explicitly specify types if we want to:"
   ]
  },
  {
   "cell_type": "code",
   "execution_count": 111,
   "metadata": {},
   "outputs": [
    {
     "data": {
      "text/plain": [
       "add (generic function with 1 method)"
      ]
     },
     "metadata": {},
     "output_type": "display_data"
    }
   ],
   "source": [
    "function add(x::Int, y::Int)\n",
    "    return x + y\n",
    "end"
   ]
  },
  {
   "cell_type": "code",
   "execution_count": 112,
   "metadata": {},
   "outputs": [
    {
     "data": {
      "text/plain": [
       "add (generic function with 2 methods)"
      ]
     },
     "metadata": {},
     "output_type": "display_data"
    }
   ],
   "source": [
    "function add(x::Float64, y::Float64)\n",
    "    return x + y\n",
    "end"
   ]
  },
  {
   "cell_type": "code",
   "execution_count": 113,
   "metadata": {},
   "outputs": [
    {
     "data": {
      "text/plain": [
       "8"
      ]
     },
     "metadata": {},
     "output_type": "display_data"
    }
   ],
   "source": [
    "result_int = add(5, 3)         "
   ]
  },
  {
   "cell_type": "code",
   "execution_count": 114,
   "metadata": {},
   "outputs": [
    {
     "data": {
      "text/plain": [
       "6.0"
      ]
     },
     "metadata": {},
     "output_type": "display_data"
    }
   ],
   "source": [
    "result_float = add(3.5, 2.5)  "
   ]
  },
  {
   "cell_type": "markdown",
   "metadata": {},
   "source": [
    "It doesn't mean that we overwrite or replace any of the functions we declared. We are simply adding an additional **method** to the generic function called add.\n",
    "<br>We can use the `methods` function to see how many methods there are for the function.<br>"
   ]
  },
  {
   "cell_type": "code",
   "execution_count": 115,
   "metadata": {},
   "outputs": [
    {
     "data": {
      "text/html": [
       "# 2 methods for generic function <b>add</b>:<ul><li> add(x::<b>Int64</b>, y::<b>Int64</b>) in Main at <a href=\"file:///Users/igaszczesniak/Desktop/coding/juliaeo24_notebook/Introduction_to_Julia.ipynb\" target=\"_blank\">/Users/igaszczesniak/Desktop/coding/juliaeo24_notebook/Introduction_to_Julia.ipynb:1</a></li> <li> add(x::<b>Float64</b>, y::<b>Float64</b>) in Main at <a href=\"file:///Users/igaszczesniak/Desktop/coding/juliaeo24_notebook/Introduction_to_Julia.ipynb\" target=\"_blank\">/Users/igaszczesniak/Desktop/coding/juliaeo24_notebook/Introduction_to_Julia.ipynb:1</a></li> </ul>"
      ],
      "text/plain": [
       "# 2 methods for generic function \"add\":\n",
       "[1] add(x::Int64, y::Int64) in Main at /Users/igaszczesniak/Desktop/coding/juliaeo24_notebook/Introduction_to_Julia.ipynb:1\n",
       "[2] add(x::Float64, y::Float64) in Main at /Users/igaszczesniak/Desktop/coding/juliaeo24_notebook/Introduction_to_Julia.ipynb:1"
      ]
     },
     "metadata": {},
     "output_type": "display_data"
    }
   ],
   "source": [
    "methods(add)"
   ]
  },
  {
   "cell_type": "code",
   "execution_count": 116,
   "metadata": {},
   "outputs": [
    {
     "data": {
      "text/html": [
       "# 211 methods for generic function <b>-</b>:<ul><li> -(x::<b>Union{Int128, Int16, Int32, Int64, Int8, UInt128, UInt16, UInt32, UInt64, UInt8}</b>) in Base at <a href=\"https://github.com/JuliaLang/julia/tree/5544a0fab7648cfa61fe79cd557a7504a92ec1b5/base/int.jl#L85\" target=\"_blank\">int.jl:85</a></li> <li> -(x::<b>T</b>, y::<b>T</b>)<i> where T<:Union{Int128, Int16, Int32, Int64, Int8, UInt128, UInt16, UInt32, UInt64, UInt8}</i> in Base at <a href=\"https://github.com/JuliaLang/julia/tree/5544a0fab7648cfa61fe79cd557a7504a92ec1b5/base/int.jl#L86\" target=\"_blank\">int.jl:86</a></li> <li> -(x::<b>Union{Float16, Float32, Float64}</b>) in Base at <a href=\"https://github.com/JuliaLang/julia/tree/5544a0fab7648cfa61fe79cd557a7504a92ec1b5/base/float.jl#L381\" target=\"_blank\">float.jl:381</a></li> <li> -(x::<b>T</b>, y::<b>T</b>)<i> where T<:Union{Float16, Float32, Float64}</i> in Base at <a href=\"https://github.com/JuliaLang/julia/tree/5544a0fab7648cfa61fe79cd557a7504a92ec1b5/base/float.jl#L384\" target=\"_blank\">float.jl:384</a></li> <li> -(c::<b>Union{UInt16, UInt32, UInt64, UInt8}</b>, x::<b>BigInt</b>) in Base.GMP at <a href=\"https://github.com/JuliaLang/julia/tree/5544a0fab7648cfa61fe79cd557a7504a92ec1b5/base/gmp.jl#L534\" target=\"_blank\">gmp.jl:534</a></li> <li> -(c::<b>Union{Int16, Int32, Int64, Int8}</b>, x::<b>BigInt</b>) in Base.GMP at <a href=\"https://github.com/JuliaLang/julia/tree/5544a0fab7648cfa61fe79cd557a7504a92ec1b5/base/gmp.jl#L539\" target=\"_blank\">gmp.jl:539</a></li> <li> -(c::<b>Union{UInt16, UInt32, UInt64, UInt8}</b>, x::<b>BigFloat</b>) in Base.MPFR at <a href=\"https://github.com/JuliaLang/julia/tree/5544a0fab7648cfa61fe79cd557a7504a92ec1b5/base/mpfr.jl#L441\" target=\"_blank\">mpfr.jl:441</a></li> <li> -(c::<b>Union{Int16, Int32, Int64, Int8}</b>, x::<b>BigFloat</b>) in Base.MPFR at <a href=\"https://github.com/JuliaLang/julia/tree/5544a0fab7648cfa61fe79cd557a7504a92ec1b5/base/mpfr.jl#L453\" target=\"_blank\">mpfr.jl:453</a></li> <li> -(c::<b>Union{Float16, Float32, Float64}</b>, x::<b>BigFloat</b>) in Base.MPFR at <a href=\"https://github.com/JuliaLang/julia/tree/5544a0fab7648cfa61fe79cd557a7504a92ec1b5/base/mpfr.jl#L465\" target=\"_blank\">mpfr.jl:465</a></li> <li> -(x::<b>StridedArray{<:Union{Dates.CompoundPeriod, Dates.Period}}</b>, y::<b>Dates.TimeType</b>) in Dates at <a href=\"file:///Users/julia/.julia/scratchspaces/a66863c6-20e8-4ff4-8a62-49f30b1f605e/agent-cache/default-macmini-x64-6.0/build/default-macmini-x64-6-0/julialang/julia-release-1-dot-8/usr/share/julia/stdlib/v1.8/Dates/src/deprecated.jl\" target=\"_blank\">/Applications/Julia-1.8.app/Contents/Resources/julia/share/julia/stdlib/v1.8/Dates/src/deprecated.jl:26</a></li> <li> -(X::<b>StridedArray{<:Union{Dates.CompoundPeriod, Dates.Period}}</b>, Y::<b>StridedArray{<:Union{Dates.CompoundPeriod, Dates.Period}}</b>) in Dates at <a href=\"file:///Users/julia/.julia/scratchspaces/a66863c6-20e8-4ff4-8a62-49f30b1f605e/agent-cache/default-macmini-x64-6.0/build/default-macmini-x64-6-0/julialang/julia-release-1-dot-8/usr/share/julia/stdlib/v1.8/Dates/src/deprecated.jl\" target=\"_blank\">/Applications/Julia-1.8.app/Contents/Resources/julia/share/julia/stdlib/v1.8/Dates/src/deprecated.jl:62</a></li> <li> -(J1::<b>LinearAlgebra.UniformScaling</b>, J2::<b>LinearAlgebra.UniformScaling</b>) in LinearAlgebra at <a href=\"file:///Users/julia/.julia/scratchspaces/a66863c6-20e8-4ff4-8a62-49f30b1f605e/agent-cache/default-macmini-x64-6.0/build/default-macmini-x64-6-0/julialang/julia-release-1-dot-8/usr/share/julia/stdlib/v1.8/LinearAlgebra/src/uniformscaling.jl\" target=\"_blank\">/Applications/Julia-1.8.app/Contents/Resources/julia/share/julia/stdlib/v1.8/LinearAlgebra/src/uniformscaling.jl:156</a></li> <li> -(J::<b>LinearAlgebra.UniformScaling</b>, B::<b>BitMatrix</b>) in LinearAlgebra at <a href=\"file:///Users/julia/.julia/scratchspaces/a66863c6-20e8-4ff4-8a62-49f30b1f605e/agent-cache/default-macmini-x64-6.0/build/default-macmini-x64-6-0/julialang/julia-release-1-dot-8/usr/share/julia/stdlib/v1.8/LinearAlgebra/src/uniformscaling.jl\" target=\"_blank\">/Applications/Julia-1.8.app/Contents/Resources/julia/share/julia/stdlib/v1.8/LinearAlgebra/src/uniformscaling.jl:158</a></li> <li> -(J::<b>LinearAlgebra.UniformScaling{<:Complex}</b>, A::<b>LinearAlgebra.Hermitian</b>) in LinearAlgebra at <a href=\"file:///Users/julia/.julia/scratchspaces/a66863c6-20e8-4ff4-8a62-49f30b1f605e/agent-cache/default-macmini-x64-6.0/build/default-macmini-x64-6-0/julialang/julia-release-1-dot-8/usr/share/julia/stdlib/v1.8/LinearAlgebra/src/uniformscaling.jl\" target=\"_blank\">/Applications/Julia-1.8.app/Contents/Resources/julia/share/julia/stdlib/v1.8/LinearAlgebra/src/uniformscaling.jl:204</a></li> <li> -(J::<b>LinearAlgebra.UniformScaling</b>) in LinearAlgebra at <a href=\"file:///Users/julia/.julia/scratchspaces/a66863c6-20e8-4ff4-8a62-49f30b1f605e/agent-cache/default-macmini-x64-6.0/build/default-macmini-x64-6-0/julialang/julia-release-1-dot-8/usr/share/julia/stdlib/v1.8/LinearAlgebra/src/uniformscaling.jl\" target=\"_blank\">/Applications/Julia-1.8.app/Contents/Resources/julia/share/julia/stdlib/v1.8/LinearAlgebra/src/uniformscaling.jl:155</a></li> <li> -(J::<b>LinearAlgebra.UniformScaling</b>, x::<b>Number</b>) in LinearAlgebra at <a href=\"file:///Users/julia/.julia/scratchspaces/a66863c6-20e8-4ff4-8a62-49f30b1f605e/agent-cache/default-macmini-x64-6.0/build/default-macmini-x64-6-0/julialang/julia-release-1-dot-8/usr/share/julia/stdlib/v1.8/LinearAlgebra/src/uniformscaling.jl\" target=\"_blank\">/Applications/Julia-1.8.app/Contents/Resources/julia/share/julia/stdlib/v1.8/LinearAlgebra/src/uniformscaling.jl:146</a></li> <li> -(x::<b>LinearAlgebra.UniformScaling</b>, H::<b>LinearAlgebra.UpperHessenberg</b>) in LinearAlgebra at <a href=\"file:///Users/julia/.julia/scratchspaces/a66863c6-20e8-4ff4-8a62-49f30b1f605e/agent-cache/default-macmini-x64-6.0/build/default-macmini-x64-6-0/julialang/julia-release-1-dot-8/usr/share/julia/stdlib/v1.8/LinearAlgebra/src/hessenberg.jl\" target=\"_blank\">/Applications/Julia-1.8.app/Contents/Resources/julia/share/julia/stdlib/v1.8/LinearAlgebra/src/hessenberg.jl:109</a></li> <li> -(J::<b>LinearAlgebra.UniformScaling</b>, F::<b>LinearAlgebra.Hessenberg</b>) in LinearAlgebra at <a href=\"file:///Users/julia/.julia/scratchspaces/a66863c6-20e8-4ff4-8a62-49f30b1f605e/agent-cache/default-macmini-x64-6.0/build/default-macmini-x64-6-0/julialang/julia-release-1-dot-8/usr/share/julia/stdlib/v1.8/LinearAlgebra/src/hessenberg.jl\" target=\"_blank\">/Applications/Julia-1.8.app/Contents/Resources/julia/share/julia/stdlib/v1.8/LinearAlgebra/src/hessenberg.jl:644</a></li> <li> -(A::<b>LinearAlgebra.UniformScaling</b>, B::<b>LinearAlgebra.Tridiagonal{var\"#s884\", V} where {var\"#s884\"<:Number, V<:AbstractVector{var\"#s884\"}}</b>) in LinearAlgebra at <a href=\"file:///Users/julia/.julia/scratchspaces/a66863c6-20e8-4ff4-8a62-49f30b1f605e/agent-cache/default-macmini-x64-6.0/build/default-macmini-x64-6-0/julialang/julia-release-1-dot-8/usr/share/julia/stdlib/v1.8/LinearAlgebra/src/special.jl\" target=\"_blank\">/Applications/Julia-1.8.app/Contents/Resources/julia/share/julia/stdlib/v1.8/LinearAlgebra/src/special.jl:276</a></li> <li> -(A::<b>LinearAlgebra.UniformScaling</b>, B::<b>LinearAlgebra.SymTridiagonal{var\"#s884\", V} where {var\"#s884\"<:Number, V<:AbstractVector{var\"#s884\"}}</b>) in LinearAlgebra at <a href=\"file:///Users/julia/.julia/scratchspaces/a66863c6-20e8-4ff4-8a62-49f30b1f605e/agent-cache/default-macmini-x64-6.0/build/default-macmini-x64-6-0/julialang/julia-release-1-dot-8/usr/share/julia/stdlib/v1.8/LinearAlgebra/src/special.jl\" target=\"_blank\">/Applications/Julia-1.8.app/Contents/Resources/julia/share/julia/stdlib/v1.8/LinearAlgebra/src/special.jl:281</a></li> <li> -(A::<b>LinearAlgebra.UniformScaling</b>, B::<b>LinearAlgebra.Bidiagonal{var\"#s884\", V} where {var\"#s884\"<:Number, V<:AbstractVector{var\"#s884\"}}</b>) in LinearAlgebra at <a href=\"file:///Users/julia/.julia/scratchspaces/a66863c6-20e8-4ff4-8a62-49f30b1f605e/agent-cache/default-macmini-x64-6.0/build/default-macmini-x64-6-0/julialang/julia-release-1-dot-8/usr/share/julia/stdlib/v1.8/LinearAlgebra/src/special.jl\" target=\"_blank\">/Applications/Julia-1.8.app/Contents/Resources/julia/share/julia/stdlib/v1.8/LinearAlgebra/src/special.jl:286</a></li> <li> -(A::<b>LinearAlgebra.UniformScaling</b>, B::<b>LinearAlgebra.Diagonal{var\"#s884\", V} where {var\"#s884\"<:Number, V<:AbstractVector{var\"#s884\"}}</b>) in LinearAlgebra at <a href=\"file:///Users/julia/.julia/scratchspaces/a66863c6-20e8-4ff4-8a62-49f30b1f605e/agent-cache/default-macmini-x64-6.0/build/default-macmini-x64-6-0/julialang/julia-release-1-dot-8/usr/share/julia/stdlib/v1.8/LinearAlgebra/src/special.jl\" target=\"_blank\">/Applications/Julia-1.8.app/Contents/Resources/julia/share/julia/stdlib/v1.8/LinearAlgebra/src/special.jl:291</a></li> <li> -(J::<b>LinearAlgebra.UniformScaling</b>, A::<b>SparseArrays.AbstractSparseMatrixCSC</b>) in SparseArrays at <a href=\"file:///Users/julia/.julia/scratchspaces/a66863c6-20e8-4ff4-8a62-49f30b1f605e/agent-cache/default-macmini-x64-6.0/build/default-macmini-x64-6-0/julialang/julia-release-1-dot-8/usr/share/julia/stdlib/v1.8/SparseArrays/src/sparsematrix.jl\" target=\"_blank\">/Applications/Julia-1.8.app/Contents/Resources/julia/share/julia/stdlib/v1.8/SparseArrays/src/sparsematrix.jl:3823</a></li> <li> -(J::<b>LinearAlgebra.UniformScaling</b>, A::<b>AbstractMatrix</b>) in LinearAlgebra at <a href=\"file:///Users/julia/.julia/scratchspaces/a66863c6-20e8-4ff4-8a62-49f30b1f605e/agent-cache/default-macmini-x64-6.0/build/default-macmini-x64-6-0/julialang/julia-release-1-dot-8/usr/share/julia/stdlib/v1.8/LinearAlgebra/src/uniformscaling.jl\" target=\"_blank\">/Applications/Julia-1.8.app/Contents/Resources/julia/share/julia/stdlib/v1.8/LinearAlgebra/src/uniformscaling.jl:223</a></li> <li> -(A::<b>LinearAlgebra.Tridiagonal</b>) in LinearAlgebra at <a href=\"file:///Users/julia/.julia/scratchspaces/a66863c6-20e8-4ff4-8a62-49f30b1f605e/agent-cache/default-macmini-x64-6.0/build/default-macmini-x64-6-0/julialang/julia-release-1-dot-8/usr/share/julia/stdlib/v1.8/LinearAlgebra/src/tridiag.jl\" target=\"_blank\">/Applications/Julia-1.8.app/Contents/Resources/julia/share/julia/stdlib/v1.8/LinearAlgebra/src/tridiag.jl:740</a></li> <li> -(A::<b>LinearAlgebra.Tridiagonal</b>, B::<b>LinearAlgebra.Tridiagonal</b>) in LinearAlgebra at <a href=\"file:///Users/julia/.julia/scratchspaces/a66863c6-20e8-4ff4-8a62-49f30b1f605e/agent-cache/default-macmini-x64-6.0/build/default-macmini-x64-6-0/julialang/julia-release-1-dot-8/usr/share/julia/stdlib/v1.8/LinearAlgebra/src/tridiag.jl\" target=\"_blank\">/Applications/Julia-1.8.app/Contents/Resources/julia/share/julia/stdlib/v1.8/LinearAlgebra/src/tridiag.jl:739</a></li> <li> -(x::<b>LinearAlgebra.Tridiagonal</b>, H::<b>LinearAlgebra.UpperHessenberg</b>) in LinearAlgebra at <a href=\"file:///Users/julia/.julia/scratchspaces/a66863c6-20e8-4ff4-8a62-49f30b1f605e/agent-cache/default-macmini-x64-6.0/build/default-macmini-x64-6-0/julialang/julia-release-1-dot-8/usr/share/julia/stdlib/v1.8/LinearAlgebra/src/hessenberg.jl\" target=\"_blank\">/Applications/Julia-1.8.app/Contents/Resources/julia/share/julia/stdlib/v1.8/LinearAlgebra/src/hessenberg.jl:109</a></li> <li> -(A::<b>LinearAlgebra.Tridiagonal</b>, B::<b>LinearAlgebra.SymTridiagonal</b>) in LinearAlgebra at <a href=\"file:///Users/julia/.julia/scratchspaces/a66863c6-20e8-4ff4-8a62-49f30b1f605e/agent-cache/default-macmini-x64-6.0/build/default-macmini-x64-6-0/julialang/julia-release-1-dot-8/usr/share/julia/stdlib/v1.8/LinearAlgebra/src/special.jl\" target=\"_blank\">/Applications/Julia-1.8.app/Contents/Resources/julia/share/julia/stdlib/v1.8/LinearAlgebra/src/special.jl:170</a></li> <li> -(A::<b>LinearAlgebra.Tridiagonal</b>, B::<b>LinearAlgebra.Diagonal</b>) in LinearAlgebra at <a href=\"file:///Users/julia/.julia/scratchspaces/a66863c6-20e8-4ff4-8a62-49f30b1f605e/agent-cache/default-macmini-x64-6.0/build/default-macmini-x64-6-0/julialang/julia-release-1-dot-8/usr/share/julia/stdlib/v1.8/LinearAlgebra/src/special.jl\" target=\"_blank\">/Applications/Julia-1.8.app/Contents/Resources/julia/share/julia/stdlib/v1.8/LinearAlgebra/src/special.jl:190</a></li> <li> -(A::<b>LinearAlgebra.Tridiagonal</b>, B::<b>LinearAlgebra.Bidiagonal</b>) in LinearAlgebra at <a href=\"file:///Users/julia/.julia/scratchspaces/a66863c6-20e8-4ff4-8a62-49f30b1f605e/agent-cache/default-macmini-x64-6.0/build/default-macmini-x64-6-0/julialang/julia-release-1-dot-8/usr/share/julia/stdlib/v1.8/LinearAlgebra/src/special.jl\" target=\"_blank\">/Applications/Julia-1.8.app/Contents/Resources/julia/share/julia/stdlib/v1.8/LinearAlgebra/src/special.jl:210</a></li> <li> -(x::<b>T</b>, y::<b>T</b>)<i> where T<:Dates.Instant</i> in Dates at <a href=\"file:///Users/julia/.julia/scratchspaces/a66863c6-20e8-4ff4-8a62-49f30b1f605e/agent-cache/default-macmini-x64-6.0/build/default-macmini-x64-6-0/julialang/julia-release-1-dot-8/usr/share/julia/stdlib/v1.8/Dates/src/arithmetic.jl\" target=\"_blank\">/Applications/Julia-1.8.app/Contents/Resources/julia/share/julia/stdlib/v1.8/Dates/src/arithmetic.jl:5</a></li> <li> -(x::<b>P</b>)<i> where P<:Dates.Period</i> in Dates at <a href=\"file:///Users/julia/.julia/scratchspaces/a66863c6-20e8-4ff4-8a62-49f30b1f605e/agent-cache/default-macmini-x64-6.0/build/default-macmini-x64-6-0/julialang/julia-release-1-dot-8/usr/share/julia/stdlib/v1.8/Dates/src/periods.jl\" target=\"_blank\">/Applications/Julia-1.8.app/Contents/Resources/julia/share/julia/stdlib/v1.8/Dates/src/periods.jl:71</a></li> <li> -(x::<b>P</b>, y::<b>P</b>)<i> where P<:Dates.Period</i> in Dates at <a href=\"file:///Users/julia/.julia/scratchspaces/a66863c6-20e8-4ff4-8a62-49f30b1f605e/agent-cache/default-macmini-x64-6.0/build/default-macmini-x64-6-0/julialang/julia-release-1-dot-8/usr/share/julia/stdlib/v1.8/Dates/src/periods.jl\" target=\"_blank\">/Applications/Julia-1.8.app/Contents/Resources/julia/share/julia/stdlib/v1.8/Dates/src/periods.jl:77</a></li> <li> -(x::<b>Dates.Period</b>, y::<b>Dates.Period</b>) in Dates at <a href=\"file:///Users/julia/.julia/scratchspaces/a66863c6-20e8-4ff4-8a62-49f30b1f605e/agent-cache/default-macmini-x64-6.0/build/default-macmini-x64-6-0/julialang/julia-release-1-dot-8/usr/share/julia/stdlib/v1.8/Dates/src/periods.jl\" target=\"_blank\">/Applications/Julia-1.8.app/Contents/Resources/julia/share/julia/stdlib/v1.8/Dates/src/periods.jl:372</a></li> <li> -(A::<b>LinearAlgebra.Bidiagonal</b>) in LinearAlgebra at <a href=\"file:///Users/julia/.julia/scratchspaces/a66863c6-20e8-4ff4-8a62-49f30b1f605e/agent-cache/default-macmini-x64-6.0/build/default-macmini-x64-6-0/julialang/julia-release-1-dot-8/usr/share/julia/stdlib/v1.8/LinearAlgebra/src/bidiag.jl\" target=\"_blank\">/Applications/Julia-1.8.app/Contents/Resources/julia/share/julia/stdlib/v1.8/LinearAlgebra/src/bidiag.jl:383</a></li> <li> -(A::<b>LinearAlgebra.Bidiagonal</b>, B::<b>LinearAlgebra.Bidiagonal</b>) in LinearAlgebra at <a href=\"file:///Users/julia/.julia/scratchspaces/a66863c6-20e8-4ff4-8a62-49f30b1f605e/agent-cache/default-macmini-x64-6.0/build/default-macmini-x64-6-0/julialang/julia-release-1-dot-8/usr/share/julia/stdlib/v1.8/LinearAlgebra/src/bidiag.jl\" target=\"_blank\">/Applications/Julia-1.8.app/Contents/Resources/julia/share/julia/stdlib/v1.8/LinearAlgebra/src/bidiag.jl:374</a></li> <li> -(x::<b>LinearAlgebra.Bidiagonal</b>, H::<b>LinearAlgebra.UpperHessenberg</b>) in LinearAlgebra at <a href=\"file:///Users/julia/.julia/scratchspaces/a66863c6-20e8-4ff4-8a62-49f30b1f605e/agent-cache/default-macmini-x64-6.0/build/default-macmini-x64-6-0/julialang/julia-release-1-dot-8/usr/share/julia/stdlib/v1.8/LinearAlgebra/src/hessenberg.jl\" target=\"_blank\">/Applications/Julia-1.8.app/Contents/Resources/julia/share/julia/stdlib/v1.8/LinearAlgebra/src/hessenberg.jl:109</a></li> <li> -(A::<b>LinearAlgebra.Bidiagonal</b>, B::<b>LinearAlgebra.UpperTriangular</b>) in LinearAlgebra at <a href=\"file:///Users/julia/.julia/scratchspaces/a66863c6-20e8-4ff4-8a62-49f30b1f605e/agent-cache/default-macmini-x64-6.0/build/default-macmini-x64-6-0/julialang/julia-release-1-dot-8/usr/share/julia/stdlib/v1.8/LinearAlgebra/src/special.jl\" target=\"_blank\">/Applications/Julia-1.8.app/Contents/Resources/julia/share/julia/stdlib/v1.8/LinearAlgebra/src/special.jl:106</a></li> <li> -(A::<b>LinearAlgebra.Bidiagonal</b>, B::<b>LinearAlgebra.UnitUpperTriangular</b>) in LinearAlgebra at <a href=\"file:///Users/julia/.julia/scratchspaces/a66863c6-20e8-4ff4-8a62-49f30b1f605e/agent-cache/default-macmini-x64-6.0/build/default-macmini-x64-6-0/julialang/julia-release-1-dot-8/usr/share/julia/stdlib/v1.8/LinearAlgebra/src/special.jl\" target=\"_blank\">/Applications/Julia-1.8.app/Contents/Resources/julia/share/julia/stdlib/v1.8/LinearAlgebra/src/special.jl:106</a></li> <li> -(A::<b>LinearAlgebra.Bidiagonal</b>, B::<b>LinearAlgebra.LowerTriangular</b>) in LinearAlgebra at <a href=\"file:///Users/julia/.julia/scratchspaces/a66863c6-20e8-4ff4-8a62-49f30b1f605e/agent-cache/default-macmini-x64-6.0/build/default-macmini-x64-6-0/julialang/julia-release-1-dot-8/usr/share/julia/stdlib/v1.8/LinearAlgebra/src/special.jl\" target=\"_blank\">/Applications/Julia-1.8.app/Contents/Resources/julia/share/julia/stdlib/v1.8/LinearAlgebra/src/special.jl:106</a></li> <li> -(A::<b>LinearAlgebra.Bidiagonal</b>, B::<b>LinearAlgebra.UnitLowerTriangular</b>) in LinearAlgebra at <a href=\"file:///Users/julia/.julia/scratchspaces/a66863c6-20e8-4ff4-8a62-49f30b1f605e/agent-cache/default-macmini-x64-6.0/build/default-macmini-x64-6-0/julialang/julia-release-1-dot-8/usr/share/julia/stdlib/v1.8/LinearAlgebra/src/special.jl\" target=\"_blank\">/Applications/Julia-1.8.app/Contents/Resources/julia/share/julia/stdlib/v1.8/LinearAlgebra/src/special.jl:106</a></li> <li> -(A::<b>LinearAlgebra.Bidiagonal</b>, B::<b>LinearAlgebra.Diagonal</b>) in LinearAlgebra at <a href=\"file:///Users/julia/.julia/scratchspaces/a66863c6-20e8-4ff4-8a62-49f30b1f605e/agent-cache/default-macmini-x64-6.0/build/default-macmini-x64-6-0/julialang/julia-release-1-dot-8/usr/share/julia/stdlib/v1.8/LinearAlgebra/src/special.jl\" target=\"_blank\">/Applications/Julia-1.8.app/Contents/Resources/julia/share/julia/stdlib/v1.8/LinearAlgebra/src/special.jl:132</a></li> <li> -(A::<b>LinearAlgebra.Bidiagonal</b>, B::<b>LinearAlgebra.Tridiagonal</b>) in LinearAlgebra at <a href=\"file:///Users/julia/.julia/scratchspaces/a66863c6-20e8-4ff4-8a62-49f30b1f605e/agent-cache/default-macmini-x64-6.0/build/default-macmini-x64-6-0/julialang/julia-release-1-dot-8/usr/share/julia/stdlib/v1.8/LinearAlgebra/src/special.jl\" target=\"_blank\">/Applications/Julia-1.8.app/Contents/Resources/julia/share/julia/stdlib/v1.8/LinearAlgebra/src/special.jl:200</a></li> <li> -(A::<b>LinearAlgebra.Bidiagonal</b>, B::<b>LinearAlgebra.SymTridiagonal</b>) in LinearAlgebra at <a href=\"file:///Users/julia/.julia/scratchspaces/a66863c6-20e8-4ff4-8a62-49f30b1f605e/agent-cache/default-macmini-x64-6.0/build/default-macmini-x64-6-0/julialang/julia-release-1-dot-8/usr/share/julia/stdlib/v1.8/LinearAlgebra/src/special.jl\" target=\"_blank\">/Applications/Julia-1.8.app/Contents/Resources/julia/share/julia/stdlib/v1.8/LinearAlgebra/src/special.jl:220</a></li> <li> -(A::<b>LinearAlgebra.UpperTriangular</b>) in LinearAlgebra at <a href=\"file:///Users/julia/.julia/scratchspaces/a66863c6-20e8-4ff4-8a62-49f30b1f605e/agent-cache/default-macmini-x64-6.0/build/default-macmini-x64-6-0/julialang/julia-release-1-dot-8/usr/share/julia/stdlib/v1.8/LinearAlgebra/src/triangular.jl\" target=\"_blank\">/Applications/Julia-1.8.app/Contents/Resources/julia/share/julia/stdlib/v1.8/LinearAlgebra/src/triangular.jl:411</a></li> <li> -(A::<b>LinearAlgebra.UpperTriangular</b>, B::<b>LinearAlgebra.UpperTriangular</b>) in LinearAlgebra at <a href=\"file:///Users/julia/.julia/scratchspaces/a66863c6-20e8-4ff4-8a62-49f30b1f605e/agent-cache/default-macmini-x64-6.0/build/default-macmini-x64-6-0/julialang/julia-release-1-dot-8/usr/share/julia/stdlib/v1.8/LinearAlgebra/src/triangular.jl\" target=\"_blank\">/Applications/Julia-1.8.app/Contents/Resources/julia/share/julia/stdlib/v1.8/LinearAlgebra/src/triangular.jl:648</a></li> <li> -(A::<b>LinearAlgebra.UpperTriangular</b>, B::<b>LinearAlgebra.UnitUpperTriangular</b>) in LinearAlgebra at <a href=\"file:///Users/julia/.julia/scratchspaces/a66863c6-20e8-4ff4-8a62-49f30b1f605e/agent-cache/default-macmini-x64-6.0/build/default-macmini-x64-6-0/julialang/julia-release-1-dot-8/usr/share/julia/stdlib/v1.8/LinearAlgebra/src/triangular.jl\" target=\"_blank\">/Applications/Julia-1.8.app/Contents/Resources/julia/share/julia/stdlib/v1.8/LinearAlgebra/src/triangular.jl:650</a></li> <li> -(x::<b>LinearAlgebra.UpperTriangular</b>, H::<b>LinearAlgebra.UpperHessenberg</b>) in LinearAlgebra at <a href=\"file:///Users/julia/.julia/scratchspaces/a66863c6-20e8-4ff4-8a62-49f30b1f605e/agent-cache/default-macmini-x64-6.0/build/default-macmini-x64-6-0/julialang/julia-release-1-dot-8/usr/share/julia/stdlib/v1.8/LinearAlgebra/src/hessenberg.jl\" target=\"_blank\">/Applications/Julia-1.8.app/Contents/Resources/julia/share/julia/stdlib/v1.8/LinearAlgebra/src/hessenberg.jl:109</a></li> <li> -(A::<b>LinearAlgebra.UpperTriangular</b>, B::<b>LinearAlgebra.Bidiagonal</b>) in LinearAlgebra at <a href=\"file:///Users/julia/.julia/scratchspaces/a66863c6-20e8-4ff4-8a62-49f30b1f605e/agent-cache/default-macmini-x64-6.0/build/default-macmini-x64-6-0/julialang/julia-release-1-dot-8/usr/share/julia/stdlib/v1.8/LinearAlgebra/src/special.jl\" target=\"_blank\">/Applications/Julia-1.8.app/Contents/Resources/julia/share/julia/stdlib/v1.8/LinearAlgebra/src/special.jl:98</a></li> <li> -(x::<b>AbstractChar</b>, y::<b>AbstractChar</b>) in Base at <a href=\"https://github.com/JuliaLang/julia/tree/5544a0fab7648cfa61fe79cd557a7504a92ec1b5/base/char.jl#L226\" target=\"_blank\">char.jl:226</a></li> <li> -(x::<b>T</b>, y::<b>Integer</b>)<i> where T<:AbstractChar</i> in Base at <a href=\"https://github.com/JuliaLang/julia/tree/5544a0fab7648cfa61fe79cd557a7504a92ec1b5/base/char.jl#L227\" target=\"_blank\">char.jl:227</a></li> <li> -(r::<b>LinRange</b>) in Base at <a href=\"https://github.com/JuliaLang/julia/tree/5544a0fab7648cfa61fe79cd557a7504a92ec1b5/base/range.jl#L1261\" target=\"_blank\">range.jl:1261</a></li> <li> -(r1::<b>LinRange{T}</b>, r2::<b>LinRange{T}</b>)<i> where T</i> in Base at <a href=\"https://github.com/JuliaLang/julia/tree/5544a0fab7648cfa61fe79cd557a7504a92ec1b5/base/range.jl#L1431\" target=\"_blank\">range.jl:1431</a></li> <li> -(z::<b>Complex</b>, w::<b>Complex</b>) in Base at <a href=\"https://github.com/JuliaLang/julia/tree/5544a0fab7648cfa61fe79cd557a7504a92ec1b5/base/complex.jl#L289\" target=\"_blank\">complex.jl:289</a></li> <li> -(F::<b>LinearAlgebra.Hessenberg</b>) in LinearAlgebra at <a href=\"file:///Users/julia/.julia/scratchspaces/a66863c6-20e8-4ff4-8a62-49f30b1f605e/agent-cache/default-macmini-x64-6.0/build/default-macmini-x64-6-0/julialang/julia-release-1-dot-8/usr/share/julia/stdlib/v1.8/LinearAlgebra/src/hessenberg.jl\" target=\"_blank\">/Applications/Julia-1.8.app/Contents/Resources/julia/share/julia/stdlib/v1.8/LinearAlgebra/src/hessenberg.jl:638</a></li> <li> -(F::<b>LinearAlgebra.Hessenberg</b>, J::<b>LinearAlgebra.UniformScaling</b>) in LinearAlgebra at <a href=\"file:///Users/julia/.julia/scratchspaces/a66863c6-20e8-4ff4-8a62-49f30b1f605e/agent-cache/default-macmini-x64-6.0/build/default-macmini-x64-6-0/julialang/julia-release-1-dot-8/usr/share/julia/stdlib/v1.8/LinearAlgebra/src/hessenberg.jl\" target=\"_blank\">/Applications/Julia-1.8.app/Contents/Resources/julia/share/julia/stdlib/v1.8/LinearAlgebra/src/hessenberg.jl:643</a></li> <li> -(index::<b>CartesianIndex{N}</b>)<i> where N</i> in Base.IteratorsMD at <a href=\"https://github.com/JuliaLang/julia/tree/5544a0fab7648cfa61fe79cd557a7504a92ec1b5/base/multidimensional.jl#L112\" target=\"_blank\">multidimensional.jl:112</a></li> <li> -(index1::<b>CartesianIndex{N}</b>, index2::<b>CartesianIndex{N}</b>)<i> where N</i> in Base.IteratorsMD at <a href=\"https://github.com/JuliaLang/julia/tree/5544a0fab7648cfa61fe79cd557a7504a92ec1b5/base/multidimensional.jl#L116\" target=\"_blank\">multidimensional.jl:116</a></li> <li> -(x::<b>AbstractIrrational</b>) in Base at <a href=\"https://github.com/JuliaLang/julia/tree/5544a0fab7648cfa61fe79cd557a7504a92ec1b5/base/irrationals.jl#L156\" target=\"_blank\">irrationals.jl:156</a></li> <li> -(x::<b>AbstractIrrational</b>, y::<b>AbstractIrrational</b>) in Base at <a href=\"https://github.com/JuliaLang/julia/tree/5544a0fab7648cfa61fe79cd557a7504a92ec1b5/base/irrationals.jl#L158\" target=\"_blank\">irrationals.jl:158</a></li> <li> -(A::<b>LinearAlgebra.LowerTriangular</b>) in LinearAlgebra at <a href=\"file:///Users/julia/.julia/scratchspaces/a66863c6-20e8-4ff4-8a62-49f30b1f605e/agent-cache/default-macmini-x64-6.0/build/default-macmini-x64-6-0/julialang/julia-release-1-dot-8/usr/share/julia/stdlib/v1.8/LinearAlgebra/src/triangular.jl\" target=\"_blank\">/Applications/Julia-1.8.app/Contents/Resources/julia/share/julia/stdlib/v1.8/LinearAlgebra/src/triangular.jl:410</a></li> <li> -(A::<b>LinearAlgebra.LowerTriangular</b>, B::<b>LinearAlgebra.LowerTriangular</b>) in LinearAlgebra at <a href=\"file:///Users/julia/.julia/scratchspaces/a66863c6-20e8-4ff4-8a62-49f30b1f605e/agent-cache/default-macmini-x64-6.0/build/default-macmini-x64-6-0/julialang/julia-release-1-dot-8/usr/share/julia/stdlib/v1.8/LinearAlgebra/src/triangular.jl\" target=\"_blank\">/Applications/Julia-1.8.app/Contents/Resources/julia/share/julia/stdlib/v1.8/LinearAlgebra/src/triangular.jl:649</a></li> <li> -(A::<b>LinearAlgebra.LowerTriangular</b>, B::<b>LinearAlgebra.UnitLowerTriangular</b>) in LinearAlgebra at <a href=\"file:///Users/julia/.julia/scratchspaces/a66863c6-20e8-4ff4-8a62-49f30b1f605e/agent-cache/default-macmini-x64-6.0/build/default-macmini-x64-6-0/julialang/julia-release-1-dot-8/usr/share/julia/stdlib/v1.8/LinearAlgebra/src/triangular.jl\" target=\"_blank\">/Applications/Julia-1.8.app/Contents/Resources/julia/share/julia/stdlib/v1.8/LinearAlgebra/src/triangular.jl:651</a></li> <li> -(A::<b>LinearAlgebra.LowerTriangular</b>, B::<b>LinearAlgebra.Bidiagonal</b>) in LinearAlgebra at <a href=\"file:///Users/julia/.julia/scratchspaces/a66863c6-20e8-4ff4-8a62-49f30b1f605e/agent-cache/default-macmini-x64-6.0/build/default-macmini-x64-6-0/julialang/julia-release-1-dot-8/usr/share/julia/stdlib/v1.8/LinearAlgebra/src/special.jl\" target=\"_blank\">/Applications/Julia-1.8.app/Contents/Resources/julia/share/julia/stdlib/v1.8/LinearAlgebra/src/special.jl:98</a></li> <li> -(x::<b>Base.TwicePrecision</b>) in Base at <a href=\"https://github.com/JuliaLang/julia/tree/5544a0fab7648cfa61fe79cd557a7504a92ec1b5/base/twiceprecision.jl#L281\" target=\"_blank\">twiceprecision.jl:281</a></li> <li> -(x::<b>Base.TwicePrecision</b>, y::<b>Base.TwicePrecision</b>) in Base at <a href=\"https://github.com/JuliaLang/julia/tree/5544a0fab7648cfa61fe79cd557a7504a92ec1b5/base/twiceprecision.jl#L303\" target=\"_blank\">twiceprecision.jl:303</a></li> <li> -(x::<b>Base.TwicePrecision</b>, y::<b>Number</b>) in Base at <a href=\"https://github.com/JuliaLang/julia/tree/5544a0fab7648cfa61fe79cd557a7504a92ec1b5/base/twiceprecision.jl#L304\" target=\"_blank\">twiceprecision.jl:304</a></li> <li> -(A::<b>LinearAlgebra.UnitUpperTriangular</b>) in LinearAlgebra at <a href=\"file:///Users/julia/.julia/scratchspaces/a66863c6-20e8-4ff4-8a62-49f30b1f605e/agent-cache/default-macmini-x64-6.0/build/default-macmini-x64-6-0/julialang/julia-release-1-dot-8/usr/share/julia/stdlib/v1.8/LinearAlgebra/src/triangular.jl\" target=\"_blank\">/Applications/Julia-1.8.app/Contents/Resources/julia/share/julia/stdlib/v1.8/LinearAlgebra/src/triangular.jl:419</a></li> <li> -(A::<b>LinearAlgebra.UnitUpperTriangular</b>, B::<b>LinearAlgebra.UpperTriangular</b>) in LinearAlgebra at <a href=\"file:///Users/julia/.julia/scratchspaces/a66863c6-20e8-4ff4-8a62-49f30b1f605e/agent-cache/default-macmini-x64-6.0/build/default-macmini-x64-6-0/julialang/julia-release-1-dot-8/usr/share/julia/stdlib/v1.8/LinearAlgebra/src/triangular.jl\" target=\"_blank\">/Applications/Julia-1.8.app/Contents/Resources/julia/share/julia/stdlib/v1.8/LinearAlgebra/src/triangular.jl:652</a></li> <li> -(A::<b>LinearAlgebra.UnitUpperTriangular</b>, B::<b>LinearAlgebra.UnitUpperTriangular</b>) in LinearAlgebra at <a href=\"file:///Users/julia/.julia/scratchspaces/a66863c6-20e8-4ff4-8a62-49f30b1f605e/agent-cache/default-macmini-x64-6.0/build/default-macmini-x64-6-0/julialang/julia-release-1-dot-8/usr/share/julia/stdlib/v1.8/LinearAlgebra/src/triangular.jl\" target=\"_blank\">/Applications/Julia-1.8.app/Contents/Resources/julia/share/julia/stdlib/v1.8/LinearAlgebra/src/triangular.jl:654</a></li> <li> -(x::<b>LinearAlgebra.UnitUpperTriangular</b>, H::<b>LinearAlgebra.UpperHessenberg</b>) in LinearAlgebra at <a href=\"file:///Users/julia/.julia/scratchspaces/a66863c6-20e8-4ff4-8a62-49f30b1f605e/agent-cache/default-macmini-x64-6.0/build/default-macmini-x64-6-0/julialang/julia-release-1-dot-8/usr/share/julia/stdlib/v1.8/LinearAlgebra/src/hessenberg.jl\" target=\"_blank\">/Applications/Julia-1.8.app/Contents/Resources/julia/share/julia/stdlib/v1.8/LinearAlgebra/src/hessenberg.jl:109</a></li> <li> -(A::<b>LinearAlgebra.UnitUpperTriangular</b>, B::<b>LinearAlgebra.Bidiagonal</b>) in LinearAlgebra at <a href=\"file:///Users/julia/.julia/scratchspaces/a66863c6-20e8-4ff4-8a62-49f30b1f605e/agent-cache/default-macmini-x64-6.0/build/default-macmini-x64-6-0/julialang/julia-release-1-dot-8/usr/share/julia/stdlib/v1.8/LinearAlgebra/src/special.jl\" target=\"_blank\">/Applications/Julia-1.8.app/Contents/Resources/julia/share/julia/stdlib/v1.8/LinearAlgebra/src/special.jl:98</a></li> <li> -(A::<b>LinearAlgebra.Symmetric</b>, B::<b>LinearAlgebra.Symmetric</b>) in LinearAlgebra at <a href=\"file:///Users/julia/.julia/scratchspaces/a66863c6-20e8-4ff4-8a62-49f30b1f605e/agent-cache/default-macmini-x64-6.0/build/default-macmini-x64-6-0/julialang/julia-release-1-dot-8/usr/share/julia/stdlib/v1.8/LinearAlgebra/src/symmetric.jl\" target=\"_blank\">/Applications/Julia-1.8.app/Contents/Resources/julia/share/julia/stdlib/v1.8/LinearAlgebra/src/symmetric.jl:469</a></li> <li> -(A::<b>LinearAlgebra.Symmetric</b>, B::<b>LinearAlgebra.SymTridiagonal</b>) in LinearAlgebra at <a href=\"file:///Users/julia/.julia/scratchspaces/a66863c6-20e8-4ff4-8a62-49f30b1f605e/agent-cache/default-macmini-x64-6.0/build/default-macmini-x64-6-0/julialang/julia-release-1-dot-8/usr/share/julia/stdlib/v1.8/LinearAlgebra/src/symmetric.jl\" target=\"_blank\">/Applications/Julia-1.8.app/Contents/Resources/julia/share/julia/stdlib/v1.8/LinearAlgebra/src/symmetric.jl:486</a></li> <li> -(S::<b>LinearAlgebra.Symmetric</b>, D::<b>LinearAlgebra.Diagonal</b>) in LinearAlgebra at <a href=\"file:///Users/julia/.julia/scratchspaces/a66863c6-20e8-4ff4-8a62-49f30b1f605e/agent-cache/default-macmini-x64-6.0/build/default-macmini-x64-6-0/julialang/julia-release-1-dot-8/usr/share/julia/stdlib/v1.8/LinearAlgebra/src/diagonal.jl\" target=\"_blank\">/Applications/Julia-1.8.app/Contents/Resources/julia/share/julia/stdlib/v1.8/LinearAlgebra/src/diagonal.jl:191</a></li> <li> -(A::<b>LinearAlgebra.Symmetric{<:Any, <:SparseArrays.AbstractSparseMatrix}</b>, B::<b>SparseArrays.AbstractSparseMatrix</b>) in SparseArrays at <a href=\"file:///Users/julia/.julia/scratchspaces/a66863c6-20e8-4ff4-8a62-49f30b1f605e/agent-cache/default-macmini-x64-6.0/build/default-macmini-x64-6-0/julialang/julia-release-1-dot-8/usr/share/julia/stdlib/v1.8/SparseArrays/src/linalg.jl\" target=\"_blank\">/Applications/Julia-1.8.app/Contents/Resources/julia/share/julia/stdlib/v1.8/SparseArrays/src/linalg.jl:15</a></li> <li> -(A::<b>LinearAlgebra.Symmetric</b>, B::<b>SparseArrays.AbstractSparseMatrix</b>) in SparseArrays at <a href=\"file:///Users/julia/.julia/scratchspaces/a66863c6-20e8-4ff4-8a62-49f30b1f605e/agent-cache/default-macmini-x64-6.0/build/default-macmini-x64-6-0/julialang/julia-release-1-dot-8/usr/share/julia/stdlib/v1.8/SparseArrays/src/linalg.jl\" target=\"_blank\">/Applications/Julia-1.8.app/Contents/Resources/julia/share/julia/stdlib/v1.8/SparseArrays/src/linalg.jl:18</a></li> <li> -(A::<b>LinearAlgebra.Symmetric{<:Real, <:SparseArrays.AbstractSparseMatrix}</b>, B::<b>LinearAlgebra.Hermitian{<:Any, <:SparseArrays.AbstractSparseMatrix}</b>) in SparseArrays at <a href=\"file:///Users/julia/.julia/scratchspaces/a66863c6-20e8-4ff4-8a62-49f30b1f605e/agent-cache/default-macmini-x64-6.0/build/default-macmini-x64-6-0/julialang/julia-release-1-dot-8/usr/share/julia/stdlib/v1.8/SparseArrays/src/linalg.jl\" target=\"_blank\">/Applications/Julia-1.8.app/Contents/Resources/julia/share/julia/stdlib/v1.8/SparseArrays/src/linalg.jl:25</a></li> <li> -(A::<b>LinearAlgebra.Symmetric{var\"#s883\", S} where {var\"#s883\"<:Real, S<:(AbstractMatrix{<:var\"#s883\"})}</b>, B::<b>LinearAlgebra.Hermitian</b>) in LinearAlgebra at <a href=\"file:///Users/julia/.julia/scratchspaces/a66863c6-20e8-4ff4-8a62-49f30b1f605e/agent-cache/default-macmini-x64-6.0/build/default-macmini-x64-6-0/julialang/julia-release-1-dot-8/usr/share/julia/stdlib/v1.8/LinearAlgebra/src/symmetric.jl\" target=\"_blank\">/Applications/Julia-1.8.app/Contents/Resources/julia/share/julia/stdlib/v1.8/LinearAlgebra/src/symmetric.jl:484</a></li> <li> -(A::<b>LinearAlgebra.Symmetric{<:Any, <:SparseArrays.AbstractSparseMatrix}</b>, B::<b>LinearAlgebra.Hermitian{<:Any, <:SparseArrays.AbstractSparseMatrix}</b>) in SparseArrays at <a href=\"file:///Users/julia/.julia/scratchspaces/a66863c6-20e8-4ff4-8a62-49f30b1f605e/agent-cache/default-macmini-x64-6.0/build/default-macmini-x64-6-0/julialang/julia-release-1-dot-8/usr/share/julia/stdlib/v1.8/SparseArrays/src/linalg.jl\" target=\"_blank\">/Applications/Julia-1.8.app/Contents/Resources/julia/share/julia/stdlib/v1.8/SparseArrays/src/linalg.jl:23</a></li> <li> -(A::<b>LinearAlgebra.Symmetric</b>) in LinearAlgebra at <a href=\"file:///Users/julia/.julia/scratchspaces/a66863c6-20e8-4ff4-8a62-49f30b1f605e/agent-cache/default-macmini-x64-6.0/build/default-macmini-x64-6-0/julialang/julia-release-1-dot-8/usr/share/julia/stdlib/v1.8/LinearAlgebra/src/symmetric.jl\" target=\"_blank\">/Applications/Julia-1.8.app/Contents/Resources/julia/share/julia/stdlib/v1.8/LinearAlgebra/src/symmetric.jl:463</a></li> <li> -(A::<b>LinearAlgebra.Hermitian</b>, B::<b>LinearAlgebra.Hermitian</b>) in LinearAlgebra at <a href=\"file:///Users/julia/.julia/scratchspaces/a66863c6-20e8-4ff4-8a62-49f30b1f605e/agent-cache/default-macmini-x64-6.0/build/default-macmini-x64-6-0/julialang/julia-release-1-dot-8/usr/share/julia/stdlib/v1.8/LinearAlgebra/src/symmetric.jl\" target=\"_blank\">/Applications/Julia-1.8.app/Contents/Resources/julia/share/julia/stdlib/v1.8/LinearAlgebra/src/symmetric.jl:469</a></li> <li> -(A::<b>LinearAlgebra.Hermitian</b>, B::<b>LinearAlgebra.SymTridiagonal{var\"#s881\", V} where {var\"#s881\"<:Real, V<:AbstractVector{var\"#s881\"}}</b>) in LinearAlgebra at <a href=\"file:///Users/julia/.julia/scratchspaces/a66863c6-20e8-4ff4-8a62-49f30b1f605e/agent-cache/default-macmini-x64-6.0/build/default-macmini-x64-6-0/julialang/julia-release-1-dot-8/usr/share/julia/stdlib/v1.8/LinearAlgebra/src/symmetric.jl\" target=\"_blank\">/Applications/Julia-1.8.app/Contents/Resources/julia/share/julia/stdlib/v1.8/LinearAlgebra/src/symmetric.jl:488</a></li> <li> -(H::<b>LinearAlgebra.Hermitian</b>, D::<b>LinearAlgebra.Diagonal{var\"#s884\", V} where {var\"#s884\"<:Real, V<:AbstractVector{var\"#s884\"}}</b>) in LinearAlgebra at <a href=\"file:///Users/julia/.julia/scratchspaces/a66863c6-20e8-4ff4-8a62-49f30b1f605e/agent-cache/default-macmini-x64-6.0/build/default-macmini-x64-6-0/julialang/julia-release-1-dot-8/usr/share/julia/stdlib/v1.8/LinearAlgebra/src/diagonal.jl\" target=\"_blank\">/Applications/Julia-1.8.app/Contents/Resources/julia/share/julia/stdlib/v1.8/LinearAlgebra/src/diagonal.jl:197</a></li> <li> -(A::<b>LinearAlgebra.Hermitian{<:Any, <:SparseArrays.AbstractSparseMatrix}</b>, B::<b>SparseArrays.AbstractSparseMatrix</b>) in SparseArrays at <a href=\"file:///Users/julia/.julia/scratchspaces/a66863c6-20e8-4ff4-8a62-49f30b1f605e/agent-cache/default-macmini-x64-6.0/build/default-macmini-x64-6-0/julialang/julia-release-1-dot-8/usr/share/julia/stdlib/v1.8/SparseArrays/src/linalg.jl\" target=\"_blank\">/Applications/Julia-1.8.app/Contents/Resources/julia/share/julia/stdlib/v1.8/SparseArrays/src/linalg.jl:15</a></li> <li> -(A::<b>LinearAlgebra.Hermitian</b>, B::<b>SparseArrays.AbstractSparseMatrix</b>) in SparseArrays at <a href=\"file:///Users/julia/.julia/scratchspaces/a66863c6-20e8-4ff4-8a62-49f30b1f605e/agent-cache/default-macmini-x64-6.0/build/default-macmini-x64-6-0/julialang/julia-release-1-dot-8/usr/share/julia/stdlib/v1.8/SparseArrays/src/linalg.jl\" target=\"_blank\">/Applications/Julia-1.8.app/Contents/Resources/julia/share/julia/stdlib/v1.8/SparseArrays/src/linalg.jl:18</a></li> <li> -(A::<b>LinearAlgebra.Hermitian{<:Any, <:SparseArrays.AbstractSparseMatrix}</b>, B::<b>LinearAlgebra.Symmetric{<:Real, <:SparseArrays.AbstractSparseMatrix}</b>) in SparseArrays at <a href=\"file:///Users/julia/.julia/scratchspaces/a66863c6-20e8-4ff4-8a62-49f30b1f605e/agent-cache/default-macmini-x64-6.0/build/default-macmini-x64-6-0/julialang/julia-release-1-dot-8/usr/share/julia/stdlib/v1.8/SparseArrays/src/linalg.jl\" target=\"_blank\">/Applications/Julia-1.8.app/Contents/Resources/julia/share/julia/stdlib/v1.8/SparseArrays/src/linalg.jl:26</a></li> <li> -(A::<b>LinearAlgebra.Hermitian</b>, B::<b>LinearAlgebra.Symmetric{var\"#s884\", S} where {var\"#s884\"<:Real, S<:(AbstractMatrix{<:var\"#s884\"})}</b>) in LinearAlgebra at <a href=\"file:///Users/julia/.julia/scratchspaces/a66863c6-20e8-4ff4-8a62-49f30b1f605e/agent-cache/default-macmini-x64-6.0/build/default-macmini-x64-6-0/julialang/julia-release-1-dot-8/usr/share/julia/stdlib/v1.8/LinearAlgebra/src/symmetric.jl\" target=\"_blank\">/Applications/Julia-1.8.app/Contents/Resources/julia/share/julia/stdlib/v1.8/LinearAlgebra/src/symmetric.jl:483</a></li> <li> -(A::<b>LinearAlgebra.Hermitian{<:Any, <:SparseArrays.AbstractSparseMatrix}</b>, B::<b>LinearAlgebra.Symmetric{<:Any, <:SparseArrays.AbstractSparseMatrix}</b>) in SparseArrays at <a href=\"file:///Users/julia/.julia/scratchspaces/a66863c6-20e8-4ff4-8a62-49f30b1f605e/agent-cache/default-macmini-x64-6.0/build/default-macmini-x64-6-0/julialang/julia-release-1-dot-8/usr/share/julia/stdlib/v1.8/SparseArrays/src/linalg.jl\" target=\"_blank\">/Applications/Julia-1.8.app/Contents/Resources/julia/share/julia/stdlib/v1.8/SparseArrays/src/linalg.jl:24</a></li> <li> -(A::<b>LinearAlgebra.Hermitian</b>) in LinearAlgebra at <a href=\"file:///Users/julia/.julia/scratchspaces/a66863c6-20e8-4ff4-8a62-49f30b1f605e/agent-cache/default-macmini-x64-6.0/build/default-macmini-x64-6-0/julialang/julia-release-1-dot-8/usr/share/julia/stdlib/v1.8/LinearAlgebra/src/symmetric.jl\" target=\"_blank\">/Applications/Julia-1.8.app/Contents/Resources/julia/share/julia/stdlib/v1.8/LinearAlgebra/src/symmetric.jl:464</a></li> <li> -(x::<b>Rational{T}</b>)<i> where T<:Unsigned</i> in Base at <a href=\"https://github.com/JuliaLang/julia/tree/5544a0fab7648cfa61fe79cd557a7504a92ec1b5/base/rational.jl#L279\" target=\"_blank\">rational.jl:279</a></li> <li> -(x::<b>Rational</b>, y::<b>Integer</b>) in Base at <a href=\"https://github.com/JuliaLang/julia/tree/5544a0fab7648cfa61fe79cd557a7504a92ec1b5/base/rational.jl#L313\" target=\"_blank\">rational.jl:313</a></li> <li> -(r1::<b>StepRangeLen</b>, r2::<b>StepRangeLen</b>) in Base at <a href=\"https://github.com/JuliaLang/julia/tree/5544a0fab7648cfa61fe79cd557a7504a92ec1b5/base/range.jl#L1454\" target=\"_blank\">range.jl:1454</a></li> <li> -(r::<b>StepRangeLen{T, R, S, L}</b>)<i> where {T, R, S, L}</i> in Base at <a href=\"https://github.com/JuliaLang/julia/tree/5544a0fab7648cfa61fe79cd557a7504a92ec1b5/base/range.jl#L1259\" target=\"_blank\">range.jl:1259</a></li> <li> -(A::<b>LinearAlgebra.Adjoint</b>) in LinearAlgebra at <a href=\"file:///Users/julia/.julia/scratchspaces/a66863c6-20e8-4ff4-8a62-49f30b1f605e/agent-cache/default-macmini-x64-6.0/build/default-macmini-x64-6-0/julialang/julia-release-1-dot-8/usr/share/julia/stdlib/v1.8/LinearAlgebra/src/adjtrans.jl\" target=\"_blank\">/Applications/Julia-1.8.app/Contents/Resources/julia/share/julia/stdlib/v1.8/LinearAlgebra/src/adjtrans.jl:277</a></li> <li> -(x::<b>Ptr</b>, y::<b>Ptr</b>) in Base at <a href=\"https://github.com/JuliaLang/julia/tree/5544a0fab7648cfa61fe79cd557a7504a92ec1b5/base/pointer.jl#L157\" target=\"_blank\">pointer.jl:157</a></li> <li> -(x::<b>Ptr</b>, y::<b>Integer</b>) in Base at <a href=\"https://github.com/JuliaLang/julia/tree/5544a0fab7648cfa61fe79cd557a7504a92ec1b5/base/pointer.jl#L160\" target=\"_blank\">pointer.jl:160</a></li> <li> -(x::<b>OrdinalRange{T}</b>, y::<b>OrdinalRange{T}</b>)<i> where T<:Dates.TimeType</i> in Dates at <a href=\"file:///Users/julia/.julia/scratchspaces/a66863c6-20e8-4ff4-8a62-49f30b1f605e/agent-cache/default-macmini-x64-6.0/build/default-macmini-x64-6-0/julialang/julia-release-1-dot-8/usr/share/julia/stdlib/v1.8/Dates/src/arithmetic.jl\" target=\"_blank\">/Applications/Julia-1.8.app/Contents/Resources/julia/share/julia/stdlib/v1.8/Dates/src/arithmetic.jl:94</a></li> <li> -(r::<b>OrdinalRange</b>) in Base at <a href=\"https://github.com/JuliaLang/julia/tree/5544a0fab7648cfa61fe79cd557a7504a92ec1b5/base/range.jl#L1258\" target=\"_blank\">range.jl:1258</a></li> <li> -(r::<b>AbstractRange{<:Dates.TimeType}</b>, x::<b>Dates.Period</b>) in Dates at <a href=\"file:///Users/julia/.julia/scratchspaces/a66863c6-20e8-4ff4-8a62-49f30b1f605e/agent-cache/default-macmini-x64-6.0/build/default-macmini-x64-6-0/julialang/julia-release-1-dot-8/usr/share/julia/stdlib/v1.8/Dates/src/ranges.jl\" target=\"_blank\">/Applications/Julia-1.8.app/Contents/Resources/julia/share/julia/stdlib/v1.8/Dates/src/ranges.jl:65</a></li> <li> -(r1::<b>OrdinalRange</b>, r2::<b>OrdinalRange</b>) in Base at <a href=\"https://github.com/JuliaLang/julia/tree/5544a0fab7648cfa61fe79cd557a7504a92ec1b5/base/range.jl#L1424\" target=\"_blank\">range.jl:1424</a></li> <li> -(r1::<b>Union{LinRange, OrdinalRange, StepRangeLen}</b>, r2::<b>Union{LinRange, OrdinalRange, StepRangeLen}</b>) in Base at <a href=\"https://github.com/JuliaLang/julia/tree/5544a0fab7648cfa61fe79cd557a7504a92ec1b5/base/range.jl#L1440\" target=\"_blank\">range.jl:1440</a></li> <li> -(x::<b>AbstractRange{T}</b>, y::<b>AbstractRange{T}</b>)<i> where T<:Dates.TimeType</i> in Dates at <a href=\"file:///Users/julia/.julia/scratchspaces/a66863c6-20e8-4ff4-8a62-49f30b1f605e/agent-cache/default-macmini-x64-6.0/build/default-macmini-x64-6-0/julialang/julia-release-1-dot-8/usr/share/julia/stdlib/v1.8/Dates/src/arithmetic.jl\" target=\"_blank\">/Applications/Julia-1.8.app/Contents/Resources/julia/share/julia/stdlib/v1.8/Dates/src/arithmetic.jl:95</a></li> <li> -(x::<b>SparseArrays.SparseVector</b>) in SparseArrays at <a href=\"file:///Users/julia/.julia/scratchspaces/a66863c6-20e8-4ff4-8a62-49f30b1f605e/agent-cache/default-macmini-x64-6.0/build/default-macmini-x64-6-0/julialang/julia-release-1-dot-8/usr/share/julia/stdlib/v1.8/SparseArrays/src/sparsevector.jl\" target=\"_blank\">/Applications/Julia-1.8.app/Contents/Resources/julia/share/julia/stdlib/v1.8/SparseArrays/src/sparsevector.jl:1169</a></li> <li> -(Da::<b>LinearAlgebra.Diagonal</b>, Db::<b>LinearAlgebra.Diagonal</b>) in LinearAlgebra at <a href=\"file:///Users/julia/.julia/scratchspaces/a66863c6-20e8-4ff4-8a62-49f30b1f605e/agent-cache/default-macmini-x64-6.0/build/default-macmini-x64-6-0/julialang/julia-release-1-dot-8/usr/share/julia/stdlib/v1.8/LinearAlgebra/src/diagonal.jl\" target=\"_blank\">/Applications/Julia-1.8.app/Contents/Resources/julia/share/julia/stdlib/v1.8/LinearAlgebra/src/diagonal.jl:185</a></li> <li> -(D::<b>LinearAlgebra.Diagonal</b>, S::<b>LinearAlgebra.Symmetric</b>) in LinearAlgebra at <a href=\"file:///Users/julia/.julia/scratchspaces/a66863c6-20e8-4ff4-8a62-49f30b1f605e/agent-cache/default-macmini-x64-6.0/build/default-macmini-x64-6-0/julialang/julia-release-1-dot-8/usr/share/julia/stdlib/v1.8/LinearAlgebra/src/diagonal.jl\" target=\"_blank\">/Applications/Julia-1.8.app/Contents/Resources/julia/share/julia/stdlib/v1.8/LinearAlgebra/src/diagonal.jl:188</a></li> <li> -(D::<b>LinearAlgebra.Diagonal{var\"#s884\", V} where {var\"#s884\"<:Real, V<:AbstractVector{var\"#s884\"}}</b>, H::<b>LinearAlgebra.Hermitian</b>) in LinearAlgebra at <a href=\"file:///Users/julia/.julia/scratchspaces/a66863c6-20e8-4ff4-8a62-49f30b1f605e/agent-cache/default-macmini-x64-6.0/build/default-macmini-x64-6-0/julialang/julia-release-1-dot-8/usr/share/julia/stdlib/v1.8/LinearAlgebra/src/diagonal.jl\" target=\"_blank\">/Applications/Julia-1.8.app/Contents/Resources/julia/share/julia/stdlib/v1.8/LinearAlgebra/src/diagonal.jl:194</a></li> <li> -(A::<b>LinearAlgebra.Diagonal</b>) in LinearAlgebra at <a href=\"file:///Users/julia/.julia/scratchspaces/a66863c6-20e8-4ff4-8a62-49f30b1f605e/agent-cache/default-macmini-x64-6.0/build/default-macmini-x64-6-0/julialang/julia-release-1-dot-8/usr/share/julia/stdlib/v1.8/LinearAlgebra/src/diagonal.jl\" target=\"_blank\">/Applications/Julia-1.8.app/Contents/Resources/julia/share/julia/stdlib/v1.8/LinearAlgebra/src/diagonal.jl:183</a></li> <li> -(x::<b>LinearAlgebra.Diagonal</b>, H::<b>LinearAlgebra.UpperHessenberg</b>) in LinearAlgebra at <a href=\"file:///Users/julia/.julia/scratchspaces/a66863c6-20e8-4ff4-8a62-49f30b1f605e/agent-cache/default-macmini-x64-6.0/build/default-macmini-x64-6-0/julialang/julia-release-1-dot-8/usr/share/julia/stdlib/v1.8/LinearAlgebra/src/hessenberg.jl\" target=\"_blank\">/Applications/Julia-1.8.app/Contents/Resources/julia/share/julia/stdlib/v1.8/LinearAlgebra/src/hessenberg.jl:109</a></li> <li> -(A::<b>LinearAlgebra.Diagonal</b>, B::<b>LinearAlgebra.Bidiagonal</b>) in LinearAlgebra at <a href=\"file:///Users/julia/.julia/scratchspaces/a66863c6-20e8-4ff4-8a62-49f30b1f605e/agent-cache/default-macmini-x64-6.0/build/default-macmini-x64-6-0/julialang/julia-release-1-dot-8/usr/share/julia/stdlib/v1.8/LinearAlgebra/src/special.jl\" target=\"_blank\">/Applications/Julia-1.8.app/Contents/Resources/julia/share/julia/stdlib/v1.8/LinearAlgebra/src/special.jl:142</a></li> <li> -(A::<b>LinearAlgebra.Diagonal</b>, B::<b>LinearAlgebra.SymTridiagonal</b>) in LinearAlgebra at <a href=\"file:///Users/julia/.julia/scratchspaces/a66863c6-20e8-4ff4-8a62-49f30b1f605e/agent-cache/default-macmini-x64-6.0/build/default-macmini-x64-6-0/julialang/julia-release-1-dot-8/usr/share/julia/stdlib/v1.8/LinearAlgebra/src/special.jl\" target=\"_blank\">/Applications/Julia-1.8.app/Contents/Resources/julia/share/julia/stdlib/v1.8/LinearAlgebra/src/special.jl:152</a></li> <li> -(A::<b>LinearAlgebra.Diagonal</b>, B::<b>LinearAlgebra.Tridiagonal</b>) in LinearAlgebra at <a href=\"file:///Users/julia/.julia/scratchspaces/a66863c6-20e8-4ff4-8a62-49f30b1f605e/agent-cache/default-macmini-x64-6.0/build/default-macmini-x64-6-0/julialang/julia-release-1-dot-8/usr/share/julia/stdlib/v1.8/LinearAlgebra/src/special.jl\" target=\"_blank\">/Applications/Julia-1.8.app/Contents/Resources/julia/share/julia/stdlib/v1.8/LinearAlgebra/src/special.jl:180</a></li> <li> -(A::<b>LinearAlgebra.UpperHessenberg</b>) in LinearAlgebra at <a href=\"file:///Users/julia/.julia/scratchspaces/a66863c6-20e8-4ff4-8a62-49f30b1f605e/agent-cache/default-macmini-x64-6.0/build/default-macmini-x64-6-0/julialang/julia-release-1-dot-8/usr/share/julia/stdlib/v1.8/LinearAlgebra/src/hessenberg.jl\" target=\"_blank\">/Applications/Julia-1.8.app/Contents/Resources/julia/share/julia/stdlib/v1.8/LinearAlgebra/src/hessenberg.jl:95</a></li> <li> -(A::<b>LinearAlgebra.UpperHessenberg</b>, B::<b>LinearAlgebra.UpperHessenberg</b>) in LinearAlgebra at <a href=\"file:///Users/julia/.julia/scratchspaces/a66863c6-20e8-4ff4-8a62-49f30b1f605e/agent-cache/default-macmini-x64-6.0/build/default-macmini-x64-6-0/julialang/julia-release-1-dot-8/usr/share/julia/stdlib/v1.8/LinearAlgebra/src/hessenberg.jl\" target=\"_blank\">/Applications/Julia-1.8.app/Contents/Resources/julia/share/julia/stdlib/v1.8/LinearAlgebra/src/hessenberg.jl:102</a></li> <li> -(H::<b>LinearAlgebra.UpperHessenberg</b>, x::<b>LinearAlgebra.UniformScaling</b>) in LinearAlgebra at <a href=\"file:///Users/julia/.julia/scratchspaces/a66863c6-20e8-4ff4-8a62-49f30b1f605e/agent-cache/default-macmini-x64-6.0/build/default-macmini-x64-6-0/julialang/julia-release-1-dot-8/usr/share/julia/stdlib/v1.8/LinearAlgebra/src/hessenberg.jl\" target=\"_blank\">/Applications/Julia-1.8.app/Contents/Resources/julia/share/julia/stdlib/v1.8/LinearAlgebra/src/hessenberg.jl:108</a></li> <li> -(H::<b>LinearAlgebra.UpperHessenberg</b>, x::<b>LinearAlgebra.Diagonal</b>) in LinearAlgebra at <a href=\"file:///Users/julia/.julia/scratchspaces/a66863c6-20e8-4ff4-8a62-49f30b1f605e/agent-cache/default-macmini-x64-6.0/build/default-macmini-x64-6-0/julialang/julia-release-1-dot-8/usr/share/julia/stdlib/v1.8/LinearAlgebra/src/hessenberg.jl\" target=\"_blank\">/Applications/Julia-1.8.app/Contents/Resources/julia/share/julia/stdlib/v1.8/LinearAlgebra/src/hessenberg.jl:108</a></li> <li> -(H::<b>LinearAlgebra.UpperHessenberg</b>, x::<b>LinearAlgebra.Bidiagonal</b>) in LinearAlgebra at <a href=\"file:///Users/julia/.julia/scratchspaces/a66863c6-20e8-4ff4-8a62-49f30b1f605e/agent-cache/default-macmini-x64-6.0/build/default-macmini-x64-6-0/julialang/julia-release-1-dot-8/usr/share/julia/stdlib/v1.8/LinearAlgebra/src/hessenberg.jl\" target=\"_blank\">/Applications/Julia-1.8.app/Contents/Resources/julia/share/julia/stdlib/v1.8/LinearAlgebra/src/hessenberg.jl:108</a></li> <li> -(H::<b>LinearAlgebra.UpperHessenberg</b>, x::<b>LinearAlgebra.Tridiagonal</b>) in LinearAlgebra at <a href=\"file:///Users/julia/.julia/scratchspaces/a66863c6-20e8-4ff4-8a62-49f30b1f605e/agent-cache/default-macmini-x64-6.0/build/default-macmini-x64-6-0/julialang/julia-release-1-dot-8/usr/share/julia/stdlib/v1.8/LinearAlgebra/src/hessenberg.jl\" target=\"_blank\">/Applications/Julia-1.8.app/Contents/Resources/julia/share/julia/stdlib/v1.8/LinearAlgebra/src/hessenberg.jl:108</a></li> <li> -(H::<b>LinearAlgebra.UpperHessenberg</b>, x::<b>LinearAlgebra.SymTridiagonal</b>) in LinearAlgebra at <a href=\"file:///Users/julia/.julia/scratchspaces/a66863c6-20e8-4ff4-8a62-49f30b1f605e/agent-cache/default-macmini-x64-6.0/build/default-macmini-x64-6-0/julialang/julia-release-1-dot-8/usr/share/julia/stdlib/v1.8/LinearAlgebra/src/hessenberg.jl\" target=\"_blank\">/Applications/Julia-1.8.app/Contents/Resources/julia/share/julia/stdlib/v1.8/LinearAlgebra/src/hessenberg.jl:108</a></li> <li> -(H::<b>LinearAlgebra.UpperHessenberg</b>, x::<b>LinearAlgebra.UpperTriangular</b>) in LinearAlgebra at <a href=\"file:///Users/julia/.julia/scratchspaces/a66863c6-20e8-4ff4-8a62-49f30b1f605e/agent-cache/default-macmini-x64-6.0/build/default-macmini-x64-6-0/julialang/julia-release-1-dot-8/usr/share/julia/stdlib/v1.8/LinearAlgebra/src/hessenberg.jl\" target=\"_blank\">/Applications/Julia-1.8.app/Contents/Resources/julia/share/julia/stdlib/v1.8/LinearAlgebra/src/hessenberg.jl:108</a></li> <li> -(H::<b>LinearAlgebra.UpperHessenberg</b>, x::<b>LinearAlgebra.UnitUpperTriangular</b>) in LinearAlgebra at <a href=\"file:///Users/julia/.julia/scratchspaces/a66863c6-20e8-4ff4-8a62-49f30b1f605e/agent-cache/default-macmini-x64-6.0/build/default-macmini-x64-6-0/julialang/julia-release-1-dot-8/usr/share/julia/stdlib/v1.8/LinearAlgebra/src/hessenberg.jl\" target=\"_blank\">/Applications/Julia-1.8.app/Contents/Resources/julia/share/julia/stdlib/v1.8/LinearAlgebra/src/hessenberg.jl:108</a></li> <li> -(A::<b>LinearAlgebra.SymTridiagonal</b>, B::<b>LinearAlgebra.Symmetric</b>) in LinearAlgebra at <a href=\"file:///Users/julia/.julia/scratchspaces/a66863c6-20e8-4ff4-8a62-49f30b1f605e/agent-cache/default-macmini-x64-6.0/build/default-macmini-x64-6-0/julialang/julia-release-1-dot-8/usr/share/julia/stdlib/v1.8/LinearAlgebra/src/symmetric.jl\" target=\"_blank\">/Applications/Julia-1.8.app/Contents/Resources/julia/share/julia/stdlib/v1.8/LinearAlgebra/src/symmetric.jl:485</a></li> <li> -(A::<b>LinearAlgebra.SymTridiagonal{var\"#s882\", V} where {var\"#s882\"<:Real, V<:AbstractVector{var\"#s882\"}}</b>, B::<b>LinearAlgebra.Hermitian</b>) in LinearAlgebra at <a href=\"file:///Users/julia/.julia/scratchspaces/a66863c6-20e8-4ff4-8a62-49f30b1f605e/agent-cache/default-macmini-x64-6.0/build/default-macmini-x64-6-0/julialang/julia-release-1-dot-8/usr/share/julia/stdlib/v1.8/LinearAlgebra/src/symmetric.jl\" target=\"_blank\">/Applications/Julia-1.8.app/Contents/Resources/julia/share/julia/stdlib/v1.8/LinearAlgebra/src/symmetric.jl:487</a></li> <li> -(A::<b>LinearAlgebra.SymTridiagonal</b>) in LinearAlgebra at <a href=\"file:///Users/julia/.julia/scratchspaces/a66863c6-20e8-4ff4-8a62-49f30b1f605e/agent-cache/default-macmini-x64-6.0/build/default-macmini-x64-6-0/julialang/julia-release-1-dot-8/usr/share/julia/stdlib/v1.8/LinearAlgebra/src/tridiag.jl\" target=\"_blank\">/Applications/Julia-1.8.app/Contents/Resources/julia/share/julia/stdlib/v1.8/LinearAlgebra/src/tridiag.jl:209</a></li> <li> -(A::<b>LinearAlgebra.SymTridiagonal</b>, B::<b>LinearAlgebra.SymTridiagonal</b>) in LinearAlgebra at <a href=\"file:///Users/julia/.julia/scratchspaces/a66863c6-20e8-4ff4-8a62-49f30b1f605e/agent-cache/default-macmini-x64-6.0/build/default-macmini-x64-6-0/julialang/julia-release-1-dot-8/usr/share/julia/stdlib/v1.8/LinearAlgebra/src/tridiag.jl\" target=\"_blank\">/Applications/Julia-1.8.app/Contents/Resources/julia/share/julia/stdlib/v1.8/LinearAlgebra/src/tridiag.jl:208</a></li> <li> -(x::<b>LinearAlgebra.SymTridiagonal</b>, H::<b>LinearAlgebra.UpperHessenberg</b>) in LinearAlgebra at <a href=\"file:///Users/julia/.julia/scratchspaces/a66863c6-20e8-4ff4-8a62-49f30b1f605e/agent-cache/default-macmini-x64-6.0/build/default-macmini-x64-6-0/julialang/julia-release-1-dot-8/usr/share/julia/stdlib/v1.8/LinearAlgebra/src/hessenberg.jl\" target=\"_blank\">/Applications/Julia-1.8.app/Contents/Resources/julia/share/julia/stdlib/v1.8/LinearAlgebra/src/hessenberg.jl:109</a></li> <li> -(A::<b>LinearAlgebra.SymTridiagonal</b>, B::<b>LinearAlgebra.Diagonal</b>) in LinearAlgebra at <a href=\"file:///Users/julia/.julia/scratchspaces/a66863c6-20e8-4ff4-8a62-49f30b1f605e/agent-cache/default-macmini-x64-6.0/build/default-macmini-x64-6-0/julialang/julia-release-1-dot-8/usr/share/julia/stdlib/v1.8/LinearAlgebra/src/special.jl\" target=\"_blank\">/Applications/Julia-1.8.app/Contents/Resources/julia/share/julia/stdlib/v1.8/LinearAlgebra/src/special.jl:162</a></li> <li> -(A::<b>LinearAlgebra.SymTridiagonal</b>, B::<b>LinearAlgebra.Tridiagonal</b>) in LinearAlgebra at <a href=\"file:///Users/julia/.julia/scratchspaces/a66863c6-20e8-4ff4-8a62-49f30b1f605e/agent-cache/default-macmini-x64-6.0/build/default-macmini-x64-6-0/julialang/julia-release-1-dot-8/usr/share/julia/stdlib/v1.8/LinearAlgebra/src/special.jl\" target=\"_blank\">/Applications/Julia-1.8.app/Contents/Resources/julia/share/julia/stdlib/v1.8/LinearAlgebra/src/special.jl:172</a></li> <li> -(A::<b>LinearAlgebra.SymTridiagonal</b>, B::<b>LinearAlgebra.Bidiagonal</b>) in LinearAlgebra at <a href=\"file:///Users/julia/.julia/scratchspaces/a66863c6-20e8-4ff4-8a62-49f30b1f605e/agent-cache/default-macmini-x64-6.0/build/default-macmini-x64-6-0/julialang/julia-release-1-dot-8/usr/share/julia/stdlib/v1.8/LinearAlgebra/src/special.jl\" target=\"_blank\">/Applications/Julia-1.8.app/Contents/Resources/julia/share/julia/stdlib/v1.8/LinearAlgebra/src/special.jl:230</a></li> <li> -(A::<b>BitArray</b>, B::<b>BitArray</b>) in Base at <a href=\"https://github.com/JuliaLang/julia/tree/5544a0fab7648cfa61fe79cd557a7504a92ec1b5/base/bitarray.jl#L1184\" target=\"_blank\">bitarray.jl:1184</a></li> <li> -(A::<b>SparseArrays.AbstractSparseMatrixCSC</b>) in SparseArrays at <a href=\"file:///Users/julia/.julia/scratchspaces/a66863c6-20e8-4ff4-8a62-49f30b1f605e/agent-cache/default-macmini-x64-6.0/build/default-macmini-x64-6-0/julialang/julia-release-1-dot-8/usr/share/julia/stdlib/v1.8/SparseArrays/src/sparsematrix.jl\" target=\"_blank\">/Applications/Julia-1.8.app/Contents/Resources/julia/share/julia/stdlib/v1.8/SparseArrays/src/sparsematrix.jl:1814</a></li> <li> -(A::<b>SparseArrays.AbstractSparseMatrix</b>, B::<b>LinearAlgebra.Hermitian{<:Any, <:SparseArrays.AbstractSparseMatrix}</b>) in SparseArrays at <a href=\"file:///Users/julia/.julia/scratchspaces/a66863c6-20e8-4ff4-8a62-49f30b1f605e/agent-cache/default-macmini-x64-6.0/build/default-macmini-x64-6-0/julialang/julia-release-1-dot-8/usr/share/julia/stdlib/v1.8/SparseArrays/src/linalg.jl\" target=\"_blank\">/Applications/Julia-1.8.app/Contents/Resources/julia/share/julia/stdlib/v1.8/SparseArrays/src/linalg.jl:14</a></li> <li> -(A::<b>SparseArrays.AbstractSparseMatrix</b>, B::<b>LinearAlgebra.Hermitian</b>) in SparseArrays at <a href=\"file:///Users/julia/.julia/scratchspaces/a66863c6-20e8-4ff4-8a62-49f30b1f605e/agent-cache/default-macmini-x64-6.0/build/default-macmini-x64-6-0/julialang/julia-release-1-dot-8/usr/share/julia/stdlib/v1.8/SparseArrays/src/linalg.jl\" target=\"_blank\">/Applications/Julia-1.8.app/Contents/Resources/julia/share/julia/stdlib/v1.8/SparseArrays/src/linalg.jl:17</a></li> <li> -(A::<b>SparseArrays.AbstractSparseMatrix</b>, B::<b>LinearAlgebra.Symmetric{<:Any, <:SparseArrays.AbstractSparseMatrix}</b>) in SparseArrays at <a href=\"file:///Users/julia/.julia/scratchspaces/a66863c6-20e8-4ff4-8a62-49f30b1f605e/agent-cache/default-macmini-x64-6.0/build/default-macmini-x64-6-0/julialang/julia-release-1-dot-8/usr/share/julia/stdlib/v1.8/SparseArrays/src/linalg.jl\" target=\"_blank\">/Applications/Julia-1.8.app/Contents/Resources/julia/share/julia/stdlib/v1.8/SparseArrays/src/linalg.jl:14</a></li> <li> -(A::<b>SparseArrays.AbstractSparseMatrix</b>, B::<b>LinearAlgebra.Symmetric</b>) in SparseArrays at <a href=\"file:///Users/julia/.julia/scratchspaces/a66863c6-20e8-4ff4-8a62-49f30b1f605e/agent-cache/default-macmini-x64-6.0/build/default-macmini-x64-6-0/julialang/julia-release-1-dot-8/usr/share/julia/stdlib/v1.8/SparseArrays/src/linalg.jl\" target=\"_blank\">/Applications/Julia-1.8.app/Contents/Resources/julia/share/julia/stdlib/v1.8/SparseArrays/src/linalg.jl:17</a></li> <li> -(A::<b>SparseArrays.AbstractSparseMatrixCSC</b>, B::<b>SparseArrays.AbstractSparseMatrixCSC</b>) in SparseArrays at <a href=\"file:///Users/julia/.julia/scratchspaces/a66863c6-20e8-4ff4-8a62-49f30b1f605e/agent-cache/default-macmini-x64-6.0/build/default-macmini-x64-6-0/julialang/julia-release-1-dot-8/usr/share/julia/stdlib/v1.8/SparseArrays/src/sparsematrix.jl\" target=\"_blank\">/Applications/Julia-1.8.app/Contents/Resources/julia/share/julia/stdlib/v1.8/SparseArrays/src/sparsematrix.jl:1830</a></li> <li> -(x::<b>SparseArrays.AbstractSparseVector</b>, y::<b>SparseArrays.AbstractSparseVector</b>) in SparseArrays at <a href=\"file:///Users/julia/.julia/scratchspaces/a66863c6-20e8-4ff4-8a62-49f30b1f605e/agent-cache/default-macmini-x64-6.0/build/default-macmini-x64-6-0/julialang/julia-release-1-dot-8/usr/share/julia/stdlib/v1.8/SparseArrays/src/sparsevector.jl\" target=\"_blank\">/Applications/Julia-1.8.app/Contents/Resources/julia/share/julia/stdlib/v1.8/SparseArrays/src/sparsevector.jl:1384</a></li> <li> -(A::<b>SparseArrays.AbstractSparseMatrixCSC</b>, B::<b>Array</b>) in SparseArrays at <a href=\"file:///Users/julia/.julia/scratchspaces/a66863c6-20e8-4ff4-8a62-49f30b1f605e/agent-cache/default-macmini-x64-6.0/build/default-macmini-x64-6-0/julialang/julia-release-1-dot-8/usr/share/julia/stdlib/v1.8/SparseArrays/src/sparsematrix.jl\" target=\"_blank\">/Applications/Julia-1.8.app/Contents/Resources/julia/share/julia/stdlib/v1.8/SparseArrays/src/sparsematrix.jl:1834</a></li> <li> -(A::<b>SparseArrays.AbstractSparseMatrixCSC</b>, J::<b>LinearAlgebra.UniformScaling</b>) in SparseArrays at <a href=\"file:///Users/julia/.julia/scratchspaces/a66863c6-20e8-4ff4-8a62-49f30b1f605e/agent-cache/default-macmini-x64-6.0/build/default-macmini-x64-6-0/julialang/julia-release-1-dot-8/usr/share/julia/stdlib/v1.8/SparseArrays/src/sparsematrix.jl\" target=\"_blank\">/Applications/Julia-1.8.app/Contents/Resources/julia/share/julia/stdlib/v1.8/SparseArrays/src/sparsematrix.jl:3822</a></li> <li> -(x::<b>Dates.TimeType</b>, y::<b>Dates.CompoundPeriod</b>) in Dates at <a href=\"file:///Users/julia/.julia/scratchspaces/a66863c6-20e8-4ff4-8a62-49f30b1f605e/agent-cache/default-macmini-x64-6.0/build/default-macmini-x64-6-0/julialang/julia-release-1-dot-8/usr/share/julia/stdlib/v1.8/Dates/src/periods.jl\" target=\"_blank\">/Applications/Julia-1.8.app/Contents/Resources/julia/share/julia/stdlib/v1.8/Dates/src/periods.jl:400</a></li> <li> -(x::<b>T</b>, y::<b>T</b>)<i> where T<:Dates.TimeType</i> in Dates at <a href=\"file:///Users/julia/.julia/scratchspaces/a66863c6-20e8-4ff4-8a62-49f30b1f605e/agent-cache/default-macmini-x64-6.0/build/default-macmini-x64-6-0/julialang/julia-release-1-dot-8/usr/share/julia/stdlib/v1.8/Dates/src/arithmetic.jl\" target=\"_blank\">/Applications/Julia-1.8.app/Contents/Resources/julia/share/julia/stdlib/v1.8/Dates/src/arithmetic.jl:9</a></li> <li> -(y::<b>T</b>, x::<b>AbstractArray{T}</b>)<i> where T<:Dates.TimeType</i> in Dates at <a href=\"file:///Users/julia/.julia/scratchspaces/a66863c6-20e8-4ff4-8a62-49f30b1f605e/agent-cache/default-macmini-x64-6.0/build/default-macmini-x64-6-0/julialang/julia-release-1-dot-8/usr/share/julia/stdlib/v1.8/Dates/src/deprecated.jl\" target=\"_blank\">/Applications/Julia-1.8.app/Contents/Resources/julia/share/julia/stdlib/v1.8/Dates/src/deprecated.jl:36</a></li> <li> -(A::<b>Array</b>, B::<b>SparseArrays.AbstractSparseMatrixCSC</b>) in SparseArrays at <a href=\"file:///Users/julia/.julia/scratchspaces/a66863c6-20e8-4ff4-8a62-49f30b1f605e/agent-cache/default-macmini-x64-6.0/build/default-macmini-x64-6-0/julialang/julia-release-1-dot-8/usr/share/julia/stdlib/v1.8/SparseArrays/src/sparsematrix.jl\" target=\"_blank\">/Applications/Julia-1.8.app/Contents/Resources/julia/share/julia/stdlib/v1.8/SparseArrays/src/sparsematrix.jl:1835</a></li> <li> -(A::<b>LinearAlgebra.Transpose</b>) in LinearAlgebra at <a href=\"file:///Users/julia/.julia/scratchspaces/a66863c6-20e8-4ff4-8a62-49f30b1f605e/agent-cache/default-macmini-x64-6.0/build/default-macmini-x64-6-0/julialang/julia-release-1-dot-8/usr/share/julia/stdlib/v1.8/LinearAlgebra/src/adjtrans.jl\" target=\"_blank\">/Applications/Julia-1.8.app/Contents/Resources/julia/share/julia/stdlib/v1.8/LinearAlgebra/src/adjtrans.jl:278</a></li> <li> -(A::<b>LinearAlgebra.UnitLowerTriangular</b>) in LinearAlgebra at <a href=\"file:///Users/julia/.julia/scratchspaces/a66863c6-20e8-4ff4-8a62-49f30b1f605e/agent-cache/default-macmini-x64-6.0/build/default-macmini-x64-6-0/julialang/julia-release-1-dot-8/usr/share/julia/stdlib/v1.8/LinearAlgebra/src/triangular.jl\" target=\"_blank\">/Applications/Julia-1.8.app/Contents/Resources/julia/share/julia/stdlib/v1.8/LinearAlgebra/src/triangular.jl:412</a></li> <li> -(A::<b>LinearAlgebra.UnitLowerTriangular</b>, B::<b>LinearAlgebra.LowerTriangular</b>) in LinearAlgebra at <a href=\"file:///Users/julia/.julia/scratchspaces/a66863c6-20e8-4ff4-8a62-49f30b1f605e/agent-cache/default-macmini-x64-6.0/build/default-macmini-x64-6-0/julialang/julia-release-1-dot-8/usr/share/julia/stdlib/v1.8/LinearAlgebra/src/triangular.jl\" target=\"_blank\">/Applications/Julia-1.8.app/Contents/Resources/julia/share/julia/stdlib/v1.8/LinearAlgebra/src/triangular.jl:653</a></li> <li> -(A::<b>LinearAlgebra.UnitLowerTriangular</b>, B::<b>LinearAlgebra.UnitLowerTriangular</b>) in LinearAlgebra at <a href=\"file:///Users/julia/.julia/scratchspaces/a66863c6-20e8-4ff4-8a62-49f30b1f605e/agent-cache/default-macmini-x64-6.0/build/default-macmini-x64-6-0/julialang/julia-release-1-dot-8/usr/share/julia/stdlib/v1.8/LinearAlgebra/src/triangular.jl\" target=\"_blank\">/Applications/Julia-1.8.app/Contents/Resources/julia/share/julia/stdlib/v1.8/LinearAlgebra/src/triangular.jl:655</a></li> <li> -(A::<b>LinearAlgebra.AbstractTriangular</b>, B::<b>LinearAlgebra.AbstractTriangular</b>) in LinearAlgebra at <a href=\"file:///Users/julia/.julia/scratchspaces/a66863c6-20e8-4ff4-8a62-49f30b1f605e/agent-cache/default-macmini-x64-6.0/build/default-macmini-x64-6-0/julialang/julia-release-1-dot-8/usr/share/julia/stdlib/v1.8/LinearAlgebra/src/triangular.jl\" target=\"_blank\">/Applications/Julia-1.8.app/Contents/Resources/julia/share/julia/stdlib/v1.8/LinearAlgebra/src/triangular.jl:656</a></li> <li> -(A::<b>LinearAlgebra.UnitLowerTriangular</b>, B::<b>LinearAlgebra.Bidiagonal</b>) in LinearAlgebra at <a href=\"file:///Users/julia/.julia/scratchspaces/a66863c6-20e8-4ff4-8a62-49f30b1f605e/agent-cache/default-macmini-x64-6.0/build/default-macmini-x64-6-0/julialang/julia-release-1-dot-8/usr/share/julia/stdlib/v1.8/LinearAlgebra/src/special.jl\" target=\"_blank\">/Applications/Julia-1.8.app/Contents/Resources/julia/share/julia/stdlib/v1.8/LinearAlgebra/src/special.jl:98</a></li> <li> -(a::<b>Pkg.Resolve.FieldValue</b>, b::<b>Pkg.Resolve.FieldValue</b>) in Pkg.Resolve at <a href=\"file:///Users/julia/.julia/scratchspaces/a66863c6-20e8-4ff4-8a62-49f30b1f605e/agent-cache/default-macmini-x64-6.0/build/default-macmini-x64-6-0/julialang/julia-release-1-dot-8/usr/share/julia/stdlib/v1.8/Pkg/src/Resolve/fieldvalues.jl\" target=\"_blank\">/Applications/Julia-1.8.app/Contents/Resources/julia/share/julia/stdlib/v1.8/Pkg/src/Resolve/fieldvalues.jl:42</a></li> <li> -(a::<b>Pkg.Resolve.VersionWeight</b>) in Pkg.Resolve at <a href=\"file:///Users/julia/.julia/scratchspaces/a66863c6-20e8-4ff4-8a62-49f30b1f605e/agent-cache/default-macmini-x64-6.0/build/default-macmini-x64-6-0/julialang/julia-release-1-dot-8/usr/share/julia/stdlib/v1.8/Pkg/src/Resolve/versionweights.jl\" target=\"_blank\">/Applications/Julia-1.8.app/Contents/Resources/julia/share/julia/stdlib/v1.8/Pkg/src/Resolve/versionweights.jl:25</a></li> <li> -(a::<b>Pkg.Resolve.VersionWeight</b>, b::<b>Pkg.Resolve.VersionWeight</b>) in Pkg.Resolve at <a href=\"file:///Users/julia/.julia/scratchspaces/a66863c6-20e8-4ff4-8a62-49f30b1f605e/agent-cache/default-macmini-x64-6.0/build/default-macmini-x64-6-0/julialang/julia-release-1-dot-8/usr/share/julia/stdlib/v1.8/Pkg/src/Resolve/versionweights.jl\" target=\"_blank\">/Applications/Julia-1.8.app/Contents/Resources/julia/share/julia/stdlib/v1.8/Pkg/src/Resolve/versionweights.jl:19</a></li> <li> -(x::<b>Dates.Time</b>, y::<b>Dates.TimePeriod</b>) in Dates at <a href=\"file:///Users/julia/.julia/scratchspaces/a66863c6-20e8-4ff4-8a62-49f30b1f605e/agent-cache/default-macmini-x64-6.0/build/default-macmini-x64-6-0/julialang/julia-release-1-dot-8/usr/share/julia/stdlib/v1.8/Dates/src/arithmetic.jl\" target=\"_blank\">/Applications/Julia-1.8.app/Contents/Resources/julia/share/julia/stdlib/v1.8/Dates/src/arithmetic.jl:84</a></li> <li> -(x::<b>BigFloat</b>) in Base.MPFR at <a href=\"https://github.com/JuliaLang/julia/tree/5544a0fab7648cfa61fe79cd557a7504a92ec1b5/base/mpfr.jl#L582\" target=\"_blank\">mpfr.jl:582</a></li> <li> -(x::<b>BigFloat</b>, c::<b>Union{UInt16, UInt32, UInt64, UInt8}</b>) in Base.MPFR at <a href=\"https://github.com/JuliaLang/julia/tree/5544a0fab7648cfa61fe79cd557a7504a92ec1b5/base/mpfr.jl#L436\" target=\"_blank\">mpfr.jl:436</a></li> <li> -(x::<b>BigFloat</b>, c::<b>Union{Int16, Int32, Int64, Int8}</b>) in Base.MPFR at <a href=\"https://github.com/JuliaLang/julia/tree/5544a0fab7648cfa61fe79cd557a7504a92ec1b5/base/mpfr.jl#L448\" target=\"_blank\">mpfr.jl:448</a></li> <li> -(x::<b>BigFloat</b>, c::<b>Union{Float16, Float32, Float64}</b>) in Base.MPFR at <a href=\"https://github.com/JuliaLang/julia/tree/5544a0fab7648cfa61fe79cd557a7504a92ec1b5/base/mpfr.jl#L460\" target=\"_blank\">mpfr.jl:460</a></li> <li> -(x::<b>BigFloat</b>, y::<b>BigFloat</b>) in Base.MPFR at <a href=\"https://github.com/JuliaLang/julia/tree/5544a0fab7648cfa61fe79cd557a7504a92ec1b5/base/mpfr.jl#L429\" target=\"_blank\">mpfr.jl:429</a></li> <li> -(x::<b>BigFloat</b>, c::<b>BigInt</b>) in Base.MPFR at <a href=\"https://github.com/JuliaLang/julia/tree/5544a0fab7648cfa61fe79cd557a7504a92ec1b5/base/mpfr.jl#L472\" target=\"_blank\">mpfr.jl:472</a></li> <li> -(x::<b>Bool</b>) in Base at <a href=\"https://github.com/JuliaLang/julia/tree/5544a0fab7648cfa61fe79cd557a7504a92ec1b5/base/bool.jl#L160\" target=\"_blank\">bool.jl:160</a></li> <li> -(x::<b>Bool</b>, y::<b>Bool</b>) in Base at <a href=\"https://github.com/JuliaLang/julia/tree/5544a0fab7648cfa61fe79cd557a7504a92ec1b5/base/bool.jl#L163\" target=\"_blank\">bool.jl:163</a></li> <li> -(x::<b>Bool</b>, z::<b>Complex{Bool}</b>) in Base at <a href=\"https://github.com/JuliaLang/julia/tree/5544a0fab7648cfa61fe79cd557a7504a92ec1b5/base/complex.jl#L301\" target=\"_blank\">complex.jl:301</a></li> <li> -(x::<b>Bool</b>, z::<b>Complex</b>) in Base at <a href=\"https://github.com/JuliaLang/julia/tree/5544a0fab7648cfa61fe79cd557a7504a92ec1b5/base/complex.jl#L308\" target=\"_blank\">complex.jl:308</a></li> <li> -(x::<b>Dates.CompoundPeriod</b>) in Dates at <a href=\"file:///Users/julia/.julia/scratchspaces/a66863c6-20e8-4ff4-8a62-49f30b1f605e/agent-cache/default-macmini-x64-6.0/build/default-macmini-x64-6-0/julialang/julia-release-1-dot-8/usr/share/julia/stdlib/v1.8/Dates/src/periods.jl\" target=\"_blank\">/Applications/Julia-1.8.app/Contents/Resources/julia/share/julia/stdlib/v1.8/Dates/src/periods.jl:374</a></li> <li> -(y::<b>Union{Dates.CompoundPeriod, Dates.Period}</b>, x::<b>Dates.CompoundPeriod</b>) in Dates at <a href=\"file:///Users/julia/.julia/scratchspaces/a66863c6-20e8-4ff4-8a62-49f30b1f605e/agent-cache/default-macmini-x64-6.0/build/default-macmini-x64-6-0/julialang/julia-release-1-dot-8/usr/share/julia/stdlib/v1.8/Dates/src/periods.jl\" target=\"_blank\">/Applications/Julia-1.8.app/Contents/Resources/julia/share/julia/stdlib/v1.8/Dates/src/periods.jl:375</a></li> <li> -(x::<b>Dates.AbstractTime</b>, y::<b>Missing</b>) in Dates at <a href=\"file:///Users/julia/.julia/scratchspaces/a66863c6-20e8-4ff4-8a62-49f30b1f605e/agent-cache/default-macmini-x64-6.0/build/default-macmini-x64-6-0/julialang/julia-release-1-dot-8/usr/share/julia/stdlib/v1.8/Dates/src/arithmetic.jl\" target=\"_blank\">/Applications/Julia-1.8.app/Contents/Resources/julia/share/julia/stdlib/v1.8/Dates/src/arithmetic.jl:90</a></li> <li> -(x::<b>Dates.CompoundPeriod</b>, y::<b>Dates.Period</b>) in Dates at <a href=\"file:///Users/julia/.julia/scratchspaces/a66863c6-20e8-4ff4-8a62-49f30b1f605e/agent-cache/default-macmini-x64-6.0/build/default-macmini-x64-6-0/julialang/julia-release-1-dot-8/usr/share/julia/stdlib/v1.8/Dates/src/periods.jl\" target=\"_blank\">/Applications/Julia-1.8.app/Contents/Resources/julia/share/julia/stdlib/v1.8/Dates/src/periods.jl:373</a></li> <li> -(x::<b>BigInt</b>) in Base.GMP at <a href=\"https://github.com/JuliaLang/julia/tree/5544a0fab7648cfa61fe79cd557a7504a92ec1b5/base/gmp.jl#L550\" target=\"_blank\">gmp.jl:550</a></li> <li> -(y::<b>Integer</b>, x::<b>Rational</b>) in Base at <a href=\"https://github.com/JuliaLang/julia/tree/5544a0fab7648cfa61fe79cd557a7504a92ec1b5/base/rational.jl#L320\" target=\"_blank\">rational.jl:320</a></li> <li> -(x::<b>BigInt</b>, c::<b>Union{UInt16, UInt32, UInt64, UInt8}</b>) in Base.GMP at <a href=\"https://github.com/JuliaLang/julia/tree/5544a0fab7648cfa61fe79cd557a7504a92ec1b5/base/gmp.jl#L533\" target=\"_blank\">gmp.jl:533</a></li> <li> -(x::<b>BigInt</b>, c::<b>Union{Int16, Int32, Int64, Int8}</b>) in Base.GMP at <a href=\"https://github.com/JuliaLang/julia/tree/5544a0fab7648cfa61fe79cd557a7504a92ec1b5/base/gmp.jl#L538\" target=\"_blank\">gmp.jl:538</a></li> <li> -(x::<b>BigInt</b>, y::<b>BigInt</b>) in Base.GMP at <a href=\"https://github.com/JuliaLang/julia/tree/5544a0fab7648cfa61fe79cd557a7504a92ec1b5/base/gmp.jl#L482\" target=\"_blank\">gmp.jl:482</a></li> <li> -(a::<b>Integer</b>, b::<b>Integer</b>) in Base at <a href=\"https://github.com/JuliaLang/julia/tree/5544a0fab7648cfa61fe79cd557a7504a92ec1b5/base/int.jl#L987\" target=\"_blank\">int.jl:987</a></li> <li> -(c::<b>BigInt</b>, x::<b>BigFloat</b>) in Base.MPFR at <a href=\"https://github.com/JuliaLang/julia/tree/5544a0fab7648cfa61fe79cd557a7504a92ec1b5/base/mpfr.jl#L481\" target=\"_blank\">mpfr.jl:481</a></li> <li> -(level::<b>Base.CoreLogging.LogLevel</b>, inc::<b>Integer</b>) in Base.CoreLogging at <a href=\"https://github.com/JuliaLang/julia/tree/5544a0fab7648cfa61fe79cd557a7504a92ec1b5/base/logging.jl#L132\" target=\"_blank\">logging.jl:132</a></li> <li> -(B::<b>BitMatrix</b>, J::<b>LinearAlgebra.UniformScaling</b>) in LinearAlgebra at <a href=\"file:///Users/julia/.julia/scratchspaces/a66863c6-20e8-4ff4-8a62-49f30b1f605e/agent-cache/default-macmini-x64-6.0/build/default-macmini-x64-6-0/julialang/julia-release-1-dot-8/usr/share/julia/stdlib/v1.8/LinearAlgebra/src/uniformscaling.jl\" target=\"_blank\">/Applications/Julia-1.8.app/Contents/Resources/julia/share/julia/stdlib/v1.8/LinearAlgebra/src/uniformscaling.jl:157</a></li> <li> -(B::<b>BitArray</b>) in Base at <a href=\"https://github.com/JuliaLang/julia/tree/5544a0fab7648cfa61fe79cd557a7504a92ec1b5/base/bitarray.jl#L1152\" target=\"_blank\">bitarray.jl:1152</a></li> <li> -(A::<b>AbstractArray</b>, B::<b>AbstractArray</b>) in Base at <a href=\"https://github.com/JuliaLang/julia/tree/5544a0fab7648cfa61fe79cd557a7504a92ec1b5/base/arraymath.jl#L6\" target=\"_blank\">arraymath.jl:6</a></li> <li> -(A::<b>AbstractMatrix</b>, J::<b>LinearAlgebra.UniformScaling</b>) in LinearAlgebra at <a href=\"file:///Users/julia/.julia/scratchspaces/a66863c6-20e8-4ff4-8a62-49f30b1f605e/agent-cache/default-macmini-x64-6.0/build/default-macmini-x64-6-0/julialang/julia-release-1-dot-8/usr/share/julia/stdlib/v1.8/LinearAlgebra/src/uniformscaling.jl\" target=\"_blank\">/Applications/Julia-1.8.app/Contents/Resources/julia/share/julia/stdlib/v1.8/LinearAlgebra/src/uniformscaling.jl:159</a></li> <li> -(x::<b>AbstractArray{<:Dates.TimeType}</b>, y::<b>Union{Dates.CompoundPeriod, Dates.Period}</b>) in Dates at <a href=\"file:///Users/julia/.julia/scratchspaces/a66863c6-20e8-4ff4-8a62-49f30b1f605e/agent-cache/default-macmini-x64-6.0/build/default-macmini-x64-6-0/julialang/julia-release-1-dot-8/usr/share/julia/stdlib/v1.8/Dates/src/deprecated.jl\" target=\"_blank\">/Applications/Julia-1.8.app/Contents/Resources/julia/share/julia/stdlib/v1.8/Dates/src/deprecated.jl:22</a></li> <li> -(x::<b>AbstractArray{T}</b>, y::<b>T</b>)<i> where T<:Dates.TimeType</i> in Dates at <a href=\"file:///Users/julia/.julia/scratchspaces/a66863c6-20e8-4ff4-8a62-49f30b1f605e/agent-cache/default-macmini-x64-6.0/build/default-macmini-x64-6-0/julialang/julia-release-1-dot-8/usr/share/julia/stdlib/v1.8/Dates/src/deprecated.jl\" target=\"_blank\">/Applications/Julia-1.8.app/Contents/Resources/julia/share/julia/stdlib/v1.8/Dates/src/deprecated.jl:32</a></li> <li> -(A::<b>AbstractArray</b>) in Base at <a href=\"https://github.com/JuliaLang/julia/tree/5544a0fab7648cfa61fe79cd557a7504a92ec1b5/base/abstractarraymath.jl#L218\" target=\"_blank\">abstractarraymath.jl:218</a></li> <li> -(dt::<b>Dates.Date</b>, y::<b>Dates.Year</b>) in Dates at <a href=\"file:///Users/julia/.julia/scratchspaces/a66863c6-20e8-4ff4-8a62-49f30b1f605e/agent-cache/default-macmini-x64-6.0/build/default-macmini-x64-6-0/julialang/julia-release-1-dot-8/usr/share/julia/stdlib/v1.8/Dates/src/arithmetic.jl\" target=\"_blank\">/Applications/Julia-1.8.app/Contents/Resources/julia/share/julia/stdlib/v1.8/Dates/src/arithmetic.jl:35</a></li> <li> -(dt::<b>Dates.Date</b>, z::<b>Dates.Month</b>) in Dates at <a href=\"file:///Users/julia/.julia/scratchspaces/a66863c6-20e8-4ff4-8a62-49f30b1f605e/agent-cache/default-macmini-x64-6.0/build/default-macmini-x64-6-0/julialang/julia-release-1-dot-8/usr/share/julia/stdlib/v1.8/Dates/src/arithmetic.jl\" target=\"_blank\">/Applications/Julia-1.8.app/Contents/Resources/julia/share/julia/stdlib/v1.8/Dates/src/arithmetic.jl:66</a></li> <li> -(x::<b>Dates.Date</b>, y::<b>Dates.Quarter</b>) in Dates at <a href=\"file:///Users/julia/.julia/scratchspaces/a66863c6-20e8-4ff4-8a62-49f30b1f605e/agent-cache/default-macmini-x64-6.0/build/default-macmini-x64-6-0/julialang/julia-release-1-dot-8/usr/share/julia/stdlib/v1.8/Dates/src/arithmetic.jl\" target=\"_blank\">/Applications/Julia-1.8.app/Contents/Resources/julia/share/julia/stdlib/v1.8/Dates/src/arithmetic.jl:74</a></li> <li> -(x::<b>Dates.Date</b>, y::<b>Dates.Week</b>) in Dates at <a href=\"file:///Users/julia/.julia/scratchspaces/a66863c6-20e8-4ff4-8a62-49f30b1f605e/agent-cache/default-macmini-x64-6.0/build/default-macmini-x64-6-0/julialang/julia-release-1-dot-8/usr/share/julia/stdlib/v1.8/Dates/src/arithmetic.jl\" target=\"_blank\">/Applications/Julia-1.8.app/Contents/Resources/julia/share/julia/stdlib/v1.8/Dates/src/arithmetic.jl:78</a></li> <li> -(x::<b>Dates.Date</b>, y::<b>Dates.Day</b>) in Dates at <a href=\"file:///Users/julia/.julia/scratchspaces/a66863c6-20e8-4ff4-8a62-49f30b1f605e/agent-cache/default-macmini-x64-6.0/build/default-macmini-x64-6-0/julialang/julia-release-1-dot-8/usr/share/julia/stdlib/v1.8/Dates/src/arithmetic.jl\" target=\"_blank\">/Applications/Julia-1.8.app/Contents/Resources/julia/share/julia/stdlib/v1.8/Dates/src/arithmetic.jl:80</a></li> <li> -(z::<b>Complex{Bool}</b>, x::<b>Bool</b>) in Base at <a href=\"https://github.com/JuliaLang/julia/tree/5544a0fab7648cfa61fe79cd557a7504a92ec1b5/base/complex.jl#L302\" target=\"_blank\">complex.jl:302</a></li> <li> -(z::<b>Complex</b>, x::<b>Bool</b>) in Base at <a href=\"https://github.com/JuliaLang/julia/tree/5544a0fab7648cfa61fe79cd557a7504a92ec1b5/base/complex.jl#L309\" target=\"_blank\">complex.jl:309</a></li> <li> -(z::<b>Complex{Bool}</b>, x::<b>Real</b>) in Base at <a href=\"https://github.com/JuliaLang/julia/tree/5544a0fab7648cfa61fe79cd557a7504a92ec1b5/base/complex.jl#L320\" target=\"_blank\">complex.jl:320</a></li> <li> -(z::<b>Complex</b>) in Base at <a href=\"https://github.com/JuliaLang/julia/tree/5544a0fab7648cfa61fe79cd557a7504a92ec1b5/base/complex.jl#L287\" target=\"_blank\">complex.jl:287</a></li> <li> -(z::<b>Complex</b>, x::<b>Real</b>) in Base at <a href=\"https://github.com/JuliaLang/julia/tree/5544a0fab7648cfa61fe79cd557a7504a92ec1b5/base/complex.jl#L332\" target=\"_blank\">complex.jl:332</a></li> <li> -(dt::<b>Dates.DateTime</b>, y::<b>Dates.Year</b>) in Dates at <a href=\"file:///Users/julia/.julia/scratchspaces/a66863c6-20e8-4ff4-8a62-49f30b1f605e/agent-cache/default-macmini-x64-6.0/build/default-macmini-x64-6-0/julialang/julia-release-1-dot-8/usr/share/julia/stdlib/v1.8/Dates/src/arithmetic.jl\" target=\"_blank\">/Applications/Julia-1.8.app/Contents/Resources/julia/share/julia/stdlib/v1.8/Dates/src/arithmetic.jl:31</a></li> <li> -(dt::<b>Dates.DateTime</b>, z::<b>Dates.Month</b>) in Dates at <a href=\"file:///Users/julia/.julia/scratchspaces/a66863c6-20e8-4ff4-8a62-49f30b1f605e/agent-cache/default-macmini-x64-6.0/build/default-macmini-x64-6-0/julialang/julia-release-1-dot-8/usr/share/julia/stdlib/v1.8/Dates/src/arithmetic.jl\" target=\"_blank\">/Applications/Julia-1.8.app/Contents/Resources/julia/share/julia/stdlib/v1.8/Dates/src/arithmetic.jl:60</a></li> <li> -(x::<b>Dates.DateTime</b>, y::<b>Dates.Quarter</b>) in Dates at <a href=\"file:///Users/julia/.julia/scratchspaces/a66863c6-20e8-4ff4-8a62-49f30b1f605e/agent-cache/default-macmini-x64-6.0/build/default-macmini-x64-6-0/julialang/julia-release-1-dot-8/usr/share/julia/stdlib/v1.8/Dates/src/arithmetic.jl\" target=\"_blank\">/Applications/Julia-1.8.app/Contents/Resources/julia/share/julia/stdlib/v1.8/Dates/src/arithmetic.jl:76</a></li> <li> -(x::<b>Dates.DateTime</b>, y::<b>Dates.Period</b>) in Dates at <a href=\"file:///Users/julia/.julia/scratchspaces/a66863c6-20e8-4ff4-8a62-49f30b1f605e/agent-cache/default-macmini-x64-6.0/build/default-macmini-x64-6-0/julialang/julia-release-1-dot-8/usr/share/julia/stdlib/v1.8/Dates/src/arithmetic.jl\" target=\"_blank\">/Applications/Julia-1.8.app/Contents/Resources/julia/share/julia/stdlib/v1.8/Dates/src/arithmetic.jl:82</a></li> <li> -(x::<b>Rational{BigInt}</b>, y::<b>Rational{BigInt}</b>) in Base.GMP.MPQ at <a href=\"https://github.com/JuliaLang/julia/tree/5544a0fab7648cfa61fe79cd557a7504a92ec1b5/base/gmp.jl#L930\" target=\"_blank\">gmp.jl:930</a></li> <li> -(x::<b>Rational{T}</b>)<i> where T<:Union{Int128, Int16, Int32, Int64, Int8}</i> in Base at <a href=\"https://github.com/JuliaLang/julia/tree/5544a0fab7648cfa61fe79cd557a7504a92ec1b5/base/rational.jl#L273\" target=\"_blank\">rational.jl:273</a></li> <li> -(x::<b>Rational</b>) in Base at <a href=\"https://github.com/JuliaLang/julia/tree/5544a0fab7648cfa61fe79cd557a7504a92ec1b5/base/rational.jl#L271\" target=\"_blank\">rational.jl:271</a></li> <li> -(x::<b>Real</b>, z::<b>Complex{Bool}</b>) in Base at <a href=\"https://github.com/JuliaLang/julia/tree/5544a0fab7648cfa61fe79cd557a7504a92ec1b5/base/complex.jl#L315\" target=\"_blank\">complex.jl:315</a></li> <li> -(x::<b>Real</b>, z::<b>Complex</b>) in Base at <a href=\"https://github.com/JuliaLang/julia/tree/5544a0fab7648cfa61fe79cd557a7504a92ec1b5/base/complex.jl#L327\" target=\"_blank\">complex.jl:327</a></li> <li> -(x::<b>Number</b>, y::<b>Base.TwicePrecision</b>) in Base at <a href=\"https://github.com/JuliaLang/julia/tree/5544a0fab7648cfa61fe79cd557a7504a92ec1b5/base/twiceprecision.jl#L305\" target=\"_blank\">twiceprecision.jl:305</a></li> <li> -(::<b>Number</b>, ::<b>Missing</b>) in Base at <a href=\"https://github.com/JuliaLang/julia/tree/5544a0fab7648cfa61fe79cd557a7504a92ec1b5/base/missing.jl#L124\" target=\"_blank\">missing.jl:124</a></li> <li> -(x::<b>Number</b>, J::<b>LinearAlgebra.UniformScaling</b>) in LinearAlgebra at <a href=\"file:///Users/julia/.julia/scratchspaces/a66863c6-20e8-4ff4-8a62-49f30b1f605e/agent-cache/default-macmini-x64-6.0/build/default-macmini-x64-6-0/julialang/julia-release-1-dot-8/usr/share/julia/stdlib/v1.8/LinearAlgebra/src/uniformscaling.jl\" target=\"_blank\">/Applications/Julia-1.8.app/Contents/Resources/julia/share/julia/stdlib/v1.8/LinearAlgebra/src/uniformscaling.jl:147</a></li> <li> -(x::<b>Rational</b>, y::<b>Rational</b>) in Base at <a href=\"https://github.com/JuliaLang/julia/tree/5544a0fab7648cfa61fe79cd557a7504a92ec1b5/base/rational.jl#L293\" target=\"_blank\">rational.jl:293</a></li> <li> -(x::<b>T</b>, y::<b>T</b>)<i> where T<:Number</i> in Base at <a href=\"https://github.com/JuliaLang/julia/tree/5544a0fab7648cfa61fe79cd557a7504a92ec1b5/base/promotion.jl#L465\" target=\"_blank\">promotion.jl:465</a></li> <li> -(x::<b>Number</b>, y::<b>Number</b>) in Base at <a href=\"https://github.com/JuliaLang/julia/tree/5544a0fab7648cfa61fe79cd557a7504a92ec1b5/base/promotion.jl#L390\" target=\"_blank\">promotion.jl:390</a></li> <li> -(::<b>Missing</b>) in Base at <a href=\"https://github.com/JuliaLang/julia/tree/5544a0fab7648cfa61fe79cd557a7504a92ec1b5/base/missing.jl#L101\" target=\"_blank\">missing.jl:101</a></li> <li> -(::<b>Missing</b>, ::<b>Number</b>) in Base at <a href=\"https://github.com/JuliaLang/julia/tree/5544a0fab7648cfa61fe79cd557a7504a92ec1b5/base/missing.jl#L123\" target=\"_blank\">missing.jl:123</a></li> <li> -(x::<b>Missing</b>, y::<b>Dates.AbstractTime</b>) in Dates at <a href=\"file:///Users/julia/.julia/scratchspaces/a66863c6-20e8-4ff4-8a62-49f30b1f605e/agent-cache/default-macmini-x64-6.0/build/default-macmini-x64-6-0/julialang/julia-release-1-dot-8/usr/share/julia/stdlib/v1.8/Dates/src/arithmetic.jl\" target=\"_blank\">/Applications/Julia-1.8.app/Contents/Resources/julia/share/julia/stdlib/v1.8/Dates/src/arithmetic.jl:91</a></li> <li> -(::<b>Missing</b>, ::<b>Missing</b>) in Base at <a href=\"https://github.com/JuliaLang/julia/tree/5544a0fab7648cfa61fe79cd557a7504a92ec1b5/base/missing.jl#L122\" target=\"_blank\">missing.jl:122</a></li> </ul>"
      ],
      "text/plain": [
       "# 211 methods for generic function \"-\":\n",
       "[1] -(x::Union{Int128, Int16, Int32, Int64, Int8, UInt128, UInt16, UInt32, UInt64, UInt8}) in Base at int.jl:85\n",
       "[2] -(x::T, y::T) where T<:Union{Int128, Int16, Int32, Int64, Int8, UInt128, UInt16, UInt32, UInt64, UInt8} in Base at int.jl:86\n",
       "[3] -(x::Union{Float16, Float32, Float64}) in Base at float.jl:381\n",
       "[4] -(x::T, y::T) where T<:Union{Float16, Float32, Float64} in Base at float.jl:384\n",
       "[5] -(c::Union{UInt16, UInt32, UInt64, UInt8}, x::BigInt) in Base.GMP at gmp.jl:534\n",
       "[6] -(c::Union{Int16, Int32, Int64, Int8}, x::BigInt) in Base.GMP at gmp.jl:539\n",
       "[7] -(c::Union{UInt16, UInt32, UInt64, UInt8}, x::BigFloat) in Base.MPFR at mpfr.jl:441\n",
       "[8] -(c::Union{Int16, Int32, Int64, Int8}, x::BigFloat) in Base.MPFR at mpfr.jl:453\n",
       "[9] -(c::Union{Float16, Float32, Float64}, x::BigFloat) in Base.MPFR at mpfr.jl:465\n",
       "[10] -(x::StridedArray{<:Union{Dates.CompoundPeriod, Dates.Period}}, y::Dates.TimeType) in Dates at /Applications/Julia-1.8.app/Contents/Resources/julia/share/julia/stdlib/v1.8/Dates/src/deprecated.jl:26\n",
       "[11] -(X::StridedArray{<:Union{Dates.CompoundPeriod, Dates.Period}}, Y::StridedArray{<:Union{Dates.CompoundPeriod, Dates.Period}}) in Dates at /Applications/Julia-1.8.app/Contents/Resources/julia/share/julia/stdlib/v1.8/Dates/src/deprecated.jl:62\n",
       "[12] -(J1::LinearAlgebra.UniformScaling, J2::LinearAlgebra.UniformScaling) in LinearAlgebra at /Applications/Julia-1.8.app/Contents/Resources/julia/share/julia/stdlib/v1.8/LinearAlgebra/src/uniformscaling.jl:156\n",
       "[13] -(J::LinearAlgebra.UniformScaling, B::BitMatrix) in LinearAlgebra at /Applications/Julia-1.8.app/Contents/Resources/julia/share/julia/stdlib/v1.8/LinearAlgebra/src/uniformscaling.jl:158\n",
       "[14] -(J::LinearAlgebra.UniformScaling{<:Complex}, A::LinearAlgebra.Hermitian) in LinearAlgebra at /Applications/Julia-1.8.app/Contents/Resources/julia/share/julia/stdlib/v1.8/LinearAlgebra/src/uniformscaling.jl:204\n",
       "[15] -(J::LinearAlgebra.UniformScaling) in LinearAlgebra at /Applications/Julia-1.8.app/Contents/Resources/julia/share/julia/stdlib/v1.8/LinearAlgebra/src/uniformscaling.jl:155\n",
       "[16] -(J::LinearAlgebra.UniformScaling, x::Number) in LinearAlgebra at /Applications/Julia-1.8.app/Contents/Resources/julia/share/julia/stdlib/v1.8/LinearAlgebra/src/uniformscaling.jl:146\n",
       "[17] -(x::LinearAlgebra.UniformScaling, H::LinearAlgebra.UpperHessenberg) in LinearAlgebra at /Applications/Julia-1.8.app/Contents/Resources/julia/share/julia/stdlib/v1.8/LinearAlgebra/src/hessenberg.jl:109\n",
       "[18] -(J::LinearAlgebra.UniformScaling, F::LinearAlgebra.Hessenberg) in LinearAlgebra at /Applications/Julia-1.8.app/Contents/Resources/julia/share/julia/stdlib/v1.8/LinearAlgebra/src/hessenberg.jl:644\n",
       "[19] -(A::LinearAlgebra.UniformScaling, B::LinearAlgebra.Tridiagonal{var\"#s884\", V} where {var\"#s884\"<:Number, V<:AbstractVector{var\"#s884\"}}) in LinearAlgebra at /Applications/Julia-1.8.app/Contents/Resources/julia/share/julia/stdlib/v1.8/LinearAlgebra/src/special.jl:276\n",
       "[20] -(A::LinearAlgebra.UniformScaling, B::LinearAlgebra.SymTridiagonal{var\"#s884\", V} where {var\"#s884\"<:Number, V<:AbstractVector{var\"#s884\"}}) in LinearAlgebra at /Applications/Julia-1.8.app/Contents/Resources/julia/share/julia/stdlib/v1.8/LinearAlgebra/src/special.jl:281\n",
       "[21] -(A::LinearAlgebra.UniformScaling, B::LinearAlgebra.Bidiagonal{var\"#s884\", V} where {var\"#s884\"<:Number, V<:AbstractVector{var\"#s884\"}}) in LinearAlgebra at /Applications/Julia-1.8.app/Contents/Resources/julia/share/julia/stdlib/v1.8/LinearAlgebra/src/special.jl:286\n",
       "[22] -(A::LinearAlgebra.UniformScaling, B::LinearAlgebra.Diagonal{var\"#s884\", V} where {var\"#s884\"<:Number, V<:AbstractVector{var\"#s884\"}}) in LinearAlgebra at /Applications/Julia-1.8.app/Contents/Resources/julia/share/julia/stdlib/v1.8/LinearAlgebra/src/special.jl:291\n",
       "[23] -(J::LinearAlgebra.UniformScaling, A::SparseArrays.AbstractSparseMatrixCSC) in SparseArrays at /Applications/Julia-1.8.app/Contents/Resources/julia/share/julia/stdlib/v1.8/SparseArrays/src/sparsematrix.jl:3823\n",
       "[24] -(J::LinearAlgebra.UniformScaling, A::AbstractMatrix) in LinearAlgebra at /Applications/Julia-1.8.app/Contents/Resources/julia/share/julia/stdlib/v1.8/LinearAlgebra/src/uniformscaling.jl:223\n",
       "[25] -(A::LinearAlgebra.Tridiagonal) in LinearAlgebra at /Applications/Julia-1.8.app/Contents/Resources/julia/share/julia/stdlib/v1.8/LinearAlgebra/src/tridiag.jl:740\n",
       "[26] -(A::LinearAlgebra.Tridiagonal, B::LinearAlgebra.Tridiagonal) in LinearAlgebra at /Applications/Julia-1.8.app/Contents/Resources/julia/share/julia/stdlib/v1.8/LinearAlgebra/src/tridiag.jl:739\n",
       "[27] -(x::LinearAlgebra.Tridiagonal, H::LinearAlgebra.UpperHessenberg) in LinearAlgebra at /Applications/Julia-1.8.app/Contents/Resources/julia/share/julia/stdlib/v1.8/LinearAlgebra/src/hessenberg.jl:109\n",
       "[28] -(A::LinearAlgebra.Tridiagonal, B::LinearAlgebra.SymTridiagonal) in LinearAlgebra at /Applications/Julia-1.8.app/Contents/Resources/julia/share/julia/stdlib/v1.8/LinearAlgebra/src/special.jl:170\n",
       "[29] -(A::LinearAlgebra.Tridiagonal, B::LinearAlgebra.Diagonal) in LinearAlgebra at /Applications/Julia-1.8.app/Contents/Resources/julia/share/julia/stdlib/v1.8/LinearAlgebra/src/special.jl:190\n",
       "[30] -(A::LinearAlgebra.Tridiagonal, B::LinearAlgebra.Bidiagonal) in LinearAlgebra at /Applications/Julia-1.8.app/Contents/Resources/julia/share/julia/stdlib/v1.8/LinearAlgebra/src/special.jl:210\n",
       "[31] -(x::T, y::T) where T<:Dates.Instant in Dates at /Applications/Julia-1.8.app/Contents/Resources/julia/share/julia/stdlib/v1.8/Dates/src/arithmetic.jl:5\n",
       "[32] -(x::P) where P<:Dates.Period in Dates at /Applications/Julia-1.8.app/Contents/Resources/julia/share/julia/stdlib/v1.8/Dates/src/periods.jl:71\n",
       "[33] -(x::P, y::P) where P<:Dates.Period in Dates at /Applications/Julia-1.8.app/Contents/Resources/julia/share/julia/stdlib/v1.8/Dates/src/periods.jl:77\n",
       "[34] -(x::Dates.Period, y::Dates.Period) in Dates at /Applications/Julia-1.8.app/Contents/Resources/julia/share/julia/stdlib/v1.8/Dates/src/periods.jl:372\n",
       "[35] -(A::LinearAlgebra.Bidiagonal) in LinearAlgebra at /Applications/Julia-1.8.app/Contents/Resources/julia/share/julia/stdlib/v1.8/LinearAlgebra/src/bidiag.jl:383\n",
       "[36] -(A::LinearAlgebra.Bidiagonal, B::LinearAlgebra.Bidiagonal) in LinearAlgebra at /Applications/Julia-1.8.app/Contents/Resources/julia/share/julia/stdlib/v1.8/LinearAlgebra/src/bidiag.jl:374\n",
       "[37] -(x::LinearAlgebra.Bidiagonal, H::LinearAlgebra.UpperHessenberg) in LinearAlgebra at /Applications/Julia-1.8.app/Contents/Resources/julia/share/julia/stdlib/v1.8/LinearAlgebra/src/hessenberg.jl:109\n",
       "[38] -(A::LinearAlgebra.Bidiagonal, B::LinearAlgebra.UpperTriangular) in LinearAlgebra at /Applications/Julia-1.8.app/Contents/Resources/julia/share/julia/stdlib/v1.8/LinearAlgebra/src/special.jl:106\n",
       "[39] -(A::LinearAlgebra.Bidiagonal, B::LinearAlgebra.UnitUpperTriangular) in LinearAlgebra at /Applications/Julia-1.8.app/Contents/Resources/julia/share/julia/stdlib/v1.8/LinearAlgebra/src/special.jl:106\n",
       "[40] -(A::LinearAlgebra.Bidiagonal, B::LinearAlgebra.LowerTriangular) in LinearAlgebra at /Applications/Julia-1.8.app/Contents/Resources/julia/share/julia/stdlib/v1.8/LinearAlgebra/src/special.jl:106\n",
       "[41] -(A::LinearAlgebra.Bidiagonal, B::LinearAlgebra.UnitLowerTriangular) in LinearAlgebra at /Applications/Julia-1.8.app/Contents/Resources/julia/share/julia/stdlib/v1.8/LinearAlgebra/src/special.jl:106\n",
       "[42] -(A::LinearAlgebra.Bidiagonal, B::LinearAlgebra.Diagonal) in LinearAlgebra at /Applications/Julia-1.8.app/Contents/Resources/julia/share/julia/stdlib/v1.8/LinearAlgebra/src/special.jl:132\n",
       "[43] -(A::LinearAlgebra.Bidiagonal, B::LinearAlgebra.Tridiagonal) in LinearAlgebra at /Applications/Julia-1.8.app/Contents/Resources/julia/share/julia/stdlib/v1.8/LinearAlgebra/src/special.jl:200\n",
       "[44] -(A::LinearAlgebra.Bidiagonal, B::LinearAlgebra.SymTridiagonal) in LinearAlgebra at /Applications/Julia-1.8.app/Contents/Resources/julia/share/julia/stdlib/v1.8/LinearAlgebra/src/special.jl:220\n",
       "[45] -(A::LinearAlgebra.UpperTriangular) in LinearAlgebra at /Applications/Julia-1.8.app/Contents/Resources/julia/share/julia/stdlib/v1.8/LinearAlgebra/src/triangular.jl:411\n",
       "[46] -(A::LinearAlgebra.UpperTriangular, B::LinearAlgebra.UpperTriangular) in LinearAlgebra at /Applications/Julia-1.8.app/Contents/Resources/julia/share/julia/stdlib/v1.8/LinearAlgebra/src/triangular.jl:648\n",
       "[47] -(A::LinearAlgebra.UpperTriangular, B::LinearAlgebra.UnitUpperTriangular) in LinearAlgebra at /Applications/Julia-1.8.app/Contents/Resources/julia/share/julia/stdlib/v1.8/LinearAlgebra/src/triangular.jl:650\n",
       "[48] -(x::LinearAlgebra.UpperTriangular, H::LinearAlgebra.UpperHessenberg) in LinearAlgebra at /Applications/Julia-1.8.app/Contents/Resources/julia/share/julia/stdlib/v1.8/LinearAlgebra/src/hessenberg.jl:109\n",
       "[49] -(A::LinearAlgebra.UpperTriangular, B::LinearAlgebra.Bidiagonal) in LinearAlgebra at /Applications/Julia-1.8.app/Contents/Resources/julia/share/julia/stdlib/v1.8/LinearAlgebra/src/special.jl:98\n",
       "[50] -(x::AbstractChar, y::AbstractChar) in Base at char.jl:226\n",
       "[51] -(x::T, y::Integer) where T<:AbstractChar in Base at char.jl:227\n",
       "[52] -(r::LinRange) in Base at range.jl:1261\n",
       "[53] -(r1::LinRange{T}, r2::LinRange{T}) where T in Base at range.jl:1431\n",
       "[54] -(z::Complex, w::Complex) in Base at complex.jl:289\n",
       "[55] -(F::LinearAlgebra.Hessenberg) in LinearAlgebra at /Applications/Julia-1.8.app/Contents/Resources/julia/share/julia/stdlib/v1.8/LinearAlgebra/src/hessenberg.jl:638\n",
       "[56] -(F::LinearAlgebra.Hessenberg, J::LinearAlgebra.UniformScaling) in LinearAlgebra at /Applications/Julia-1.8.app/Contents/Resources/julia/share/julia/stdlib/v1.8/LinearAlgebra/src/hessenberg.jl:643\n",
       "[57] -(index::CartesianIndex{N}) where N in Base.IteratorsMD at multidimensional.jl:112\n",
       "[58] -(index1::CartesianIndex{N}, index2::CartesianIndex{N}) where N in Base.IteratorsMD at multidimensional.jl:116\n",
       "[59] -(x::AbstractIrrational) in Base at irrationals.jl:156\n",
       "[60] -(x::AbstractIrrational, y::AbstractIrrational) in Base at irrationals.jl:158\n",
       "[61] -(A::LinearAlgebra.LowerTriangular) in LinearAlgebra at /Applications/Julia-1.8.app/Contents/Resources/julia/share/julia/stdlib/v1.8/LinearAlgebra/src/triangular.jl:410\n",
       "[62] -(A::LinearAlgebra.LowerTriangular, B::LinearAlgebra.LowerTriangular) in LinearAlgebra at /Applications/Julia-1.8.app/Contents/Resources/julia/share/julia/stdlib/v1.8/LinearAlgebra/src/triangular.jl:649\n",
       "[63] -(A::LinearAlgebra.LowerTriangular, B::LinearAlgebra.UnitLowerTriangular) in LinearAlgebra at /Applications/Julia-1.8.app/Contents/Resources/julia/share/julia/stdlib/v1.8/LinearAlgebra/src/triangular.jl:651\n",
       "[64] -(A::LinearAlgebra.LowerTriangular, B::LinearAlgebra.Bidiagonal) in LinearAlgebra at /Applications/Julia-1.8.app/Contents/Resources/julia/share/julia/stdlib/v1.8/LinearAlgebra/src/special.jl:98\n",
       "[65] -(x::Base.TwicePrecision) in Base at twiceprecision.jl:281\n",
       "[66] -(x::Base.TwicePrecision, y::Base.TwicePrecision) in Base at twiceprecision.jl:303\n",
       "[67] -(x::Base.TwicePrecision, y::Number) in Base at twiceprecision.jl:304\n",
       "[68] -(A::LinearAlgebra.UnitUpperTriangular) in LinearAlgebra at /Applications/Julia-1.8.app/Contents/Resources/julia/share/julia/stdlib/v1.8/LinearAlgebra/src/triangular.jl:419\n",
       "[69] -(A::LinearAlgebra.UnitUpperTriangular, B::LinearAlgebra.UpperTriangular) in LinearAlgebra at /Applications/Julia-1.8.app/Contents/Resources/julia/share/julia/stdlib/v1.8/LinearAlgebra/src/triangular.jl:652\n",
       "[70] -(A::LinearAlgebra.UnitUpperTriangular, B::LinearAlgebra.UnitUpperTriangular) in LinearAlgebra at /Applications/Julia-1.8.app/Contents/Resources/julia/share/julia/stdlib/v1.8/LinearAlgebra/src/triangular.jl:654\n",
       "[71] -(x::LinearAlgebra.UnitUpperTriangular, H::LinearAlgebra.UpperHessenberg) in LinearAlgebra at /Applications/Julia-1.8.app/Contents/Resources/julia/share/julia/stdlib/v1.8/LinearAlgebra/src/hessenberg.jl:109\n",
       "[72] -(A::LinearAlgebra.UnitUpperTriangular, B::LinearAlgebra.Bidiagonal) in LinearAlgebra at /Applications/Julia-1.8.app/Contents/Resources/julia/share/julia/stdlib/v1.8/LinearAlgebra/src/special.jl:98\n",
       "[73] -(A::LinearAlgebra.Symmetric, B::LinearAlgebra.Symmetric) in LinearAlgebra at /Applications/Julia-1.8.app/Contents/Resources/julia/share/julia/stdlib/v1.8/LinearAlgebra/src/symmetric.jl:469\n",
       "[74] -(A::LinearAlgebra.Symmetric, B::LinearAlgebra.SymTridiagonal) in LinearAlgebra at /Applications/Julia-1.8.app/Contents/Resources/julia/share/julia/stdlib/v1.8/LinearAlgebra/src/symmetric.jl:486\n",
       "[75] -(S::LinearAlgebra.Symmetric, D::LinearAlgebra.Diagonal) in LinearAlgebra at /Applications/Julia-1.8.app/Contents/Resources/julia/share/julia/stdlib/v1.8/LinearAlgebra/src/diagonal.jl:191\n",
       "[76] -(A::LinearAlgebra.Symmetric{<:Any, <:SparseArrays.AbstractSparseMatrix}, B::SparseArrays.AbstractSparseMatrix) in SparseArrays at /Applications/Julia-1.8.app/Contents/Resources/julia/share/julia/stdlib/v1.8/SparseArrays/src/linalg.jl:15\n",
       "[77] -(A::LinearAlgebra.Symmetric, B::SparseArrays.AbstractSparseMatrix) in SparseArrays at /Applications/Julia-1.8.app/Contents/Resources/julia/share/julia/stdlib/v1.8/SparseArrays/src/linalg.jl:18\n",
       "[78] -(A::LinearAlgebra.Symmetric{<:Real, <:SparseArrays.AbstractSparseMatrix}, B::LinearAlgebra.Hermitian{<:Any, <:SparseArrays.AbstractSparseMatrix}) in SparseArrays at /Applications/Julia-1.8.app/Contents/Resources/julia/share/julia/stdlib/v1.8/SparseArrays/src/linalg.jl:25\n",
       "[79] -(A::LinearAlgebra.Symmetric{var\"#s883\", S} where {var\"#s883\"<:Real, S<:(AbstractMatrix{<:var\"#s883\"})}, B::LinearAlgebra.Hermitian) in LinearAlgebra at /Applications/Julia-1.8.app/Contents/Resources/julia/share/julia/stdlib/v1.8/LinearAlgebra/src/symmetric.jl:484\n",
       "[80] -(A::LinearAlgebra.Symmetric{<:Any, <:SparseArrays.AbstractSparseMatrix}, B::LinearAlgebra.Hermitian{<:Any, <:SparseArrays.AbstractSparseMatrix}) in SparseArrays at /Applications/Julia-1.8.app/Contents/Resources/julia/share/julia/stdlib/v1.8/SparseArrays/src/linalg.jl:23\n",
       "[81] -(A::LinearAlgebra.Symmetric) in LinearAlgebra at /Applications/Julia-1.8.app/Contents/Resources/julia/share/julia/stdlib/v1.8/LinearAlgebra/src/symmetric.jl:463\n",
       "[82] -(A::LinearAlgebra.Hermitian, B::LinearAlgebra.Hermitian) in LinearAlgebra at /Applications/Julia-1.8.app/Contents/Resources/julia/share/julia/stdlib/v1.8/LinearAlgebra/src/symmetric.jl:469\n",
       "[83] -(A::LinearAlgebra.Hermitian, B::LinearAlgebra.SymTridiagonal{var\"#s881\", V} where {var\"#s881\"<:Real, V<:AbstractVector{var\"#s881\"}}) in LinearAlgebra at /Applications/Julia-1.8.app/Contents/Resources/julia/share/julia/stdlib/v1.8/LinearAlgebra/src/symmetric.jl:488\n",
       "[84] -(H::LinearAlgebra.Hermitian, D::LinearAlgebra.Diagonal{var\"#s884\", V} where {var\"#s884\"<:Real, V<:AbstractVector{var\"#s884\"}}) in LinearAlgebra at /Applications/Julia-1.8.app/Contents/Resources/julia/share/julia/stdlib/v1.8/LinearAlgebra/src/diagonal.jl:197\n",
       "[85] -(A::LinearAlgebra.Hermitian{<:Any, <:SparseArrays.AbstractSparseMatrix}, B::SparseArrays.AbstractSparseMatrix) in SparseArrays at /Applications/Julia-1.8.app/Contents/Resources/julia/share/julia/stdlib/v1.8/SparseArrays/src/linalg.jl:15\n",
       "[86] -(A::LinearAlgebra.Hermitian, B::SparseArrays.AbstractSparseMatrix) in SparseArrays at /Applications/Julia-1.8.app/Contents/Resources/julia/share/julia/stdlib/v1.8/SparseArrays/src/linalg.jl:18\n",
       "[87] -(A::LinearAlgebra.Hermitian{<:Any, <:SparseArrays.AbstractSparseMatrix}, B::LinearAlgebra.Symmetric{<:Real, <:SparseArrays.AbstractSparseMatrix}) in SparseArrays at /Applications/Julia-1.8.app/Contents/Resources/julia/share/julia/stdlib/v1.8/SparseArrays/src/linalg.jl:26\n",
       "[88] -(A::LinearAlgebra.Hermitian, B::LinearAlgebra.Symmetric{var\"#s884\", S} where {var\"#s884\"<:Real, S<:(AbstractMatrix{<:var\"#s884\"})}) in LinearAlgebra at /Applications/Julia-1.8.app/Contents/Resources/julia/share/julia/stdlib/v1.8/LinearAlgebra/src/symmetric.jl:483\n",
       "[89] -(A::LinearAlgebra.Hermitian{<:Any, <:SparseArrays.AbstractSparseMatrix}, B::LinearAlgebra.Symmetric{<:Any, <:SparseArrays.AbstractSparseMatrix}) in SparseArrays at /Applications/Julia-1.8.app/Contents/Resources/julia/share/julia/stdlib/v1.8/SparseArrays/src/linalg.jl:24\n",
       "[90] -(A::LinearAlgebra.Hermitian) in LinearAlgebra at /Applications/Julia-1.8.app/Contents/Resources/julia/share/julia/stdlib/v1.8/LinearAlgebra/src/symmetric.jl:464\n",
       "[91] -(x::Rational{T}) where T<:Unsigned in Base at rational.jl:279\n",
       "[92] -(x::Rational, y::Integer) in Base at rational.jl:313\n",
       "[93] -(r1::StepRangeLen, r2::StepRangeLen) in Base at range.jl:1454\n",
       "[94] -(r::StepRangeLen{T, R, S, L}) where {T, R, S, L} in Base at range.jl:1259\n",
       "[95] -(A::LinearAlgebra.Adjoint) in LinearAlgebra at /Applications/Julia-1.8.app/Contents/Resources/julia/share/julia/stdlib/v1.8/LinearAlgebra/src/adjtrans.jl:277\n",
       "[96] -(x::Ptr, y::Ptr) in Base at pointer.jl:157\n",
       "[97] -(x::Ptr, y::Integer) in Base at pointer.jl:160\n",
       "[98] -(x::OrdinalRange{T}, y::OrdinalRange{T}) where T<:Dates.TimeType in Dates at /Applications/Julia-1.8.app/Contents/Resources/julia/share/julia/stdlib/v1.8/Dates/src/arithmetic.jl:94\n",
       "[99] -(r::OrdinalRange) in Base at range.jl:1258\n",
       "[100] -(r::AbstractRange{<:Dates.TimeType}, x::Dates.Period) in Dates at /Applications/Julia-1.8.app/Contents/Resources/julia/share/julia/stdlib/v1.8/Dates/src/ranges.jl:65\n",
       "[101] -(r1::OrdinalRange, r2::OrdinalRange) in Base at range.jl:1424\n",
       "[102] -(r1::Union{LinRange, OrdinalRange, StepRangeLen}, r2::Union{LinRange, OrdinalRange, StepRangeLen}) in Base at range.jl:1440\n",
       "[103] -(x::AbstractRange{T}, y::AbstractRange{T}) where T<:Dates.TimeType in Dates at /Applications/Julia-1.8.app/Contents/Resources/julia/share/julia/stdlib/v1.8/Dates/src/arithmetic.jl:95\n",
       "[104] -(x::SparseArrays.SparseVector) in SparseArrays at /Applications/Julia-1.8.app/Contents/Resources/julia/share/julia/stdlib/v1.8/SparseArrays/src/sparsevector.jl:1169\n",
       "[105] -(Da::LinearAlgebra.Diagonal, Db::LinearAlgebra.Diagonal) in LinearAlgebra at /Applications/Julia-1.8.app/Contents/Resources/julia/share/julia/stdlib/v1.8/LinearAlgebra/src/diagonal.jl:185\n",
       "[106] -(D::LinearAlgebra.Diagonal, S::LinearAlgebra.Symmetric) in LinearAlgebra at /Applications/Julia-1.8.app/Contents/Resources/julia/share/julia/stdlib/v1.8/LinearAlgebra/src/diagonal.jl:188\n",
       "[107] -(D::LinearAlgebra.Diagonal{var\"#s884\", V} where {var\"#s884\"<:Real, V<:AbstractVector{var\"#s884\"}}, H::LinearAlgebra.Hermitian) in LinearAlgebra at /Applications/Julia-1.8.app/Contents/Resources/julia/share/julia/stdlib/v1.8/LinearAlgebra/src/diagonal.jl:194\n",
       "[108] -(A::LinearAlgebra.Diagonal) in LinearAlgebra at /Applications/Julia-1.8.app/Contents/Resources/julia/share/julia/stdlib/v1.8/LinearAlgebra/src/diagonal.jl:183\n",
       "[109] -(x::LinearAlgebra.Diagonal, H::LinearAlgebra.UpperHessenberg) in LinearAlgebra at /Applications/Julia-1.8.app/Contents/Resources/julia/share/julia/stdlib/v1.8/LinearAlgebra/src/hessenberg.jl:109\n",
       "[110] -(A::LinearAlgebra.Diagonal, B::LinearAlgebra.Bidiagonal) in LinearAlgebra at /Applications/Julia-1.8.app/Contents/Resources/julia/share/julia/stdlib/v1.8/LinearAlgebra/src/special.jl:142\n",
       "[111] -(A::LinearAlgebra.Diagonal, B::LinearAlgebra.SymTridiagonal) in LinearAlgebra at /Applications/Julia-1.8.app/Contents/Resources/julia/share/julia/stdlib/v1.8/LinearAlgebra/src/special.jl:152\n",
       "[112] -(A::LinearAlgebra.Diagonal, B::LinearAlgebra.Tridiagonal) in LinearAlgebra at /Applications/Julia-1.8.app/Contents/Resources/julia/share/julia/stdlib/v1.8/LinearAlgebra/src/special.jl:180\n",
       "[113] -(A::LinearAlgebra.UpperHessenberg) in LinearAlgebra at /Applications/Julia-1.8.app/Contents/Resources/julia/share/julia/stdlib/v1.8/LinearAlgebra/src/hessenberg.jl:95\n",
       "[114] -(A::LinearAlgebra.UpperHessenberg, B::LinearAlgebra.UpperHessenberg) in LinearAlgebra at /Applications/Julia-1.8.app/Contents/Resources/julia/share/julia/stdlib/v1.8/LinearAlgebra/src/hessenberg.jl:102\n",
       "[115] -(H::LinearAlgebra.UpperHessenberg, x::LinearAlgebra.UniformScaling) in LinearAlgebra at /Applications/Julia-1.8.app/Contents/Resources/julia/share/julia/stdlib/v1.8/LinearAlgebra/src/hessenberg.jl:108\n",
       "[116] -(H::LinearAlgebra.UpperHessenberg, x::LinearAlgebra.Diagonal) in LinearAlgebra at /Applications/Julia-1.8.app/Contents/Resources/julia/share/julia/stdlib/v1.8/LinearAlgebra/src/hessenberg.jl:108\n",
       "[117] -(H::LinearAlgebra.UpperHessenberg, x::LinearAlgebra.Bidiagonal) in LinearAlgebra at /Applications/Julia-1.8.app/Contents/Resources/julia/share/julia/stdlib/v1.8/LinearAlgebra/src/hessenberg.jl:108\n",
       "[118] -(H::LinearAlgebra.UpperHessenberg, x::LinearAlgebra.Tridiagonal) in LinearAlgebra at /Applications/Julia-1.8.app/Contents/Resources/julia/share/julia/stdlib/v1.8/LinearAlgebra/src/hessenberg.jl:108\n",
       "[119] -(H::LinearAlgebra.UpperHessenberg, x::LinearAlgebra.SymTridiagonal) in LinearAlgebra at /Applications/Julia-1.8.app/Contents/Resources/julia/share/julia/stdlib/v1.8/LinearAlgebra/src/hessenberg.jl:108\n",
       "[120] -(H::LinearAlgebra.UpperHessenberg, x::LinearAlgebra.UpperTriangular) in LinearAlgebra at /Applications/Julia-1.8.app/Contents/Resources/julia/share/julia/stdlib/v1.8/LinearAlgebra/src/hessenberg.jl:108\n",
       "[121] -(H::LinearAlgebra.UpperHessenberg, x::LinearAlgebra.UnitUpperTriangular) in LinearAlgebra at /Applications/Julia-1.8.app/Contents/Resources/julia/share/julia/stdlib/v1.8/LinearAlgebra/src/hessenberg.jl:108\n",
       "[122] -(A::LinearAlgebra.SymTridiagonal, B::LinearAlgebra.Symmetric) in LinearAlgebra at /Applications/Julia-1.8.app/Contents/Resources/julia/share/julia/stdlib/v1.8/LinearAlgebra/src/symmetric.jl:485\n",
       "[123] -(A::LinearAlgebra.SymTridiagonal{var\"#s882\", V} where {var\"#s882\"<:Real, V<:AbstractVector{var\"#s882\"}}, B::LinearAlgebra.Hermitian) in LinearAlgebra at /Applications/Julia-1.8.app/Contents/Resources/julia/share/julia/stdlib/v1.8/LinearAlgebra/src/symmetric.jl:487\n",
       "[124] -(A::LinearAlgebra.SymTridiagonal) in LinearAlgebra at /Applications/Julia-1.8.app/Contents/Resources/julia/share/julia/stdlib/v1.8/LinearAlgebra/src/tridiag.jl:209\n",
       "[125] -(A::LinearAlgebra.SymTridiagonal, B::LinearAlgebra.SymTridiagonal) in LinearAlgebra at /Applications/Julia-1.8.app/Contents/Resources/julia/share/julia/stdlib/v1.8/LinearAlgebra/src/tridiag.jl:208\n",
       "[126] -(x::LinearAlgebra.SymTridiagonal, H::LinearAlgebra.UpperHessenberg) in LinearAlgebra at /Applications/Julia-1.8.app/Contents/Resources/julia/share/julia/stdlib/v1.8/LinearAlgebra/src/hessenberg.jl:109\n",
       "[127] -(A::LinearAlgebra.SymTridiagonal, B::LinearAlgebra.Diagonal) in LinearAlgebra at /Applications/Julia-1.8.app/Contents/Resources/julia/share/julia/stdlib/v1.8/LinearAlgebra/src/special.jl:162\n",
       "[128] -(A::LinearAlgebra.SymTridiagonal, B::LinearAlgebra.Tridiagonal) in LinearAlgebra at /Applications/Julia-1.8.app/Contents/Resources/julia/share/julia/stdlib/v1.8/LinearAlgebra/src/special.jl:172\n",
       "[129] -(A::LinearAlgebra.SymTridiagonal, B::LinearAlgebra.Bidiagonal) in LinearAlgebra at /Applications/Julia-1.8.app/Contents/Resources/julia/share/julia/stdlib/v1.8/LinearAlgebra/src/special.jl:230\n",
       "[130] -(A::BitArray, B::BitArray) in Base at bitarray.jl:1184\n",
       "[131] -(A::SparseArrays.AbstractSparseMatrixCSC) in SparseArrays at /Applications/Julia-1.8.app/Contents/Resources/julia/share/julia/stdlib/v1.8/SparseArrays/src/sparsematrix.jl:1814\n",
       "[132] -(A::SparseArrays.AbstractSparseMatrix, B::LinearAlgebra.Hermitian{<:Any, <:SparseArrays.AbstractSparseMatrix}) in SparseArrays at /Applications/Julia-1.8.app/Contents/Resources/julia/share/julia/stdlib/v1.8/SparseArrays/src/linalg.jl:14\n",
       "[133] -(A::SparseArrays.AbstractSparseMatrix, B::LinearAlgebra.Hermitian) in SparseArrays at /Applications/Julia-1.8.app/Contents/Resources/julia/share/julia/stdlib/v1.8/SparseArrays/src/linalg.jl:17\n",
       "[134] -(A::SparseArrays.AbstractSparseMatrix, B::LinearAlgebra.Symmetric{<:Any, <:SparseArrays.AbstractSparseMatrix}) in SparseArrays at /Applications/Julia-1.8.app/Contents/Resources/julia/share/julia/stdlib/v1.8/SparseArrays/src/linalg.jl:14\n",
       "[135] -(A::SparseArrays.AbstractSparseMatrix, B::LinearAlgebra.Symmetric) in SparseArrays at /Applications/Julia-1.8.app/Contents/Resources/julia/share/julia/stdlib/v1.8/SparseArrays/src/linalg.jl:17\n",
       "[136] -(A::SparseArrays.AbstractSparseMatrixCSC, B::SparseArrays.AbstractSparseMatrixCSC) in SparseArrays at /Applications/Julia-1.8.app/Contents/Resources/julia/share/julia/stdlib/v1.8/SparseArrays/src/sparsematrix.jl:1830\n",
       "[137] -(x::SparseArrays.AbstractSparseVector, y::SparseArrays.AbstractSparseVector) in SparseArrays at /Applications/Julia-1.8.app/Contents/Resources/julia/share/julia/stdlib/v1.8/SparseArrays/src/sparsevector.jl:1384\n",
       "[138] -(A::SparseArrays.AbstractSparseMatrixCSC, B::Array) in SparseArrays at /Applications/Julia-1.8.app/Contents/Resources/julia/share/julia/stdlib/v1.8/SparseArrays/src/sparsematrix.jl:1834\n",
       "[139] -(A::SparseArrays.AbstractSparseMatrixCSC, J::LinearAlgebra.UniformScaling) in SparseArrays at /Applications/Julia-1.8.app/Contents/Resources/julia/share/julia/stdlib/v1.8/SparseArrays/src/sparsematrix.jl:3822\n",
       "[140] -(x::Dates.TimeType, y::Dates.CompoundPeriod) in Dates at /Applications/Julia-1.8.app/Contents/Resources/julia/share/julia/stdlib/v1.8/Dates/src/periods.jl:400\n",
       "[141] -(x::T, y::T) where T<:Dates.TimeType in Dates at /Applications/Julia-1.8.app/Contents/Resources/julia/share/julia/stdlib/v1.8/Dates/src/arithmetic.jl:9\n",
       "[142] -(y::T, x::AbstractArray{T}) where T<:Dates.TimeType in Dates at /Applications/Julia-1.8.app/Contents/Resources/julia/share/julia/stdlib/v1.8/Dates/src/deprecated.jl:36\n",
       "[143] -(A::Array, B::SparseArrays.AbstractSparseMatrixCSC) in SparseArrays at /Applications/Julia-1.8.app/Contents/Resources/julia/share/julia/stdlib/v1.8/SparseArrays/src/sparsematrix.jl:1835\n",
       "[144] -(A::LinearAlgebra.Transpose) in LinearAlgebra at /Applications/Julia-1.8.app/Contents/Resources/julia/share/julia/stdlib/v1.8/LinearAlgebra/src/adjtrans.jl:278\n",
       "[145] -(A::LinearAlgebra.UnitLowerTriangular) in LinearAlgebra at /Applications/Julia-1.8.app/Contents/Resources/julia/share/julia/stdlib/v1.8/LinearAlgebra/src/triangular.jl:412\n",
       "[146] -(A::LinearAlgebra.UnitLowerTriangular, B::LinearAlgebra.LowerTriangular) in LinearAlgebra at /Applications/Julia-1.8.app/Contents/Resources/julia/share/julia/stdlib/v1.8/LinearAlgebra/src/triangular.jl:653\n",
       "[147] -(A::LinearAlgebra.UnitLowerTriangular, B::LinearAlgebra.UnitLowerTriangular) in LinearAlgebra at /Applications/Julia-1.8.app/Contents/Resources/julia/share/julia/stdlib/v1.8/LinearAlgebra/src/triangular.jl:655\n",
       "[148] -(A::LinearAlgebra.AbstractTriangular, B::LinearAlgebra.AbstractTriangular) in LinearAlgebra at /Applications/Julia-1.8.app/Contents/Resources/julia/share/julia/stdlib/v1.8/LinearAlgebra/src/triangular.jl:656\n",
       "[149] -(A::LinearAlgebra.UnitLowerTriangular, B::LinearAlgebra.Bidiagonal) in LinearAlgebra at /Applications/Julia-1.8.app/Contents/Resources/julia/share/julia/stdlib/v1.8/LinearAlgebra/src/special.jl:98\n",
       "[150] -(a::Pkg.Resolve.FieldValue, b::Pkg.Resolve.FieldValue) in Pkg.Resolve at /Applications/Julia-1.8.app/Contents/Resources/julia/share/julia/stdlib/v1.8/Pkg/src/Resolve/fieldvalues.jl:42\n",
       "[151] -(a::Pkg.Resolve.VersionWeight) in Pkg.Resolve at /Applications/Julia-1.8.app/Contents/Resources/julia/share/julia/stdlib/v1.8/Pkg/src/Resolve/versionweights.jl:25\n",
       "[152] -(a::Pkg.Resolve.VersionWeight, b::Pkg.Resolve.VersionWeight) in Pkg.Resolve at /Applications/Julia-1.8.app/Contents/Resources/julia/share/julia/stdlib/v1.8/Pkg/src/Resolve/versionweights.jl:19\n",
       "[153] -(x::Dates.Time, y::Dates.TimePeriod) in Dates at /Applications/Julia-1.8.app/Contents/Resources/julia/share/julia/stdlib/v1.8/Dates/src/arithmetic.jl:84\n",
       "[154] -(x::BigFloat) in Base.MPFR at mpfr.jl:582\n",
       "[155] -(x::BigFloat, c::Union{UInt16, UInt32, UInt64, UInt8}) in Base.MPFR at mpfr.jl:436\n",
       "[156] -(x::BigFloat, c::Union{Int16, Int32, Int64, Int8}) in Base.MPFR at mpfr.jl:448\n",
       "[157] -(x::BigFloat, c::Union{Float16, Float32, Float64}) in Base.MPFR at mpfr.jl:460\n",
       "[158] -(x::BigFloat, y::BigFloat) in Base.MPFR at mpfr.jl:429\n",
       "[159] -(x::BigFloat, c::BigInt) in Base.MPFR at mpfr.jl:472\n",
       "[160] -(x::Bool) in Base at bool.jl:160\n",
       "[161] -(x::Bool, y::Bool) in Base at bool.jl:163\n",
       "[162] -(x::Bool, z::Complex{Bool}) in Base at complex.jl:301\n",
       "[163] -(x::Bool, z::Complex) in Base at complex.jl:308\n",
       "[164] -(x::Dates.CompoundPeriod) in Dates at /Applications/Julia-1.8.app/Contents/Resources/julia/share/julia/stdlib/v1.8/Dates/src/periods.jl:374\n",
       "[165] -(y::Union{Dates.CompoundPeriod, Dates.Period}, x::Dates.CompoundPeriod) in Dates at /Applications/Julia-1.8.app/Contents/Resources/julia/share/julia/stdlib/v1.8/Dates/src/periods.jl:375\n",
       "[166] -(x::Dates.AbstractTime, y::Missing) in Dates at /Applications/Julia-1.8.app/Contents/Resources/julia/share/julia/stdlib/v1.8/Dates/src/arithmetic.jl:90\n",
       "[167] -(x::Dates.CompoundPeriod, y::Dates.Period) in Dates at /Applications/Julia-1.8.app/Contents/Resources/julia/share/julia/stdlib/v1.8/Dates/src/periods.jl:373\n",
       "[168] -(x::BigInt) in Base.GMP at gmp.jl:550\n",
       "[169] -(y::Integer, x::Rational) in Base at rational.jl:320\n",
       "[170] -(x::BigInt, c::Union{UInt16, UInt32, UInt64, UInt8}) in Base.GMP at gmp.jl:533\n",
       "[171] -(x::BigInt, c::Union{Int16, Int32, Int64, Int8}) in Base.GMP at gmp.jl:538\n",
       "[172] -(x::BigInt, y::BigInt) in Base.GMP at gmp.jl:482\n",
       "[173] -(a::Integer, b::Integer) in Base at int.jl:987\n",
       "[174] -(c::BigInt, x::BigFloat) in Base.MPFR at mpfr.jl:481\n",
       "[175] -(level::Base.CoreLogging.LogLevel, inc::Integer) in Base.CoreLogging at logging.jl:132\n",
       "[176] -(B::BitMatrix, J::LinearAlgebra.UniformScaling) in LinearAlgebra at /Applications/Julia-1.8.app/Contents/Resources/julia/share/julia/stdlib/v1.8/LinearAlgebra/src/uniformscaling.jl:157\n",
       "[177] -(B::BitArray) in Base at bitarray.jl:1152\n",
       "[178] -(A::AbstractArray, B::AbstractArray) in Base at arraymath.jl:6\n",
       "[179] -(A::AbstractMatrix, J::LinearAlgebra.UniformScaling) in LinearAlgebra at /Applications/Julia-1.8.app/Contents/Resources/julia/share/julia/stdlib/v1.8/LinearAlgebra/src/uniformscaling.jl:159\n",
       "[180] -(x::AbstractArray{<:Dates.TimeType}, y::Union{Dates.CompoundPeriod, Dates.Period}) in Dates at /Applications/Julia-1.8.app/Contents/Resources/julia/share/julia/stdlib/v1.8/Dates/src/deprecated.jl:22\n",
       "[181] -(x::AbstractArray{T}, y::T) where T<:Dates.TimeType in Dates at /Applications/Julia-1.8.app/Contents/Resources/julia/share/julia/stdlib/v1.8/Dates/src/deprecated.jl:32\n",
       "[182] -(A::AbstractArray) in Base at abstractarraymath.jl:218\n",
       "[183] -(dt::Dates.Date, y::Dates.Year) in Dates at /Applications/Julia-1.8.app/Contents/Resources/julia/share/julia/stdlib/v1.8/Dates/src/arithmetic.jl:35\n",
       "[184] -(dt::Dates.Date, z::Dates.Month) in Dates at /Applications/Julia-1.8.app/Contents/Resources/julia/share/julia/stdlib/v1.8/Dates/src/arithmetic.jl:66\n",
       "[185] -(x::Dates.Date, y::Dates.Quarter) in Dates at /Applications/Julia-1.8.app/Contents/Resources/julia/share/julia/stdlib/v1.8/Dates/src/arithmetic.jl:74\n",
       "[186] -(x::Dates.Date, y::Dates.Week) in Dates at /Applications/Julia-1.8.app/Contents/Resources/julia/share/julia/stdlib/v1.8/Dates/src/arithmetic.jl:78\n",
       "[187] -(x::Dates.Date, y::Dates.Day) in Dates at /Applications/Julia-1.8.app/Contents/Resources/julia/share/julia/stdlib/v1.8/Dates/src/arithmetic.jl:80\n",
       "[188] -(z::Complex{Bool}, x::Bool) in Base at complex.jl:302\n",
       "[189] -(z::Complex, x::Bool) in Base at complex.jl:309\n",
       "[190] -(z::Complex{Bool}, x::Real) in Base at complex.jl:320\n",
       "[191] -(z::Complex) in Base at complex.jl:287\n",
       "[192] -(z::Complex, x::Real) in Base at complex.jl:332\n",
       "[193] -(dt::Dates.DateTime, y::Dates.Year) in Dates at /Applications/Julia-1.8.app/Contents/Resources/julia/share/julia/stdlib/v1.8/Dates/src/arithmetic.jl:31\n",
       "[194] -(dt::Dates.DateTime, z::Dates.Month) in Dates at /Applications/Julia-1.8.app/Contents/Resources/julia/share/julia/stdlib/v1.8/Dates/src/arithmetic.jl:60\n",
       "[195] -(x::Dates.DateTime, y::Dates.Quarter) in Dates at /Applications/Julia-1.8.app/Contents/Resources/julia/share/julia/stdlib/v1.8/Dates/src/arithmetic.jl:76\n",
       "[196] -(x::Dates.DateTime, y::Dates.Period) in Dates at /Applications/Julia-1.8.app/Contents/Resources/julia/share/julia/stdlib/v1.8/Dates/src/arithmetic.jl:82\n",
       "[197] -(x::Rational{BigInt}, y::Rational{BigInt}) in Base.GMP.MPQ at gmp.jl:930\n",
       "[198] -(x::Rational{T}) where T<:Union{Int128, Int16, Int32, Int64, Int8} in Base at rational.jl:273\n",
       "[199] -(x::Rational) in Base at rational.jl:271\n",
       "[200] -(x::Real, z::Complex{Bool}) in Base at complex.jl:315\n",
       "[201] -(x::Real, z::Complex) in Base at complex.jl:327\n",
       "[202] -(x::Number, y::Base.TwicePrecision) in Base at twiceprecision.jl:305\n",
       "[203] -(::Number, ::Missing) in Base at missing.jl:124\n",
       "[204] -(x::Number, J::LinearAlgebra.UniformScaling) in LinearAlgebra at /Applications/Julia-1.8.app/Contents/Resources/julia/share/julia/stdlib/v1.8/LinearAlgebra/src/uniformscaling.jl:147\n",
       "[205] -(x::Rational, y::Rational) in Base at rational.jl:293\n",
       "[206] -(x::T, y::T) where T<:Number in Base at promotion.jl:465\n",
       "[207] -(x::Number, y::Number) in Base at promotion.jl:390\n",
       "[208] -(::Missing) in Base at missing.jl:101\n",
       "[209] -(::Missing, ::Number) in Base at missing.jl:123\n",
       "[210] -(x::Missing, y::Dates.AbstractTime) in Dates at /Applications/Julia-1.8.app/Contents/Resources/julia/share/julia/stdlib/v1.8/Dates/src/arithmetic.jl:91\n",
       "[211] -(::Missing, ::Missing) in Base at missing.jl:122"
      ]
     },
     "metadata": {},
     "output_type": "display_data"
    }
   ],
   "source": [
    "methods(-)"
   ]
  },
  {
   "cell_type": "markdown",
   "metadata": {},
   "source": [
    "To see which method is being dispatched when we call a generic function, we can use @which."
   ]
  },
  {
   "cell_type": "code",
   "execution_count": 117,
   "metadata": {},
   "outputs": [
    {
     "data": {
      "text/html": [
       "add(x::<b>Int64</b>, y::<b>Int64</b>) in Main at <a href=\"file:///Users/igaszczesniak/Desktop/coding/juliaeo24_notebook/Introduction_to_Julia.ipynb\" target=\"_blank\">/Users/igaszczesniak/Desktop/coding/juliaeo24_notebook/Introduction_to_Julia.ipynb:1</a>"
      ],
      "text/plain": [
       "add(x::Int64, y::Int64) in Main at /Users/igaszczesniak/Desktop/coding/juliaeo24_notebook/Introduction_to_Julia.ipynb:1"
      ]
     },
     "metadata": {},
     "output_type": "display_data"
    }
   ],
   "source": [
    "@which add(8, 9)"
   ]
  },
  {
   "cell_type": "markdown",
   "metadata": {},
   "source": [
    "## 8. Package Manager\n",
    "Julia has a built-in package manager called `Pkg`, which simplifies reusing other people's code, eliminating the need for external tools such as anaconda and pip. <br>Here are some of its functions:<br>\n",
    "\n",
    "- Installing and uninstalling packages.\n",
    "- Creating project environments with Project.toml.\n",
    "- Ensuring complete project reproducibility via Manifest.toml.\n",
    "- Defining compatibility with dependencies.\n",
    "- Facilitating development of packages."
   ]
  },
  {
   "cell_type": "code",
   "execution_count": 118,
   "metadata": {},
   "outputs": [],
   "source": [
    "using Pkg"
   ]
  },
  {
   "cell_type": "code",
   "execution_count": 119,
   "metadata": {},
   "outputs": [
    {
     "name": "stdout",
     "output_type": "stream",
     "text": [
      "\u001b[32m\u001b[1mStatus\u001b[22m\u001b[39m `~/Desktop/coding/juliaeo24_notebook/Project.toml`\n",
      " \u001b[90m [336ed68f] \u001b[39mCSV v0.10.11\n",
      " \u001b[90m [324d7699] \u001b[39mCategoricalArrays v0.10.8\n",
      " \u001b[90m [a93c6f00] \u001b[39mDataFrames v1.6.1\n",
      " \u001b[90m [f43a241f] \u001b[39mDownloads v1.6.0\n",
      " \u001b[90m [10745b16] \u001b[39mStatistics\n"
     ]
    }
   ],
   "source": [
    "Pkg.status()"
   ]
  },
  {
   "cell_type": "code",
   "execution_count": 120,
   "metadata": {},
   "outputs": [
    {
     "name": "stderr",
     "output_type": "stream",
     "text": [
      "\u001b[32m\u001b[1m  Activating\u001b[22m\u001b[39m project at `~/Desktop/coding/juliaeo24_notebook`\n"
     ]
    }
   ],
   "source": [
    "Pkg.activate(\".\")"
   ]
  },
  {
   "cell_type": "markdown",
   "metadata": {},
   "source": [
    "The first time you use a package on a given Julia installation, you need to use the package manager to add it."
   ]
  },
  {
   "cell_type": "code",
   "execution_count": 121,
   "metadata": {},
   "outputs": [
    {
     "name": "stderr",
     "output_type": "stream",
     "text": [
      "\u001b[32m\u001b[1m    Updating\u001b[22m\u001b[39m registry at `~/.julia/registries/General.toml`\n"
     ]
    },
    {
     "name": "stderr",
     "output_type": "stream",
     "text": [
      "\u001b[32m\u001b[1m   Resolving\u001b[22m\u001b[39m package versions...\n"
     ]
    },
    {
     "name": "stderr",
     "output_type": "stream",
     "text": [
      "\u001b[32m\u001b[1m  No Changes\u001b[22m\u001b[39m to `~/Desktop/coding/juliaeo24_notebook/Project.toml`\n",
      "\u001b[32m\u001b[1m  No Changes\u001b[22m\u001b[39m to `~/Desktop/coding/juliaeo24_notebook/Manifest.toml`\n"
     ]
    }
   ],
   "source": [
    "Pkg.add(\"CSV\")"
   ]
  },
  {
   "cell_type": "code",
   "execution_count": 122,
   "metadata": {},
   "outputs": [
    {
     "name": "stdout",
     "output_type": "stream",
     "text": [
      "\u001b[32m\u001b[1mStatus\u001b[22m\u001b[39m `~/Desktop/coding/juliaeo24_notebook/Project.toml`\n",
      " \u001b[90m [336ed68f] \u001b[39mCSV v0.10.11\n",
      " \u001b[90m [324d7699] \u001b[39mCategoricalArrays v0.10.8\n",
      " \u001b[90m [a93c6f00] \u001b[39mDataFrames v1.6.1\n",
      " \u001b[90m [f43a241f] \u001b[39mDownloads v1.6.0\n",
      " \u001b[90m [10745b16] \u001b[39mStatistics\n"
     ]
    }
   ],
   "source": [
    "Pkg.status()"
   ]
  },
  {
   "cell_type": "code",
   "execution_count": 123,
   "metadata": {},
   "outputs": [
    {
     "name": "stderr",
     "output_type": "stream",
     "text": [
      "\u001b[32m\u001b[1m   Resolving\u001b[22m\u001b[39m package versions...\n"
     ]
    },
    {
     "name": "stderr",
     "output_type": "stream",
     "text": [
      "\u001b[32m\u001b[1m  No Changes\u001b[22m\u001b[39m to `~/Desktop/coding/juliaeo24_notebook/Project.toml`\n",
      "\u001b[32m\u001b[1m  No Changes\u001b[22m\u001b[39m to `~/Desktop/coding/juliaeo24_notebook/Manifest.toml`\n"
     ]
    }
   ],
   "source": [
    "Pkg.add(\"DataFrames\") "
   ]
  },
  {
   "cell_type": "code",
   "execution_count": 124,
   "metadata": {},
   "outputs": [
    {
     "name": "stderr",
     "output_type": "stream",
     "text": [
      "\u001b[32m\u001b[1m   Resolving\u001b[22m\u001b[39m package versions...\n"
     ]
    },
    {
     "name": "stderr",
     "output_type": "stream",
     "text": [
      "\u001b[32m\u001b[1m  No Changes\u001b[22m\u001b[39m to `~/Desktop/coding/juliaeo24_notebook/Project.toml`\n",
      "\u001b[32m\u001b[1m  No Changes\u001b[22m\u001b[39m to `~/Desktop/coding/juliaeo24_notebook/Manifest.toml`\n"
     ]
    }
   ],
   "source": [
    "Pkg.add(\"Statistics\")"
   ]
  },
  {
   "cell_type": "markdown",
   "metadata": {},
   "source": [
    "Every time you use Julia (start a new session at the REPL or open a notebook for the first time) you need to load the package with the `using` keyword."
   ]
  },
  {
   "cell_type": "code",
   "execution_count": 125,
   "metadata": {},
   "outputs": [],
   "source": [
    "using DataFrames"
   ]
  },
  {
   "cell_type": "code",
   "execution_count": 126,
   "metadata": {},
   "outputs": [
    {
     "name": "stdout",
     "output_type": "stream",
     "text": [
      "\u001b[32m\u001b[1mStatus\u001b[22m\u001b[39m `~/Desktop/coding/juliaeo24_notebook/Project.toml`\n",
      " \u001b[90m [336ed68f] \u001b[39mCSV v0.10.11\n",
      " \u001b[90m [324d7699] \u001b[39mCategoricalArrays v0.10.8\n",
      " \u001b[90m [a93c6f00] \u001b[39mDataFrames v1.6.1\n",
      " \u001b[90m [f43a241f] \u001b[39mDownloads v1.6.0\n",
      " \u001b[90m [10745b16] \u001b[39mStatistics\n"
     ]
    }
   ],
   "source": [
    "Pkg.status()"
   ]
  },
  {
   "cell_type": "markdown",
   "metadata": {},
   "source": [
    "## 9. Tabular data\n",
    "The commonly used packages for working with tabular data in Julia are **CSV.jl**, **Downloads.jl**, **DataFrames.jl**, and **Statistics.jl**. Now, we will explore some of their features in the *Exercise_1.ipynb*."
   ]
  },
  {
   "cell_type": "code",
   "execution_count": 127,
   "metadata": {},
   "outputs": [
    {
     "name": "stderr",
     "output_type": "stream",
     "text": [
      "\u001b[32m\u001b[1m   Resolving\u001b[22m\u001b[39m package versions...\n"
     ]
    },
    {
     "name": "stderr",
     "output_type": "stream",
     "text": [
      "\u001b[32m\u001b[1m  No Changes\u001b[22m\u001b[39m to `~/Desktop/coding/juliaeo24_notebook/Project.toml`\n",
      "\u001b[32m\u001b[1m  No Changes\u001b[22m\u001b[39m to `~/Desktop/coding/juliaeo24_notebook/Manifest.toml`\n"
     ]
    }
   ],
   "source": [
    "Pkg.add(\"Downloads\")"
   ]
  },
  {
   "cell_type": "code",
   "execution_count": 128,
   "metadata": {},
   "outputs": [],
   "source": [
    "using DataFrames, CSV, Downloads "
   ]
  },
  {
   "cell_type": "code",
   "execution_count": 129,
   "metadata": {},
   "outputs": [
    {
     "data": {
      "text/html": [
       "<div><div style = \"float: left;\"><span>76321×12 DataFrame</span></div><div style = \"float: right;\"><span style = \"font-style: italic;\">76296 rows omitted</span></div><div style = \"clear: both;\"></div></div><div class = \"data-frame\" style = \"overflow-x: scroll;\"><table class = \"data-frame\" style = \"margin-bottom: 6px;\"><thead><tr class = \"header\"><th class = \"rowNumber\" style = \"font-weight: bold; text-align: right;\">Row</th><th style = \"text-align: left;\">Column1</th><th style = \"text-align: left;\">dev_eui</th><th style = \"text-align: left;\">gw_eui</th><th style = \"text-align: left;\">timestamp_utc_iso_string</th><th style = \"text-align: left;\">rssi_dbm</th><th style = \"text-align: left;\">snr_db</th><th style = \"text-align: left;\">dev_lon_deg_wgs84</th><th style = \"text-align: left;\">dev_lat_deg_wgs84</th><th style = \"text-align: left;\">battery_v</th><th style = \"text-align: left;\">gw_lon_deg_wgs84</th><th style = \"text-align: left;\">gw_lat_deg_wgs84</th><th style = \"text-align: left;\">signal_quality</th></tr><tr class = \"subheader headerLastRow\"><th class = \"rowNumber\" style = \"font-weight: bold; text-align: right;\"></th><th title = \"Int64\" style = \"text-align: left;\">Int64</th><th title = \"String31\" style = \"text-align: left;\">String31</th><th title = \"String31\" style = \"text-align: left;\">String31</th><th title = \"String31\" style = \"text-align: left;\">String31</th><th title = \"Int64\" style = \"text-align: left;\">Int64</th><th title = \"Float64\" style = \"text-align: left;\">Float64</th><th title = \"Float64\" style = \"text-align: left;\">Float64</th><th title = \"Float64\" style = \"text-align: left;\">Float64</th><th title = \"Float64\" style = \"text-align: left;\">Float64</th><th title = \"Float64\" style = \"text-align: left;\">Float64</th><th title = \"Float64\" style = \"text-align: left;\">Float64</th><th title = \"String31\" style = \"text-align: left;\">String31</th></tr></thead><tbody><tr><td class = \"rowNumber\" style = \"font-weight: bold; text-align: right;\">1</td><td style = \"text-align: right;\">0</td><td style = \"text-align: left;\">0200000000000000</td><td style = \"text-align: left;\">7076FF0056060728</td><td style = \"text-align: left;\">2022-03-16 03:10:48</td><td style = \"text-align: right;\">-112</td><td style = \"text-align: right;\">6.2</td><td style = \"text-align: right;\">-27.2673</td><td style = \"text-align: right;\">38.6557</td><td style = \"text-align: right;\">0.0</td><td style = \"text-align: right;\">0.0</td><td style = \"text-align: right;\">0.0</td><td style = \"text-align: left;\">Poor</td></tr><tr><td class = \"rowNumber\" style = \"font-weight: bold; text-align: right;\">2</td><td style = \"text-align: right;\">1</td><td style = \"text-align: left;\">0200000000000000</td><td style = \"text-align: left;\">7076FF0056060728</td><td style = \"text-align: left;\">2022-03-16 03:22:19</td><td style = \"text-align: right;\">-120</td><td style = \"text-align: right;\">0.2</td><td style = \"text-align: right;\">-27.2675</td><td style = \"text-align: right;\">38.6555</td><td style = \"text-align: right;\">0.0</td><td style = \"text-align: right;\">0.0</td><td style = \"text-align: right;\">0.0</td><td style = \"text-align: left;\">Poor</td></tr><tr><td class = \"rowNumber\" style = \"font-weight: bold; text-align: right;\">3</td><td style = \"text-align: right;\">2</td><td style = \"text-align: left;\">0200000000000000</td><td style = \"text-align: left;\">7076FF0056060728</td><td style = \"text-align: left;\">2022-03-16 05:41:10</td><td style = \"text-align: right;\">-100</td><td style = \"text-align: right;\">10.2</td><td style = \"text-align: right;\">-27.2671</td><td style = \"text-align: right;\">38.6556</td><td style = \"text-align: right;\">0.0</td><td style = \"text-align: right;\">0.0</td><td style = \"text-align: right;\">0.0</td><td style = \"text-align: left;\">Fair</td></tr><tr><td class = \"rowNumber\" style = \"font-weight: bold; text-align: right;\">4</td><td style = \"text-align: right;\">3</td><td style = \"text-align: left;\">0200000000000000</td><td style = \"text-align: left;\">7076FF0056060728</td><td style = \"text-align: left;\">2022-03-16 05:43:30</td><td style = \"text-align: right;\">-105</td><td style = \"text-align: right;\">9.2</td><td style = \"text-align: right;\">-27.2672</td><td style = \"text-align: right;\">38.6554</td><td style = \"text-align: right;\">0.0</td><td style = \"text-align: right;\">0.0</td><td style = \"text-align: right;\">0.0</td><td style = \"text-align: left;\">Fair</td></tr><tr><td class = \"rowNumber\" style = \"font-weight: bold; text-align: right;\">5</td><td style = \"text-align: right;\">4</td><td style = \"text-align: left;\">0200000000000000</td><td style = \"text-align: left;\">7076FF0056060728</td><td style = \"text-align: left;\">2022-03-16 12:18:26</td><td style = \"text-align: right;\">-105</td><td style = \"text-align: right;\">8.2</td><td style = \"text-align: right;\">-27.2666</td><td style = \"text-align: right;\">38.6562</td><td style = \"text-align: right;\">0.0</td><td style = \"text-align: right;\">0.0</td><td style = \"text-align: right;\">0.0</td><td style = \"text-align: left;\">Fair</td></tr><tr><td class = \"rowNumber\" style = \"font-weight: bold; text-align: right;\">6</td><td style = \"text-align: right;\">5</td><td style = \"text-align: left;\">0200000000000000</td><td style = \"text-align: left;\">7076FF0056060728</td><td style = \"text-align: left;\">2022-03-16 15:38:22</td><td style = \"text-align: right;\">-102</td><td style = \"text-align: right;\">9.8</td><td style = \"text-align: right;\">-27.2673</td><td style = \"text-align: right;\">38.6556</td><td style = \"text-align: right;\">0.0</td><td style = \"text-align: right;\">0.0</td><td style = \"text-align: right;\">0.0</td><td style = \"text-align: left;\">Fair</td></tr><tr><td class = \"rowNumber\" style = \"font-weight: bold; text-align: right;\">7</td><td style = \"text-align: right;\">6</td><td style = \"text-align: left;\">0200000000000000</td><td style = \"text-align: left;\">7076FF0056060728</td><td style = \"text-align: left;\">2022-03-16 23:57:15</td><td style = \"text-align: right;\">-108</td><td style = \"text-align: right;\">8.2</td><td style = \"text-align: right;\">-27.2668</td><td style = \"text-align: right;\">38.6561</td><td style = \"text-align: right;\">0.0</td><td style = \"text-align: right;\">0.0</td><td style = \"text-align: right;\">0.0</td><td style = \"text-align: left;\">Fair</td></tr><tr><td class = \"rowNumber\" style = \"font-weight: bold; text-align: right;\">8</td><td style = \"text-align: right;\">7</td><td style = \"text-align: left;\">0200000000000000</td><td style = \"text-align: left;\">7076FF0056060728</td><td style = \"text-align: left;\">2022-03-16 23:59:34</td><td style = \"text-align: right;\">-105</td><td style = \"text-align: right;\">8.0</td><td style = \"text-align: right;\">-27.267</td><td style = \"text-align: right;\">38.6561</td><td style = \"text-align: right;\">0.0</td><td style = \"text-align: right;\">0.0</td><td style = \"text-align: right;\">0.0</td><td style = \"text-align: left;\">Fair</td></tr><tr><td class = \"rowNumber\" style = \"font-weight: bold; text-align: right;\">9</td><td style = \"text-align: right;\">8</td><td style = \"text-align: left;\">0200000000000000</td><td style = \"text-align: left;\">7076FF0056060728</td><td style = \"text-align: left;\">2022-03-17 00:01:53</td><td style = \"text-align: right;\">-107</td><td style = \"text-align: right;\">8.0</td><td style = \"text-align: right;\">-27.267</td><td style = \"text-align: right;\">38.656</td><td style = \"text-align: right;\">0.0</td><td style = \"text-align: right;\">0.0</td><td style = \"text-align: right;\">0.0</td><td style = \"text-align: left;\">Fair</td></tr><tr><td class = \"rowNumber\" style = \"font-weight: bold; text-align: right;\">10</td><td style = \"text-align: right;\">9</td><td style = \"text-align: left;\">0200000000000000</td><td style = \"text-align: left;\">7076FF0056060728</td><td style = \"text-align: left;\">2022-03-17 00:04:12</td><td style = \"text-align: right;\">-105</td><td style = \"text-align: right;\">9.2</td><td style = \"text-align: right;\">-27.2671</td><td style = \"text-align: right;\">38.6558</td><td style = \"text-align: right;\">0.0</td><td style = \"text-align: right;\">0.0</td><td style = \"text-align: right;\">0.0</td><td style = \"text-align: left;\">Fair</td></tr><tr><td class = \"rowNumber\" style = \"font-weight: bold; text-align: right;\">11</td><td style = \"text-align: right;\">10</td><td style = \"text-align: left;\">0200000000000000</td><td style = \"text-align: left;\">7076FF0056060728</td><td style = \"text-align: left;\">2022-03-17 19:05:30</td><td style = \"text-align: right;\">-102</td><td style = \"text-align: right;\">9.0</td><td style = \"text-align: right;\">-27.2671</td><td style = \"text-align: right;\">38.6557</td><td style = \"text-align: right;\">0.0</td><td style = \"text-align: right;\">0.0</td><td style = \"text-align: right;\">0.0</td><td style = \"text-align: left;\">Fair</td></tr><tr><td class = \"rowNumber\" style = \"font-weight: bold; text-align: right;\">12</td><td style = \"text-align: right;\">11</td><td style = \"text-align: left;\">0200000000000000</td><td style = \"text-align: left;\">7076FF0056060728</td><td style = \"text-align: left;\">2022-03-17 23:00:17</td><td style = \"text-align: right;\">-101</td><td style = \"text-align: right;\">8.8</td><td style = \"text-align: right;\">-27.2671</td><td style = \"text-align: right;\">38.6552</td><td style = \"text-align: right;\">0.0</td><td style = \"text-align: right;\">0.0</td><td style = \"text-align: right;\">0.0</td><td style = \"text-align: left;\">Fair</td></tr><tr><td class = \"rowNumber\" style = \"font-weight: bold; text-align: right;\">13</td><td style = \"text-align: right;\">12</td><td style = \"text-align: left;\">0200000000000000</td><td style = \"text-align: left;\">7076FF0056060728</td><td style = \"text-align: left;\">2022-03-17 23:37:14</td><td style = \"text-align: right;\">-105</td><td style = \"text-align: right;\">9.5</td><td style = \"text-align: right;\">-27.2671</td><td style = \"text-align: right;\">38.6554</td><td style = \"text-align: right;\">0.0</td><td style = \"text-align: right;\">0.0</td><td style = \"text-align: right;\">0.0</td><td style = \"text-align: left;\">Fair</td></tr><tr><td style = \"text-align: right;\">&vellip;</td><td style = \"text-align: right;\">&vellip;</td><td style = \"text-align: right;\">&vellip;</td><td style = \"text-align: right;\">&vellip;</td><td style = \"text-align: right;\">&vellip;</td><td style = \"text-align: right;\">&vellip;</td><td style = \"text-align: right;\">&vellip;</td><td style = \"text-align: right;\">&vellip;</td><td style = \"text-align: right;\">&vellip;</td><td style = \"text-align: right;\">&vellip;</td><td style = \"text-align: right;\">&vellip;</td><td style = \"text-align: right;\">&vellip;</td><td style = \"text-align: right;\">&vellip;</td></tr><tr><td class = \"rowNumber\" style = \"font-weight: bold; text-align: right;\">76310</td><td style = \"text-align: right;\">76309</td><td style = \"text-align: left;\">70B3D5705000B993</td><td style = \"text-align: left;\">7276FF000B03183D</td><td style = \"text-align: left;\">2023-05-11 08:39:18</td><td style = \"text-align: right;\">-127</td><td style = \"text-align: right;\">-18.2</td><td style = \"text-align: right;\">-27.2133</td><td style = \"text-align: right;\">38.6612</td><td style = \"text-align: right;\">4.3</td><td style = \"text-align: right;\">0.0</td><td style = \"text-align: right;\">0.0</td><td style = \"text-align: left;\">Very Poor</td></tr><tr><td class = \"rowNumber\" style = \"font-weight: bold; text-align: right;\">76311</td><td style = \"text-align: right;\">76310</td><td style = \"text-align: left;\">70B3D5705000B993</td><td style = \"text-align: left;\">7276FF000B03183D</td><td style = \"text-align: left;\">2023-05-11 08:47:06</td><td style = \"text-align: right;\">-93</td><td style = \"text-align: right;\">5.8</td><td style = \"text-align: right;\">-27.1831</td><td style = \"text-align: right;\">38.6925</td><td style = \"text-align: right;\">4.3</td><td style = \"text-align: right;\">0.0</td><td style = \"text-align: right;\">0.0</td><td style = \"text-align: left;\">Good</td></tr><tr><td class = \"rowNumber\" style = \"font-weight: bold; text-align: right;\">76312</td><td style = \"text-align: right;\">76311</td><td style = \"text-align: left;\">70B3D5705000B993</td><td style = \"text-align: left;\">7276FF000B03183D</td><td style = \"text-align: left;\">2023-05-11 18:31:16</td><td style = \"text-align: right;\">-125</td><td style = \"text-align: right;\">-8.8</td><td style = \"text-align: right;\">-27.206</td><td style = \"text-align: right;\">38.6814</td><td style = \"text-align: right;\">4.3</td><td style = \"text-align: right;\">0.0</td><td style = \"text-align: right;\">0.0</td><td style = \"text-align: left;\">Very Poor</td></tr><tr><td class = \"rowNumber\" style = \"font-weight: bold; text-align: right;\">76313</td><td style = \"text-align: right;\">76312</td><td style = \"text-align: left;\">70B3D5705000B993</td><td style = \"text-align: left;\">7276FF000B03183D</td><td style = \"text-align: left;\">2023-05-12 08:51:56</td><td style = \"text-align: right;\">-90</td><td style = \"text-align: right;\">11.5</td><td style = \"text-align: right;\">-27.1878</td><td style = \"text-align: right;\">38.6891</td><td style = \"text-align: right;\">4.3</td><td style = \"text-align: right;\">0.0</td><td style = \"text-align: right;\">0.0</td><td style = \"text-align: left;\">Good</td></tr><tr><td class = \"rowNumber\" style = \"font-weight: bold; text-align: right;\">76314</td><td style = \"text-align: right;\">76313</td><td style = \"text-align: left;\">70B3D5705000B993</td><td style = \"text-align: left;\">7276FF000B03183D</td><td style = \"text-align: left;\">2023-05-12 12:21:47</td><td style = \"text-align: right;\">-127</td><td style = \"text-align: right;\">-15.8</td><td style = \"text-align: right;\">-27.2137</td><td style = \"text-align: right;\">38.6763</td><td style = \"text-align: right;\">4.3</td><td style = \"text-align: right;\">0.0</td><td style = \"text-align: right;\">0.0</td><td style = \"text-align: left;\">Very Poor</td></tr><tr><td class = \"rowNumber\" style = \"font-weight: bold; text-align: right;\">76315</td><td style = \"text-align: right;\">76314</td><td style = \"text-align: left;\">70B3D5705000B993</td><td style = \"text-align: left;\">7276FF000B03183D</td><td style = \"text-align: left;\">2023-05-15 09:50:48</td><td style = \"text-align: right;\">-126</td><td style = \"text-align: right;\">-18.2</td><td style = \"text-align: right;\">-27.2122</td><td style = \"text-align: right;\">38.6619</td><td style = \"text-align: right;\">4.3</td><td style = \"text-align: right;\">0.0</td><td style = \"text-align: right;\">0.0</td><td style = \"text-align: left;\">Very Poor</td></tr><tr><td class = \"rowNumber\" style = \"font-weight: bold; text-align: right;\">76316</td><td style = \"text-align: right;\">76315</td><td style = \"text-align: left;\">70B3D5705000B993</td><td style = \"text-align: left;\">7276FF000B03183D</td><td style = \"text-align: left;\">2023-05-18 12:19:37</td><td style = \"text-align: right;\">-126</td><td style = \"text-align: right;\">-11.5</td><td style = \"text-align: right;\">-27.2075</td><td style = \"text-align: right;\">38.678</td><td style = \"text-align: right;\">4.33</td><td style = \"text-align: right;\">0.0</td><td style = \"text-align: right;\">0.0</td><td style = \"text-align: left;\">Very Poor</td></tr><tr><td class = \"rowNumber\" style = \"font-weight: bold; text-align: right;\">76317</td><td style = \"text-align: right;\">76316</td><td style = \"text-align: left;\">70B3D5705000B993</td><td style = \"text-align: left;\">7276FF000B03183D</td><td style = \"text-align: left;\">2023-05-18 12:42:28</td><td style = \"text-align: right;\">-123</td><td style = \"text-align: right;\">-12.0</td><td style = \"text-align: right;\">-27.2155</td><td style = \"text-align: right;\">38.668</td><td style = \"text-align: right;\">4.33</td><td style = \"text-align: right;\">0.0</td><td style = \"text-align: right;\">0.0</td><td style = \"text-align: left;\">Very Poor</td></tr><tr><td class = \"rowNumber\" style = \"font-weight: bold; text-align: right;\">76318</td><td style = \"text-align: right;\">76317</td><td style = \"text-align: left;\">70B3D5705000B993</td><td style = \"text-align: left;\">7276FF000B03183D</td><td style = \"text-align: left;\">2023-05-18 19:50:44</td><td style = \"text-align: right;\">-126</td><td style = \"text-align: right;\">-8.8</td><td style = \"text-align: right;\">-27.2113</td><td style = \"text-align: right;\">38.6753</td><td style = \"text-align: right;\">4.33</td><td style = \"text-align: right;\">0.0</td><td style = \"text-align: right;\">0.0</td><td style = \"text-align: left;\">Very Poor</td></tr><tr><td class = \"rowNumber\" style = \"font-weight: bold; text-align: right;\">76319</td><td style = \"text-align: right;\">76318</td><td style = \"text-align: left;\">70B3D5705000B993</td><td style = \"text-align: left;\">7276FF000B03183D</td><td style = \"text-align: left;\">2023-05-20 19:56:53</td><td style = \"text-align: right;\">-124</td><td style = \"text-align: right;\">-17.0</td><td style = \"text-align: right;\">-27.2165</td><td style = \"text-align: right;\">38.6678</td><td style = \"text-align: right;\">4.28</td><td style = \"text-align: right;\">0.0</td><td style = \"text-align: right;\">0.0</td><td style = \"text-align: left;\">Very Poor</td></tr><tr><td class = \"rowNumber\" style = \"font-weight: bold; text-align: right;\">76320</td><td style = \"text-align: right;\">76319</td><td style = \"text-align: left;\">70B3D5705000B993</td><td style = \"text-align: left;\">7276FF000B03183D</td><td style = \"text-align: left;\">2023-06-02 08:36:03</td><td style = \"text-align: right;\">-125</td><td style = \"text-align: right;\">-12.0</td><td style = \"text-align: right;\">-27.2134</td><td style = \"text-align: right;\">38.6613</td><td style = \"text-align: right;\">4.2</td><td style = \"text-align: right;\">0.0</td><td style = \"text-align: right;\">0.0</td><td style = \"text-align: left;\">Very Poor</td></tr><tr><td class = \"rowNumber\" style = \"font-weight: bold; text-align: right;\">76321</td><td style = \"text-align: right;\">76320</td><td style = \"text-align: left;\">70B3D5705000B993</td><td style = \"text-align: left;\">7276FF000B03183D</td><td style = \"text-align: left;\">2023-06-22 11:46:52</td><td style = \"text-align: right;\">-92</td><td style = \"text-align: right;\">10.0</td><td style = \"text-align: right;\">-27.1781</td><td style = \"text-align: right;\">38.696</td><td style = \"text-align: right;\">4.05</td><td style = \"text-align: right;\">0.0</td><td style = \"text-align: right;\">0.0</td><td style = \"text-align: left;\">Good Signal Quality</td></tr></tbody></table></div>"
      ],
      "text/latex": [
       "\\begin{tabular}{r|cccccc}\n",
       "\t& Column1 & dev\\_eui & gw\\_eui & timestamp\\_utc\\_iso\\_string & rssi\\_dbm & \\\\\n",
       "\t\\hline\n",
       "\t& Int64 & String31 & String31 & String31 & Int64 & \\\\\n",
       "\t\\hline\n",
       "\t1 & 0 & 0200000000000000 & 7076FF0056060728 & 2022-03-16 03:10:48 & -112 & $\\dots$ \\\\\n",
       "\t2 & 1 & 0200000000000000 & 7076FF0056060728 & 2022-03-16 03:22:19 & -120 & $\\dots$ \\\\\n",
       "\t3 & 2 & 0200000000000000 & 7076FF0056060728 & 2022-03-16 05:41:10 & -100 & $\\dots$ \\\\\n",
       "\t4 & 3 & 0200000000000000 & 7076FF0056060728 & 2022-03-16 05:43:30 & -105 & $\\dots$ \\\\\n",
       "\t5 & 4 & 0200000000000000 & 7076FF0056060728 & 2022-03-16 12:18:26 & -105 & $\\dots$ \\\\\n",
       "\t6 & 5 & 0200000000000000 & 7076FF0056060728 & 2022-03-16 15:38:22 & -102 & $\\dots$ \\\\\n",
       "\t7 & 6 & 0200000000000000 & 7076FF0056060728 & 2022-03-16 23:57:15 & -108 & $\\dots$ \\\\\n",
       "\t8 & 7 & 0200000000000000 & 7076FF0056060728 & 2022-03-16 23:59:34 & -105 & $\\dots$ \\\\\n",
       "\t9 & 8 & 0200000000000000 & 7076FF0056060728 & 2022-03-17 00:01:53 & -107 & $\\dots$ \\\\\n",
       "\t10 & 9 & 0200000000000000 & 7076FF0056060728 & 2022-03-17 00:04:12 & -105 & $\\dots$ \\\\\n",
       "\t11 & 10 & 0200000000000000 & 7076FF0056060728 & 2022-03-17 19:05:30 & -102 & $\\dots$ \\\\\n",
       "\t12 & 11 & 0200000000000000 & 7076FF0056060728 & 2022-03-17 23:00:17 & -101 & $\\dots$ \\\\\n",
       "\t13 & 12 & 0200000000000000 & 7076FF0056060728 & 2022-03-17 23:37:14 & -105 & $\\dots$ \\\\\n",
       "\t14 & 13 & 0200000000000000 & 7076FF0056060728 & 2022-03-17 23:44:09 & -101 & $\\dots$ \\\\\n",
       "\t15 & 14 & 0200000000000000 & 7076FF0056060728 & 2022-03-18 00:46:35 & -103 & $\\dots$ \\\\\n",
       "\t16 & 15 & 0200000000000000 & 7076FF0056060728 & 2022-03-18 00:55:48 & -103 & $\\dots$ \\\\\n",
       "\t17 & 16 & 0200000000000000 & 7076FF0056060728 & 2022-03-18 01:05:01 & -106 & $\\dots$ \\\\\n",
       "\t18 & 17 & 0200000000000000 & 7076FF0056060728 & 2022-03-18 01:09:38 & -102 & $\\dots$ \\\\\n",
       "\t19 & 18 & 0200000000000000 & 7076FF0056060728 & 2022-03-18 01:12:00 & -100 & $\\dots$ \\\\\n",
       "\t20 & 19 & 0200000000000000 & 7076FF0056060728 & 2022-03-18 01:23:30 & -108 & $\\dots$ \\\\\n",
       "\t21 & 20 & 0200000000000000 & 7076FF0056060728 & 2022-03-18 01:25:49 & -104 & $\\dots$ \\\\\n",
       "\t22 & 21 & 0200000000000000 & 7076FF0056060728 & 2022-03-18 01:32:43 & -101 & $\\dots$ \\\\\n",
       "\t23 & 22 & 0200000000000000 & 7076FF0056060728 & 2022-03-18 01:35:01 & -102 & $\\dots$ \\\\\n",
       "\t24 & 23 & 0200000000000000 & 7076FF0056060728 & 2022-03-18 01:46:30 & -102 & $\\dots$ \\\\\n",
       "\t$\\dots$ & $\\dots$ & $\\dots$ & $\\dots$ & $\\dots$ & $\\dots$ &  \\\\\n",
       "\\end{tabular}\n"
      ],
      "text/plain": [
       "\u001b[1m76321×12 DataFrame\u001b[0m\n",
       "\u001b[1m   Row \u001b[0m│\u001b[1m Column1 \u001b[0m\u001b[1m dev_eui          \u001b[0m\u001b[1m gw_eui           \u001b[0m\u001b[1m timestamp_utc_iso_string\u001b[0m ⋯\n",
       "       │\u001b[90m Int64   \u001b[0m\u001b[90m String31         \u001b[0m\u001b[90m String31         \u001b[0m\u001b[90m String31                \u001b[0m ⋯\n",
       "───────┼────────────────────────────────────────────────────────────────────────\n",
       "     1 │       0  0200000000000000  7076FF0056060728  2022-03-16 03:10:48      ⋯\n",
       "     2 │       1  0200000000000000  7076FF0056060728  2022-03-16 03:22:19\n",
       "     3 │       2  0200000000000000  7076FF0056060728  2022-03-16 05:41:10\n",
       "     4 │       3  0200000000000000  7076FF0056060728  2022-03-16 05:43:30\n",
       "     5 │       4  0200000000000000  7076FF0056060728  2022-03-16 12:18:26      ⋯\n",
       "     6 │       5  0200000000000000  7076FF0056060728  2022-03-16 15:38:22\n",
       "     7 │       6  0200000000000000  7076FF0056060728  2022-03-16 23:57:15\n",
       "     8 │       7  0200000000000000  7076FF0056060728  2022-03-16 23:59:34\n",
       "   ⋮   │    ⋮            ⋮                 ⋮                     ⋮             ⋱\n",
       " 76315 │   76314  70B3D5705000B993  7276FF000B03183D  2023-05-15 09:50:48      ⋯\n",
       " 76316 │   76315  70B3D5705000B993  7276FF000B03183D  2023-05-18 12:19:37\n",
       " 76317 │   76316  70B3D5705000B993  7276FF000B03183D  2023-05-18 12:42:28\n",
       " 76318 │   76317  70B3D5705000B993  7276FF000B03183D  2023-05-18 19:50:44\n",
       " 76319 │   76318  70B3D5705000B993  7276FF000B03183D  2023-05-20 19:56:53      ⋯\n",
       " 76320 │   76319  70B3D5705000B993  7276FF000B03183D  2023-06-02 08:36:03\n",
       " 76321 │   76320  70B3D5705000B993  7276FF000B03183D  2023-06-22 11:46:52\n",
       "\u001b[36m                                                8 columns and 76306 rows omitted\u001b[0m"
      ]
     },
     "metadata": {},
     "output_type": "display_data"
    }
   ],
   "source": [
    "df = CSV.read(\"data/vessel_locations.csv\", DataFrame)"
   ]
  },
  {
   "cell_type": "code",
   "execution_count": 130,
   "metadata": {},
   "outputs": [
    {
     "data": {
      "text/plain": [
       "76321-element PooledArrays.PooledVector{String31, UInt32, Vector{UInt32}}:\n",
       " \"7076FF0056060728\"\n",
       " \"7076FF0056060728\"\n",
       " \"7076FF0056060728\"\n",
       " \"7076FF0056060728\"\n",
       " \"7076FF0056060728\"\n",
       " \"7076FF0056060728\"\n",
       " \"7076FF0056060728\"\n",
       " \"7076FF0056060728\"\n",
       " \"7076FF0056060728\"\n",
       " \"7076FF0056060728\"\n",
       " ⋮\n",
       " \"7276FF000B03183D\"\n",
       " \"7276FF000B03183D\"\n",
       " \"7276FF000B03183D\"\n",
       " \"7276FF000B03183D\"\n",
       " \"7276FF000B03183D\"\n",
       " \"7276FF000B03183D\"\n",
       " \"7276FF000B03183D\"\n",
       " \"7276FF000B03183D\"\n",
       " \"7276FF000B03183D\""
      ]
     },
     "metadata": {},
     "output_type": "display_data"
    }
   ],
   "source": [
    "df.gw_eui"
   ]
  },
  {
   "cell_type": "code",
   "execution_count": 131,
   "metadata": {},
   "outputs": [
    {
     "data": {
      "text/plain": [
       "76321-element PooledArrays.PooledVector{String31, UInt32, Vector{UInt32}}:\n",
       " \"7076FF0056060728\"\n",
       " \"7076FF0056060728\"\n",
       " \"7076FF0056060728\"\n",
       " \"7076FF0056060728\"\n",
       " \"7076FF0056060728\"\n",
       " \"7076FF0056060728\"\n",
       " \"7076FF0056060728\"\n",
       " \"7076FF0056060728\"\n",
       " \"7076FF0056060728\"\n",
       " \"7076FF0056060728\"\n",
       " ⋮\n",
       " \"7276FF000B03183D\"\n",
       " \"7276FF000B03183D\"\n",
       " \"7276FF000B03183D\"\n",
       " \"7276FF000B03183D\"\n",
       " \"7276FF000B03183D\"\n",
       " \"7276FF000B03183D\"\n",
       " \"7276FF000B03183D\"\n",
       " \"7276FF000B03183D\"\n",
       " \"7276FF000B03183D\""
      ]
     },
     "metadata": {},
     "output_type": "display_data"
    }
   ],
   "source": [
    "df[!, :gw_eui]"
   ]
  },
  {
   "cell_type": "code",
   "execution_count": 132,
   "metadata": {},
   "outputs": [
    {
     "data": {
      "text/plain": [
       "9-element Vector{String31}:\n",
       " \"7076FF0056060728\"\n",
       " \"7076FF0056060729\"\n",
       " \"7076FF00560705D1\"\n",
       " \"7076FF00560705D7\"\n",
       " \"7076FF00560720B7\"\n",
       " \"7276FF000B031748\"\n",
       " \"7276FF000B031818\"\n",
       " \"7276FF000B03183A\"\n",
       " \"7276FF000B03183D\""
      ]
     },
     "metadata": {},
     "output_type": "display_data"
    }
   ],
   "source": [
    "unique(df.gw_eui)"
   ]
  },
  {
   "cell_type": "code",
   "execution_count": 133,
   "metadata": {},
   "outputs": [
    {
     "data": {
      "text/plain": [
       "\"7076FF0056060728\""
      ]
     },
     "metadata": {},
     "output_type": "display_data"
    }
   ],
   "source": [
    "df[1, :gw_eui]"
   ]
  },
  {
   "cell_type": "code",
   "execution_count": 134,
   "metadata": {},
   "outputs": [
    {
     "data": {
      "text/plain": [
       "2-element PooledArrays.PooledVector{String31, UInt32, Vector{UInt32}}:\n",
       " \"7076FF0056060728\"\n",
       " \"7076FF0056060728\""
      ]
     },
     "metadata": {},
     "output_type": "display_data"
    }
   ],
   "source": [
    "df[1:2, :gw_eui]"
   ]
  },
  {
   "cell_type": "markdown",
   "metadata": {},
   "source": [
    "**Filtering**"
   ]
  },
  {
   "cell_type": "code",
   "execution_count": 135,
   "metadata": {},
   "outputs": [
    {
     "data": {
      "text/plain": [
       "2-element Vector{Int64}:\n",
       " 4\n",
       " 5"
      ]
     },
     "metadata": {},
     "output_type": "display_data"
    }
   ],
   "source": [
    "# For a vector\n",
    "filter(x-> x>3, [1,2,3,4,5])"
   ]
  },
  {
   "cell_type": "code",
   "execution_count": 136,
   "metadata": {},
   "outputs": [
    {
     "data": {
      "text/plain": [
       "signal_excellent (generic function with 1 method)"
      ]
     },
     "metadata": {},
     "output_type": "display_data"
    }
   ],
   "source": [
    "# For a dataframe\n",
    "signal_excellent(signal_quality) = signal_quality == \"Excellent\""
   ]
  },
  {
   "cell_type": "code",
   "execution_count": 137,
   "metadata": {},
   "outputs": [
    {
     "data": {
      "text/html": [
       "<div><div style = \"float: left;\"><span>383×12 DataFrame</span></div><div style = \"float: right;\"><span style = \"font-style: italic;\">358 rows omitted</span></div><div style = \"clear: both;\"></div></div><div class = \"data-frame\" style = \"overflow-x: scroll;\"><table class = \"data-frame\" style = \"margin-bottom: 6px;\"><thead><tr class = \"header\"><th class = \"rowNumber\" style = \"font-weight: bold; text-align: right;\">Row</th><th style = \"text-align: left;\">Column1</th><th style = \"text-align: left;\">dev_eui</th><th style = \"text-align: left;\">gw_eui</th><th style = \"text-align: left;\">timestamp_utc_iso_string</th><th style = \"text-align: left;\">rssi_dbm</th><th style = \"text-align: left;\">snr_db</th><th style = \"text-align: left;\">dev_lon_deg_wgs84</th><th style = \"text-align: left;\">dev_lat_deg_wgs84</th><th style = \"text-align: left;\">battery_v</th><th style = \"text-align: left;\">gw_lon_deg_wgs84</th><th style = \"text-align: left;\">gw_lat_deg_wgs84</th><th style = \"text-align: left;\">signal_quality</th></tr><tr class = \"subheader headerLastRow\"><th class = \"rowNumber\" style = \"font-weight: bold; text-align: right;\"></th><th title = \"Int64\" style = \"text-align: left;\">Int64</th><th title = \"String31\" style = \"text-align: left;\">String31</th><th title = \"String31\" style = \"text-align: left;\">String31</th><th title = \"String31\" style = \"text-align: left;\">String31</th><th title = \"Int64\" style = \"text-align: left;\">Int64</th><th title = \"Float64\" style = \"text-align: left;\">Float64</th><th title = \"Float64\" style = \"text-align: left;\">Float64</th><th title = \"Float64\" style = \"text-align: left;\">Float64</th><th title = \"Float64\" style = \"text-align: left;\">Float64</th><th title = \"Float64\" style = \"text-align: left;\">Float64</th><th title = \"Float64\" style = \"text-align: left;\">Float64</th><th title = \"String31\" style = \"text-align: left;\">String31</th></tr></thead><tbody><tr><td class = \"rowNumber\" style = \"font-weight: bold; text-align: right;\">1</td><td style = \"text-align: right;\">21193</td><td style = \"text-align: left;\">0200000000000000</td><td style = \"text-align: left;\">7076FF0056060729</td><td style = \"text-align: left;\">2022-05-07 19:46:37</td><td style = \"text-align: right;\">-54</td><td style = \"text-align: right;\">13.5</td><td style = \"text-align: right;\">-28.3902</td><td style = \"text-align: right;\">38.4219</td><td style = \"text-align: right;\">0.0</td><td style = \"text-align: right;\">0.0</td><td style = \"text-align: right;\">0.0</td><td style = \"text-align: left;\">Excellent</td></tr><tr><td class = \"rowNumber\" style = \"font-weight: bold; text-align: right;\">2</td><td style = \"text-align: right;\">21194</td><td style = \"text-align: left;\">0200000000000000</td><td style = \"text-align: left;\">7076FF0056060729</td><td style = \"text-align: left;\">2022-05-07 19:49:14</td><td style = \"text-align: right;\">-56</td><td style = \"text-align: right;\">12.0</td><td style = \"text-align: right;\">-28.3901</td><td style = \"text-align: right;\">38.4219</td><td style = \"text-align: right;\">0.0</td><td style = \"text-align: right;\">0.0</td><td style = \"text-align: right;\">0.0</td><td style = \"text-align: left;\">Excellent</td></tr><tr><td class = \"rowNumber\" style = \"font-weight: bold; text-align: right;\">3</td><td style = \"text-align: right;\">21195</td><td style = \"text-align: left;\">0200000000000000</td><td style = \"text-align: left;\">7076FF0056060729</td><td style = \"text-align: left;\">2022-05-07 19:51:56</td><td style = \"text-align: right;\">-54</td><td style = \"text-align: right;\">12.2</td><td style = \"text-align: right;\">-28.3901</td><td style = \"text-align: right;\">38.4218</td><td style = \"text-align: right;\">0.0</td><td style = \"text-align: right;\">0.0</td><td style = \"text-align: right;\">0.0</td><td style = \"text-align: left;\">Excellent</td></tr><tr><td class = \"rowNumber\" style = \"font-weight: bold; text-align: right;\">4</td><td style = \"text-align: right;\">21197</td><td style = \"text-align: left;\">0200000000000000</td><td style = \"text-align: left;\">7076FF0056060729</td><td style = \"text-align: left;\">2022-05-09 08:52:11</td><td style = \"text-align: right;\">-58</td><td style = \"text-align: right;\">11.0</td><td style = \"text-align: right;\">-28.3902</td><td style = \"text-align: right;\">38.4218</td><td style = \"text-align: right;\">0.0</td><td style = \"text-align: right;\">0.0</td><td style = \"text-align: right;\">0.0</td><td style = \"text-align: left;\">Excellent</td></tr><tr><td class = \"rowNumber\" style = \"font-weight: bold; text-align: right;\">5</td><td style = \"text-align: right;\">21198</td><td style = \"text-align: left;\">0200000000000000</td><td style = \"text-align: left;\">7076FF0056060729</td><td style = \"text-align: left;\">2022-05-09 08:54:47</td><td style = \"text-align: right;\">-56</td><td style = \"text-align: right;\">11.8</td><td style = \"text-align: right;\">-28.3903</td><td style = \"text-align: right;\">38.4218</td><td style = \"text-align: right;\">0.0</td><td style = \"text-align: right;\">0.0</td><td style = \"text-align: right;\">0.0</td><td style = \"text-align: left;\">Excellent</td></tr><tr><td class = \"rowNumber\" style = \"font-weight: bold; text-align: right;\">6</td><td style = \"text-align: right;\">21200</td><td style = \"text-align: left;\">0200000000000000</td><td style = \"text-align: left;\">7076FF0056060729</td><td style = \"text-align: left;\">2022-05-09 09:00:32</td><td style = \"text-align: right;\">-56</td><td style = \"text-align: right;\">12.2</td><td style = \"text-align: right;\">-28.3903</td><td style = \"text-align: right;\">38.4218</td><td style = \"text-align: right;\">0.0</td><td style = \"text-align: right;\">0.0</td><td style = \"text-align: right;\">0.0</td><td style = \"text-align: left;\">Excellent</td></tr><tr><td class = \"rowNumber\" style = \"font-weight: bold; text-align: right;\">7</td><td style = \"text-align: right;\">21203</td><td style = \"text-align: left;\">0200000000000000</td><td style = \"text-align: left;\">7076FF0056060729</td><td style = \"text-align: left;\">2022-05-12 12:02:22</td><td style = \"text-align: right;\">-54</td><td style = \"text-align: right;\">11.8</td><td style = \"text-align: right;\">-28.3902</td><td style = \"text-align: right;\">38.4218</td><td style = \"text-align: right;\">0.0</td><td style = \"text-align: right;\">0.0</td><td style = \"text-align: right;\">0.0</td><td style = \"text-align: left;\">Excellent</td></tr><tr><td class = \"rowNumber\" style = \"font-weight: bold; text-align: right;\">8</td><td style = \"text-align: right;\">21204</td><td style = \"text-align: left;\">0200000000000000</td><td style = \"text-align: left;\">7076FF0056060729</td><td style = \"text-align: left;\">2022-05-16 13:30:27</td><td style = \"text-align: right;\">-71</td><td style = \"text-align: right;\">11.5</td><td style = \"text-align: right;\">-28.3902</td><td style = \"text-align: right;\">38.4218</td><td style = \"text-align: right;\">0.0</td><td style = \"text-align: right;\">0.0</td><td style = \"text-align: right;\">0.0</td><td style = \"text-align: left;\">Excellent</td></tr><tr><td class = \"rowNumber\" style = \"font-weight: bold; text-align: right;\">9</td><td style = \"text-align: right;\">21205</td><td style = \"text-align: left;\">0200000000000000</td><td style = \"text-align: left;\">7076FF0056060729</td><td style = \"text-align: left;\">2022-05-17 11:44:15</td><td style = \"text-align: right;\">-60</td><td style = \"text-align: right;\">14.0</td><td style = \"text-align: right;\">-28.3903</td><td style = \"text-align: right;\">38.4218</td><td style = \"text-align: right;\">0.0</td><td style = \"text-align: right;\">0.0</td><td style = \"text-align: right;\">0.0</td><td style = \"text-align: left;\">Excellent</td></tr><tr><td class = \"rowNumber\" style = \"font-weight: bold; text-align: right;\">10</td><td style = \"text-align: right;\">21206</td><td style = \"text-align: left;\">0200000000000000</td><td style = \"text-align: left;\">7076FF0056060729</td><td style = \"text-align: left;\">2022-05-17 11:47:35</td><td style = \"text-align: right;\">-59</td><td style = \"text-align: right;\">10.5</td><td style = \"text-align: right;\">-28.3903</td><td style = \"text-align: right;\">38.4219</td><td style = \"text-align: right;\">0.0</td><td style = \"text-align: right;\">0.0</td><td style = \"text-align: right;\">0.0</td><td style = \"text-align: left;\">Excellent</td></tr><tr><td class = \"rowNumber\" style = \"font-weight: bold; text-align: right;\">11</td><td style = \"text-align: right;\">21208</td><td style = \"text-align: left;\">0200000000000000</td><td style = \"text-align: left;\">7076FF0056060729</td><td style = \"text-align: left;\">2022-05-18 12:52:41</td><td style = \"text-align: right;\">-58</td><td style = \"text-align: right;\">13.2</td><td style = \"text-align: right;\">-28.3903</td><td style = \"text-align: right;\">38.4218</td><td style = \"text-align: right;\">0.0</td><td style = \"text-align: right;\">0.0</td><td style = \"text-align: right;\">0.0</td><td style = \"text-align: left;\">Excellent</td></tr><tr><td class = \"rowNumber\" style = \"font-weight: bold; text-align: right;\">12</td><td style = \"text-align: right;\">21209</td><td style = \"text-align: left;\">0200000000000000</td><td style = \"text-align: left;\">7076FF0056060729</td><td style = \"text-align: left;\">2022-05-18 13:01:27</td><td style = \"text-align: right;\">-58</td><td style = \"text-align: right;\">15.5</td><td style = \"text-align: right;\">-28.3902</td><td style = \"text-align: right;\">38.4218</td><td style = \"text-align: right;\">0.0</td><td style = \"text-align: right;\">0.0</td><td style = \"text-align: right;\">0.0</td><td style = \"text-align: left;\">Excellent</td></tr><tr><td class = \"rowNumber\" style = \"font-weight: bold; text-align: right;\">13</td><td style = \"text-align: right;\">21211</td><td style = \"text-align: left;\">0200000000000000</td><td style = \"text-align: left;\">7076FF0056060729</td><td style = \"text-align: left;\">2022-05-18 13:07:36</td><td style = \"text-align: right;\">-57</td><td style = \"text-align: right;\">12.5</td><td style = \"text-align: right;\">-28.3904</td><td style = \"text-align: right;\">38.4218</td><td style = \"text-align: right;\">0.0</td><td style = \"text-align: right;\">0.0</td><td style = \"text-align: right;\">0.0</td><td style = \"text-align: left;\">Excellent</td></tr><tr><td style = \"text-align: right;\">&vellip;</td><td style = \"text-align: right;\">&vellip;</td><td style = \"text-align: right;\">&vellip;</td><td style = \"text-align: right;\">&vellip;</td><td style = \"text-align: right;\">&vellip;</td><td style = \"text-align: right;\">&vellip;</td><td style = \"text-align: right;\">&vellip;</td><td style = \"text-align: right;\">&vellip;</td><td style = \"text-align: right;\">&vellip;</td><td style = \"text-align: right;\">&vellip;</td><td style = \"text-align: right;\">&vellip;</td><td style = \"text-align: right;\">&vellip;</td><td style = \"text-align: right;\">&vellip;</td></tr><tr><td class = \"rowNumber\" style = \"font-weight: bold; text-align: right;\">372</td><td style = \"text-align: right;\">74738</td><td style = \"text-align: left;\">0200000000000000</td><td style = \"text-align: left;\">7276FF000B03183A</td><td style = \"text-align: left;\">2022-03-23 15:02:34</td><td style = \"text-align: right;\">-84</td><td style = \"text-align: right;\">10.5</td><td style = \"text-align: right;\">-27.2271</td><td style = \"text-align: right;\">38.6559</td><td style = \"text-align: right;\">0.0</td><td style = \"text-align: right;\">-27.2248</td><td style = \"text-align: right;\">38.6569</td><td style = \"text-align: left;\">Excellent</td></tr><tr><td class = \"rowNumber\" style = \"font-weight: bold; text-align: right;\">373</td><td style = \"text-align: right;\">75011</td><td style = \"text-align: left;\">0200000000000000</td><td style = \"text-align: left;\">7276FF000B03183A</td><td style = \"text-align: left;\">2022-05-06 17:53:34</td><td style = \"text-align: right;\">-74</td><td style = \"text-align: right;\">11.2</td><td style = \"text-align: right;\">-27.223</td><td style = \"text-align: right;\">38.6559</td><td style = \"text-align: right;\">0.0</td><td style = \"text-align: right;\">-27.2248</td><td style = \"text-align: right;\">38.6569</td><td style = \"text-align: left;\">Excellent</td></tr><tr><td class = \"rowNumber\" style = \"font-weight: bold; text-align: right;\">374</td><td style = \"text-align: right;\">75040</td><td style = \"text-align: left;\">0200000000000000</td><td style = \"text-align: left;\">7276FF000B03183A</td><td style = \"text-align: left;\">2022-05-21 15:57:46</td><td style = \"text-align: right;\">-86</td><td style = \"text-align: right;\">12.8</td><td style = \"text-align: right;\">-27.2672</td><td style = \"text-align: right;\">38.6532</td><td style = \"text-align: right;\">0.0</td><td style = \"text-align: right;\">-27.2248</td><td style = \"text-align: right;\">38.6569</td><td style = \"text-align: left;\">Excellent</td></tr><tr><td class = \"rowNumber\" style = \"font-weight: bold; text-align: right;\">375</td><td style = \"text-align: right;\">75272</td><td style = \"text-align: left;\">0200000000000000</td><td style = \"text-align: left;\">7276FF000B03183A</td><td style = \"text-align: left;\">2022-09-02 17:36:37</td><td style = \"text-align: right;\">-75</td><td style = \"text-align: right;\">11.2</td><td style = \"text-align: right;\">-27.2283</td><td style = \"text-align: right;\">38.6549</td><td style = \"text-align: right;\">0.0</td><td style = \"text-align: right;\">-27.2248</td><td style = \"text-align: right;\">38.6569</td><td style = \"text-align: left;\">Excellent</td></tr><tr><td class = \"rowNumber\" style = \"font-weight: bold; text-align: right;\">376</td><td style = \"text-align: right;\">75622</td><td style = \"text-align: left;\">70B3D5705000B993</td><td style = \"text-align: left;\">7276FF000B03183A</td><td style = \"text-align: left;\">2023-05-05 16:02:13</td><td style = \"text-align: right;\">-84</td><td style = \"text-align: right;\">11.5</td><td style = \"text-align: right;\">-27.2248</td><td style = \"text-align: right;\">38.6545</td><td style = \"text-align: right;\">4.33</td><td style = \"text-align: right;\">-27.2248</td><td style = \"text-align: right;\">38.6569</td><td style = \"text-align: left;\">Excellent</td></tr><tr><td class = \"rowNumber\" style = \"font-weight: bold; text-align: right;\">377</td><td style = \"text-align: right;\">75651</td><td style = \"text-align: left;\">70B3D5705000B993</td><td style = \"text-align: left;\">7276FF000B03183A</td><td style = \"text-align: left;\">2023-05-27 20:29:45</td><td style = \"text-align: right;\">-73</td><td style = \"text-align: right;\">11.0</td><td style = \"text-align: right;\">-27.2247</td><td style = \"text-align: right;\">38.657</td><td style = \"text-align: right;\">4.23</td><td style = \"text-align: right;\">-27.2248</td><td style = \"text-align: right;\">38.6569</td><td style = \"text-align: left;\">Excellent</td></tr><tr><td class = \"rowNumber\" style = \"font-weight: bold; text-align: right;\">378</td><td style = \"text-align: right;\">75653</td><td style = \"text-align: left;\">70B3D5705000B993</td><td style = \"text-align: left;\">7276FF000B03183A</td><td style = \"text-align: left;\">2023-05-30 16:57:15</td><td style = \"text-align: right;\">-83</td><td style = \"text-align: right;\">11.8</td><td style = \"text-align: right;\">-27.2247</td><td style = \"text-align: right;\">38.6543</td><td style = \"text-align: right;\">4.2</td><td style = \"text-align: right;\">-27.2248</td><td style = \"text-align: right;\">38.6569</td><td style = \"text-align: left;\">Excellent</td></tr><tr><td class = \"rowNumber\" style = \"font-weight: bold; text-align: right;\">379</td><td style = \"text-align: right;\">75680</td><td style = \"text-align: left;\">70B3D5705000B993</td><td style = \"text-align: left;\">7276FF000B03183A</td><td style = \"text-align: left;\">2023-06-13 17:20:43</td><td style = \"text-align: right;\">-84</td><td style = \"text-align: right;\">13.5</td><td style = \"text-align: right;\">-27.2257</td><td style = \"text-align: right;\">38.6551</td><td style = \"text-align: right;\">4.1</td><td style = \"text-align: right;\">-27.2248</td><td style = \"text-align: right;\">38.6569</td><td style = \"text-align: left;\">Excellent</td></tr><tr><td class = \"rowNumber\" style = \"font-weight: bold; text-align: right;\">380</td><td style = \"text-align: right;\">76131</td><td style = \"text-align: left;\">0200000000000000</td><td style = \"text-align: left;\">7276FF000B03183D</td><td style = \"text-align: left;\">2022-06-30 17:22:20</td><td style = \"text-align: right;\">-75</td><td style = \"text-align: right;\">10.2</td><td style = \"text-align: right;\">-27.1842</td><td style = \"text-align: right;\">38.6918</td><td style = \"text-align: right;\">0.0</td><td style = \"text-align: right;\">0.0</td><td style = \"text-align: right;\">0.0</td><td style = \"text-align: left;\">Excellent</td></tr><tr><td class = \"rowNumber\" style = \"font-weight: bold; text-align: right;\">381</td><td style = \"text-align: right;\">76132</td><td style = \"text-align: left;\">0200000000000000</td><td style = \"text-align: left;\">7276FF000B03183D</td><td style = \"text-align: left;\">2022-06-30 17:22:20</td><td style = \"text-align: right;\">-75</td><td style = \"text-align: right;\">10.2</td><td style = \"text-align: right;\">-27.1842</td><td style = \"text-align: right;\">38.6918</td><td style = \"text-align: right;\">0.0</td><td style = \"text-align: right;\">0.0</td><td style = \"text-align: right;\">0.0</td><td style = \"text-align: left;\">Excellent</td></tr><tr><td class = \"rowNumber\" style = \"font-weight: bold; text-align: right;\">382</td><td style = \"text-align: right;\">76133</td><td style = \"text-align: left;\">0200000000000000</td><td style = \"text-align: left;\">7276FF000B03183D</td><td style = \"text-align: left;\">2022-07-01 09:48:52</td><td style = \"text-align: right;\">-74</td><td style = \"text-align: right;\">10.2</td><td style = \"text-align: right;\">-27.184</td><td style = \"text-align: right;\">38.692</td><td style = \"text-align: right;\">0.0</td><td style = \"text-align: right;\">0.0</td><td style = \"text-align: right;\">0.0</td><td style = \"text-align: left;\">Excellent</td></tr><tr><td class = \"rowNumber\" style = \"font-weight: bold; text-align: right;\">383</td><td style = \"text-align: right;\">76134</td><td style = \"text-align: left;\">0200000000000000</td><td style = \"text-align: left;\">7276FF000B03183D</td><td style = \"text-align: left;\">2022-07-01 09:48:52</td><td style = \"text-align: right;\">-74</td><td style = \"text-align: right;\">10.2</td><td style = \"text-align: right;\">-27.184</td><td style = \"text-align: right;\">38.692</td><td style = \"text-align: right;\">0.0</td><td style = \"text-align: right;\">0.0</td><td style = \"text-align: right;\">0.0</td><td style = \"text-align: left;\">Excellent</td></tr></tbody></table></div>"
      ],
      "text/latex": [
       "\\begin{tabular}{r|cccccc}\n",
       "\t& Column1 & dev\\_eui & gw\\_eui & timestamp\\_utc\\_iso\\_string & rssi\\_dbm & \\\\\n",
       "\t\\hline\n",
       "\t& Int64 & String31 & String31 & String31 & Int64 & \\\\\n",
       "\t\\hline\n",
       "\t1 & 21193 & 0200000000000000 & 7076FF0056060729 & 2022-05-07 19:46:37 & -54 & $\\dots$ \\\\\n",
       "\t2 & 21194 & 0200000000000000 & 7076FF0056060729 & 2022-05-07 19:49:14 & -56 & $\\dots$ \\\\\n",
       "\t3 & 21195 & 0200000000000000 & 7076FF0056060729 & 2022-05-07 19:51:56 & -54 & $\\dots$ \\\\\n",
       "\t4 & 21197 & 0200000000000000 & 7076FF0056060729 & 2022-05-09 08:52:11 & -58 & $\\dots$ \\\\\n",
       "\t5 & 21198 & 0200000000000000 & 7076FF0056060729 & 2022-05-09 08:54:47 & -56 & $\\dots$ \\\\\n",
       "\t6 & 21200 & 0200000000000000 & 7076FF0056060729 & 2022-05-09 09:00:32 & -56 & $\\dots$ \\\\\n",
       "\t7 & 21203 & 0200000000000000 & 7076FF0056060729 & 2022-05-12 12:02:22 & -54 & $\\dots$ \\\\\n",
       "\t8 & 21204 & 0200000000000000 & 7076FF0056060729 & 2022-05-16 13:30:27 & -71 & $\\dots$ \\\\\n",
       "\t9 & 21205 & 0200000000000000 & 7076FF0056060729 & 2022-05-17 11:44:15 & -60 & $\\dots$ \\\\\n",
       "\t10 & 21206 & 0200000000000000 & 7076FF0056060729 & 2022-05-17 11:47:35 & -59 & $\\dots$ \\\\\n",
       "\t11 & 21208 & 0200000000000000 & 7076FF0056060729 & 2022-05-18 12:52:41 & -58 & $\\dots$ \\\\\n",
       "\t12 & 21209 & 0200000000000000 & 7076FF0056060729 & 2022-05-18 13:01:27 & -58 & $\\dots$ \\\\\n",
       "\t13 & 21211 & 0200000000000000 & 7076FF0056060729 & 2022-05-18 13:07:36 & -57 & $\\dots$ \\\\\n",
       "\t14 & 21212 & 0200000000000000 & 7076FF0056060729 & 2022-05-18 13:10:17 & -57 & $\\dots$ \\\\\n",
       "\t15 & 21213 & 0200000000000000 & 7076FF0056060729 & 2022-05-18 13:12:59 & -63 & $\\dots$ \\\\\n",
       "\t16 & 21215 & 0200000000000000 & 7076FF0056060729 & 2022-05-18 13:18:25 & -69 & $\\dots$ \\\\\n",
       "\t17 & 21216 & 0200000000000000 & 7076FF0056060729 & 2022-05-19 14:21:11 & -64 & $\\dots$ \\\\\n",
       "\t18 & 21218 & 0200000000000000 & 7076FF0056060729 & 2022-05-21 12:08:06 & -84 & $\\dots$ \\\\\n",
       "\t19 & 23296 & 0200000000000000 & 7076FF00560705D1 & 2022-02-24 12:03:21 & -88 & $\\dots$ \\\\\n",
       "\t20 & 23297 & 0200000000000000 & 7076FF00560705D1 & 2022-02-24 12:03:54 & -89 & $\\dots$ \\\\\n",
       "\t21 & 23301 & 0200000000000000 & 7076FF00560705D1 & 2022-02-24 12:31:34 & -84 & $\\dots$ \\\\\n",
       "\t22 & 23304 & 0200000000000000 & 7076FF00560705D1 & 2022-02-24 12:33:14 & -89 & $\\dots$ \\\\\n",
       "\t23 & 23313 & 0200000000000000 & 7076FF00560705D1 & 2022-02-24 13:25:22 & -89 & $\\dots$ \\\\\n",
       "\t24 & 23315 & 0200000000000000 & 7076FF00560705D1 & 2022-02-24 13:26:29 & -88 & $\\dots$ \\\\\n",
       "\t$\\dots$ & $\\dots$ & $\\dots$ & $\\dots$ & $\\dots$ & $\\dots$ &  \\\\\n",
       "\\end{tabular}\n"
      ],
      "text/plain": [
       "\u001b[1m383×12 DataFrame\u001b[0m\n",
       "\u001b[1m Row \u001b[0m│\u001b[1m Column1 \u001b[0m\u001b[1m dev_eui          \u001b[0m\u001b[1m gw_eui           \u001b[0m\u001b[1m timestamp_utc_iso_string \u001b[0m\u001b[1m \u001b[0m ⋯\n",
       "     │\u001b[90m Int64   \u001b[0m\u001b[90m String31         \u001b[0m\u001b[90m String31         \u001b[0m\u001b[90m String31                 \u001b[0m\u001b[90m \u001b[0m ⋯\n",
       "─────┼──────────────────────────────────────────────────────────────────────────\n",
       "   1 │   21193  0200000000000000  7076FF0056060729  2022-05-07 19:46:37        ⋯\n",
       "   2 │   21194  0200000000000000  7076FF0056060729  2022-05-07 19:49:14\n",
       "   3 │   21195  0200000000000000  7076FF0056060729  2022-05-07 19:51:56\n",
       "   4 │   21197  0200000000000000  7076FF0056060729  2022-05-09 08:52:11\n",
       "   5 │   21198  0200000000000000  7076FF0056060729  2022-05-09 08:54:47        ⋯\n",
       "   6 │   21200  0200000000000000  7076FF0056060729  2022-05-09 09:00:32\n",
       "   7 │   21203  0200000000000000  7076FF0056060729  2022-05-12 12:02:22\n",
       "   8 │   21204  0200000000000000  7076FF0056060729  2022-05-16 13:30:27\n",
       "  ⋮  │    ⋮            ⋮                 ⋮                     ⋮               ⋱\n",
       " 377 │   75651  70B3D5705000B993  7276FF000B03183A  2023-05-27 20:29:45        ⋯\n",
       " 378 │   75653  70B3D5705000B993  7276FF000B03183A  2023-05-30 16:57:15\n",
       " 379 │   75680  70B3D5705000B993  7276FF000B03183A  2023-06-13 17:20:43\n",
       " 380 │   76131  0200000000000000  7276FF000B03183D  2022-06-30 17:22:20\n",
       " 381 │   76132  0200000000000000  7276FF000B03183D  2022-06-30 17:22:20        ⋯\n",
       " 382 │   76133  0200000000000000  7276FF000B03183D  2022-07-01 09:48:52\n",
       " 383 │   76134  0200000000000000  7276FF000B03183D  2022-07-01 09:48:52\n",
       "\u001b[36m                                                  8 columns and 368 rows omitted\u001b[0m"
      ]
     },
     "metadata": {},
     "output_type": "display_data"
    }
   ],
   "source": [
    "filter(:signal_quality => signal_excellent, df)"
   ]
  },
  {
   "cell_type": "markdown",
   "metadata": {},
   "source": [
    "**Subset**"
   ]
  },
  {
   "cell_type": "code",
   "execution_count": 138,
   "metadata": {},
   "outputs": [
    {
     "data": {
      "text/html": [
       "<div><div style = \"float: left;\"><span>16273×12 DataFrame</span></div><div style = \"float: right;\"><span style = \"font-style: italic;\">16248 rows omitted</span></div><div style = \"clear: both;\"></div></div><div class = \"data-frame\" style = \"overflow-x: scroll;\"><table class = \"data-frame\" style = \"margin-bottom: 6px;\"><thead><tr class = \"header\"><th class = \"rowNumber\" style = \"font-weight: bold; text-align: right;\">Row</th><th style = \"text-align: left;\">Column1</th><th style = \"text-align: left;\">dev_eui</th><th style = \"text-align: left;\">gw_eui</th><th style = \"text-align: left;\">timestamp_utc_iso_string</th><th style = \"text-align: left;\">rssi_dbm</th><th style = \"text-align: left;\">snr_db</th><th style = \"text-align: left;\">dev_lon_deg_wgs84</th><th style = \"text-align: left;\">dev_lat_deg_wgs84</th><th style = \"text-align: left;\">battery_v</th><th style = \"text-align: left;\">gw_lon_deg_wgs84</th><th style = \"text-align: left;\">gw_lat_deg_wgs84</th><th style = \"text-align: left;\">signal_quality</th></tr><tr class = \"subheader headerLastRow\"><th class = \"rowNumber\" style = \"font-weight: bold; text-align: right;\"></th><th title = \"Int64\" style = \"text-align: left;\">Int64</th><th title = \"String31\" style = \"text-align: left;\">String31</th><th title = \"String31\" style = \"text-align: left;\">String31</th><th title = \"String31\" style = \"text-align: left;\">String31</th><th title = \"Int64\" style = \"text-align: left;\">Int64</th><th title = \"Float64\" style = \"text-align: left;\">Float64</th><th title = \"Float64\" style = \"text-align: left;\">Float64</th><th title = \"Float64\" style = \"text-align: left;\">Float64</th><th title = \"Float64\" style = \"text-align: left;\">Float64</th><th title = \"Float64\" style = \"text-align: left;\">Float64</th><th title = \"Float64\" style = \"text-align: left;\">Float64</th><th title = \"String31\" style = \"text-align: left;\">String31</th></tr></thead><tbody><tr><td class = \"rowNumber\" style = \"font-weight: bold; text-align: right;\">1</td><td style = \"text-align: right;\">2</td><td style = \"text-align: left;\">0200000000000000</td><td style = \"text-align: left;\">7076FF0056060728</td><td style = \"text-align: left;\">2022-03-16 05:41:10</td><td style = \"text-align: right;\">-100</td><td style = \"text-align: right;\">10.2</td><td style = \"text-align: right;\">-27.2671</td><td style = \"text-align: right;\">38.6556</td><td style = \"text-align: right;\">0.0</td><td style = \"text-align: right;\">0.0</td><td style = \"text-align: right;\">0.0</td><td style = \"text-align: left;\">Fair</td></tr><tr><td class = \"rowNumber\" style = \"font-weight: bold; text-align: right;\">2</td><td style = \"text-align: right;\">3</td><td style = \"text-align: left;\">0200000000000000</td><td style = \"text-align: left;\">7076FF0056060728</td><td style = \"text-align: left;\">2022-03-16 05:43:30</td><td style = \"text-align: right;\">-105</td><td style = \"text-align: right;\">9.2</td><td style = \"text-align: right;\">-27.2672</td><td style = \"text-align: right;\">38.6554</td><td style = \"text-align: right;\">0.0</td><td style = \"text-align: right;\">0.0</td><td style = \"text-align: right;\">0.0</td><td style = \"text-align: left;\">Fair</td></tr><tr><td class = \"rowNumber\" style = \"font-weight: bold; text-align: right;\">3</td><td style = \"text-align: right;\">4</td><td style = \"text-align: left;\">0200000000000000</td><td style = \"text-align: left;\">7076FF0056060728</td><td style = \"text-align: left;\">2022-03-16 12:18:26</td><td style = \"text-align: right;\">-105</td><td style = \"text-align: right;\">8.2</td><td style = \"text-align: right;\">-27.2666</td><td style = \"text-align: right;\">38.6562</td><td style = \"text-align: right;\">0.0</td><td style = \"text-align: right;\">0.0</td><td style = \"text-align: right;\">0.0</td><td style = \"text-align: left;\">Fair</td></tr><tr><td class = \"rowNumber\" style = \"font-weight: bold; text-align: right;\">4</td><td style = \"text-align: right;\">5</td><td style = \"text-align: left;\">0200000000000000</td><td style = \"text-align: left;\">7076FF0056060728</td><td style = \"text-align: left;\">2022-03-16 15:38:22</td><td style = \"text-align: right;\">-102</td><td style = \"text-align: right;\">9.8</td><td style = \"text-align: right;\">-27.2673</td><td style = \"text-align: right;\">38.6556</td><td style = \"text-align: right;\">0.0</td><td style = \"text-align: right;\">0.0</td><td style = \"text-align: right;\">0.0</td><td style = \"text-align: left;\">Fair</td></tr><tr><td class = \"rowNumber\" style = \"font-weight: bold; text-align: right;\">5</td><td style = \"text-align: right;\">6</td><td style = \"text-align: left;\">0200000000000000</td><td style = \"text-align: left;\">7076FF0056060728</td><td style = \"text-align: left;\">2022-03-16 23:57:15</td><td style = \"text-align: right;\">-108</td><td style = \"text-align: right;\">8.2</td><td style = \"text-align: right;\">-27.2668</td><td style = \"text-align: right;\">38.6561</td><td style = \"text-align: right;\">0.0</td><td style = \"text-align: right;\">0.0</td><td style = \"text-align: right;\">0.0</td><td style = \"text-align: left;\">Fair</td></tr><tr><td class = \"rowNumber\" style = \"font-weight: bold; text-align: right;\">6</td><td style = \"text-align: right;\">7</td><td style = \"text-align: left;\">0200000000000000</td><td style = \"text-align: left;\">7076FF0056060728</td><td style = \"text-align: left;\">2022-03-16 23:59:34</td><td style = \"text-align: right;\">-105</td><td style = \"text-align: right;\">8.0</td><td style = \"text-align: right;\">-27.267</td><td style = \"text-align: right;\">38.6561</td><td style = \"text-align: right;\">0.0</td><td style = \"text-align: right;\">0.0</td><td style = \"text-align: right;\">0.0</td><td style = \"text-align: left;\">Fair</td></tr><tr><td class = \"rowNumber\" style = \"font-weight: bold; text-align: right;\">7</td><td style = \"text-align: right;\">8</td><td style = \"text-align: left;\">0200000000000000</td><td style = \"text-align: left;\">7076FF0056060728</td><td style = \"text-align: left;\">2022-03-17 00:01:53</td><td style = \"text-align: right;\">-107</td><td style = \"text-align: right;\">8.0</td><td style = \"text-align: right;\">-27.267</td><td style = \"text-align: right;\">38.656</td><td style = \"text-align: right;\">0.0</td><td style = \"text-align: right;\">0.0</td><td style = \"text-align: right;\">0.0</td><td style = \"text-align: left;\">Fair</td></tr><tr><td class = \"rowNumber\" style = \"font-weight: bold; text-align: right;\">8</td><td style = \"text-align: right;\">9</td><td style = \"text-align: left;\">0200000000000000</td><td style = \"text-align: left;\">7076FF0056060728</td><td style = \"text-align: left;\">2022-03-17 00:04:12</td><td style = \"text-align: right;\">-105</td><td style = \"text-align: right;\">9.2</td><td style = \"text-align: right;\">-27.2671</td><td style = \"text-align: right;\">38.6558</td><td style = \"text-align: right;\">0.0</td><td style = \"text-align: right;\">0.0</td><td style = \"text-align: right;\">0.0</td><td style = \"text-align: left;\">Fair</td></tr><tr><td class = \"rowNumber\" style = \"font-weight: bold; text-align: right;\">9</td><td style = \"text-align: right;\">10</td><td style = \"text-align: left;\">0200000000000000</td><td style = \"text-align: left;\">7076FF0056060728</td><td style = \"text-align: left;\">2022-03-17 19:05:30</td><td style = \"text-align: right;\">-102</td><td style = \"text-align: right;\">9.0</td><td style = \"text-align: right;\">-27.2671</td><td style = \"text-align: right;\">38.6557</td><td style = \"text-align: right;\">0.0</td><td style = \"text-align: right;\">0.0</td><td style = \"text-align: right;\">0.0</td><td style = \"text-align: left;\">Fair</td></tr><tr><td class = \"rowNumber\" style = \"font-weight: bold; text-align: right;\">10</td><td style = \"text-align: right;\">11</td><td style = \"text-align: left;\">0200000000000000</td><td style = \"text-align: left;\">7076FF0056060728</td><td style = \"text-align: left;\">2022-03-17 23:00:17</td><td style = \"text-align: right;\">-101</td><td style = \"text-align: right;\">8.8</td><td style = \"text-align: right;\">-27.2671</td><td style = \"text-align: right;\">38.6552</td><td style = \"text-align: right;\">0.0</td><td style = \"text-align: right;\">0.0</td><td style = \"text-align: right;\">0.0</td><td style = \"text-align: left;\">Fair</td></tr><tr><td class = \"rowNumber\" style = \"font-weight: bold; text-align: right;\">11</td><td style = \"text-align: right;\">12</td><td style = \"text-align: left;\">0200000000000000</td><td style = \"text-align: left;\">7076FF0056060728</td><td style = \"text-align: left;\">2022-03-17 23:37:14</td><td style = \"text-align: right;\">-105</td><td style = \"text-align: right;\">9.5</td><td style = \"text-align: right;\">-27.2671</td><td style = \"text-align: right;\">38.6554</td><td style = \"text-align: right;\">0.0</td><td style = \"text-align: right;\">0.0</td><td style = \"text-align: right;\">0.0</td><td style = \"text-align: left;\">Fair</td></tr><tr><td class = \"rowNumber\" style = \"font-weight: bold; text-align: right;\">12</td><td style = \"text-align: right;\">13</td><td style = \"text-align: left;\">0200000000000000</td><td style = \"text-align: left;\">7076FF0056060728</td><td style = \"text-align: left;\">2022-03-17 23:44:09</td><td style = \"text-align: right;\">-101</td><td style = \"text-align: right;\">9.8</td><td style = \"text-align: right;\">-27.2671</td><td style = \"text-align: right;\">38.6555</td><td style = \"text-align: right;\">0.0</td><td style = \"text-align: right;\">0.0</td><td style = \"text-align: right;\">0.0</td><td style = \"text-align: left;\">Fair</td></tr><tr><td class = \"rowNumber\" style = \"font-weight: bold; text-align: right;\">13</td><td style = \"text-align: right;\">14</td><td style = \"text-align: left;\">0200000000000000</td><td style = \"text-align: left;\">7076FF0056060728</td><td style = \"text-align: left;\">2022-03-18 00:46:35</td><td style = \"text-align: right;\">-103</td><td style = \"text-align: right;\">8.0</td><td style = \"text-align: right;\">-27.2674</td><td style = \"text-align: right;\">38.6556</td><td style = \"text-align: right;\">0.0</td><td style = \"text-align: right;\">0.0</td><td style = \"text-align: right;\">0.0</td><td style = \"text-align: left;\">Fair</td></tr><tr><td style = \"text-align: right;\">&vellip;</td><td style = \"text-align: right;\">&vellip;</td><td style = \"text-align: right;\">&vellip;</td><td style = \"text-align: right;\">&vellip;</td><td style = \"text-align: right;\">&vellip;</td><td style = \"text-align: right;\">&vellip;</td><td style = \"text-align: right;\">&vellip;</td><td style = \"text-align: right;\">&vellip;</td><td style = \"text-align: right;\">&vellip;</td><td style = \"text-align: right;\">&vellip;</td><td style = \"text-align: right;\">&vellip;</td><td style = \"text-align: right;\">&vellip;</td><td style = \"text-align: right;\">&vellip;</td></tr><tr><td class = \"rowNumber\" style = \"font-weight: bold; text-align: right;\">16262</td><td style = \"text-align: right;\">75849</td><td style = \"text-align: left;\">0200000000000000</td><td style = \"text-align: left;\">7276FF000B03183D</td><td style = \"text-align: left;\">2022-03-28 10:08:58</td><td style = \"text-align: right;\">-107</td><td style = \"text-align: right;\">9.5</td><td style = \"text-align: right;\">-27.1519</td><td style = \"text-align: right;\">38.6831</td><td style = \"text-align: right;\">0.0</td><td style = \"text-align: right;\">0.0</td><td style = \"text-align: right;\">0.0</td><td style = \"text-align: left;\">Fair</td></tr><tr><td class = \"rowNumber\" style = \"font-weight: bold; text-align: right;\">16263</td><td style = \"text-align: right;\">75850</td><td style = \"text-align: left;\">0200000000000000</td><td style = \"text-align: left;\">7276FF000B03183D</td><td style = \"text-align: left;\">2022-03-28 10:53:13</td><td style = \"text-align: right;\">-103</td><td style = \"text-align: right;\">8.2</td><td style = \"text-align: right;\">-27.1542</td><td style = \"text-align: right;\">38.6884</td><td style = \"text-align: right;\">0.0</td><td style = \"text-align: right;\">0.0</td><td style = \"text-align: right;\">0.0</td><td style = \"text-align: left;\">Fair</td></tr><tr><td class = \"rowNumber\" style = \"font-weight: bold; text-align: right;\">16264</td><td style = \"text-align: right;\">75853</td><td style = \"text-align: left;\">0200000000000000</td><td style = \"text-align: left;\">7276FF000B03183D</td><td style = \"text-align: left;\">2022-03-28 15:23:29</td><td style = \"text-align: right;\">-105</td><td style = \"text-align: right;\">8.5</td><td style = \"text-align: right;\">-27.1562</td><td style = \"text-align: right;\">38.684</td><td style = \"text-align: right;\">0.0</td><td style = \"text-align: right;\">0.0</td><td style = \"text-align: right;\">0.0</td><td style = \"text-align: left;\">Fair</td></tr><tr><td class = \"rowNumber\" style = \"font-weight: bold; text-align: right;\">16265</td><td style = \"text-align: right;\">75941</td><td style = \"text-align: left;\">0200000000000000</td><td style = \"text-align: left;\">7276FF000B03183D</td><td style = \"text-align: left;\">2022-05-07 15:10:42</td><td style = \"text-align: right;\">-100</td><td style = \"text-align: right;\">10.8</td><td style = \"text-align: right;\">-27.1878</td><td style = \"text-align: right;\">38.6893</td><td style = \"text-align: right;\">0.0</td><td style = \"text-align: right;\">0.0</td><td style = \"text-align: right;\">0.0</td><td style = \"text-align: left;\">Fair</td></tr><tr><td class = \"rowNumber\" style = \"font-weight: bold; text-align: right;\">16266</td><td style = \"text-align: right;\">76008</td><td style = \"text-align: left;\">0200000000000000</td><td style = \"text-align: left;\">7276FF000B03183D</td><td style = \"text-align: left;\">2022-06-22 11:09:01</td><td style = \"text-align: right;\">-108</td><td style = \"text-align: right;\">0.8</td><td style = \"text-align: right;\">-27.1768</td><td style = \"text-align: right;\">38.6851</td><td style = \"text-align: right;\">0.0</td><td style = \"text-align: right;\">0.0</td><td style = \"text-align: right;\">0.0</td><td style = \"text-align: left;\">Fair</td></tr><tr><td class = \"rowNumber\" style = \"font-weight: bold; text-align: right;\">16267</td><td style = \"text-align: right;\">76009</td><td style = \"text-align: left;\">0200000000000000</td><td style = \"text-align: left;\">7276FF000B03183D</td><td style = \"text-align: left;\">2022-06-22 11:09:01</td><td style = \"text-align: right;\">-108</td><td style = \"text-align: right;\">0.8</td><td style = \"text-align: right;\">-27.1768</td><td style = \"text-align: right;\">38.6851</td><td style = \"text-align: right;\">0.0</td><td style = \"text-align: right;\">0.0</td><td style = \"text-align: right;\">0.0</td><td style = \"text-align: left;\">Fair</td></tr><tr><td class = \"rowNumber\" style = \"font-weight: bold; text-align: right;\">16268</td><td style = \"text-align: right;\">76109</td><td style = \"text-align: left;\">0200000000000000</td><td style = \"text-align: left;\">7276FF000B03183D</td><td style = \"text-align: left;\">2022-06-29 14:01:31</td><td style = \"text-align: right;\">-108</td><td style = \"text-align: right;\">3.5</td><td style = \"text-align: right;\">-27.1757</td><td style = \"text-align: right;\">38.6889</td><td style = \"text-align: right;\">0.0</td><td style = \"text-align: right;\">0.0</td><td style = \"text-align: right;\">0.0</td><td style = \"text-align: left;\">Fair</td></tr><tr><td class = \"rowNumber\" style = \"font-weight: bold; text-align: right;\">16269</td><td style = \"text-align: right;\">76110</td><td style = \"text-align: left;\">0200000000000000</td><td style = \"text-align: left;\">7276FF000B03183D</td><td style = \"text-align: left;\">2022-06-29 14:01:31</td><td style = \"text-align: right;\">-108</td><td style = \"text-align: right;\">3.5</td><td style = \"text-align: right;\">-27.1757</td><td style = \"text-align: right;\">38.6889</td><td style = \"text-align: right;\">0.0</td><td style = \"text-align: right;\">0.0</td><td style = \"text-align: right;\">0.0</td><td style = \"text-align: left;\">Fair</td></tr><tr><td class = \"rowNumber\" style = \"font-weight: bold; text-align: right;\">16270</td><td style = \"text-align: right;\">76113</td><td style = \"text-align: left;\">0200000000000000</td><td style = \"text-align: left;\">7276FF000B03183D</td><td style = \"text-align: left;\">2022-06-29 14:09:16</td><td style = \"text-align: right;\">-103</td><td style = \"text-align: right;\">9.2</td><td style = \"text-align: right;\">-27.1757</td><td style = \"text-align: right;\">38.6926</td><td style = \"text-align: right;\">0.0</td><td style = \"text-align: right;\">0.0</td><td style = \"text-align: right;\">0.0</td><td style = \"text-align: left;\">Fair</td></tr><tr><td class = \"rowNumber\" style = \"font-weight: bold; text-align: right;\">16271</td><td style = \"text-align: right;\">76114</td><td style = \"text-align: left;\">0200000000000000</td><td style = \"text-align: left;\">7276FF000B03183D</td><td style = \"text-align: left;\">2022-06-29 14:09:16</td><td style = \"text-align: right;\">-103</td><td style = \"text-align: right;\">9.2</td><td style = \"text-align: right;\">-27.1757</td><td style = \"text-align: right;\">38.6926</td><td style = \"text-align: right;\">0.0</td><td style = \"text-align: right;\">0.0</td><td style = \"text-align: right;\">0.0</td><td style = \"text-align: left;\">Fair</td></tr><tr><td class = \"rowNumber\" style = \"font-weight: bold; text-align: right;\">16272</td><td style = \"text-align: right;\">76185</td><td style = \"text-align: left;\">0200000000000000</td><td style = \"text-align: left;\">7276FF000B03183D</td><td style = \"text-align: left;\">2022-07-05 11:24:42</td><td style = \"text-align: right;\">-109</td><td style = \"text-align: right;\">8.2</td><td style = \"text-align: right;\">-27.1556</td><td style = \"text-align: right;\">38.6832</td><td style = \"text-align: right;\">0.0</td><td style = \"text-align: right;\">0.0</td><td style = \"text-align: right;\">0.0</td><td style = \"text-align: left;\">Fair</td></tr><tr><td class = \"rowNumber\" style = \"font-weight: bold; text-align: right;\">16273</td><td style = \"text-align: right;\">76186</td><td style = \"text-align: left;\">0200000000000000</td><td style = \"text-align: left;\">7276FF000B03183D</td><td style = \"text-align: left;\">2022-07-05 11:24:42</td><td style = \"text-align: right;\">-109</td><td style = \"text-align: right;\">8.2</td><td style = \"text-align: right;\">-27.1556</td><td style = \"text-align: right;\">38.6832</td><td style = \"text-align: right;\">0.0</td><td style = \"text-align: right;\">0.0</td><td style = \"text-align: right;\">0.0</td><td style = \"text-align: left;\">Fair</td></tr></tbody></table></div>"
      ],
      "text/latex": [
       "\\begin{tabular}{r|cccccc}\n",
       "\t& Column1 & dev\\_eui & gw\\_eui & timestamp\\_utc\\_iso\\_string & rssi\\_dbm & \\\\\n",
       "\t\\hline\n",
       "\t& Int64 & String31 & String31 & String31 & Int64 & \\\\\n",
       "\t\\hline\n",
       "\t1 & 2 & 0200000000000000 & 7076FF0056060728 & 2022-03-16 05:41:10 & -100 & $\\dots$ \\\\\n",
       "\t2 & 3 & 0200000000000000 & 7076FF0056060728 & 2022-03-16 05:43:30 & -105 & $\\dots$ \\\\\n",
       "\t3 & 4 & 0200000000000000 & 7076FF0056060728 & 2022-03-16 12:18:26 & -105 & $\\dots$ \\\\\n",
       "\t4 & 5 & 0200000000000000 & 7076FF0056060728 & 2022-03-16 15:38:22 & -102 & $\\dots$ \\\\\n",
       "\t5 & 6 & 0200000000000000 & 7076FF0056060728 & 2022-03-16 23:57:15 & -108 & $\\dots$ \\\\\n",
       "\t6 & 7 & 0200000000000000 & 7076FF0056060728 & 2022-03-16 23:59:34 & -105 & $\\dots$ \\\\\n",
       "\t7 & 8 & 0200000000000000 & 7076FF0056060728 & 2022-03-17 00:01:53 & -107 & $\\dots$ \\\\\n",
       "\t8 & 9 & 0200000000000000 & 7076FF0056060728 & 2022-03-17 00:04:12 & -105 & $\\dots$ \\\\\n",
       "\t9 & 10 & 0200000000000000 & 7076FF0056060728 & 2022-03-17 19:05:30 & -102 & $\\dots$ \\\\\n",
       "\t10 & 11 & 0200000000000000 & 7076FF0056060728 & 2022-03-17 23:00:17 & -101 & $\\dots$ \\\\\n",
       "\t11 & 12 & 0200000000000000 & 7076FF0056060728 & 2022-03-17 23:37:14 & -105 & $\\dots$ \\\\\n",
       "\t12 & 13 & 0200000000000000 & 7076FF0056060728 & 2022-03-17 23:44:09 & -101 & $\\dots$ \\\\\n",
       "\t13 & 14 & 0200000000000000 & 7076FF0056060728 & 2022-03-18 00:46:35 & -103 & $\\dots$ \\\\\n",
       "\t14 & 15 & 0200000000000000 & 7076FF0056060728 & 2022-03-18 00:55:48 & -103 & $\\dots$ \\\\\n",
       "\t15 & 16 & 0200000000000000 & 7076FF0056060728 & 2022-03-18 01:05:01 & -106 & $\\dots$ \\\\\n",
       "\t16 & 17 & 0200000000000000 & 7076FF0056060728 & 2022-03-18 01:09:38 & -102 & $\\dots$ \\\\\n",
       "\t17 & 18 & 0200000000000000 & 7076FF0056060728 & 2022-03-18 01:12:00 & -100 & $\\dots$ \\\\\n",
       "\t18 & 19 & 0200000000000000 & 7076FF0056060728 & 2022-03-18 01:23:30 & -108 & $\\dots$ \\\\\n",
       "\t19 & 20 & 0200000000000000 & 7076FF0056060728 & 2022-03-18 01:25:49 & -104 & $\\dots$ \\\\\n",
       "\t20 & 21 & 0200000000000000 & 7076FF0056060728 & 2022-03-18 01:32:43 & -101 & $\\dots$ \\\\\n",
       "\t21 & 22 & 0200000000000000 & 7076FF0056060728 & 2022-03-18 01:35:01 & -102 & $\\dots$ \\\\\n",
       "\t22 & 23 & 0200000000000000 & 7076FF0056060728 & 2022-03-18 01:46:30 & -102 & $\\dots$ \\\\\n",
       "\t23 & 24 & 0200000000000000 & 7076FF0056060728 & 2022-03-18 01:51:08 & -103 & $\\dots$ \\\\\n",
       "\t24 & 25 & 0200000000000000 & 7076FF0056060728 & 2022-03-18 01:55:44 & -105 & $\\dots$ \\\\\n",
       "\t$\\dots$ & $\\dots$ & $\\dots$ & $\\dots$ & $\\dots$ & $\\dots$ &  \\\\\n",
       "\\end{tabular}\n"
      ],
      "text/plain": [
       "\u001b[1m16273×12 DataFrame\u001b[0m\n",
       "\u001b[1m   Row \u001b[0m│\u001b[1m Column1 \u001b[0m\u001b[1m dev_eui          \u001b[0m\u001b[1m gw_eui           \u001b[0m\u001b[1m timestamp_utc_iso_string\u001b[0m ⋯\n",
       "       │\u001b[90m Int64   \u001b[0m\u001b[90m String31         \u001b[0m\u001b[90m String31         \u001b[0m\u001b[90m String31                \u001b[0m ⋯\n",
       "───────┼────────────────────────────────────────────────────────────────────────\n",
       "     1 │       2  0200000000000000  7076FF0056060728  2022-03-16 05:41:10      ⋯\n",
       "     2 │       3  0200000000000000  7076FF0056060728  2022-03-16 05:43:30\n",
       "     3 │       4  0200000000000000  7076FF0056060728  2022-03-16 12:18:26\n",
       "     4 │       5  0200000000000000  7076FF0056060728  2022-03-16 15:38:22\n",
       "     5 │       6  0200000000000000  7076FF0056060728  2022-03-16 23:57:15      ⋯\n",
       "     6 │       7  0200000000000000  7076FF0056060728  2022-03-16 23:59:34\n",
       "     7 │       8  0200000000000000  7076FF0056060728  2022-03-17 00:01:53\n",
       "     8 │       9  0200000000000000  7076FF0056060728  2022-03-17 00:04:12\n",
       "   ⋮   │    ⋮            ⋮                 ⋮                     ⋮             ⋱\n",
       " 16267 │   76009  0200000000000000  7276FF000B03183D  2022-06-22 11:09:01      ⋯\n",
       " 16268 │   76109  0200000000000000  7276FF000B03183D  2022-06-29 14:01:31\n",
       " 16269 │   76110  0200000000000000  7276FF000B03183D  2022-06-29 14:01:31\n",
       " 16270 │   76113  0200000000000000  7276FF000B03183D  2022-06-29 14:09:16\n",
       " 16271 │   76114  0200000000000000  7276FF000B03183D  2022-06-29 14:09:16      ⋯\n",
       " 16272 │   76185  0200000000000000  7276FF000B03183D  2022-07-05 11:24:42\n",
       " 16273 │   76186  0200000000000000  7276FF000B03183D  2022-07-05 11:24:42\n",
       "\u001b[36m                                                8 columns and 16258 rows omitted\u001b[0m"
      ]
     },
     "metadata": {},
     "output_type": "display_data"
    }
   ],
   "source": [
    "subset(df, :signal_quality => ByRow(==(\"Fair\")))"
   ]
  },
  {
   "cell_type": "code",
   "execution_count": 139,
   "metadata": {},
   "outputs": [
    {
     "data": {
      "text/html": [
       "<div><div style = \"float: left;\"><span>16273×12 DataFrame</span></div><div style = \"float: right;\"><span style = \"font-style: italic;\">16248 rows omitted</span></div><div style = \"clear: both;\"></div></div><div class = \"data-frame\" style = \"overflow-x: scroll;\"><table class = \"data-frame\" style = \"margin-bottom: 6px;\"><thead><tr class = \"header\"><th class = \"rowNumber\" style = \"font-weight: bold; text-align: right;\">Row</th><th style = \"text-align: left;\">Column1</th><th style = \"text-align: left;\">dev_eui</th><th style = \"text-align: left;\">gw_eui</th><th style = \"text-align: left;\">timestamp_utc_iso_string</th><th style = \"text-align: left;\">rssi_dbm</th><th style = \"text-align: left;\">snr_db</th><th style = \"text-align: left;\">dev_lon_deg_wgs84</th><th style = \"text-align: left;\">dev_lat_deg_wgs84</th><th style = \"text-align: left;\">battery_v</th><th style = \"text-align: left;\">gw_lon_deg_wgs84</th><th style = \"text-align: left;\">gw_lat_deg_wgs84</th><th style = \"text-align: left;\">signal_quality</th></tr><tr class = \"subheader headerLastRow\"><th class = \"rowNumber\" style = \"font-weight: bold; text-align: right;\"></th><th title = \"Int64\" style = \"text-align: left;\">Int64</th><th title = \"String31\" style = \"text-align: left;\">String31</th><th title = \"String31\" style = \"text-align: left;\">String31</th><th title = \"String31\" style = \"text-align: left;\">String31</th><th title = \"Int64\" style = \"text-align: left;\">Int64</th><th title = \"Float64\" style = \"text-align: left;\">Float64</th><th title = \"Float64\" style = \"text-align: left;\">Float64</th><th title = \"Float64\" style = \"text-align: left;\">Float64</th><th title = \"Float64\" style = \"text-align: left;\">Float64</th><th title = \"Float64\" style = \"text-align: left;\">Float64</th><th title = \"Float64\" style = \"text-align: left;\">Float64</th><th title = \"String31\" style = \"text-align: left;\">String31</th></tr></thead><tbody><tr><td class = \"rowNumber\" style = \"font-weight: bold; text-align: right;\">1</td><td style = \"text-align: right;\">2</td><td style = \"text-align: left;\">0200000000000000</td><td style = \"text-align: left;\">7076FF0056060728</td><td style = \"text-align: left;\">2022-03-16 05:41:10</td><td style = \"text-align: right;\">-100</td><td style = \"text-align: right;\">10.2</td><td style = \"text-align: right;\">-27.2671</td><td style = \"text-align: right;\">38.6556</td><td style = \"text-align: right;\">0.0</td><td style = \"text-align: right;\">0.0</td><td style = \"text-align: right;\">0.0</td><td style = \"text-align: left;\">Fair</td></tr><tr><td class = \"rowNumber\" style = \"font-weight: bold; text-align: right;\">2</td><td style = \"text-align: right;\">3</td><td style = \"text-align: left;\">0200000000000000</td><td style = \"text-align: left;\">7076FF0056060728</td><td style = \"text-align: left;\">2022-03-16 05:43:30</td><td style = \"text-align: right;\">-105</td><td style = \"text-align: right;\">9.2</td><td style = \"text-align: right;\">-27.2672</td><td style = \"text-align: right;\">38.6554</td><td style = \"text-align: right;\">0.0</td><td style = \"text-align: right;\">0.0</td><td style = \"text-align: right;\">0.0</td><td style = \"text-align: left;\">Fair</td></tr><tr><td class = \"rowNumber\" style = \"font-weight: bold; text-align: right;\">3</td><td style = \"text-align: right;\">4</td><td style = \"text-align: left;\">0200000000000000</td><td style = \"text-align: left;\">7076FF0056060728</td><td style = \"text-align: left;\">2022-03-16 12:18:26</td><td style = \"text-align: right;\">-105</td><td style = \"text-align: right;\">8.2</td><td style = \"text-align: right;\">-27.2666</td><td style = \"text-align: right;\">38.6562</td><td style = \"text-align: right;\">0.0</td><td style = \"text-align: right;\">0.0</td><td style = \"text-align: right;\">0.0</td><td style = \"text-align: left;\">Fair</td></tr><tr><td class = \"rowNumber\" style = \"font-weight: bold; text-align: right;\">4</td><td style = \"text-align: right;\">5</td><td style = \"text-align: left;\">0200000000000000</td><td style = \"text-align: left;\">7076FF0056060728</td><td style = \"text-align: left;\">2022-03-16 15:38:22</td><td style = \"text-align: right;\">-102</td><td style = \"text-align: right;\">9.8</td><td style = \"text-align: right;\">-27.2673</td><td style = \"text-align: right;\">38.6556</td><td style = \"text-align: right;\">0.0</td><td style = \"text-align: right;\">0.0</td><td style = \"text-align: right;\">0.0</td><td style = \"text-align: left;\">Fair</td></tr><tr><td class = \"rowNumber\" style = \"font-weight: bold; text-align: right;\">5</td><td style = \"text-align: right;\">6</td><td style = \"text-align: left;\">0200000000000000</td><td style = \"text-align: left;\">7076FF0056060728</td><td style = \"text-align: left;\">2022-03-16 23:57:15</td><td style = \"text-align: right;\">-108</td><td style = \"text-align: right;\">8.2</td><td style = \"text-align: right;\">-27.2668</td><td style = \"text-align: right;\">38.6561</td><td style = \"text-align: right;\">0.0</td><td style = \"text-align: right;\">0.0</td><td style = \"text-align: right;\">0.0</td><td style = \"text-align: left;\">Fair</td></tr><tr><td class = \"rowNumber\" style = \"font-weight: bold; text-align: right;\">6</td><td style = \"text-align: right;\">7</td><td style = \"text-align: left;\">0200000000000000</td><td style = \"text-align: left;\">7076FF0056060728</td><td style = \"text-align: left;\">2022-03-16 23:59:34</td><td style = \"text-align: right;\">-105</td><td style = \"text-align: right;\">8.0</td><td style = \"text-align: right;\">-27.267</td><td style = \"text-align: right;\">38.6561</td><td style = \"text-align: right;\">0.0</td><td style = \"text-align: right;\">0.0</td><td style = \"text-align: right;\">0.0</td><td style = \"text-align: left;\">Fair</td></tr><tr><td class = \"rowNumber\" style = \"font-weight: bold; text-align: right;\">7</td><td style = \"text-align: right;\">8</td><td style = \"text-align: left;\">0200000000000000</td><td style = \"text-align: left;\">7076FF0056060728</td><td style = \"text-align: left;\">2022-03-17 00:01:53</td><td style = \"text-align: right;\">-107</td><td style = \"text-align: right;\">8.0</td><td style = \"text-align: right;\">-27.267</td><td style = \"text-align: right;\">38.656</td><td style = \"text-align: right;\">0.0</td><td style = \"text-align: right;\">0.0</td><td style = \"text-align: right;\">0.0</td><td style = \"text-align: left;\">Fair</td></tr><tr><td class = \"rowNumber\" style = \"font-weight: bold; text-align: right;\">8</td><td style = \"text-align: right;\">9</td><td style = \"text-align: left;\">0200000000000000</td><td style = \"text-align: left;\">7076FF0056060728</td><td style = \"text-align: left;\">2022-03-17 00:04:12</td><td style = \"text-align: right;\">-105</td><td style = \"text-align: right;\">9.2</td><td style = \"text-align: right;\">-27.2671</td><td style = \"text-align: right;\">38.6558</td><td style = \"text-align: right;\">0.0</td><td style = \"text-align: right;\">0.0</td><td style = \"text-align: right;\">0.0</td><td style = \"text-align: left;\">Fair</td></tr><tr><td class = \"rowNumber\" style = \"font-weight: bold; text-align: right;\">9</td><td style = \"text-align: right;\">10</td><td style = \"text-align: left;\">0200000000000000</td><td style = \"text-align: left;\">7076FF0056060728</td><td style = \"text-align: left;\">2022-03-17 19:05:30</td><td style = \"text-align: right;\">-102</td><td style = \"text-align: right;\">9.0</td><td style = \"text-align: right;\">-27.2671</td><td style = \"text-align: right;\">38.6557</td><td style = \"text-align: right;\">0.0</td><td style = \"text-align: right;\">0.0</td><td style = \"text-align: right;\">0.0</td><td style = \"text-align: left;\">Fair</td></tr><tr><td class = \"rowNumber\" style = \"font-weight: bold; text-align: right;\">10</td><td style = \"text-align: right;\">11</td><td style = \"text-align: left;\">0200000000000000</td><td style = \"text-align: left;\">7076FF0056060728</td><td style = \"text-align: left;\">2022-03-17 23:00:17</td><td style = \"text-align: right;\">-101</td><td style = \"text-align: right;\">8.8</td><td style = \"text-align: right;\">-27.2671</td><td style = \"text-align: right;\">38.6552</td><td style = \"text-align: right;\">0.0</td><td style = \"text-align: right;\">0.0</td><td style = \"text-align: right;\">0.0</td><td style = \"text-align: left;\">Fair</td></tr><tr><td class = \"rowNumber\" style = \"font-weight: bold; text-align: right;\">11</td><td style = \"text-align: right;\">12</td><td style = \"text-align: left;\">0200000000000000</td><td style = \"text-align: left;\">7076FF0056060728</td><td style = \"text-align: left;\">2022-03-17 23:37:14</td><td style = \"text-align: right;\">-105</td><td style = \"text-align: right;\">9.5</td><td style = \"text-align: right;\">-27.2671</td><td style = \"text-align: right;\">38.6554</td><td style = \"text-align: right;\">0.0</td><td style = \"text-align: right;\">0.0</td><td style = \"text-align: right;\">0.0</td><td style = \"text-align: left;\">Fair</td></tr><tr><td class = \"rowNumber\" style = \"font-weight: bold; text-align: right;\">12</td><td style = \"text-align: right;\">13</td><td style = \"text-align: left;\">0200000000000000</td><td style = \"text-align: left;\">7076FF0056060728</td><td style = \"text-align: left;\">2022-03-17 23:44:09</td><td style = \"text-align: right;\">-101</td><td style = \"text-align: right;\">9.8</td><td style = \"text-align: right;\">-27.2671</td><td style = \"text-align: right;\">38.6555</td><td style = \"text-align: right;\">0.0</td><td style = \"text-align: right;\">0.0</td><td style = \"text-align: right;\">0.0</td><td style = \"text-align: left;\">Fair</td></tr><tr><td class = \"rowNumber\" style = \"font-weight: bold; text-align: right;\">13</td><td style = \"text-align: right;\">14</td><td style = \"text-align: left;\">0200000000000000</td><td style = \"text-align: left;\">7076FF0056060728</td><td style = \"text-align: left;\">2022-03-18 00:46:35</td><td style = \"text-align: right;\">-103</td><td style = \"text-align: right;\">8.0</td><td style = \"text-align: right;\">-27.2674</td><td style = \"text-align: right;\">38.6556</td><td style = \"text-align: right;\">0.0</td><td style = \"text-align: right;\">0.0</td><td style = \"text-align: right;\">0.0</td><td style = \"text-align: left;\">Fair</td></tr><tr><td style = \"text-align: right;\">&vellip;</td><td style = \"text-align: right;\">&vellip;</td><td style = \"text-align: right;\">&vellip;</td><td style = \"text-align: right;\">&vellip;</td><td style = \"text-align: right;\">&vellip;</td><td style = \"text-align: right;\">&vellip;</td><td style = \"text-align: right;\">&vellip;</td><td style = \"text-align: right;\">&vellip;</td><td style = \"text-align: right;\">&vellip;</td><td style = \"text-align: right;\">&vellip;</td><td style = \"text-align: right;\">&vellip;</td><td style = \"text-align: right;\">&vellip;</td><td style = \"text-align: right;\">&vellip;</td></tr><tr><td class = \"rowNumber\" style = \"font-weight: bold; text-align: right;\">16262</td><td style = \"text-align: right;\">75849</td><td style = \"text-align: left;\">0200000000000000</td><td style = \"text-align: left;\">7276FF000B03183D</td><td style = \"text-align: left;\">2022-03-28 10:08:58</td><td style = \"text-align: right;\">-107</td><td style = \"text-align: right;\">9.5</td><td style = \"text-align: right;\">-27.1519</td><td style = \"text-align: right;\">38.6831</td><td style = \"text-align: right;\">0.0</td><td style = \"text-align: right;\">0.0</td><td style = \"text-align: right;\">0.0</td><td style = \"text-align: left;\">Fair</td></tr><tr><td class = \"rowNumber\" style = \"font-weight: bold; text-align: right;\">16263</td><td style = \"text-align: right;\">75850</td><td style = \"text-align: left;\">0200000000000000</td><td style = \"text-align: left;\">7276FF000B03183D</td><td style = \"text-align: left;\">2022-03-28 10:53:13</td><td style = \"text-align: right;\">-103</td><td style = \"text-align: right;\">8.2</td><td style = \"text-align: right;\">-27.1542</td><td style = \"text-align: right;\">38.6884</td><td style = \"text-align: right;\">0.0</td><td style = \"text-align: right;\">0.0</td><td style = \"text-align: right;\">0.0</td><td style = \"text-align: left;\">Fair</td></tr><tr><td class = \"rowNumber\" style = \"font-weight: bold; text-align: right;\">16264</td><td style = \"text-align: right;\">75853</td><td style = \"text-align: left;\">0200000000000000</td><td style = \"text-align: left;\">7276FF000B03183D</td><td style = \"text-align: left;\">2022-03-28 15:23:29</td><td style = \"text-align: right;\">-105</td><td style = \"text-align: right;\">8.5</td><td style = \"text-align: right;\">-27.1562</td><td style = \"text-align: right;\">38.684</td><td style = \"text-align: right;\">0.0</td><td style = \"text-align: right;\">0.0</td><td style = \"text-align: right;\">0.0</td><td style = \"text-align: left;\">Fair</td></tr><tr><td class = \"rowNumber\" style = \"font-weight: bold; text-align: right;\">16265</td><td style = \"text-align: right;\">75941</td><td style = \"text-align: left;\">0200000000000000</td><td style = \"text-align: left;\">7276FF000B03183D</td><td style = \"text-align: left;\">2022-05-07 15:10:42</td><td style = \"text-align: right;\">-100</td><td style = \"text-align: right;\">10.8</td><td style = \"text-align: right;\">-27.1878</td><td style = \"text-align: right;\">38.6893</td><td style = \"text-align: right;\">0.0</td><td style = \"text-align: right;\">0.0</td><td style = \"text-align: right;\">0.0</td><td style = \"text-align: left;\">Fair</td></tr><tr><td class = \"rowNumber\" style = \"font-weight: bold; text-align: right;\">16266</td><td style = \"text-align: right;\">76008</td><td style = \"text-align: left;\">0200000000000000</td><td style = \"text-align: left;\">7276FF000B03183D</td><td style = \"text-align: left;\">2022-06-22 11:09:01</td><td style = \"text-align: right;\">-108</td><td style = \"text-align: right;\">0.8</td><td style = \"text-align: right;\">-27.1768</td><td style = \"text-align: right;\">38.6851</td><td style = \"text-align: right;\">0.0</td><td style = \"text-align: right;\">0.0</td><td style = \"text-align: right;\">0.0</td><td style = \"text-align: left;\">Fair</td></tr><tr><td class = \"rowNumber\" style = \"font-weight: bold; text-align: right;\">16267</td><td style = \"text-align: right;\">76009</td><td style = \"text-align: left;\">0200000000000000</td><td style = \"text-align: left;\">7276FF000B03183D</td><td style = \"text-align: left;\">2022-06-22 11:09:01</td><td style = \"text-align: right;\">-108</td><td style = \"text-align: right;\">0.8</td><td style = \"text-align: right;\">-27.1768</td><td style = \"text-align: right;\">38.6851</td><td style = \"text-align: right;\">0.0</td><td style = \"text-align: right;\">0.0</td><td style = \"text-align: right;\">0.0</td><td style = \"text-align: left;\">Fair</td></tr><tr><td class = \"rowNumber\" style = \"font-weight: bold; text-align: right;\">16268</td><td style = \"text-align: right;\">76109</td><td style = \"text-align: left;\">0200000000000000</td><td style = \"text-align: left;\">7276FF000B03183D</td><td style = \"text-align: left;\">2022-06-29 14:01:31</td><td style = \"text-align: right;\">-108</td><td style = \"text-align: right;\">3.5</td><td style = \"text-align: right;\">-27.1757</td><td style = \"text-align: right;\">38.6889</td><td style = \"text-align: right;\">0.0</td><td style = \"text-align: right;\">0.0</td><td style = \"text-align: right;\">0.0</td><td style = \"text-align: left;\">Fair</td></tr><tr><td class = \"rowNumber\" style = \"font-weight: bold; text-align: right;\">16269</td><td style = \"text-align: right;\">76110</td><td style = \"text-align: left;\">0200000000000000</td><td style = \"text-align: left;\">7276FF000B03183D</td><td style = \"text-align: left;\">2022-06-29 14:01:31</td><td style = \"text-align: right;\">-108</td><td style = \"text-align: right;\">3.5</td><td style = \"text-align: right;\">-27.1757</td><td style = \"text-align: right;\">38.6889</td><td style = \"text-align: right;\">0.0</td><td style = \"text-align: right;\">0.0</td><td style = \"text-align: right;\">0.0</td><td style = \"text-align: left;\">Fair</td></tr><tr><td class = \"rowNumber\" style = \"font-weight: bold; text-align: right;\">16270</td><td style = \"text-align: right;\">76113</td><td style = \"text-align: left;\">0200000000000000</td><td style = \"text-align: left;\">7276FF000B03183D</td><td style = \"text-align: left;\">2022-06-29 14:09:16</td><td style = \"text-align: right;\">-103</td><td style = \"text-align: right;\">9.2</td><td style = \"text-align: right;\">-27.1757</td><td style = \"text-align: right;\">38.6926</td><td style = \"text-align: right;\">0.0</td><td style = \"text-align: right;\">0.0</td><td style = \"text-align: right;\">0.0</td><td style = \"text-align: left;\">Fair</td></tr><tr><td class = \"rowNumber\" style = \"font-weight: bold; text-align: right;\">16271</td><td style = \"text-align: right;\">76114</td><td style = \"text-align: left;\">0200000000000000</td><td style = \"text-align: left;\">7276FF000B03183D</td><td style = \"text-align: left;\">2022-06-29 14:09:16</td><td style = \"text-align: right;\">-103</td><td style = \"text-align: right;\">9.2</td><td style = \"text-align: right;\">-27.1757</td><td style = \"text-align: right;\">38.6926</td><td style = \"text-align: right;\">0.0</td><td style = \"text-align: right;\">0.0</td><td style = \"text-align: right;\">0.0</td><td style = \"text-align: left;\">Fair</td></tr><tr><td class = \"rowNumber\" style = \"font-weight: bold; text-align: right;\">16272</td><td style = \"text-align: right;\">76185</td><td style = \"text-align: left;\">0200000000000000</td><td style = \"text-align: left;\">7276FF000B03183D</td><td style = \"text-align: left;\">2022-07-05 11:24:42</td><td style = \"text-align: right;\">-109</td><td style = \"text-align: right;\">8.2</td><td style = \"text-align: right;\">-27.1556</td><td style = \"text-align: right;\">38.6832</td><td style = \"text-align: right;\">0.0</td><td style = \"text-align: right;\">0.0</td><td style = \"text-align: right;\">0.0</td><td style = \"text-align: left;\">Fair</td></tr><tr><td class = \"rowNumber\" style = \"font-weight: bold; text-align: right;\">16273</td><td style = \"text-align: right;\">76186</td><td style = \"text-align: left;\">0200000000000000</td><td style = \"text-align: left;\">7276FF000B03183D</td><td style = \"text-align: left;\">2022-07-05 11:24:42</td><td style = \"text-align: right;\">-109</td><td style = \"text-align: right;\">8.2</td><td style = \"text-align: right;\">-27.1556</td><td style = \"text-align: right;\">38.6832</td><td style = \"text-align: right;\">0.0</td><td style = \"text-align: right;\">0.0</td><td style = \"text-align: right;\">0.0</td><td style = \"text-align: left;\">Fair</td></tr></tbody></table></div>"
      ],
      "text/latex": [
       "\\begin{tabular}{r|cccccc}\n",
       "\t& Column1 & dev\\_eui & gw\\_eui & timestamp\\_utc\\_iso\\_string & rssi\\_dbm & \\\\\n",
       "\t\\hline\n",
       "\t& Int64 & String31 & String31 & String31 & Int64 & \\\\\n",
       "\t\\hline\n",
       "\t1 & 2 & 0200000000000000 & 7076FF0056060728 & 2022-03-16 05:41:10 & -100 & $\\dots$ \\\\\n",
       "\t2 & 3 & 0200000000000000 & 7076FF0056060728 & 2022-03-16 05:43:30 & -105 & $\\dots$ \\\\\n",
       "\t3 & 4 & 0200000000000000 & 7076FF0056060728 & 2022-03-16 12:18:26 & -105 & $\\dots$ \\\\\n",
       "\t4 & 5 & 0200000000000000 & 7076FF0056060728 & 2022-03-16 15:38:22 & -102 & $\\dots$ \\\\\n",
       "\t5 & 6 & 0200000000000000 & 7076FF0056060728 & 2022-03-16 23:57:15 & -108 & $\\dots$ \\\\\n",
       "\t6 & 7 & 0200000000000000 & 7076FF0056060728 & 2022-03-16 23:59:34 & -105 & $\\dots$ \\\\\n",
       "\t7 & 8 & 0200000000000000 & 7076FF0056060728 & 2022-03-17 00:01:53 & -107 & $\\dots$ \\\\\n",
       "\t8 & 9 & 0200000000000000 & 7076FF0056060728 & 2022-03-17 00:04:12 & -105 & $\\dots$ \\\\\n",
       "\t9 & 10 & 0200000000000000 & 7076FF0056060728 & 2022-03-17 19:05:30 & -102 & $\\dots$ \\\\\n",
       "\t10 & 11 & 0200000000000000 & 7076FF0056060728 & 2022-03-17 23:00:17 & -101 & $\\dots$ \\\\\n",
       "\t11 & 12 & 0200000000000000 & 7076FF0056060728 & 2022-03-17 23:37:14 & -105 & $\\dots$ \\\\\n",
       "\t12 & 13 & 0200000000000000 & 7076FF0056060728 & 2022-03-17 23:44:09 & -101 & $\\dots$ \\\\\n",
       "\t13 & 14 & 0200000000000000 & 7076FF0056060728 & 2022-03-18 00:46:35 & -103 & $\\dots$ \\\\\n",
       "\t14 & 15 & 0200000000000000 & 7076FF0056060728 & 2022-03-18 00:55:48 & -103 & $\\dots$ \\\\\n",
       "\t15 & 16 & 0200000000000000 & 7076FF0056060728 & 2022-03-18 01:05:01 & -106 & $\\dots$ \\\\\n",
       "\t16 & 17 & 0200000000000000 & 7076FF0056060728 & 2022-03-18 01:09:38 & -102 & $\\dots$ \\\\\n",
       "\t17 & 18 & 0200000000000000 & 7076FF0056060728 & 2022-03-18 01:12:00 & -100 & $\\dots$ \\\\\n",
       "\t18 & 19 & 0200000000000000 & 7076FF0056060728 & 2022-03-18 01:23:30 & -108 & $\\dots$ \\\\\n",
       "\t19 & 20 & 0200000000000000 & 7076FF0056060728 & 2022-03-18 01:25:49 & -104 & $\\dots$ \\\\\n",
       "\t20 & 21 & 0200000000000000 & 7076FF0056060728 & 2022-03-18 01:32:43 & -101 & $\\dots$ \\\\\n",
       "\t21 & 22 & 0200000000000000 & 7076FF0056060728 & 2022-03-18 01:35:01 & -102 & $\\dots$ \\\\\n",
       "\t22 & 23 & 0200000000000000 & 7076FF0056060728 & 2022-03-18 01:46:30 & -102 & $\\dots$ \\\\\n",
       "\t23 & 24 & 0200000000000000 & 7076FF0056060728 & 2022-03-18 01:51:08 & -103 & $\\dots$ \\\\\n",
       "\t24 & 25 & 0200000000000000 & 7076FF0056060728 & 2022-03-18 01:55:44 & -105 & $\\dots$ \\\\\n",
       "\t$\\dots$ & $\\dots$ & $\\dots$ & $\\dots$ & $\\dots$ & $\\dots$ &  \\\\\n",
       "\\end{tabular}\n"
      ],
      "text/plain": [
       "\u001b[1m16273×12 DataFrame\u001b[0m\n",
       "\u001b[1m   Row \u001b[0m│\u001b[1m Column1 \u001b[0m\u001b[1m dev_eui          \u001b[0m\u001b[1m gw_eui           \u001b[0m\u001b[1m timestamp_utc_iso_string\u001b[0m ⋯\n",
       "       │\u001b[90m Int64   \u001b[0m\u001b[90m String31         \u001b[0m\u001b[90m String31         \u001b[0m\u001b[90m String31                \u001b[0m ⋯\n",
       "───────┼────────────────────────────────────────────────────────────────────────\n",
       "     1 │       2  0200000000000000  7076FF0056060728  2022-03-16 05:41:10      ⋯\n",
       "     2 │       3  0200000000000000  7076FF0056060728  2022-03-16 05:43:30\n",
       "     3 │       4  0200000000000000  7076FF0056060728  2022-03-16 12:18:26\n",
       "     4 │       5  0200000000000000  7076FF0056060728  2022-03-16 15:38:22\n",
       "     5 │       6  0200000000000000  7076FF0056060728  2022-03-16 23:57:15      ⋯\n",
       "     6 │       7  0200000000000000  7076FF0056060728  2022-03-16 23:59:34\n",
       "     7 │       8  0200000000000000  7076FF0056060728  2022-03-17 00:01:53\n",
       "     8 │       9  0200000000000000  7076FF0056060728  2022-03-17 00:04:12\n",
       "   ⋮   │    ⋮            ⋮                 ⋮                     ⋮             ⋱\n",
       " 16267 │   76009  0200000000000000  7276FF000B03183D  2022-06-22 11:09:01      ⋯\n",
       " 16268 │   76109  0200000000000000  7276FF000B03183D  2022-06-29 14:01:31\n",
       " 16269 │   76110  0200000000000000  7276FF000B03183D  2022-06-29 14:01:31\n",
       " 16270 │   76113  0200000000000000  7276FF000B03183D  2022-06-29 14:09:16\n",
       " 16271 │   76114  0200000000000000  7276FF000B03183D  2022-06-29 14:09:16      ⋯\n",
       " 16272 │   76185  0200000000000000  7276FF000B03183D  2022-07-05 11:24:42\n",
       " 16273 │   76186  0200000000000000  7276FF000B03183D  2022-07-05 11:24:42\n",
       "\u001b[36m                                                8 columns and 16258 rows omitted\u001b[0m"
      ]
     },
     "metadata": {},
     "output_type": "display_data"
    }
   ],
   "source": [
    "subset(df, :signal_quality => ByRow(name -> name == \"Fair\"))"
   ]
  },
  {
   "cell_type": "markdown",
   "metadata": {},
   "source": [
    "**Select**"
   ]
  },
  {
   "cell_type": "code",
   "execution_count": 140,
   "metadata": {},
   "outputs": [
    {
     "data": {
      "text/html": [
       "<div><div style = \"float: left;\"><span>76321×2 DataFrame</span></div><div style = \"float: right;\"><span style = \"font-style: italic;\">76296 rows omitted</span></div><div style = \"clear: both;\"></div></div><div class = \"data-frame\" style = \"overflow-x: scroll;\"><table class = \"data-frame\" style = \"margin-bottom: 6px;\"><thead><tr class = \"header\"><th class = \"rowNumber\" style = \"font-weight: bold; text-align: right;\">Row</th><th style = \"text-align: left;\">gw_eui</th><th style = \"text-align: left;\">timestamp_utc_iso_string</th></tr><tr class = \"subheader headerLastRow\"><th class = \"rowNumber\" style = \"font-weight: bold; text-align: right;\"></th><th title = \"String31\" style = \"text-align: left;\">String31</th><th title = \"String31\" style = \"text-align: left;\">String31</th></tr></thead><tbody><tr><td class = \"rowNumber\" style = \"font-weight: bold; text-align: right;\">1</td><td style = \"text-align: left;\">7076FF0056060728</td><td style = \"text-align: left;\">2022-03-16 03:10:48</td></tr><tr><td class = \"rowNumber\" style = \"font-weight: bold; text-align: right;\">2</td><td style = \"text-align: left;\">7076FF0056060728</td><td style = \"text-align: left;\">2022-03-16 03:22:19</td></tr><tr><td class = \"rowNumber\" style = \"font-weight: bold; text-align: right;\">3</td><td style = \"text-align: left;\">7076FF0056060728</td><td style = \"text-align: left;\">2022-03-16 05:41:10</td></tr><tr><td class = \"rowNumber\" style = \"font-weight: bold; text-align: right;\">4</td><td style = \"text-align: left;\">7076FF0056060728</td><td style = \"text-align: left;\">2022-03-16 05:43:30</td></tr><tr><td class = \"rowNumber\" style = \"font-weight: bold; text-align: right;\">5</td><td style = \"text-align: left;\">7076FF0056060728</td><td style = \"text-align: left;\">2022-03-16 12:18:26</td></tr><tr><td class = \"rowNumber\" style = \"font-weight: bold; text-align: right;\">6</td><td style = \"text-align: left;\">7076FF0056060728</td><td style = \"text-align: left;\">2022-03-16 15:38:22</td></tr><tr><td class = \"rowNumber\" style = \"font-weight: bold; text-align: right;\">7</td><td style = \"text-align: left;\">7076FF0056060728</td><td style = \"text-align: left;\">2022-03-16 23:57:15</td></tr><tr><td class = \"rowNumber\" style = \"font-weight: bold; text-align: right;\">8</td><td style = \"text-align: left;\">7076FF0056060728</td><td style = \"text-align: left;\">2022-03-16 23:59:34</td></tr><tr><td class = \"rowNumber\" style = \"font-weight: bold; text-align: right;\">9</td><td style = \"text-align: left;\">7076FF0056060728</td><td style = \"text-align: left;\">2022-03-17 00:01:53</td></tr><tr><td class = \"rowNumber\" style = \"font-weight: bold; text-align: right;\">10</td><td style = \"text-align: left;\">7076FF0056060728</td><td style = \"text-align: left;\">2022-03-17 00:04:12</td></tr><tr><td class = \"rowNumber\" style = \"font-weight: bold; text-align: right;\">11</td><td style = \"text-align: left;\">7076FF0056060728</td><td style = \"text-align: left;\">2022-03-17 19:05:30</td></tr><tr><td class = \"rowNumber\" style = \"font-weight: bold; text-align: right;\">12</td><td style = \"text-align: left;\">7076FF0056060728</td><td style = \"text-align: left;\">2022-03-17 23:00:17</td></tr><tr><td class = \"rowNumber\" style = \"font-weight: bold; text-align: right;\">13</td><td style = \"text-align: left;\">7076FF0056060728</td><td style = \"text-align: left;\">2022-03-17 23:37:14</td></tr><tr><td style = \"text-align: right;\">&vellip;</td><td style = \"text-align: right;\">&vellip;</td><td style = \"text-align: right;\">&vellip;</td></tr><tr><td class = \"rowNumber\" style = \"font-weight: bold; text-align: right;\">76310</td><td style = \"text-align: left;\">7276FF000B03183D</td><td style = \"text-align: left;\">2023-05-11 08:39:18</td></tr><tr><td class = \"rowNumber\" style = \"font-weight: bold; text-align: right;\">76311</td><td style = \"text-align: left;\">7276FF000B03183D</td><td style = \"text-align: left;\">2023-05-11 08:47:06</td></tr><tr><td class = \"rowNumber\" style = \"font-weight: bold; text-align: right;\">76312</td><td style = \"text-align: left;\">7276FF000B03183D</td><td style = \"text-align: left;\">2023-05-11 18:31:16</td></tr><tr><td class = \"rowNumber\" style = \"font-weight: bold; text-align: right;\">76313</td><td style = \"text-align: left;\">7276FF000B03183D</td><td style = \"text-align: left;\">2023-05-12 08:51:56</td></tr><tr><td class = \"rowNumber\" style = \"font-weight: bold; text-align: right;\">76314</td><td style = \"text-align: left;\">7276FF000B03183D</td><td style = \"text-align: left;\">2023-05-12 12:21:47</td></tr><tr><td class = \"rowNumber\" style = \"font-weight: bold; text-align: right;\">76315</td><td style = \"text-align: left;\">7276FF000B03183D</td><td style = \"text-align: left;\">2023-05-15 09:50:48</td></tr><tr><td class = \"rowNumber\" style = \"font-weight: bold; text-align: right;\">76316</td><td style = \"text-align: left;\">7276FF000B03183D</td><td style = \"text-align: left;\">2023-05-18 12:19:37</td></tr><tr><td class = \"rowNumber\" style = \"font-weight: bold; text-align: right;\">76317</td><td style = \"text-align: left;\">7276FF000B03183D</td><td style = \"text-align: left;\">2023-05-18 12:42:28</td></tr><tr><td class = \"rowNumber\" style = \"font-weight: bold; text-align: right;\">76318</td><td style = \"text-align: left;\">7276FF000B03183D</td><td style = \"text-align: left;\">2023-05-18 19:50:44</td></tr><tr><td class = \"rowNumber\" style = \"font-weight: bold; text-align: right;\">76319</td><td style = \"text-align: left;\">7276FF000B03183D</td><td style = \"text-align: left;\">2023-05-20 19:56:53</td></tr><tr><td class = \"rowNumber\" style = \"font-weight: bold; text-align: right;\">76320</td><td style = \"text-align: left;\">7276FF000B03183D</td><td style = \"text-align: left;\">2023-06-02 08:36:03</td></tr><tr><td class = \"rowNumber\" style = \"font-weight: bold; text-align: right;\">76321</td><td style = \"text-align: left;\">7276FF000B03183D</td><td style = \"text-align: left;\">2023-06-22 11:46:52</td></tr></tbody></table></div>"
      ],
      "text/latex": [
       "\\begin{tabular}{r|cc}\n",
       "\t& gw\\_eui & timestamp\\_utc\\_iso\\_string\\\\\n",
       "\t\\hline\n",
       "\t& String31 & String31\\\\\n",
       "\t\\hline\n",
       "\t1 & 7076FF0056060728 & 2022-03-16 03:10:48 \\\\\n",
       "\t2 & 7076FF0056060728 & 2022-03-16 03:22:19 \\\\\n",
       "\t3 & 7076FF0056060728 & 2022-03-16 05:41:10 \\\\\n",
       "\t4 & 7076FF0056060728 & 2022-03-16 05:43:30 \\\\\n",
       "\t5 & 7076FF0056060728 & 2022-03-16 12:18:26 \\\\\n",
       "\t6 & 7076FF0056060728 & 2022-03-16 15:38:22 \\\\\n",
       "\t7 & 7076FF0056060728 & 2022-03-16 23:57:15 \\\\\n",
       "\t8 & 7076FF0056060728 & 2022-03-16 23:59:34 \\\\\n",
       "\t9 & 7076FF0056060728 & 2022-03-17 00:01:53 \\\\\n",
       "\t10 & 7076FF0056060728 & 2022-03-17 00:04:12 \\\\\n",
       "\t11 & 7076FF0056060728 & 2022-03-17 19:05:30 \\\\\n",
       "\t12 & 7076FF0056060728 & 2022-03-17 23:00:17 \\\\\n",
       "\t13 & 7076FF0056060728 & 2022-03-17 23:37:14 \\\\\n",
       "\t14 & 7076FF0056060728 & 2022-03-17 23:44:09 \\\\\n",
       "\t15 & 7076FF0056060728 & 2022-03-18 00:46:35 \\\\\n",
       "\t16 & 7076FF0056060728 & 2022-03-18 00:55:48 \\\\\n",
       "\t17 & 7076FF0056060728 & 2022-03-18 01:05:01 \\\\\n",
       "\t18 & 7076FF0056060728 & 2022-03-18 01:09:38 \\\\\n",
       "\t19 & 7076FF0056060728 & 2022-03-18 01:12:00 \\\\\n",
       "\t20 & 7076FF0056060728 & 2022-03-18 01:23:30 \\\\\n",
       "\t21 & 7076FF0056060728 & 2022-03-18 01:25:49 \\\\\n",
       "\t22 & 7076FF0056060728 & 2022-03-18 01:32:43 \\\\\n",
       "\t23 & 7076FF0056060728 & 2022-03-18 01:35:01 \\\\\n",
       "\t24 & 7076FF0056060728 & 2022-03-18 01:46:30 \\\\\n",
       "\t$\\dots$ & $\\dots$ & $\\dots$ \\\\\n",
       "\\end{tabular}\n"
      ],
      "text/plain": [
       "\u001b[1m76321×2 DataFrame\u001b[0m\n",
       "\u001b[1m   Row \u001b[0m│\u001b[1m gw_eui           \u001b[0m\u001b[1m timestamp_utc_iso_string \u001b[0m\n",
       "       │\u001b[90m String31         \u001b[0m\u001b[90m String31                 \u001b[0m\n",
       "───────┼────────────────────────────────────────────\n",
       "     1 │ 7076FF0056060728  2022-03-16 03:10:48\n",
       "     2 │ 7076FF0056060728  2022-03-16 03:22:19\n",
       "     3 │ 7076FF0056060728  2022-03-16 05:41:10\n",
       "     4 │ 7076FF0056060728  2022-03-16 05:43:30\n",
       "     5 │ 7076FF0056060728  2022-03-16 12:18:26\n",
       "     6 │ 7076FF0056060728  2022-03-16 15:38:22\n",
       "     7 │ 7076FF0056060728  2022-03-16 23:57:15\n",
       "     8 │ 7076FF0056060728  2022-03-16 23:59:34\n",
       "   ⋮   │        ⋮                     ⋮\n",
       " 76315 │ 7276FF000B03183D  2023-05-15 09:50:48\n",
       " 76316 │ 7276FF000B03183D  2023-05-18 12:19:37\n",
       " 76317 │ 7276FF000B03183D  2023-05-18 12:42:28\n",
       " 76318 │ 7276FF000B03183D  2023-05-18 19:50:44\n",
       " 76319 │ 7276FF000B03183D  2023-05-20 19:56:53\n",
       " 76320 │ 7276FF000B03183D  2023-06-02 08:36:03\n",
       " 76321 │ 7276FF000B03183D  2023-06-22 11:46:52\n",
       "\u001b[36m                                  76306 rows omitted\u001b[0m"
      ]
     },
     "metadata": {},
     "output_type": "display_data"
    }
   ],
   "source": [
    "select(df, :gw_eui, :timestamp_utc_iso_string)"
   ]
  },
  {
   "cell_type": "code",
   "execution_count": 141,
   "metadata": {},
   "outputs": [
    {
     "data": {
      "text/html": [
       "<div><div style = \"float: left;\"><span>76321×3 DataFrame</span></div><div style = \"float: right;\"><span style = \"font-style: italic;\">76296 rows omitted</span></div><div style = \"clear: both;\"></div></div><div class = \"data-frame\" style = \"overflow-x: scroll;\"><table class = \"data-frame\" style = \"margin-bottom: 6px;\"><thead><tr class = \"header\"><th class = \"rowNumber\" style = \"font-weight: bold; text-align: right;\">Row</th><th style = \"text-align: left;\">gw_eui</th><th style = \"text-align: left;\">timestamp_utc_iso_string</th><th style = \"text-align: left;\">signal_quality</th></tr><tr class = \"subheader headerLastRow\"><th class = \"rowNumber\" style = \"font-weight: bold; text-align: right;\"></th><th title = \"String31\" style = \"text-align: left;\">String31</th><th title = \"String31\" style = \"text-align: left;\">String31</th><th title = \"String31\" style = \"text-align: left;\">String31</th></tr></thead><tbody><tr><td class = \"rowNumber\" style = \"font-weight: bold; text-align: right;\">1</td><td style = \"text-align: left;\">7076FF0056060728</td><td style = \"text-align: left;\">2022-03-16 03:10:48</td><td style = \"text-align: left;\">Poor</td></tr><tr><td class = \"rowNumber\" style = \"font-weight: bold; text-align: right;\">2</td><td style = \"text-align: left;\">7076FF0056060728</td><td style = \"text-align: left;\">2022-03-16 03:22:19</td><td style = \"text-align: left;\">Poor</td></tr><tr><td class = \"rowNumber\" style = \"font-weight: bold; text-align: right;\">3</td><td style = \"text-align: left;\">7076FF0056060728</td><td style = \"text-align: left;\">2022-03-16 05:41:10</td><td style = \"text-align: left;\">Fair</td></tr><tr><td class = \"rowNumber\" style = \"font-weight: bold; text-align: right;\">4</td><td style = \"text-align: left;\">7076FF0056060728</td><td style = \"text-align: left;\">2022-03-16 05:43:30</td><td style = \"text-align: left;\">Fair</td></tr><tr><td class = \"rowNumber\" style = \"font-weight: bold; text-align: right;\">5</td><td style = \"text-align: left;\">7076FF0056060728</td><td style = \"text-align: left;\">2022-03-16 12:18:26</td><td style = \"text-align: left;\">Fair</td></tr><tr><td class = \"rowNumber\" style = \"font-weight: bold; text-align: right;\">6</td><td style = \"text-align: left;\">7076FF0056060728</td><td style = \"text-align: left;\">2022-03-16 15:38:22</td><td style = \"text-align: left;\">Fair</td></tr><tr><td class = \"rowNumber\" style = \"font-weight: bold; text-align: right;\">7</td><td style = \"text-align: left;\">7076FF0056060728</td><td style = \"text-align: left;\">2022-03-16 23:57:15</td><td style = \"text-align: left;\">Fair</td></tr><tr><td class = \"rowNumber\" style = \"font-weight: bold; text-align: right;\">8</td><td style = \"text-align: left;\">7076FF0056060728</td><td style = \"text-align: left;\">2022-03-16 23:59:34</td><td style = \"text-align: left;\">Fair</td></tr><tr><td class = \"rowNumber\" style = \"font-weight: bold; text-align: right;\">9</td><td style = \"text-align: left;\">7076FF0056060728</td><td style = \"text-align: left;\">2022-03-17 00:01:53</td><td style = \"text-align: left;\">Fair</td></tr><tr><td class = \"rowNumber\" style = \"font-weight: bold; text-align: right;\">10</td><td style = \"text-align: left;\">7076FF0056060728</td><td style = \"text-align: left;\">2022-03-17 00:04:12</td><td style = \"text-align: left;\">Fair</td></tr><tr><td class = \"rowNumber\" style = \"font-weight: bold; text-align: right;\">11</td><td style = \"text-align: left;\">7076FF0056060728</td><td style = \"text-align: left;\">2022-03-17 19:05:30</td><td style = \"text-align: left;\">Fair</td></tr><tr><td class = \"rowNumber\" style = \"font-weight: bold; text-align: right;\">12</td><td style = \"text-align: left;\">7076FF0056060728</td><td style = \"text-align: left;\">2022-03-17 23:00:17</td><td style = \"text-align: left;\">Fair</td></tr><tr><td class = \"rowNumber\" style = \"font-weight: bold; text-align: right;\">13</td><td style = \"text-align: left;\">7076FF0056060728</td><td style = \"text-align: left;\">2022-03-17 23:37:14</td><td style = \"text-align: left;\">Fair</td></tr><tr><td style = \"text-align: right;\">&vellip;</td><td style = \"text-align: right;\">&vellip;</td><td style = \"text-align: right;\">&vellip;</td><td style = \"text-align: right;\">&vellip;</td></tr><tr><td class = \"rowNumber\" style = \"font-weight: bold; text-align: right;\">76310</td><td style = \"text-align: left;\">7276FF000B03183D</td><td style = \"text-align: left;\">2023-05-11 08:39:18</td><td style = \"text-align: left;\">Very Poor</td></tr><tr><td class = \"rowNumber\" style = \"font-weight: bold; text-align: right;\">76311</td><td style = \"text-align: left;\">7276FF000B03183D</td><td style = \"text-align: left;\">2023-05-11 08:47:06</td><td style = \"text-align: left;\">Good</td></tr><tr><td class = \"rowNumber\" style = \"font-weight: bold; text-align: right;\">76312</td><td style = \"text-align: left;\">7276FF000B03183D</td><td style = \"text-align: left;\">2023-05-11 18:31:16</td><td style = \"text-align: left;\">Very Poor</td></tr><tr><td class = \"rowNumber\" style = \"font-weight: bold; text-align: right;\">76313</td><td style = \"text-align: left;\">7276FF000B03183D</td><td style = \"text-align: left;\">2023-05-12 08:51:56</td><td style = \"text-align: left;\">Good</td></tr><tr><td class = \"rowNumber\" style = \"font-weight: bold; text-align: right;\">76314</td><td style = \"text-align: left;\">7276FF000B03183D</td><td style = \"text-align: left;\">2023-05-12 12:21:47</td><td style = \"text-align: left;\">Very Poor</td></tr><tr><td class = \"rowNumber\" style = \"font-weight: bold; text-align: right;\">76315</td><td style = \"text-align: left;\">7276FF000B03183D</td><td style = \"text-align: left;\">2023-05-15 09:50:48</td><td style = \"text-align: left;\">Very Poor</td></tr><tr><td class = \"rowNumber\" style = \"font-weight: bold; text-align: right;\">76316</td><td style = \"text-align: left;\">7276FF000B03183D</td><td style = \"text-align: left;\">2023-05-18 12:19:37</td><td style = \"text-align: left;\">Very Poor</td></tr><tr><td class = \"rowNumber\" style = \"font-weight: bold; text-align: right;\">76317</td><td style = \"text-align: left;\">7276FF000B03183D</td><td style = \"text-align: left;\">2023-05-18 12:42:28</td><td style = \"text-align: left;\">Very Poor</td></tr><tr><td class = \"rowNumber\" style = \"font-weight: bold; text-align: right;\">76318</td><td style = \"text-align: left;\">7276FF000B03183D</td><td style = \"text-align: left;\">2023-05-18 19:50:44</td><td style = \"text-align: left;\">Very Poor</td></tr><tr><td class = \"rowNumber\" style = \"font-weight: bold; text-align: right;\">76319</td><td style = \"text-align: left;\">7276FF000B03183D</td><td style = \"text-align: left;\">2023-05-20 19:56:53</td><td style = \"text-align: left;\">Very Poor</td></tr><tr><td class = \"rowNumber\" style = \"font-weight: bold; text-align: right;\">76320</td><td style = \"text-align: left;\">7276FF000B03183D</td><td style = \"text-align: left;\">2023-06-02 08:36:03</td><td style = \"text-align: left;\">Very Poor</td></tr><tr><td class = \"rowNumber\" style = \"font-weight: bold; text-align: right;\">76321</td><td style = \"text-align: left;\">7276FF000B03183D</td><td style = \"text-align: left;\">2023-06-22 11:46:52</td><td style = \"text-align: left;\">Good Signal Quality</td></tr></tbody></table></div>"
      ],
      "text/latex": [
       "\\begin{tabular}{r|ccc}\n",
       "\t& gw\\_eui & timestamp\\_utc\\_iso\\_string & signal\\_quality\\\\\n",
       "\t\\hline\n",
       "\t& String31 & String31 & String31\\\\\n",
       "\t\\hline\n",
       "\t1 & 7076FF0056060728 & 2022-03-16 03:10:48 & Poor \\\\\n",
       "\t2 & 7076FF0056060728 & 2022-03-16 03:22:19 & Poor \\\\\n",
       "\t3 & 7076FF0056060728 & 2022-03-16 05:41:10 & Fair \\\\\n",
       "\t4 & 7076FF0056060728 & 2022-03-16 05:43:30 & Fair \\\\\n",
       "\t5 & 7076FF0056060728 & 2022-03-16 12:18:26 & Fair \\\\\n",
       "\t6 & 7076FF0056060728 & 2022-03-16 15:38:22 & Fair \\\\\n",
       "\t7 & 7076FF0056060728 & 2022-03-16 23:57:15 & Fair \\\\\n",
       "\t8 & 7076FF0056060728 & 2022-03-16 23:59:34 & Fair \\\\\n",
       "\t9 & 7076FF0056060728 & 2022-03-17 00:01:53 & Fair \\\\\n",
       "\t10 & 7076FF0056060728 & 2022-03-17 00:04:12 & Fair \\\\\n",
       "\t11 & 7076FF0056060728 & 2022-03-17 19:05:30 & Fair \\\\\n",
       "\t12 & 7076FF0056060728 & 2022-03-17 23:00:17 & Fair \\\\\n",
       "\t13 & 7076FF0056060728 & 2022-03-17 23:37:14 & Fair \\\\\n",
       "\t14 & 7076FF0056060728 & 2022-03-17 23:44:09 & Fair \\\\\n",
       "\t15 & 7076FF0056060728 & 2022-03-18 00:46:35 & Fair \\\\\n",
       "\t16 & 7076FF0056060728 & 2022-03-18 00:55:48 & Fair \\\\\n",
       "\t17 & 7076FF0056060728 & 2022-03-18 01:05:01 & Fair \\\\\n",
       "\t18 & 7076FF0056060728 & 2022-03-18 01:09:38 & Fair \\\\\n",
       "\t19 & 7076FF0056060728 & 2022-03-18 01:12:00 & Fair \\\\\n",
       "\t20 & 7076FF0056060728 & 2022-03-18 01:23:30 & Fair \\\\\n",
       "\t21 & 7076FF0056060728 & 2022-03-18 01:25:49 & Fair \\\\\n",
       "\t22 & 7076FF0056060728 & 2022-03-18 01:32:43 & Fair \\\\\n",
       "\t23 & 7076FF0056060728 & 2022-03-18 01:35:01 & Fair \\\\\n",
       "\t24 & 7076FF0056060728 & 2022-03-18 01:46:30 & Fair \\\\\n",
       "\t$\\dots$ & $\\dots$ & $\\dots$ & $\\dots$ \\\\\n",
       "\\end{tabular}\n"
      ],
      "text/plain": [
       "\u001b[1m76321×3 DataFrame\u001b[0m\n",
       "\u001b[1m   Row \u001b[0m│\u001b[1m gw_eui           \u001b[0m\u001b[1m timestamp_utc_iso_string \u001b[0m\u001b[1m signal_quality      \u001b[0m\n",
       "       │\u001b[90m String31         \u001b[0m\u001b[90m String31                 \u001b[0m\u001b[90m String31            \u001b[0m\n",
       "───────┼─────────────────────────────────────────────────────────────────\n",
       "     1 │ 7076FF0056060728  2022-03-16 03:10:48       Poor\n",
       "     2 │ 7076FF0056060728  2022-03-16 03:22:19       Poor\n",
       "     3 │ 7076FF0056060728  2022-03-16 05:41:10       Fair\n",
       "     4 │ 7076FF0056060728  2022-03-16 05:43:30       Fair\n",
       "     5 │ 7076FF0056060728  2022-03-16 12:18:26       Fair\n",
       "     6 │ 7076FF0056060728  2022-03-16 15:38:22       Fair\n",
       "     7 │ 7076FF0056060728  2022-03-16 23:57:15       Fair\n",
       "     8 │ 7076FF0056060728  2022-03-16 23:59:34       Fair\n",
       "   ⋮   │        ⋮                     ⋮                       ⋮\n",
       " 76315 │ 7276FF000B03183D  2023-05-15 09:50:48       Very Poor\n",
       " 76316 │ 7276FF000B03183D  2023-05-18 12:19:37       Very Poor\n",
       " 76317 │ 7276FF000B03183D  2023-05-18 12:42:28       Very Poor\n",
       " 76318 │ 7276FF000B03183D  2023-05-18 19:50:44       Very Poor\n",
       " 76319 │ 7276FF000B03183D  2023-05-20 19:56:53       Very Poor\n",
       " 76320 │ 7276FF000B03183D  2023-06-02 08:36:03       Very Poor\n",
       " 76321 │ 7276FF000B03183D  2023-06-22 11:46:52       Good Signal Quality\n",
       "\u001b[36m                                                       76306 rows omitted\u001b[0m"
      ]
     },
     "metadata": {},
     "output_type": "display_data"
    }
   ],
   "source": [
    "select(df, :gw_eui, :timestamp_utc_iso_string, :signal_quality)"
   ]
  },
  {
   "cell_type": "code",
   "execution_count": 142,
   "metadata": {},
   "outputs": [
    {
     "data": {
      "text/html": [
       "<div><div style = \"float: left;\"><span>76321×11 DataFrame</span></div><div style = \"float: right;\"><span style = \"font-style: italic;\">76296 rows omitted</span></div><div style = \"clear: both;\"></div></div><div class = \"data-frame\" style = \"overflow-x: scroll;\"><table class = \"data-frame\" style = \"margin-bottom: 6px;\"><thead><tr class = \"header\"><th class = \"rowNumber\" style = \"font-weight: bold; text-align: right;\">Row</th><th style = \"text-align: left;\">Column1</th><th style = \"text-align: left;\">dev_eui</th><th style = \"text-align: left;\">gw_eui</th><th style = \"text-align: left;\">timestamp_utc_iso_string</th><th style = \"text-align: left;\">rssi_dbm</th><th style = \"text-align: left;\">snr_db</th><th style = \"text-align: left;\">dev_lon_deg_wgs84</th><th style = \"text-align: left;\">dev_lat_deg_wgs84</th><th style = \"text-align: left;\">gw_lon_deg_wgs84</th><th style = \"text-align: left;\">gw_lat_deg_wgs84</th><th style = \"text-align: left;\">signal_quality</th></tr><tr class = \"subheader headerLastRow\"><th class = \"rowNumber\" style = \"font-weight: bold; text-align: right;\"></th><th title = \"Int64\" style = \"text-align: left;\">Int64</th><th title = \"String31\" style = \"text-align: left;\">String31</th><th title = \"String31\" style = \"text-align: left;\">String31</th><th title = \"String31\" style = \"text-align: left;\">String31</th><th title = \"Int64\" style = \"text-align: left;\">Int64</th><th title = \"Float64\" style = \"text-align: left;\">Float64</th><th title = \"Float64\" style = \"text-align: left;\">Float64</th><th title = \"Float64\" style = \"text-align: left;\">Float64</th><th title = \"Float64\" style = \"text-align: left;\">Float64</th><th title = \"Float64\" style = \"text-align: left;\">Float64</th><th title = \"String31\" style = \"text-align: left;\">String31</th></tr></thead><tbody><tr><td class = \"rowNumber\" style = \"font-weight: bold; text-align: right;\">1</td><td style = \"text-align: right;\">0</td><td style = \"text-align: left;\">0200000000000000</td><td style = \"text-align: left;\">7076FF0056060728</td><td style = \"text-align: left;\">2022-03-16 03:10:48</td><td style = \"text-align: right;\">-112</td><td style = \"text-align: right;\">6.2</td><td style = \"text-align: right;\">-27.2673</td><td style = \"text-align: right;\">38.6557</td><td style = \"text-align: right;\">0.0</td><td style = \"text-align: right;\">0.0</td><td style = \"text-align: left;\">Poor</td></tr><tr><td class = \"rowNumber\" style = \"font-weight: bold; text-align: right;\">2</td><td style = \"text-align: right;\">1</td><td style = \"text-align: left;\">0200000000000000</td><td style = \"text-align: left;\">7076FF0056060728</td><td style = \"text-align: left;\">2022-03-16 03:22:19</td><td style = \"text-align: right;\">-120</td><td style = \"text-align: right;\">0.2</td><td style = \"text-align: right;\">-27.2675</td><td style = \"text-align: right;\">38.6555</td><td style = \"text-align: right;\">0.0</td><td style = \"text-align: right;\">0.0</td><td style = \"text-align: left;\">Poor</td></tr><tr><td class = \"rowNumber\" style = \"font-weight: bold; text-align: right;\">3</td><td style = \"text-align: right;\">2</td><td style = \"text-align: left;\">0200000000000000</td><td style = \"text-align: left;\">7076FF0056060728</td><td style = \"text-align: left;\">2022-03-16 05:41:10</td><td style = \"text-align: right;\">-100</td><td style = \"text-align: right;\">10.2</td><td style = \"text-align: right;\">-27.2671</td><td style = \"text-align: right;\">38.6556</td><td style = \"text-align: right;\">0.0</td><td style = \"text-align: right;\">0.0</td><td style = \"text-align: left;\">Fair</td></tr><tr><td class = \"rowNumber\" style = \"font-weight: bold; text-align: right;\">4</td><td style = \"text-align: right;\">3</td><td style = \"text-align: left;\">0200000000000000</td><td style = \"text-align: left;\">7076FF0056060728</td><td style = \"text-align: left;\">2022-03-16 05:43:30</td><td style = \"text-align: right;\">-105</td><td style = \"text-align: right;\">9.2</td><td style = \"text-align: right;\">-27.2672</td><td style = \"text-align: right;\">38.6554</td><td style = \"text-align: right;\">0.0</td><td style = \"text-align: right;\">0.0</td><td style = \"text-align: left;\">Fair</td></tr><tr><td class = \"rowNumber\" style = \"font-weight: bold; text-align: right;\">5</td><td style = \"text-align: right;\">4</td><td style = \"text-align: left;\">0200000000000000</td><td style = \"text-align: left;\">7076FF0056060728</td><td style = \"text-align: left;\">2022-03-16 12:18:26</td><td style = \"text-align: right;\">-105</td><td style = \"text-align: right;\">8.2</td><td style = \"text-align: right;\">-27.2666</td><td style = \"text-align: right;\">38.6562</td><td style = \"text-align: right;\">0.0</td><td style = \"text-align: right;\">0.0</td><td style = \"text-align: left;\">Fair</td></tr><tr><td class = \"rowNumber\" style = \"font-weight: bold; text-align: right;\">6</td><td style = \"text-align: right;\">5</td><td style = \"text-align: left;\">0200000000000000</td><td style = \"text-align: left;\">7076FF0056060728</td><td style = \"text-align: left;\">2022-03-16 15:38:22</td><td style = \"text-align: right;\">-102</td><td style = \"text-align: right;\">9.8</td><td style = \"text-align: right;\">-27.2673</td><td style = \"text-align: right;\">38.6556</td><td style = \"text-align: right;\">0.0</td><td style = \"text-align: right;\">0.0</td><td style = \"text-align: left;\">Fair</td></tr><tr><td class = \"rowNumber\" style = \"font-weight: bold; text-align: right;\">7</td><td style = \"text-align: right;\">6</td><td style = \"text-align: left;\">0200000000000000</td><td style = \"text-align: left;\">7076FF0056060728</td><td style = \"text-align: left;\">2022-03-16 23:57:15</td><td style = \"text-align: right;\">-108</td><td style = \"text-align: right;\">8.2</td><td style = \"text-align: right;\">-27.2668</td><td style = \"text-align: right;\">38.6561</td><td style = \"text-align: right;\">0.0</td><td style = \"text-align: right;\">0.0</td><td style = \"text-align: left;\">Fair</td></tr><tr><td class = \"rowNumber\" style = \"font-weight: bold; text-align: right;\">8</td><td style = \"text-align: right;\">7</td><td style = \"text-align: left;\">0200000000000000</td><td style = \"text-align: left;\">7076FF0056060728</td><td style = \"text-align: left;\">2022-03-16 23:59:34</td><td style = \"text-align: right;\">-105</td><td style = \"text-align: right;\">8.0</td><td style = \"text-align: right;\">-27.267</td><td style = \"text-align: right;\">38.6561</td><td style = \"text-align: right;\">0.0</td><td style = \"text-align: right;\">0.0</td><td style = \"text-align: left;\">Fair</td></tr><tr><td class = \"rowNumber\" style = \"font-weight: bold; text-align: right;\">9</td><td style = \"text-align: right;\">8</td><td style = \"text-align: left;\">0200000000000000</td><td style = \"text-align: left;\">7076FF0056060728</td><td style = \"text-align: left;\">2022-03-17 00:01:53</td><td style = \"text-align: right;\">-107</td><td style = \"text-align: right;\">8.0</td><td style = \"text-align: right;\">-27.267</td><td style = \"text-align: right;\">38.656</td><td style = \"text-align: right;\">0.0</td><td style = \"text-align: right;\">0.0</td><td style = \"text-align: left;\">Fair</td></tr><tr><td class = \"rowNumber\" style = \"font-weight: bold; text-align: right;\">10</td><td style = \"text-align: right;\">9</td><td style = \"text-align: left;\">0200000000000000</td><td style = \"text-align: left;\">7076FF0056060728</td><td style = \"text-align: left;\">2022-03-17 00:04:12</td><td style = \"text-align: right;\">-105</td><td style = \"text-align: right;\">9.2</td><td style = \"text-align: right;\">-27.2671</td><td style = \"text-align: right;\">38.6558</td><td style = \"text-align: right;\">0.0</td><td style = \"text-align: right;\">0.0</td><td style = \"text-align: left;\">Fair</td></tr><tr><td class = \"rowNumber\" style = \"font-weight: bold; text-align: right;\">11</td><td style = \"text-align: right;\">10</td><td style = \"text-align: left;\">0200000000000000</td><td style = \"text-align: left;\">7076FF0056060728</td><td style = \"text-align: left;\">2022-03-17 19:05:30</td><td style = \"text-align: right;\">-102</td><td style = \"text-align: right;\">9.0</td><td style = \"text-align: right;\">-27.2671</td><td style = \"text-align: right;\">38.6557</td><td style = \"text-align: right;\">0.0</td><td style = \"text-align: right;\">0.0</td><td style = \"text-align: left;\">Fair</td></tr><tr><td class = \"rowNumber\" style = \"font-weight: bold; text-align: right;\">12</td><td style = \"text-align: right;\">11</td><td style = \"text-align: left;\">0200000000000000</td><td style = \"text-align: left;\">7076FF0056060728</td><td style = \"text-align: left;\">2022-03-17 23:00:17</td><td style = \"text-align: right;\">-101</td><td style = \"text-align: right;\">8.8</td><td style = \"text-align: right;\">-27.2671</td><td style = \"text-align: right;\">38.6552</td><td style = \"text-align: right;\">0.0</td><td style = \"text-align: right;\">0.0</td><td style = \"text-align: left;\">Fair</td></tr><tr><td class = \"rowNumber\" style = \"font-weight: bold; text-align: right;\">13</td><td style = \"text-align: right;\">12</td><td style = \"text-align: left;\">0200000000000000</td><td style = \"text-align: left;\">7076FF0056060728</td><td style = \"text-align: left;\">2022-03-17 23:37:14</td><td style = \"text-align: right;\">-105</td><td style = \"text-align: right;\">9.5</td><td style = \"text-align: right;\">-27.2671</td><td style = \"text-align: right;\">38.6554</td><td style = \"text-align: right;\">0.0</td><td style = \"text-align: right;\">0.0</td><td style = \"text-align: left;\">Fair</td></tr><tr><td style = \"text-align: right;\">&vellip;</td><td style = \"text-align: right;\">&vellip;</td><td style = \"text-align: right;\">&vellip;</td><td style = \"text-align: right;\">&vellip;</td><td style = \"text-align: right;\">&vellip;</td><td style = \"text-align: right;\">&vellip;</td><td style = \"text-align: right;\">&vellip;</td><td style = \"text-align: right;\">&vellip;</td><td style = \"text-align: right;\">&vellip;</td><td style = \"text-align: right;\">&vellip;</td><td style = \"text-align: right;\">&vellip;</td><td style = \"text-align: right;\">&vellip;</td></tr><tr><td class = \"rowNumber\" style = \"font-weight: bold; text-align: right;\">76310</td><td style = \"text-align: right;\">76309</td><td style = \"text-align: left;\">70B3D5705000B993</td><td style = \"text-align: left;\">7276FF000B03183D</td><td style = \"text-align: left;\">2023-05-11 08:39:18</td><td style = \"text-align: right;\">-127</td><td style = \"text-align: right;\">-18.2</td><td style = \"text-align: right;\">-27.2133</td><td style = \"text-align: right;\">38.6612</td><td style = \"text-align: right;\">0.0</td><td style = \"text-align: right;\">0.0</td><td style = \"text-align: left;\">Very Poor</td></tr><tr><td class = \"rowNumber\" style = \"font-weight: bold; text-align: right;\">76311</td><td style = \"text-align: right;\">76310</td><td style = \"text-align: left;\">70B3D5705000B993</td><td style = \"text-align: left;\">7276FF000B03183D</td><td style = \"text-align: left;\">2023-05-11 08:47:06</td><td style = \"text-align: right;\">-93</td><td style = \"text-align: right;\">5.8</td><td style = \"text-align: right;\">-27.1831</td><td style = \"text-align: right;\">38.6925</td><td style = \"text-align: right;\">0.0</td><td style = \"text-align: right;\">0.0</td><td style = \"text-align: left;\">Good</td></tr><tr><td class = \"rowNumber\" style = \"font-weight: bold; text-align: right;\">76312</td><td style = \"text-align: right;\">76311</td><td style = \"text-align: left;\">70B3D5705000B993</td><td style = \"text-align: left;\">7276FF000B03183D</td><td style = \"text-align: left;\">2023-05-11 18:31:16</td><td style = \"text-align: right;\">-125</td><td style = \"text-align: right;\">-8.8</td><td style = \"text-align: right;\">-27.206</td><td style = \"text-align: right;\">38.6814</td><td style = \"text-align: right;\">0.0</td><td style = \"text-align: right;\">0.0</td><td style = \"text-align: left;\">Very Poor</td></tr><tr><td class = \"rowNumber\" style = \"font-weight: bold; text-align: right;\">76313</td><td style = \"text-align: right;\">76312</td><td style = \"text-align: left;\">70B3D5705000B993</td><td style = \"text-align: left;\">7276FF000B03183D</td><td style = \"text-align: left;\">2023-05-12 08:51:56</td><td style = \"text-align: right;\">-90</td><td style = \"text-align: right;\">11.5</td><td style = \"text-align: right;\">-27.1878</td><td style = \"text-align: right;\">38.6891</td><td style = \"text-align: right;\">0.0</td><td style = \"text-align: right;\">0.0</td><td style = \"text-align: left;\">Good</td></tr><tr><td class = \"rowNumber\" style = \"font-weight: bold; text-align: right;\">76314</td><td style = \"text-align: right;\">76313</td><td style = \"text-align: left;\">70B3D5705000B993</td><td style = \"text-align: left;\">7276FF000B03183D</td><td style = \"text-align: left;\">2023-05-12 12:21:47</td><td style = \"text-align: right;\">-127</td><td style = \"text-align: right;\">-15.8</td><td style = \"text-align: right;\">-27.2137</td><td style = \"text-align: right;\">38.6763</td><td style = \"text-align: right;\">0.0</td><td style = \"text-align: right;\">0.0</td><td style = \"text-align: left;\">Very Poor</td></tr><tr><td class = \"rowNumber\" style = \"font-weight: bold; text-align: right;\">76315</td><td style = \"text-align: right;\">76314</td><td style = \"text-align: left;\">70B3D5705000B993</td><td style = \"text-align: left;\">7276FF000B03183D</td><td style = \"text-align: left;\">2023-05-15 09:50:48</td><td style = \"text-align: right;\">-126</td><td style = \"text-align: right;\">-18.2</td><td style = \"text-align: right;\">-27.2122</td><td style = \"text-align: right;\">38.6619</td><td style = \"text-align: right;\">0.0</td><td style = \"text-align: right;\">0.0</td><td style = \"text-align: left;\">Very Poor</td></tr><tr><td class = \"rowNumber\" style = \"font-weight: bold; text-align: right;\">76316</td><td style = \"text-align: right;\">76315</td><td style = \"text-align: left;\">70B3D5705000B993</td><td style = \"text-align: left;\">7276FF000B03183D</td><td style = \"text-align: left;\">2023-05-18 12:19:37</td><td style = \"text-align: right;\">-126</td><td style = \"text-align: right;\">-11.5</td><td style = \"text-align: right;\">-27.2075</td><td style = \"text-align: right;\">38.678</td><td style = \"text-align: right;\">0.0</td><td style = \"text-align: right;\">0.0</td><td style = \"text-align: left;\">Very Poor</td></tr><tr><td class = \"rowNumber\" style = \"font-weight: bold; text-align: right;\">76317</td><td style = \"text-align: right;\">76316</td><td style = \"text-align: left;\">70B3D5705000B993</td><td style = \"text-align: left;\">7276FF000B03183D</td><td style = \"text-align: left;\">2023-05-18 12:42:28</td><td style = \"text-align: right;\">-123</td><td style = \"text-align: right;\">-12.0</td><td style = \"text-align: right;\">-27.2155</td><td style = \"text-align: right;\">38.668</td><td style = \"text-align: right;\">0.0</td><td style = \"text-align: right;\">0.0</td><td style = \"text-align: left;\">Very Poor</td></tr><tr><td class = \"rowNumber\" style = \"font-weight: bold; text-align: right;\">76318</td><td style = \"text-align: right;\">76317</td><td style = \"text-align: left;\">70B3D5705000B993</td><td style = \"text-align: left;\">7276FF000B03183D</td><td style = \"text-align: left;\">2023-05-18 19:50:44</td><td style = \"text-align: right;\">-126</td><td style = \"text-align: right;\">-8.8</td><td style = \"text-align: right;\">-27.2113</td><td style = \"text-align: right;\">38.6753</td><td style = \"text-align: right;\">0.0</td><td style = \"text-align: right;\">0.0</td><td style = \"text-align: left;\">Very Poor</td></tr><tr><td class = \"rowNumber\" style = \"font-weight: bold; text-align: right;\">76319</td><td style = \"text-align: right;\">76318</td><td style = \"text-align: left;\">70B3D5705000B993</td><td style = \"text-align: left;\">7276FF000B03183D</td><td style = \"text-align: left;\">2023-05-20 19:56:53</td><td style = \"text-align: right;\">-124</td><td style = \"text-align: right;\">-17.0</td><td style = \"text-align: right;\">-27.2165</td><td style = \"text-align: right;\">38.6678</td><td style = \"text-align: right;\">0.0</td><td style = \"text-align: right;\">0.0</td><td style = \"text-align: left;\">Very Poor</td></tr><tr><td class = \"rowNumber\" style = \"font-weight: bold; text-align: right;\">76320</td><td style = \"text-align: right;\">76319</td><td style = \"text-align: left;\">70B3D5705000B993</td><td style = \"text-align: left;\">7276FF000B03183D</td><td style = \"text-align: left;\">2023-06-02 08:36:03</td><td style = \"text-align: right;\">-125</td><td style = \"text-align: right;\">-12.0</td><td style = \"text-align: right;\">-27.2134</td><td style = \"text-align: right;\">38.6613</td><td style = \"text-align: right;\">0.0</td><td style = \"text-align: right;\">0.0</td><td style = \"text-align: left;\">Very Poor</td></tr><tr><td class = \"rowNumber\" style = \"font-weight: bold; text-align: right;\">76321</td><td style = \"text-align: right;\">76320</td><td style = \"text-align: left;\">70B3D5705000B993</td><td style = \"text-align: left;\">7276FF000B03183D</td><td style = \"text-align: left;\">2023-06-22 11:46:52</td><td style = \"text-align: right;\">-92</td><td style = \"text-align: right;\">10.0</td><td style = \"text-align: right;\">-27.1781</td><td style = \"text-align: right;\">38.696</td><td style = \"text-align: right;\">0.0</td><td style = \"text-align: right;\">0.0</td><td style = \"text-align: left;\">Good Signal Quality</td></tr></tbody></table></div>"
      ],
      "text/latex": [
       "\\begin{tabular}{r|cccccc}\n",
       "\t& Column1 & dev\\_eui & gw\\_eui & timestamp\\_utc\\_iso\\_string & rssi\\_dbm & \\\\\n",
       "\t\\hline\n",
       "\t& Int64 & String31 & String31 & String31 & Int64 & \\\\\n",
       "\t\\hline\n",
       "\t1 & 0 & 0200000000000000 & 7076FF0056060728 & 2022-03-16 03:10:48 & -112 & $\\dots$ \\\\\n",
       "\t2 & 1 & 0200000000000000 & 7076FF0056060728 & 2022-03-16 03:22:19 & -120 & $\\dots$ \\\\\n",
       "\t3 & 2 & 0200000000000000 & 7076FF0056060728 & 2022-03-16 05:41:10 & -100 & $\\dots$ \\\\\n",
       "\t4 & 3 & 0200000000000000 & 7076FF0056060728 & 2022-03-16 05:43:30 & -105 & $\\dots$ \\\\\n",
       "\t5 & 4 & 0200000000000000 & 7076FF0056060728 & 2022-03-16 12:18:26 & -105 & $\\dots$ \\\\\n",
       "\t6 & 5 & 0200000000000000 & 7076FF0056060728 & 2022-03-16 15:38:22 & -102 & $\\dots$ \\\\\n",
       "\t7 & 6 & 0200000000000000 & 7076FF0056060728 & 2022-03-16 23:57:15 & -108 & $\\dots$ \\\\\n",
       "\t8 & 7 & 0200000000000000 & 7076FF0056060728 & 2022-03-16 23:59:34 & -105 & $\\dots$ \\\\\n",
       "\t9 & 8 & 0200000000000000 & 7076FF0056060728 & 2022-03-17 00:01:53 & -107 & $\\dots$ \\\\\n",
       "\t10 & 9 & 0200000000000000 & 7076FF0056060728 & 2022-03-17 00:04:12 & -105 & $\\dots$ \\\\\n",
       "\t11 & 10 & 0200000000000000 & 7076FF0056060728 & 2022-03-17 19:05:30 & -102 & $\\dots$ \\\\\n",
       "\t12 & 11 & 0200000000000000 & 7076FF0056060728 & 2022-03-17 23:00:17 & -101 & $\\dots$ \\\\\n",
       "\t13 & 12 & 0200000000000000 & 7076FF0056060728 & 2022-03-17 23:37:14 & -105 & $\\dots$ \\\\\n",
       "\t14 & 13 & 0200000000000000 & 7076FF0056060728 & 2022-03-17 23:44:09 & -101 & $\\dots$ \\\\\n",
       "\t15 & 14 & 0200000000000000 & 7076FF0056060728 & 2022-03-18 00:46:35 & -103 & $\\dots$ \\\\\n",
       "\t16 & 15 & 0200000000000000 & 7076FF0056060728 & 2022-03-18 00:55:48 & -103 & $\\dots$ \\\\\n",
       "\t17 & 16 & 0200000000000000 & 7076FF0056060728 & 2022-03-18 01:05:01 & -106 & $\\dots$ \\\\\n",
       "\t18 & 17 & 0200000000000000 & 7076FF0056060728 & 2022-03-18 01:09:38 & -102 & $\\dots$ \\\\\n",
       "\t19 & 18 & 0200000000000000 & 7076FF0056060728 & 2022-03-18 01:12:00 & -100 & $\\dots$ \\\\\n",
       "\t20 & 19 & 0200000000000000 & 7076FF0056060728 & 2022-03-18 01:23:30 & -108 & $\\dots$ \\\\\n",
       "\t21 & 20 & 0200000000000000 & 7076FF0056060728 & 2022-03-18 01:25:49 & -104 & $\\dots$ \\\\\n",
       "\t22 & 21 & 0200000000000000 & 7076FF0056060728 & 2022-03-18 01:32:43 & -101 & $\\dots$ \\\\\n",
       "\t23 & 22 & 0200000000000000 & 7076FF0056060728 & 2022-03-18 01:35:01 & -102 & $\\dots$ \\\\\n",
       "\t24 & 23 & 0200000000000000 & 7076FF0056060728 & 2022-03-18 01:46:30 & -102 & $\\dots$ \\\\\n",
       "\t$\\dots$ & $\\dots$ & $\\dots$ & $\\dots$ & $\\dots$ & $\\dots$ &  \\\\\n",
       "\\end{tabular}\n"
      ],
      "text/plain": [
       "\u001b[1m76321×11 DataFrame\u001b[0m\n",
       "\u001b[1m   Row \u001b[0m│\u001b[1m Column1 \u001b[0m\u001b[1m dev_eui          \u001b[0m\u001b[1m gw_eui           \u001b[0m\u001b[1m timestamp_utc_iso_string\u001b[0m ⋯\n",
       "       │\u001b[90m Int64   \u001b[0m\u001b[90m String31         \u001b[0m\u001b[90m String31         \u001b[0m\u001b[90m String31                \u001b[0m ⋯\n",
       "───────┼────────────────────────────────────────────────────────────────────────\n",
       "     1 │       0  0200000000000000  7076FF0056060728  2022-03-16 03:10:48      ⋯\n",
       "     2 │       1  0200000000000000  7076FF0056060728  2022-03-16 03:22:19\n",
       "     3 │       2  0200000000000000  7076FF0056060728  2022-03-16 05:41:10\n",
       "     4 │       3  0200000000000000  7076FF0056060728  2022-03-16 05:43:30\n",
       "     5 │       4  0200000000000000  7076FF0056060728  2022-03-16 12:18:26      ⋯\n",
       "     6 │       5  0200000000000000  7076FF0056060728  2022-03-16 15:38:22\n",
       "     7 │       6  0200000000000000  7076FF0056060728  2022-03-16 23:57:15\n",
       "     8 │       7  0200000000000000  7076FF0056060728  2022-03-16 23:59:34\n",
       "   ⋮   │    ⋮            ⋮                 ⋮                     ⋮             ⋱\n",
       " 76315 │   76314  70B3D5705000B993  7276FF000B03183D  2023-05-15 09:50:48      ⋯\n",
       " 76316 │   76315  70B3D5705000B993  7276FF000B03183D  2023-05-18 12:19:37\n",
       " 76317 │   76316  70B3D5705000B993  7276FF000B03183D  2023-05-18 12:42:28\n",
       " 76318 │   76317  70B3D5705000B993  7276FF000B03183D  2023-05-18 19:50:44\n",
       " 76319 │   76318  70B3D5705000B993  7276FF000B03183D  2023-05-20 19:56:53      ⋯\n",
       " 76320 │   76319  70B3D5705000B993  7276FF000B03183D  2023-06-02 08:36:03\n",
       " 76321 │   76320  70B3D5705000B993  7276FF000B03183D  2023-06-22 11:46:52\n",
       "\u001b[36m                                                7 columns and 76306 rows omitted\u001b[0m"
      ]
     },
     "metadata": {},
     "output_type": "display_data"
    }
   ],
   "source": [
    "select(df, Not(:battery_v))"
   ]
  },
  {
   "cell_type": "code",
   "execution_count": 143,
   "metadata": {},
   "outputs": [
    {
     "data": {
      "text/html": [
       "<div><div style = \"float: left;\"><span>76321×10 DataFrame</span></div><div style = \"float: right;\"><span style = \"font-style: italic;\">76296 rows omitted</span></div><div style = \"clear: both;\"></div></div><div class = \"data-frame\" style = \"overflow-x: scroll;\"><table class = \"data-frame\" style = \"margin-bottom: 6px;\"><thead><tr class = \"header\"><th class = \"rowNumber\" style = \"font-weight: bold; text-align: right;\">Row</th><th style = \"text-align: left;\">Column1</th><th style = \"text-align: left;\">dev_eui</th><th style = \"text-align: left;\">gw_eui</th><th style = \"text-align: left;\">timestamp_utc_iso_string</th><th style = \"text-align: left;\">rssi_dbm</th><th style = \"text-align: left;\">snr_db</th><th style = \"text-align: left;\">battery_v</th><th style = \"text-align: left;\">gw_lon_deg_wgs84</th><th style = \"text-align: left;\">gw_lat_deg_wgs84</th><th style = \"text-align: left;\">signal_quality</th></tr><tr class = \"subheader headerLastRow\"><th class = \"rowNumber\" style = \"font-weight: bold; text-align: right;\"></th><th title = \"Int64\" style = \"text-align: left;\">Int64</th><th title = \"String31\" style = \"text-align: left;\">String31</th><th title = \"String31\" style = \"text-align: left;\">String31</th><th title = \"String31\" style = \"text-align: left;\">String31</th><th title = \"Int64\" style = \"text-align: left;\">Int64</th><th title = \"Float64\" style = \"text-align: left;\">Float64</th><th title = \"Float64\" style = \"text-align: left;\">Float64</th><th title = \"Float64\" style = \"text-align: left;\">Float64</th><th title = \"Float64\" style = \"text-align: left;\">Float64</th><th title = \"String31\" style = \"text-align: left;\">String31</th></tr></thead><tbody><tr><td class = \"rowNumber\" style = \"font-weight: bold; text-align: right;\">1</td><td style = \"text-align: right;\">0</td><td style = \"text-align: left;\">0200000000000000</td><td style = \"text-align: left;\">7076FF0056060728</td><td style = \"text-align: left;\">2022-03-16 03:10:48</td><td style = \"text-align: right;\">-112</td><td style = \"text-align: right;\">6.2</td><td style = \"text-align: right;\">0.0</td><td style = \"text-align: right;\">0.0</td><td style = \"text-align: right;\">0.0</td><td style = \"text-align: left;\">Poor</td></tr><tr><td class = \"rowNumber\" style = \"font-weight: bold; text-align: right;\">2</td><td style = \"text-align: right;\">1</td><td style = \"text-align: left;\">0200000000000000</td><td style = \"text-align: left;\">7076FF0056060728</td><td style = \"text-align: left;\">2022-03-16 03:22:19</td><td style = \"text-align: right;\">-120</td><td style = \"text-align: right;\">0.2</td><td style = \"text-align: right;\">0.0</td><td style = \"text-align: right;\">0.0</td><td style = \"text-align: right;\">0.0</td><td style = \"text-align: left;\">Poor</td></tr><tr><td class = \"rowNumber\" style = \"font-weight: bold; text-align: right;\">3</td><td style = \"text-align: right;\">2</td><td style = \"text-align: left;\">0200000000000000</td><td style = \"text-align: left;\">7076FF0056060728</td><td style = \"text-align: left;\">2022-03-16 05:41:10</td><td style = \"text-align: right;\">-100</td><td style = \"text-align: right;\">10.2</td><td style = \"text-align: right;\">0.0</td><td style = \"text-align: right;\">0.0</td><td style = \"text-align: right;\">0.0</td><td style = \"text-align: left;\">Fair</td></tr><tr><td class = \"rowNumber\" style = \"font-weight: bold; text-align: right;\">4</td><td style = \"text-align: right;\">3</td><td style = \"text-align: left;\">0200000000000000</td><td style = \"text-align: left;\">7076FF0056060728</td><td style = \"text-align: left;\">2022-03-16 05:43:30</td><td style = \"text-align: right;\">-105</td><td style = \"text-align: right;\">9.2</td><td style = \"text-align: right;\">0.0</td><td style = \"text-align: right;\">0.0</td><td style = \"text-align: right;\">0.0</td><td style = \"text-align: left;\">Fair</td></tr><tr><td class = \"rowNumber\" style = \"font-weight: bold; text-align: right;\">5</td><td style = \"text-align: right;\">4</td><td style = \"text-align: left;\">0200000000000000</td><td style = \"text-align: left;\">7076FF0056060728</td><td style = \"text-align: left;\">2022-03-16 12:18:26</td><td style = \"text-align: right;\">-105</td><td style = \"text-align: right;\">8.2</td><td style = \"text-align: right;\">0.0</td><td style = \"text-align: right;\">0.0</td><td style = \"text-align: right;\">0.0</td><td style = \"text-align: left;\">Fair</td></tr><tr><td class = \"rowNumber\" style = \"font-weight: bold; text-align: right;\">6</td><td style = \"text-align: right;\">5</td><td style = \"text-align: left;\">0200000000000000</td><td style = \"text-align: left;\">7076FF0056060728</td><td style = \"text-align: left;\">2022-03-16 15:38:22</td><td style = \"text-align: right;\">-102</td><td style = \"text-align: right;\">9.8</td><td style = \"text-align: right;\">0.0</td><td style = \"text-align: right;\">0.0</td><td style = \"text-align: right;\">0.0</td><td style = \"text-align: left;\">Fair</td></tr><tr><td class = \"rowNumber\" style = \"font-weight: bold; text-align: right;\">7</td><td style = \"text-align: right;\">6</td><td style = \"text-align: left;\">0200000000000000</td><td style = \"text-align: left;\">7076FF0056060728</td><td style = \"text-align: left;\">2022-03-16 23:57:15</td><td style = \"text-align: right;\">-108</td><td style = \"text-align: right;\">8.2</td><td style = \"text-align: right;\">0.0</td><td style = \"text-align: right;\">0.0</td><td style = \"text-align: right;\">0.0</td><td style = \"text-align: left;\">Fair</td></tr><tr><td class = \"rowNumber\" style = \"font-weight: bold; text-align: right;\">8</td><td style = \"text-align: right;\">7</td><td style = \"text-align: left;\">0200000000000000</td><td style = \"text-align: left;\">7076FF0056060728</td><td style = \"text-align: left;\">2022-03-16 23:59:34</td><td style = \"text-align: right;\">-105</td><td style = \"text-align: right;\">8.0</td><td style = \"text-align: right;\">0.0</td><td style = \"text-align: right;\">0.0</td><td style = \"text-align: right;\">0.0</td><td style = \"text-align: left;\">Fair</td></tr><tr><td class = \"rowNumber\" style = \"font-weight: bold; text-align: right;\">9</td><td style = \"text-align: right;\">8</td><td style = \"text-align: left;\">0200000000000000</td><td style = \"text-align: left;\">7076FF0056060728</td><td style = \"text-align: left;\">2022-03-17 00:01:53</td><td style = \"text-align: right;\">-107</td><td style = \"text-align: right;\">8.0</td><td style = \"text-align: right;\">0.0</td><td style = \"text-align: right;\">0.0</td><td style = \"text-align: right;\">0.0</td><td style = \"text-align: left;\">Fair</td></tr><tr><td class = \"rowNumber\" style = \"font-weight: bold; text-align: right;\">10</td><td style = \"text-align: right;\">9</td><td style = \"text-align: left;\">0200000000000000</td><td style = \"text-align: left;\">7076FF0056060728</td><td style = \"text-align: left;\">2022-03-17 00:04:12</td><td style = \"text-align: right;\">-105</td><td style = \"text-align: right;\">9.2</td><td style = \"text-align: right;\">0.0</td><td style = \"text-align: right;\">0.0</td><td style = \"text-align: right;\">0.0</td><td style = \"text-align: left;\">Fair</td></tr><tr><td class = \"rowNumber\" style = \"font-weight: bold; text-align: right;\">11</td><td style = \"text-align: right;\">10</td><td style = \"text-align: left;\">0200000000000000</td><td style = \"text-align: left;\">7076FF0056060728</td><td style = \"text-align: left;\">2022-03-17 19:05:30</td><td style = \"text-align: right;\">-102</td><td style = \"text-align: right;\">9.0</td><td style = \"text-align: right;\">0.0</td><td style = \"text-align: right;\">0.0</td><td style = \"text-align: right;\">0.0</td><td style = \"text-align: left;\">Fair</td></tr><tr><td class = \"rowNumber\" style = \"font-weight: bold; text-align: right;\">12</td><td style = \"text-align: right;\">11</td><td style = \"text-align: left;\">0200000000000000</td><td style = \"text-align: left;\">7076FF0056060728</td><td style = \"text-align: left;\">2022-03-17 23:00:17</td><td style = \"text-align: right;\">-101</td><td style = \"text-align: right;\">8.8</td><td style = \"text-align: right;\">0.0</td><td style = \"text-align: right;\">0.0</td><td style = \"text-align: right;\">0.0</td><td style = \"text-align: left;\">Fair</td></tr><tr><td class = \"rowNumber\" style = \"font-weight: bold; text-align: right;\">13</td><td style = \"text-align: right;\">12</td><td style = \"text-align: left;\">0200000000000000</td><td style = \"text-align: left;\">7076FF0056060728</td><td style = \"text-align: left;\">2022-03-17 23:37:14</td><td style = \"text-align: right;\">-105</td><td style = \"text-align: right;\">9.5</td><td style = \"text-align: right;\">0.0</td><td style = \"text-align: right;\">0.0</td><td style = \"text-align: right;\">0.0</td><td style = \"text-align: left;\">Fair</td></tr><tr><td style = \"text-align: right;\">&vellip;</td><td style = \"text-align: right;\">&vellip;</td><td style = \"text-align: right;\">&vellip;</td><td style = \"text-align: right;\">&vellip;</td><td style = \"text-align: right;\">&vellip;</td><td style = \"text-align: right;\">&vellip;</td><td style = \"text-align: right;\">&vellip;</td><td style = \"text-align: right;\">&vellip;</td><td style = \"text-align: right;\">&vellip;</td><td style = \"text-align: right;\">&vellip;</td><td style = \"text-align: right;\">&vellip;</td></tr><tr><td class = \"rowNumber\" style = \"font-weight: bold; text-align: right;\">76310</td><td style = \"text-align: right;\">76309</td><td style = \"text-align: left;\">70B3D5705000B993</td><td style = \"text-align: left;\">7276FF000B03183D</td><td style = \"text-align: left;\">2023-05-11 08:39:18</td><td style = \"text-align: right;\">-127</td><td style = \"text-align: right;\">-18.2</td><td style = \"text-align: right;\">4.3</td><td style = \"text-align: right;\">0.0</td><td style = \"text-align: right;\">0.0</td><td style = \"text-align: left;\">Very Poor</td></tr><tr><td class = \"rowNumber\" style = \"font-weight: bold; text-align: right;\">76311</td><td style = \"text-align: right;\">76310</td><td style = \"text-align: left;\">70B3D5705000B993</td><td style = \"text-align: left;\">7276FF000B03183D</td><td style = \"text-align: left;\">2023-05-11 08:47:06</td><td style = \"text-align: right;\">-93</td><td style = \"text-align: right;\">5.8</td><td style = \"text-align: right;\">4.3</td><td style = \"text-align: right;\">0.0</td><td style = \"text-align: right;\">0.0</td><td style = \"text-align: left;\">Good</td></tr><tr><td class = \"rowNumber\" style = \"font-weight: bold; text-align: right;\">76312</td><td style = \"text-align: right;\">76311</td><td style = \"text-align: left;\">70B3D5705000B993</td><td style = \"text-align: left;\">7276FF000B03183D</td><td style = \"text-align: left;\">2023-05-11 18:31:16</td><td style = \"text-align: right;\">-125</td><td style = \"text-align: right;\">-8.8</td><td style = \"text-align: right;\">4.3</td><td style = \"text-align: right;\">0.0</td><td style = \"text-align: right;\">0.0</td><td style = \"text-align: left;\">Very Poor</td></tr><tr><td class = \"rowNumber\" style = \"font-weight: bold; text-align: right;\">76313</td><td style = \"text-align: right;\">76312</td><td style = \"text-align: left;\">70B3D5705000B993</td><td style = \"text-align: left;\">7276FF000B03183D</td><td style = \"text-align: left;\">2023-05-12 08:51:56</td><td style = \"text-align: right;\">-90</td><td style = \"text-align: right;\">11.5</td><td style = \"text-align: right;\">4.3</td><td style = \"text-align: right;\">0.0</td><td style = \"text-align: right;\">0.0</td><td style = \"text-align: left;\">Good</td></tr><tr><td class = \"rowNumber\" style = \"font-weight: bold; text-align: right;\">76314</td><td style = \"text-align: right;\">76313</td><td style = \"text-align: left;\">70B3D5705000B993</td><td style = \"text-align: left;\">7276FF000B03183D</td><td style = \"text-align: left;\">2023-05-12 12:21:47</td><td style = \"text-align: right;\">-127</td><td style = \"text-align: right;\">-15.8</td><td style = \"text-align: right;\">4.3</td><td style = \"text-align: right;\">0.0</td><td style = \"text-align: right;\">0.0</td><td style = \"text-align: left;\">Very Poor</td></tr><tr><td class = \"rowNumber\" style = \"font-weight: bold; text-align: right;\">76315</td><td style = \"text-align: right;\">76314</td><td style = \"text-align: left;\">70B3D5705000B993</td><td style = \"text-align: left;\">7276FF000B03183D</td><td style = \"text-align: left;\">2023-05-15 09:50:48</td><td style = \"text-align: right;\">-126</td><td style = \"text-align: right;\">-18.2</td><td style = \"text-align: right;\">4.3</td><td style = \"text-align: right;\">0.0</td><td style = \"text-align: right;\">0.0</td><td style = \"text-align: left;\">Very Poor</td></tr><tr><td class = \"rowNumber\" style = \"font-weight: bold; text-align: right;\">76316</td><td style = \"text-align: right;\">76315</td><td style = \"text-align: left;\">70B3D5705000B993</td><td style = \"text-align: left;\">7276FF000B03183D</td><td style = \"text-align: left;\">2023-05-18 12:19:37</td><td style = \"text-align: right;\">-126</td><td style = \"text-align: right;\">-11.5</td><td style = \"text-align: right;\">4.33</td><td style = \"text-align: right;\">0.0</td><td style = \"text-align: right;\">0.0</td><td style = \"text-align: left;\">Very Poor</td></tr><tr><td class = \"rowNumber\" style = \"font-weight: bold; text-align: right;\">76317</td><td style = \"text-align: right;\">76316</td><td style = \"text-align: left;\">70B3D5705000B993</td><td style = \"text-align: left;\">7276FF000B03183D</td><td style = \"text-align: left;\">2023-05-18 12:42:28</td><td style = \"text-align: right;\">-123</td><td style = \"text-align: right;\">-12.0</td><td style = \"text-align: right;\">4.33</td><td style = \"text-align: right;\">0.0</td><td style = \"text-align: right;\">0.0</td><td style = \"text-align: left;\">Very Poor</td></tr><tr><td class = \"rowNumber\" style = \"font-weight: bold; text-align: right;\">76318</td><td style = \"text-align: right;\">76317</td><td style = \"text-align: left;\">70B3D5705000B993</td><td style = \"text-align: left;\">7276FF000B03183D</td><td style = \"text-align: left;\">2023-05-18 19:50:44</td><td style = \"text-align: right;\">-126</td><td style = \"text-align: right;\">-8.8</td><td style = \"text-align: right;\">4.33</td><td style = \"text-align: right;\">0.0</td><td style = \"text-align: right;\">0.0</td><td style = \"text-align: left;\">Very Poor</td></tr><tr><td class = \"rowNumber\" style = \"font-weight: bold; text-align: right;\">76319</td><td style = \"text-align: right;\">76318</td><td style = \"text-align: left;\">70B3D5705000B993</td><td style = \"text-align: left;\">7276FF000B03183D</td><td style = \"text-align: left;\">2023-05-20 19:56:53</td><td style = \"text-align: right;\">-124</td><td style = \"text-align: right;\">-17.0</td><td style = \"text-align: right;\">4.28</td><td style = \"text-align: right;\">0.0</td><td style = \"text-align: right;\">0.0</td><td style = \"text-align: left;\">Very Poor</td></tr><tr><td class = \"rowNumber\" style = \"font-weight: bold; text-align: right;\">76320</td><td style = \"text-align: right;\">76319</td><td style = \"text-align: left;\">70B3D5705000B993</td><td style = \"text-align: left;\">7276FF000B03183D</td><td style = \"text-align: left;\">2023-06-02 08:36:03</td><td style = \"text-align: right;\">-125</td><td style = \"text-align: right;\">-12.0</td><td style = \"text-align: right;\">4.2</td><td style = \"text-align: right;\">0.0</td><td style = \"text-align: right;\">0.0</td><td style = \"text-align: left;\">Very Poor</td></tr><tr><td class = \"rowNumber\" style = \"font-weight: bold; text-align: right;\">76321</td><td style = \"text-align: right;\">76320</td><td style = \"text-align: left;\">70B3D5705000B993</td><td style = \"text-align: left;\">7276FF000B03183D</td><td style = \"text-align: left;\">2023-06-22 11:46:52</td><td style = \"text-align: right;\">-92</td><td style = \"text-align: right;\">10.0</td><td style = \"text-align: right;\">4.05</td><td style = \"text-align: right;\">0.0</td><td style = \"text-align: right;\">0.0</td><td style = \"text-align: left;\">Good Signal Quality</td></tr></tbody></table></div>"
      ],
      "text/latex": [
       "\\begin{tabular}{r|cccccc}\n",
       "\t& Column1 & dev\\_eui & gw\\_eui & timestamp\\_utc\\_iso\\_string & rssi\\_dbm & \\\\\n",
       "\t\\hline\n",
       "\t& Int64 & String31 & String31 & String31 & Int64 & \\\\\n",
       "\t\\hline\n",
       "\t1 & 0 & 0200000000000000 & 7076FF0056060728 & 2022-03-16 03:10:48 & -112 & $\\dots$ \\\\\n",
       "\t2 & 1 & 0200000000000000 & 7076FF0056060728 & 2022-03-16 03:22:19 & -120 & $\\dots$ \\\\\n",
       "\t3 & 2 & 0200000000000000 & 7076FF0056060728 & 2022-03-16 05:41:10 & -100 & $\\dots$ \\\\\n",
       "\t4 & 3 & 0200000000000000 & 7076FF0056060728 & 2022-03-16 05:43:30 & -105 & $\\dots$ \\\\\n",
       "\t5 & 4 & 0200000000000000 & 7076FF0056060728 & 2022-03-16 12:18:26 & -105 & $\\dots$ \\\\\n",
       "\t6 & 5 & 0200000000000000 & 7076FF0056060728 & 2022-03-16 15:38:22 & -102 & $\\dots$ \\\\\n",
       "\t7 & 6 & 0200000000000000 & 7076FF0056060728 & 2022-03-16 23:57:15 & -108 & $\\dots$ \\\\\n",
       "\t8 & 7 & 0200000000000000 & 7076FF0056060728 & 2022-03-16 23:59:34 & -105 & $\\dots$ \\\\\n",
       "\t9 & 8 & 0200000000000000 & 7076FF0056060728 & 2022-03-17 00:01:53 & -107 & $\\dots$ \\\\\n",
       "\t10 & 9 & 0200000000000000 & 7076FF0056060728 & 2022-03-17 00:04:12 & -105 & $\\dots$ \\\\\n",
       "\t11 & 10 & 0200000000000000 & 7076FF0056060728 & 2022-03-17 19:05:30 & -102 & $\\dots$ \\\\\n",
       "\t12 & 11 & 0200000000000000 & 7076FF0056060728 & 2022-03-17 23:00:17 & -101 & $\\dots$ \\\\\n",
       "\t13 & 12 & 0200000000000000 & 7076FF0056060728 & 2022-03-17 23:37:14 & -105 & $\\dots$ \\\\\n",
       "\t14 & 13 & 0200000000000000 & 7076FF0056060728 & 2022-03-17 23:44:09 & -101 & $\\dots$ \\\\\n",
       "\t15 & 14 & 0200000000000000 & 7076FF0056060728 & 2022-03-18 00:46:35 & -103 & $\\dots$ \\\\\n",
       "\t16 & 15 & 0200000000000000 & 7076FF0056060728 & 2022-03-18 00:55:48 & -103 & $\\dots$ \\\\\n",
       "\t17 & 16 & 0200000000000000 & 7076FF0056060728 & 2022-03-18 01:05:01 & -106 & $\\dots$ \\\\\n",
       "\t18 & 17 & 0200000000000000 & 7076FF0056060728 & 2022-03-18 01:09:38 & -102 & $\\dots$ \\\\\n",
       "\t19 & 18 & 0200000000000000 & 7076FF0056060728 & 2022-03-18 01:12:00 & -100 & $\\dots$ \\\\\n",
       "\t20 & 19 & 0200000000000000 & 7076FF0056060728 & 2022-03-18 01:23:30 & -108 & $\\dots$ \\\\\n",
       "\t21 & 20 & 0200000000000000 & 7076FF0056060728 & 2022-03-18 01:25:49 & -104 & $\\dots$ \\\\\n",
       "\t22 & 21 & 0200000000000000 & 7076FF0056060728 & 2022-03-18 01:32:43 & -101 & $\\dots$ \\\\\n",
       "\t23 & 22 & 0200000000000000 & 7076FF0056060728 & 2022-03-18 01:35:01 & -102 & $\\dots$ \\\\\n",
       "\t24 & 23 & 0200000000000000 & 7076FF0056060728 & 2022-03-18 01:46:30 & -102 & $\\dots$ \\\\\n",
       "\t$\\dots$ & $\\dots$ & $\\dots$ & $\\dots$ & $\\dots$ & $\\dots$ &  \\\\\n",
       "\\end{tabular}\n"
      ],
      "text/plain": [
       "\u001b[1m76321×10 DataFrame\u001b[0m\n",
       "\u001b[1m   Row \u001b[0m│\u001b[1m Column1 \u001b[0m\u001b[1m dev_eui          \u001b[0m\u001b[1m gw_eui           \u001b[0m\u001b[1m timestamp_utc_iso_string\u001b[0m ⋯\n",
       "       │\u001b[90m Int64   \u001b[0m\u001b[90m String31         \u001b[0m\u001b[90m String31         \u001b[0m\u001b[90m String31                \u001b[0m ⋯\n",
       "───────┼────────────────────────────────────────────────────────────────────────\n",
       "     1 │       0  0200000000000000  7076FF0056060728  2022-03-16 03:10:48      ⋯\n",
       "     2 │       1  0200000000000000  7076FF0056060728  2022-03-16 03:22:19\n",
       "     3 │       2  0200000000000000  7076FF0056060728  2022-03-16 05:41:10\n",
       "     4 │       3  0200000000000000  7076FF0056060728  2022-03-16 05:43:30\n",
       "     5 │       4  0200000000000000  7076FF0056060728  2022-03-16 12:18:26      ⋯\n",
       "     6 │       5  0200000000000000  7076FF0056060728  2022-03-16 15:38:22\n",
       "     7 │       6  0200000000000000  7076FF0056060728  2022-03-16 23:57:15\n",
       "     8 │       7  0200000000000000  7076FF0056060728  2022-03-16 23:59:34\n",
       "   ⋮   │    ⋮            ⋮                 ⋮                     ⋮             ⋱\n",
       " 76315 │   76314  70B3D5705000B993  7276FF000B03183D  2023-05-15 09:50:48      ⋯\n",
       " 76316 │   76315  70B3D5705000B993  7276FF000B03183D  2023-05-18 12:19:37\n",
       " 76317 │   76316  70B3D5705000B993  7276FF000B03183D  2023-05-18 12:42:28\n",
       " 76318 │   76317  70B3D5705000B993  7276FF000B03183D  2023-05-18 19:50:44\n",
       " 76319 │   76318  70B3D5705000B993  7276FF000B03183D  2023-05-20 19:56:53      ⋯\n",
       " 76320 │   76319  70B3D5705000B993  7276FF000B03183D  2023-06-02 08:36:03\n",
       " 76321 │   76320  70B3D5705000B993  7276FF000B03183D  2023-06-22 11:46:52\n",
       "\u001b[36m                                                6 columns and 76306 rows omitted\u001b[0m"
      ]
     },
     "metadata": {},
     "output_type": "display_data"
    }
   ],
   "source": [
    "select(df, Not([:dev_lon_deg_wgs84, :dev_lat_deg_wgs84]))"
   ]
  },
  {
   "cell_type": "markdown",
   "metadata": {},
   "source": [
    "**Categorical data**"
   ]
  },
  {
   "cell_type": "code",
   "execution_count": 144,
   "metadata": {},
   "outputs": [
    {
     "name": "stderr",
     "output_type": "stream",
     "text": [
      "\u001b[32m\u001b[1m   Resolving\u001b[22m\u001b[39m package versions...\n"
     ]
    },
    {
     "name": "stderr",
     "output_type": "stream",
     "text": [
      "\u001b[32m\u001b[1m  No Changes\u001b[22m\u001b[39m to `~/Desktop/coding/juliaeo24_notebook/Project.toml`\n",
      "\u001b[32m\u001b[1m  No Changes\u001b[22m\u001b[39m to `~/Desktop/coding/juliaeo24_notebook/Manifest.toml`\n"
     ]
    }
   ],
   "source": [
    "import Pkg; Pkg.add(\"CategoricalArrays\")"
   ]
  },
  {
   "cell_type": "code",
   "execution_count": 145,
   "metadata": {},
   "outputs": [],
   "source": [
    "using CategoricalArrays \n",
    "Pkg.instantiate()"
   ]
  },
  {
   "cell_type": "code",
   "execution_count": 146,
   "metadata": {},
   "outputs": [
    {
     "data": {
      "text/html": [
       "<div><div style = \"float: left;\"><span>76321×12 DataFrame</span></div><div style = \"float: right;\"><span style = \"font-style: italic;\">76296 rows omitted</span></div><div style = \"clear: both;\"></div></div><div class = \"data-frame\" style = \"overflow-x: scroll;\"><table class = \"data-frame\" style = \"margin-bottom: 6px;\"><thead><tr class = \"header\"><th class = \"rowNumber\" style = \"font-weight: bold; text-align: right;\">Row</th><th style = \"text-align: left;\">Column1</th><th style = \"text-align: left;\">dev_eui</th><th style = \"text-align: left;\">gw_eui</th><th style = \"text-align: left;\">timestamp_utc_iso_string</th><th style = \"text-align: left;\">rssi_dbm</th><th style = \"text-align: left;\">snr_db</th><th style = \"text-align: left;\">dev_lon_deg_wgs84</th><th style = \"text-align: left;\">dev_lat_deg_wgs84</th><th style = \"text-align: left;\">battery_v</th><th style = \"text-align: left;\">gw_lon_deg_wgs84</th><th style = \"text-align: left;\">gw_lat_deg_wgs84</th><th style = \"text-align: left;\">signal_quality</th></tr><tr class = \"subheader headerLastRow\"><th class = \"rowNumber\" style = \"font-weight: bold; text-align: right;\"></th><th title = \"Int64\" style = \"text-align: left;\">Int64</th><th title = \"String31\" style = \"text-align: left;\">String31</th><th title = \"String31\" style = \"text-align: left;\">String31</th><th title = \"String31\" style = \"text-align: left;\">String31</th><th title = \"Int64\" style = \"text-align: left;\">Int64</th><th title = \"Float64\" style = \"text-align: left;\">Float64</th><th title = \"Float64\" style = \"text-align: left;\">Float64</th><th title = \"Float64\" style = \"text-align: left;\">Float64</th><th title = \"Float64\" style = \"text-align: left;\">Float64</th><th title = \"Float64\" style = \"text-align: left;\">Float64</th><th title = \"Float64\" style = \"text-align: left;\">Float64</th><th title = \"String31\" style = \"text-align: left;\">String31</th></tr></thead><tbody><tr><td class = \"rowNumber\" style = \"font-weight: bold; text-align: right;\">1</td><td style = \"text-align: right;\">21193</td><td style = \"text-align: left;\">0200000000000000</td><td style = \"text-align: left;\">7076FF0056060729</td><td style = \"text-align: left;\">2022-05-07 19:46:37</td><td style = \"text-align: right;\">-54</td><td style = \"text-align: right;\">13.5</td><td style = \"text-align: right;\">-28.3902</td><td style = \"text-align: right;\">38.4219</td><td style = \"text-align: right;\">0.0</td><td style = \"text-align: right;\">0.0</td><td style = \"text-align: right;\">0.0</td><td style = \"text-align: left;\">Excellent</td></tr><tr><td class = \"rowNumber\" style = \"font-weight: bold; text-align: right;\">2</td><td style = \"text-align: right;\">21194</td><td style = \"text-align: left;\">0200000000000000</td><td style = \"text-align: left;\">7076FF0056060729</td><td style = \"text-align: left;\">2022-05-07 19:49:14</td><td style = \"text-align: right;\">-56</td><td style = \"text-align: right;\">12.0</td><td style = \"text-align: right;\">-28.3901</td><td style = \"text-align: right;\">38.4219</td><td style = \"text-align: right;\">0.0</td><td style = \"text-align: right;\">0.0</td><td style = \"text-align: right;\">0.0</td><td style = \"text-align: left;\">Excellent</td></tr><tr><td class = \"rowNumber\" style = \"font-weight: bold; text-align: right;\">3</td><td style = \"text-align: right;\">21195</td><td style = \"text-align: left;\">0200000000000000</td><td style = \"text-align: left;\">7076FF0056060729</td><td style = \"text-align: left;\">2022-05-07 19:51:56</td><td style = \"text-align: right;\">-54</td><td style = \"text-align: right;\">12.2</td><td style = \"text-align: right;\">-28.3901</td><td style = \"text-align: right;\">38.4218</td><td style = \"text-align: right;\">0.0</td><td style = \"text-align: right;\">0.0</td><td style = \"text-align: right;\">0.0</td><td style = \"text-align: left;\">Excellent</td></tr><tr><td class = \"rowNumber\" style = \"font-weight: bold; text-align: right;\">4</td><td style = \"text-align: right;\">21197</td><td style = \"text-align: left;\">0200000000000000</td><td style = \"text-align: left;\">7076FF0056060729</td><td style = \"text-align: left;\">2022-05-09 08:52:11</td><td style = \"text-align: right;\">-58</td><td style = \"text-align: right;\">11.0</td><td style = \"text-align: right;\">-28.3902</td><td style = \"text-align: right;\">38.4218</td><td style = \"text-align: right;\">0.0</td><td style = \"text-align: right;\">0.0</td><td style = \"text-align: right;\">0.0</td><td style = \"text-align: left;\">Excellent</td></tr><tr><td class = \"rowNumber\" style = \"font-weight: bold; text-align: right;\">5</td><td style = \"text-align: right;\">21198</td><td style = \"text-align: left;\">0200000000000000</td><td style = \"text-align: left;\">7076FF0056060729</td><td style = \"text-align: left;\">2022-05-09 08:54:47</td><td style = \"text-align: right;\">-56</td><td style = \"text-align: right;\">11.8</td><td style = \"text-align: right;\">-28.3903</td><td style = \"text-align: right;\">38.4218</td><td style = \"text-align: right;\">0.0</td><td style = \"text-align: right;\">0.0</td><td style = \"text-align: right;\">0.0</td><td style = \"text-align: left;\">Excellent</td></tr><tr><td class = \"rowNumber\" style = \"font-weight: bold; text-align: right;\">6</td><td style = \"text-align: right;\">21200</td><td style = \"text-align: left;\">0200000000000000</td><td style = \"text-align: left;\">7076FF0056060729</td><td style = \"text-align: left;\">2022-05-09 09:00:32</td><td style = \"text-align: right;\">-56</td><td style = \"text-align: right;\">12.2</td><td style = \"text-align: right;\">-28.3903</td><td style = \"text-align: right;\">38.4218</td><td style = \"text-align: right;\">0.0</td><td style = \"text-align: right;\">0.0</td><td style = \"text-align: right;\">0.0</td><td style = \"text-align: left;\">Excellent</td></tr><tr><td class = \"rowNumber\" style = \"font-weight: bold; text-align: right;\">7</td><td style = \"text-align: right;\">21203</td><td style = \"text-align: left;\">0200000000000000</td><td style = \"text-align: left;\">7076FF0056060729</td><td style = \"text-align: left;\">2022-05-12 12:02:22</td><td style = \"text-align: right;\">-54</td><td style = \"text-align: right;\">11.8</td><td style = \"text-align: right;\">-28.3902</td><td style = \"text-align: right;\">38.4218</td><td style = \"text-align: right;\">0.0</td><td style = \"text-align: right;\">0.0</td><td style = \"text-align: right;\">0.0</td><td style = \"text-align: left;\">Excellent</td></tr><tr><td class = \"rowNumber\" style = \"font-weight: bold; text-align: right;\">8</td><td style = \"text-align: right;\">21204</td><td style = \"text-align: left;\">0200000000000000</td><td style = \"text-align: left;\">7076FF0056060729</td><td style = \"text-align: left;\">2022-05-16 13:30:27</td><td style = \"text-align: right;\">-71</td><td style = \"text-align: right;\">11.5</td><td style = \"text-align: right;\">-28.3902</td><td style = \"text-align: right;\">38.4218</td><td style = \"text-align: right;\">0.0</td><td style = \"text-align: right;\">0.0</td><td style = \"text-align: right;\">0.0</td><td style = \"text-align: left;\">Excellent</td></tr><tr><td class = \"rowNumber\" style = \"font-weight: bold; text-align: right;\">9</td><td style = \"text-align: right;\">21205</td><td style = \"text-align: left;\">0200000000000000</td><td style = \"text-align: left;\">7076FF0056060729</td><td style = \"text-align: left;\">2022-05-17 11:44:15</td><td style = \"text-align: right;\">-60</td><td style = \"text-align: right;\">14.0</td><td style = \"text-align: right;\">-28.3903</td><td style = \"text-align: right;\">38.4218</td><td style = \"text-align: right;\">0.0</td><td style = \"text-align: right;\">0.0</td><td style = \"text-align: right;\">0.0</td><td style = \"text-align: left;\">Excellent</td></tr><tr><td class = \"rowNumber\" style = \"font-weight: bold; text-align: right;\">10</td><td style = \"text-align: right;\">21206</td><td style = \"text-align: left;\">0200000000000000</td><td style = \"text-align: left;\">7076FF0056060729</td><td style = \"text-align: left;\">2022-05-17 11:47:35</td><td style = \"text-align: right;\">-59</td><td style = \"text-align: right;\">10.5</td><td style = \"text-align: right;\">-28.3903</td><td style = \"text-align: right;\">38.4219</td><td style = \"text-align: right;\">0.0</td><td style = \"text-align: right;\">0.0</td><td style = \"text-align: right;\">0.0</td><td style = \"text-align: left;\">Excellent</td></tr><tr><td class = \"rowNumber\" style = \"font-weight: bold; text-align: right;\">11</td><td style = \"text-align: right;\">21208</td><td style = \"text-align: left;\">0200000000000000</td><td style = \"text-align: left;\">7076FF0056060729</td><td style = \"text-align: left;\">2022-05-18 12:52:41</td><td style = \"text-align: right;\">-58</td><td style = \"text-align: right;\">13.2</td><td style = \"text-align: right;\">-28.3903</td><td style = \"text-align: right;\">38.4218</td><td style = \"text-align: right;\">0.0</td><td style = \"text-align: right;\">0.0</td><td style = \"text-align: right;\">0.0</td><td style = \"text-align: left;\">Excellent</td></tr><tr><td class = \"rowNumber\" style = \"font-weight: bold; text-align: right;\">12</td><td style = \"text-align: right;\">21209</td><td style = \"text-align: left;\">0200000000000000</td><td style = \"text-align: left;\">7076FF0056060729</td><td style = \"text-align: left;\">2022-05-18 13:01:27</td><td style = \"text-align: right;\">-58</td><td style = \"text-align: right;\">15.5</td><td style = \"text-align: right;\">-28.3902</td><td style = \"text-align: right;\">38.4218</td><td style = \"text-align: right;\">0.0</td><td style = \"text-align: right;\">0.0</td><td style = \"text-align: right;\">0.0</td><td style = \"text-align: left;\">Excellent</td></tr><tr><td class = \"rowNumber\" style = \"font-weight: bold; text-align: right;\">13</td><td style = \"text-align: right;\">21211</td><td style = \"text-align: left;\">0200000000000000</td><td style = \"text-align: left;\">7076FF0056060729</td><td style = \"text-align: left;\">2022-05-18 13:07:36</td><td style = \"text-align: right;\">-57</td><td style = \"text-align: right;\">12.5</td><td style = \"text-align: right;\">-28.3904</td><td style = \"text-align: right;\">38.4218</td><td style = \"text-align: right;\">0.0</td><td style = \"text-align: right;\">0.0</td><td style = \"text-align: right;\">0.0</td><td style = \"text-align: left;\">Excellent</td></tr><tr><td style = \"text-align: right;\">&vellip;</td><td style = \"text-align: right;\">&vellip;</td><td style = \"text-align: right;\">&vellip;</td><td style = \"text-align: right;\">&vellip;</td><td style = \"text-align: right;\">&vellip;</td><td style = \"text-align: right;\">&vellip;</td><td style = \"text-align: right;\">&vellip;</td><td style = \"text-align: right;\">&vellip;</td><td style = \"text-align: right;\">&vellip;</td><td style = \"text-align: right;\">&vellip;</td><td style = \"text-align: right;\">&vellip;</td><td style = \"text-align: right;\">&vellip;</td><td style = \"text-align: right;\">&vellip;</td></tr><tr><td class = \"rowNumber\" style = \"font-weight: bold; text-align: right;\">76310</td><td style = \"text-align: right;\">76303</td><td style = \"text-align: left;\">0200000000000000</td><td style = \"text-align: left;\">7276FF000B03183D</td><td style = \"text-align: left;\">2022-11-08 19:11:56</td><td style = \"text-align: right;\">-126</td><td style = \"text-align: right;\">-4.0</td><td style = \"text-align: right;\">-27.3459</td><td style = \"text-align: right;\">38.5664</td><td style = \"text-align: right;\">0.0</td><td style = \"text-align: right;\">0.0</td><td style = \"text-align: right;\">0.0</td><td style = \"text-align: left;\">Very Poor</td></tr><tr><td class = \"rowNumber\" style = \"font-weight: bold; text-align: right;\">76311</td><td style = \"text-align: right;\">76306</td><td style = \"text-align: left;\">70B3D5705000B993</td><td style = \"text-align: left;\">7276FF000B03183D</td><td style = \"text-align: left;\">2023-05-03 17:11:55</td><td style = \"text-align: right;\">-127</td><td style = \"text-align: right;\">-9.8</td><td style = \"text-align: right;\">-27.2136</td><td style = \"text-align: right;\">38.6606</td><td style = \"text-align: right;\">4.38</td><td style = \"text-align: right;\">0.0</td><td style = \"text-align: right;\">0.0</td><td style = \"text-align: left;\">Very Poor</td></tr><tr><td class = \"rowNumber\" style = \"font-weight: bold; text-align: right;\">76312</td><td style = \"text-align: right;\">76308</td><td style = \"text-align: left;\">70B3D5705000B993</td><td style = \"text-align: left;\">7276FF000B03183D</td><td style = \"text-align: left;\">2023-05-07 18:15:11</td><td style = \"text-align: right;\">-125</td><td style = \"text-align: right;\">-17.5</td><td style = \"text-align: right;\">-27.1832</td><td style = \"text-align: right;\">38.7201</td><td style = \"text-align: right;\">4.33</td><td style = \"text-align: right;\">0.0</td><td style = \"text-align: right;\">0.0</td><td style = \"text-align: left;\">Very Poor</td></tr><tr><td class = \"rowNumber\" style = \"font-weight: bold; text-align: right;\">76313</td><td style = \"text-align: right;\">76309</td><td style = \"text-align: left;\">70B3D5705000B993</td><td style = \"text-align: left;\">7276FF000B03183D</td><td style = \"text-align: left;\">2023-05-11 08:39:18</td><td style = \"text-align: right;\">-127</td><td style = \"text-align: right;\">-18.2</td><td style = \"text-align: right;\">-27.2133</td><td style = \"text-align: right;\">38.6612</td><td style = \"text-align: right;\">4.3</td><td style = \"text-align: right;\">0.0</td><td style = \"text-align: right;\">0.0</td><td style = \"text-align: left;\">Very Poor</td></tr><tr><td class = \"rowNumber\" style = \"font-weight: bold; text-align: right;\">76314</td><td style = \"text-align: right;\">76311</td><td style = \"text-align: left;\">70B3D5705000B993</td><td style = \"text-align: left;\">7276FF000B03183D</td><td style = \"text-align: left;\">2023-05-11 18:31:16</td><td style = \"text-align: right;\">-125</td><td style = \"text-align: right;\">-8.8</td><td style = \"text-align: right;\">-27.206</td><td style = \"text-align: right;\">38.6814</td><td style = \"text-align: right;\">4.3</td><td style = \"text-align: right;\">0.0</td><td style = \"text-align: right;\">0.0</td><td style = \"text-align: left;\">Very Poor</td></tr><tr><td class = \"rowNumber\" style = \"font-weight: bold; text-align: right;\">76315</td><td style = \"text-align: right;\">76313</td><td style = \"text-align: left;\">70B3D5705000B993</td><td style = \"text-align: left;\">7276FF000B03183D</td><td style = \"text-align: left;\">2023-05-12 12:21:47</td><td style = \"text-align: right;\">-127</td><td style = \"text-align: right;\">-15.8</td><td style = \"text-align: right;\">-27.2137</td><td style = \"text-align: right;\">38.6763</td><td style = \"text-align: right;\">4.3</td><td style = \"text-align: right;\">0.0</td><td style = \"text-align: right;\">0.0</td><td style = \"text-align: left;\">Very Poor</td></tr><tr><td class = \"rowNumber\" style = \"font-weight: bold; text-align: right;\">76316</td><td style = \"text-align: right;\">76314</td><td style = \"text-align: left;\">70B3D5705000B993</td><td style = \"text-align: left;\">7276FF000B03183D</td><td style = \"text-align: left;\">2023-05-15 09:50:48</td><td style = \"text-align: right;\">-126</td><td style = \"text-align: right;\">-18.2</td><td style = \"text-align: right;\">-27.2122</td><td style = \"text-align: right;\">38.6619</td><td style = \"text-align: right;\">4.3</td><td style = \"text-align: right;\">0.0</td><td style = \"text-align: right;\">0.0</td><td style = \"text-align: left;\">Very Poor</td></tr><tr><td class = \"rowNumber\" style = \"font-weight: bold; text-align: right;\">76317</td><td style = \"text-align: right;\">76315</td><td style = \"text-align: left;\">70B3D5705000B993</td><td style = \"text-align: left;\">7276FF000B03183D</td><td style = \"text-align: left;\">2023-05-18 12:19:37</td><td style = \"text-align: right;\">-126</td><td style = \"text-align: right;\">-11.5</td><td style = \"text-align: right;\">-27.2075</td><td style = \"text-align: right;\">38.678</td><td style = \"text-align: right;\">4.33</td><td style = \"text-align: right;\">0.0</td><td style = \"text-align: right;\">0.0</td><td style = \"text-align: left;\">Very Poor</td></tr><tr><td class = \"rowNumber\" style = \"font-weight: bold; text-align: right;\">76318</td><td style = \"text-align: right;\">76316</td><td style = \"text-align: left;\">70B3D5705000B993</td><td style = \"text-align: left;\">7276FF000B03183D</td><td style = \"text-align: left;\">2023-05-18 12:42:28</td><td style = \"text-align: right;\">-123</td><td style = \"text-align: right;\">-12.0</td><td style = \"text-align: right;\">-27.2155</td><td style = \"text-align: right;\">38.668</td><td style = \"text-align: right;\">4.33</td><td style = \"text-align: right;\">0.0</td><td style = \"text-align: right;\">0.0</td><td style = \"text-align: left;\">Very Poor</td></tr><tr><td class = \"rowNumber\" style = \"font-weight: bold; text-align: right;\">76319</td><td style = \"text-align: right;\">76317</td><td style = \"text-align: left;\">70B3D5705000B993</td><td style = \"text-align: left;\">7276FF000B03183D</td><td style = \"text-align: left;\">2023-05-18 19:50:44</td><td style = \"text-align: right;\">-126</td><td style = \"text-align: right;\">-8.8</td><td style = \"text-align: right;\">-27.2113</td><td style = \"text-align: right;\">38.6753</td><td style = \"text-align: right;\">4.33</td><td style = \"text-align: right;\">0.0</td><td style = \"text-align: right;\">0.0</td><td style = \"text-align: left;\">Very Poor</td></tr><tr><td class = \"rowNumber\" style = \"font-weight: bold; text-align: right;\">76320</td><td style = \"text-align: right;\">76318</td><td style = \"text-align: left;\">70B3D5705000B993</td><td style = \"text-align: left;\">7276FF000B03183D</td><td style = \"text-align: left;\">2023-05-20 19:56:53</td><td style = \"text-align: right;\">-124</td><td style = \"text-align: right;\">-17.0</td><td style = \"text-align: right;\">-27.2165</td><td style = \"text-align: right;\">38.6678</td><td style = \"text-align: right;\">4.28</td><td style = \"text-align: right;\">0.0</td><td style = \"text-align: right;\">0.0</td><td style = \"text-align: left;\">Very Poor</td></tr><tr><td class = \"rowNumber\" style = \"font-weight: bold; text-align: right;\">76321</td><td style = \"text-align: right;\">76319</td><td style = \"text-align: left;\">70B3D5705000B993</td><td style = \"text-align: left;\">7276FF000B03183D</td><td style = \"text-align: left;\">2023-06-02 08:36:03</td><td style = \"text-align: right;\">-125</td><td style = \"text-align: right;\">-12.0</td><td style = \"text-align: right;\">-27.2134</td><td style = \"text-align: right;\">38.6613</td><td style = \"text-align: right;\">4.2</td><td style = \"text-align: right;\">0.0</td><td style = \"text-align: right;\">0.0</td><td style = \"text-align: left;\">Very Poor</td></tr></tbody></table></div>"
      ],
      "text/latex": [
       "\\begin{tabular}{r|cccccc}\n",
       "\t& Column1 & dev\\_eui & gw\\_eui & timestamp\\_utc\\_iso\\_string & rssi\\_dbm & \\\\\n",
       "\t\\hline\n",
       "\t& Int64 & String31 & String31 & String31 & Int64 & \\\\\n",
       "\t\\hline\n",
       "\t1 & 21193 & 0200000000000000 & 7076FF0056060729 & 2022-05-07 19:46:37 & -54 & $\\dots$ \\\\\n",
       "\t2 & 21194 & 0200000000000000 & 7076FF0056060729 & 2022-05-07 19:49:14 & -56 & $\\dots$ \\\\\n",
       "\t3 & 21195 & 0200000000000000 & 7076FF0056060729 & 2022-05-07 19:51:56 & -54 & $\\dots$ \\\\\n",
       "\t4 & 21197 & 0200000000000000 & 7076FF0056060729 & 2022-05-09 08:52:11 & -58 & $\\dots$ \\\\\n",
       "\t5 & 21198 & 0200000000000000 & 7076FF0056060729 & 2022-05-09 08:54:47 & -56 & $\\dots$ \\\\\n",
       "\t6 & 21200 & 0200000000000000 & 7076FF0056060729 & 2022-05-09 09:00:32 & -56 & $\\dots$ \\\\\n",
       "\t7 & 21203 & 0200000000000000 & 7076FF0056060729 & 2022-05-12 12:02:22 & -54 & $\\dots$ \\\\\n",
       "\t8 & 21204 & 0200000000000000 & 7076FF0056060729 & 2022-05-16 13:30:27 & -71 & $\\dots$ \\\\\n",
       "\t9 & 21205 & 0200000000000000 & 7076FF0056060729 & 2022-05-17 11:44:15 & -60 & $\\dots$ \\\\\n",
       "\t10 & 21206 & 0200000000000000 & 7076FF0056060729 & 2022-05-17 11:47:35 & -59 & $\\dots$ \\\\\n",
       "\t11 & 21208 & 0200000000000000 & 7076FF0056060729 & 2022-05-18 12:52:41 & -58 & $\\dots$ \\\\\n",
       "\t12 & 21209 & 0200000000000000 & 7076FF0056060729 & 2022-05-18 13:01:27 & -58 & $\\dots$ \\\\\n",
       "\t13 & 21211 & 0200000000000000 & 7076FF0056060729 & 2022-05-18 13:07:36 & -57 & $\\dots$ \\\\\n",
       "\t14 & 21212 & 0200000000000000 & 7076FF0056060729 & 2022-05-18 13:10:17 & -57 & $\\dots$ \\\\\n",
       "\t15 & 21213 & 0200000000000000 & 7076FF0056060729 & 2022-05-18 13:12:59 & -63 & $\\dots$ \\\\\n",
       "\t16 & 21215 & 0200000000000000 & 7076FF0056060729 & 2022-05-18 13:18:25 & -69 & $\\dots$ \\\\\n",
       "\t17 & 21216 & 0200000000000000 & 7076FF0056060729 & 2022-05-19 14:21:11 & -64 & $\\dots$ \\\\\n",
       "\t18 & 21218 & 0200000000000000 & 7076FF0056060729 & 2022-05-21 12:08:06 & -84 & $\\dots$ \\\\\n",
       "\t19 & 23296 & 0200000000000000 & 7076FF00560705D1 & 2022-02-24 12:03:21 & -88 & $\\dots$ \\\\\n",
       "\t20 & 23297 & 0200000000000000 & 7076FF00560705D1 & 2022-02-24 12:03:54 & -89 & $\\dots$ \\\\\n",
       "\t21 & 23301 & 0200000000000000 & 7076FF00560705D1 & 2022-02-24 12:31:34 & -84 & $\\dots$ \\\\\n",
       "\t22 & 23304 & 0200000000000000 & 7076FF00560705D1 & 2022-02-24 12:33:14 & -89 & $\\dots$ \\\\\n",
       "\t23 & 23313 & 0200000000000000 & 7076FF00560705D1 & 2022-02-24 13:25:22 & -89 & $\\dots$ \\\\\n",
       "\t24 & 23315 & 0200000000000000 & 7076FF00560705D1 & 2022-02-24 13:26:29 & -88 & $\\dots$ \\\\\n",
       "\t$\\dots$ & $\\dots$ & $\\dots$ & $\\dots$ & $\\dots$ & $\\dots$ &  \\\\\n",
       "\\end{tabular}\n"
      ],
      "text/plain": [
       "\u001b[1m76321×12 DataFrame\u001b[0m\n",
       "\u001b[1m   Row \u001b[0m│\u001b[1m Column1 \u001b[0m\u001b[1m dev_eui          \u001b[0m\u001b[1m gw_eui           \u001b[0m\u001b[1m timestamp_utc_iso_string\u001b[0m ⋯\n",
       "       │\u001b[90m Int64   \u001b[0m\u001b[90m String31         \u001b[0m\u001b[90m String31         \u001b[0m\u001b[90m String31                \u001b[0m ⋯\n",
       "───────┼────────────────────────────────────────────────────────────────────────\n",
       "     1 │   21193  0200000000000000  7076FF0056060729  2022-05-07 19:46:37      ⋯\n",
       "     2 │   21194  0200000000000000  7076FF0056060729  2022-05-07 19:49:14\n",
       "     3 │   21195  0200000000000000  7076FF0056060729  2022-05-07 19:51:56\n",
       "     4 │   21197  0200000000000000  7076FF0056060729  2022-05-09 08:52:11\n",
       "     5 │   21198  0200000000000000  7076FF0056060729  2022-05-09 08:54:47      ⋯\n",
       "     6 │   21200  0200000000000000  7076FF0056060729  2022-05-09 09:00:32\n",
       "     7 │   21203  0200000000000000  7076FF0056060729  2022-05-12 12:02:22\n",
       "     8 │   21204  0200000000000000  7076FF0056060729  2022-05-16 13:30:27\n",
       "   ⋮   │    ⋮            ⋮                 ⋮                     ⋮             ⋱\n",
       " 76315 │   76313  70B3D5705000B993  7276FF000B03183D  2023-05-12 12:21:47      ⋯\n",
       " 76316 │   76314  70B3D5705000B993  7276FF000B03183D  2023-05-15 09:50:48\n",
       " 76317 │   76315  70B3D5705000B993  7276FF000B03183D  2023-05-18 12:19:37\n",
       " 76318 │   76316  70B3D5705000B993  7276FF000B03183D  2023-05-18 12:42:28\n",
       " 76319 │   76317  70B3D5705000B993  7276FF000B03183D  2023-05-18 19:50:44      ⋯\n",
       " 76320 │   76318  70B3D5705000B993  7276FF000B03183D  2023-05-20 19:56:53\n",
       " 76321 │   76319  70B3D5705000B993  7276FF000B03183D  2023-06-02 08:36:03\n",
       "\u001b[36m                                                8 columns and 76306 rows omitted\u001b[0m"
      ]
     },
     "metadata": {},
     "output_type": "display_data"
    }
   ],
   "source": [
    "sort(df, :signal_quality)"
   ]
  },
  {
   "cell_type": "markdown",
   "metadata": {},
   "source": [
    "**Groupby**"
   ]
  },
  {
   "cell_type": "code",
   "execution_count": 147,
   "metadata": {},
   "outputs": [
    {
     "data": {
      "text/html": [
       "<p><b>GroupedDataFrame with 9 groups based on key: gw_eui</b></p><div><div style = \"float: left;\"><span>First Group (21189 rows): gw_eui = &quot;7076FF0056060728&quot;</span></div><div style = \"float: right;\"><span style = \"font-style: italic;\">21164 rows omitted</span></div><div style = \"clear: both;\"></div></div><div class = \"data-frame\" style = \"overflow-x: scroll;\"><table class = \"data-frame\" style = \"margin-bottom: 6px;\"><thead><tr class = \"header\"><th class = \"rowNumber\" style = \"font-weight: bold; text-align: right;\">Row</th><th style = \"text-align: left;\">Column1</th><th style = \"text-align: left;\">dev_eui</th><th style = \"text-align: left;\">gw_eui</th><th style = \"text-align: left;\">timestamp_utc_iso_string</th><th style = \"text-align: left;\">rssi_dbm</th><th style = \"text-align: left;\">snr_db</th><th style = \"text-align: left;\">dev_lon_deg_wgs84</th><th style = \"text-align: left;\">dev_lat_deg_wgs84</th><th style = \"text-align: left;\">battery_v</th><th style = \"text-align: left;\">gw_lon_deg_wgs84</th><th style = \"text-align: left;\">gw_lat_deg_wgs84</th><th style = \"text-align: left;\">signal_quality</th></tr><tr class = \"subheader headerLastRow\"><th class = \"rowNumber\" style = \"font-weight: bold; text-align: right;\"></th><th title = \"Int64\" style = \"text-align: left;\">Int64</th><th title = \"String31\" style = \"text-align: left;\">String31</th><th title = \"String31\" style = \"text-align: left;\">String31</th><th title = \"String31\" style = \"text-align: left;\">String31</th><th title = \"Int64\" style = \"text-align: left;\">Int64</th><th title = \"Float64\" style = \"text-align: left;\">Float64</th><th title = \"Float64\" style = \"text-align: left;\">Float64</th><th title = \"Float64\" style = \"text-align: left;\">Float64</th><th title = \"Float64\" style = \"text-align: left;\">Float64</th><th title = \"Float64\" style = \"text-align: left;\">Float64</th><th title = \"Float64\" style = \"text-align: left;\">Float64</th><th title = \"String31\" style = \"text-align: left;\">String31</th></tr></thead><tbody><tr><td class = \"rowNumber\" style = \"font-weight: bold; text-align: right;\">1</td><td style = \"text-align: right;\">0</td><td style = \"text-align: left;\">0200000000000000</td><td style = \"text-align: left;\">7076FF0056060728</td><td style = \"text-align: left;\">2022-03-16 03:10:48</td><td style = \"text-align: right;\">-112</td><td style = \"text-align: right;\">6.2</td><td style = \"text-align: right;\">-27.2673</td><td style = \"text-align: right;\">38.6557</td><td style = \"text-align: right;\">0.0</td><td style = \"text-align: right;\">0.0</td><td style = \"text-align: right;\">0.0</td><td style = \"text-align: left;\">Poor</td></tr><tr><td class = \"rowNumber\" style = \"font-weight: bold; text-align: right;\">2</td><td style = \"text-align: right;\">1</td><td style = \"text-align: left;\">0200000000000000</td><td style = \"text-align: left;\">7076FF0056060728</td><td style = \"text-align: left;\">2022-03-16 03:22:19</td><td style = \"text-align: right;\">-120</td><td style = \"text-align: right;\">0.2</td><td style = \"text-align: right;\">-27.2675</td><td style = \"text-align: right;\">38.6555</td><td style = \"text-align: right;\">0.0</td><td style = \"text-align: right;\">0.0</td><td style = \"text-align: right;\">0.0</td><td style = \"text-align: left;\">Poor</td></tr><tr><td class = \"rowNumber\" style = \"font-weight: bold; text-align: right;\">3</td><td style = \"text-align: right;\">2</td><td style = \"text-align: left;\">0200000000000000</td><td style = \"text-align: left;\">7076FF0056060728</td><td style = \"text-align: left;\">2022-03-16 05:41:10</td><td style = \"text-align: right;\">-100</td><td style = \"text-align: right;\">10.2</td><td style = \"text-align: right;\">-27.2671</td><td style = \"text-align: right;\">38.6556</td><td style = \"text-align: right;\">0.0</td><td style = \"text-align: right;\">0.0</td><td style = \"text-align: right;\">0.0</td><td style = \"text-align: left;\">Fair</td></tr><tr><td class = \"rowNumber\" style = \"font-weight: bold; text-align: right;\">4</td><td style = \"text-align: right;\">3</td><td style = \"text-align: left;\">0200000000000000</td><td style = \"text-align: left;\">7076FF0056060728</td><td style = \"text-align: left;\">2022-03-16 05:43:30</td><td style = \"text-align: right;\">-105</td><td style = \"text-align: right;\">9.2</td><td style = \"text-align: right;\">-27.2672</td><td style = \"text-align: right;\">38.6554</td><td style = \"text-align: right;\">0.0</td><td style = \"text-align: right;\">0.0</td><td style = \"text-align: right;\">0.0</td><td style = \"text-align: left;\">Fair</td></tr><tr><td class = \"rowNumber\" style = \"font-weight: bold; text-align: right;\">5</td><td style = \"text-align: right;\">4</td><td style = \"text-align: left;\">0200000000000000</td><td style = \"text-align: left;\">7076FF0056060728</td><td style = \"text-align: left;\">2022-03-16 12:18:26</td><td style = \"text-align: right;\">-105</td><td style = \"text-align: right;\">8.2</td><td style = \"text-align: right;\">-27.2666</td><td style = \"text-align: right;\">38.6562</td><td style = \"text-align: right;\">0.0</td><td style = \"text-align: right;\">0.0</td><td style = \"text-align: right;\">0.0</td><td style = \"text-align: left;\">Fair</td></tr><tr><td class = \"rowNumber\" style = \"font-weight: bold; text-align: right;\">6</td><td style = \"text-align: right;\">5</td><td style = \"text-align: left;\">0200000000000000</td><td style = \"text-align: left;\">7076FF0056060728</td><td style = \"text-align: left;\">2022-03-16 15:38:22</td><td style = \"text-align: right;\">-102</td><td style = \"text-align: right;\">9.8</td><td style = \"text-align: right;\">-27.2673</td><td style = \"text-align: right;\">38.6556</td><td style = \"text-align: right;\">0.0</td><td style = \"text-align: right;\">0.0</td><td style = \"text-align: right;\">0.0</td><td style = \"text-align: left;\">Fair</td></tr><tr><td class = \"rowNumber\" style = \"font-weight: bold; text-align: right;\">7</td><td style = \"text-align: right;\">6</td><td style = \"text-align: left;\">0200000000000000</td><td style = \"text-align: left;\">7076FF0056060728</td><td style = \"text-align: left;\">2022-03-16 23:57:15</td><td style = \"text-align: right;\">-108</td><td style = \"text-align: right;\">8.2</td><td style = \"text-align: right;\">-27.2668</td><td style = \"text-align: right;\">38.6561</td><td style = \"text-align: right;\">0.0</td><td style = \"text-align: right;\">0.0</td><td style = \"text-align: right;\">0.0</td><td style = \"text-align: left;\">Fair</td></tr><tr><td class = \"rowNumber\" style = \"font-weight: bold; text-align: right;\">8</td><td style = \"text-align: right;\">7</td><td style = \"text-align: left;\">0200000000000000</td><td style = \"text-align: left;\">7076FF0056060728</td><td style = \"text-align: left;\">2022-03-16 23:59:34</td><td style = \"text-align: right;\">-105</td><td style = \"text-align: right;\">8.0</td><td style = \"text-align: right;\">-27.267</td><td style = \"text-align: right;\">38.6561</td><td style = \"text-align: right;\">0.0</td><td style = \"text-align: right;\">0.0</td><td style = \"text-align: right;\">0.0</td><td style = \"text-align: left;\">Fair</td></tr><tr><td class = \"rowNumber\" style = \"font-weight: bold; text-align: right;\">9</td><td style = \"text-align: right;\">8</td><td style = \"text-align: left;\">0200000000000000</td><td style = \"text-align: left;\">7076FF0056060728</td><td style = \"text-align: left;\">2022-03-17 00:01:53</td><td style = \"text-align: right;\">-107</td><td style = \"text-align: right;\">8.0</td><td style = \"text-align: right;\">-27.267</td><td style = \"text-align: right;\">38.656</td><td style = \"text-align: right;\">0.0</td><td style = \"text-align: right;\">0.0</td><td style = \"text-align: right;\">0.0</td><td style = \"text-align: left;\">Fair</td></tr><tr><td class = \"rowNumber\" style = \"font-weight: bold; text-align: right;\">10</td><td style = \"text-align: right;\">9</td><td style = \"text-align: left;\">0200000000000000</td><td style = \"text-align: left;\">7076FF0056060728</td><td style = \"text-align: left;\">2022-03-17 00:04:12</td><td style = \"text-align: right;\">-105</td><td style = \"text-align: right;\">9.2</td><td style = \"text-align: right;\">-27.2671</td><td style = \"text-align: right;\">38.6558</td><td style = \"text-align: right;\">0.0</td><td style = \"text-align: right;\">0.0</td><td style = \"text-align: right;\">0.0</td><td style = \"text-align: left;\">Fair</td></tr><tr><td class = \"rowNumber\" style = \"font-weight: bold; text-align: right;\">11</td><td style = \"text-align: right;\">10</td><td style = \"text-align: left;\">0200000000000000</td><td style = \"text-align: left;\">7076FF0056060728</td><td style = \"text-align: left;\">2022-03-17 19:05:30</td><td style = \"text-align: right;\">-102</td><td style = \"text-align: right;\">9.0</td><td style = \"text-align: right;\">-27.2671</td><td style = \"text-align: right;\">38.6557</td><td style = \"text-align: right;\">0.0</td><td style = \"text-align: right;\">0.0</td><td style = \"text-align: right;\">0.0</td><td style = \"text-align: left;\">Fair</td></tr><tr><td class = \"rowNumber\" style = \"font-weight: bold; text-align: right;\">12</td><td style = \"text-align: right;\">11</td><td style = \"text-align: left;\">0200000000000000</td><td style = \"text-align: left;\">7076FF0056060728</td><td style = \"text-align: left;\">2022-03-17 23:00:17</td><td style = \"text-align: right;\">-101</td><td style = \"text-align: right;\">8.8</td><td style = \"text-align: right;\">-27.2671</td><td style = \"text-align: right;\">38.6552</td><td style = \"text-align: right;\">0.0</td><td style = \"text-align: right;\">0.0</td><td style = \"text-align: right;\">0.0</td><td style = \"text-align: left;\">Fair</td></tr><tr><td class = \"rowNumber\" style = \"font-weight: bold; text-align: right;\">13</td><td style = \"text-align: right;\">12</td><td style = \"text-align: left;\">0200000000000000</td><td style = \"text-align: left;\">7076FF0056060728</td><td style = \"text-align: left;\">2022-03-17 23:37:14</td><td style = \"text-align: right;\">-105</td><td style = \"text-align: right;\">9.5</td><td style = \"text-align: right;\">-27.2671</td><td style = \"text-align: right;\">38.6554</td><td style = \"text-align: right;\">0.0</td><td style = \"text-align: right;\">0.0</td><td style = \"text-align: right;\">0.0</td><td style = \"text-align: left;\">Fair</td></tr><tr><td style = \"text-align: right;\">&vellip;</td><td style = \"text-align: right;\">&vellip;</td><td style = \"text-align: right;\">&vellip;</td><td style = \"text-align: right;\">&vellip;</td><td style = \"text-align: right;\">&vellip;</td><td style = \"text-align: right;\">&vellip;</td><td style = \"text-align: right;\">&vellip;</td><td style = \"text-align: right;\">&vellip;</td><td style = \"text-align: right;\">&vellip;</td><td style = \"text-align: right;\">&vellip;</td><td style = \"text-align: right;\">&vellip;</td><td style = \"text-align: right;\">&vellip;</td><td style = \"text-align: right;\">&vellip;</td></tr><tr><td class = \"rowNumber\" style = \"font-weight: bold; text-align: right;\">21178</td><td style = \"text-align: right;\">21177</td><td style = \"text-align: left;\">0200000000000000</td><td style = \"text-align: left;\">7076FF0056060728</td><td style = \"text-align: left;\">2023-03-05 11:20:54</td><td style = \"text-align: right;\">-102</td><td style = \"text-align: right;\">8.5</td><td style = \"text-align: right;\">-27.267</td><td style = \"text-align: right;\">38.6557</td><td style = \"text-align: right;\">0.0</td><td style = \"text-align: right;\">0.0</td><td style = \"text-align: right;\">0.0</td><td style = \"text-align: left;\">Fair</td></tr><tr><td class = \"rowNumber\" style = \"font-weight: bold; text-align: right;\">21179</td><td style = \"text-align: right;\">21178</td><td style = \"text-align: left;\">0200000000000000</td><td style = \"text-align: left;\">7076FF0056060728</td><td style = \"text-align: left;\">2023-03-05 11:23:13</td><td style = \"text-align: right;\">-100</td><td style = \"text-align: right;\">9.0</td><td style = \"text-align: right;\">-27.267</td><td style = \"text-align: right;\">38.6556</td><td style = \"text-align: right;\">0.0</td><td style = \"text-align: right;\">0.0</td><td style = \"text-align: right;\">0.0</td><td style = \"text-align: left;\">Fair</td></tr><tr><td class = \"rowNumber\" style = \"font-weight: bold; text-align: right;\">21180</td><td style = \"text-align: right;\">21179</td><td style = \"text-align: left;\">0200000000000000</td><td style = \"text-align: left;\">7076FF0056060728</td><td style = \"text-align: left;\">2023-03-07 09:52:01</td><td style = \"text-align: right;\">-103</td><td style = \"text-align: right;\">9.2</td><td style = \"text-align: right;\">-27.2669</td><td style = \"text-align: right;\">38.656</td><td style = \"text-align: right;\">0.0</td><td style = \"text-align: right;\">0.0</td><td style = \"text-align: right;\">0.0</td><td style = \"text-align: left;\">Fair</td></tr><tr><td class = \"rowNumber\" style = \"font-weight: bold; text-align: right;\">21181</td><td style = \"text-align: right;\">21180</td><td style = \"text-align: left;\">0200000000000000</td><td style = \"text-align: left;\">7076FF0056060728</td><td style = \"text-align: left;\">2023-03-07 09:54:21</td><td style = \"text-align: right;\">-102</td><td style = \"text-align: right;\">8.8</td><td style = \"text-align: right;\">-27.267</td><td style = \"text-align: right;\">38.6557</td><td style = \"text-align: right;\">0.0</td><td style = \"text-align: right;\">0.0</td><td style = \"text-align: right;\">0.0</td><td style = \"text-align: left;\">Fair</td></tr><tr><td class = \"rowNumber\" style = \"font-weight: bold; text-align: right;\">21182</td><td style = \"text-align: right;\">21181</td><td style = \"text-align: left;\">0200000000000000</td><td style = \"text-align: left;\">7076FF0056060728</td><td style = \"text-align: left;\">2023-03-08 11:59:40</td><td style = \"text-align: right;\">-103</td><td style = \"text-align: right;\">7.8</td><td style = \"text-align: right;\">-27.2667</td><td style = \"text-align: right;\">38.6556</td><td style = \"text-align: right;\">0.0</td><td style = \"text-align: right;\">0.0</td><td style = \"text-align: right;\">0.0</td><td style = \"text-align: left;\">Fair</td></tr><tr><td class = \"rowNumber\" style = \"font-weight: bold; text-align: right;\">21183</td><td style = \"text-align: right;\">21182</td><td style = \"text-align: left;\">0200000000000000</td><td style = \"text-align: left;\">7076FF0056060728</td><td style = \"text-align: left;\">2023-03-08 12:01:57</td><td style = \"text-align: right;\">-100</td><td style = \"text-align: right;\">9.5</td><td style = \"text-align: right;\">-27.267</td><td style = \"text-align: right;\">38.6556</td><td style = \"text-align: right;\">0.0</td><td style = \"text-align: right;\">0.0</td><td style = \"text-align: right;\">0.0</td><td style = \"text-align: left;\">Fair</td></tr><tr><td class = \"rowNumber\" style = \"font-weight: bold; text-align: right;\">21184</td><td style = \"text-align: right;\">21183</td><td style = \"text-align: left;\">0200000000000000</td><td style = \"text-align: left;\">7076FF0056060728</td><td style = \"text-align: left;\">2023-03-09 09:39:45</td><td style = \"text-align: right;\">-102</td><td style = \"text-align: right;\">8.8</td><td style = \"text-align: right;\">-27.2669</td><td style = \"text-align: right;\">38.6557</td><td style = \"text-align: right;\">0.0</td><td style = \"text-align: right;\">0.0</td><td style = \"text-align: right;\">0.0</td><td style = \"text-align: left;\">Fair</td></tr><tr><td class = \"rowNumber\" style = \"font-weight: bold; text-align: right;\">21185</td><td style = \"text-align: right;\">21184</td><td style = \"text-align: left;\">0200000000000000</td><td style = \"text-align: left;\">7076FF0056060728</td><td style = \"text-align: left;\">2023-03-09 09:42:07</td><td style = \"text-align: right;\">-102</td><td style = \"text-align: right;\">9.2</td><td style = \"text-align: right;\">-27.267</td><td style = \"text-align: right;\">38.6556</td><td style = \"text-align: right;\">0.0</td><td style = \"text-align: right;\">0.0</td><td style = \"text-align: right;\">0.0</td><td style = \"text-align: left;\">Fair</td></tr><tr><td class = \"rowNumber\" style = \"font-weight: bold; text-align: right;\">21186</td><td style = \"text-align: right;\">21185</td><td style = \"text-align: left;\">0200000000000000</td><td style = \"text-align: left;\">7076FF0056060728</td><td style = \"text-align: left;\">2023-03-09 10:46:14</td><td style = \"text-align: right;\">-101</td><td style = \"text-align: right;\">10.8</td><td style = \"text-align: right;\">-27.267</td><td style = \"text-align: right;\">38.6556</td><td style = \"text-align: right;\">0.0</td><td style = \"text-align: right;\">0.0</td><td style = \"text-align: right;\">0.0</td><td style = \"text-align: left;\">Fair</td></tr><tr><td class = \"rowNumber\" style = \"font-weight: bold; text-align: right;\">21187</td><td style = \"text-align: right;\">21186</td><td style = \"text-align: left;\">0200000000000000</td><td style = \"text-align: left;\">7076FF0056060728</td><td style = \"text-align: left;\">2023-03-09 10:48:31</td><td style = \"text-align: right;\">-101</td><td style = \"text-align: right;\">9.0</td><td style = \"text-align: right;\">-27.267</td><td style = \"text-align: right;\">38.6556</td><td style = \"text-align: right;\">0.0</td><td style = \"text-align: right;\">0.0</td><td style = \"text-align: right;\">0.0</td><td style = \"text-align: left;\">Fair</td></tr><tr><td class = \"rowNumber\" style = \"font-weight: bold; text-align: right;\">21188</td><td style = \"text-align: right;\">21187</td><td style = \"text-align: left;\">0200000000000000</td><td style = \"text-align: left;\">7076FF0056060728</td><td style = \"text-align: left;\">2023-03-10 12:16:52</td><td style = \"text-align: right;\">-103</td><td style = \"text-align: right;\">10.5</td><td style = \"text-align: right;\">-27.267</td><td style = \"text-align: right;\">38.6557</td><td style = \"text-align: right;\">0.0</td><td style = \"text-align: right;\">0.0</td><td style = \"text-align: right;\">0.0</td><td style = \"text-align: left;\">Fair</td></tr><tr><td class = \"rowNumber\" style = \"font-weight: bold; text-align: right;\">21189</td><td style = \"text-align: right;\">21188</td><td style = \"text-align: left;\">0200000000000000</td><td style = \"text-align: left;\">7076FF0056060728</td><td style = \"text-align: left;\">2023-03-10 12:19:11</td><td style = \"text-align: right;\">-106</td><td style = \"text-align: right;\">8.8</td><td style = \"text-align: right;\">-27.267</td><td style = \"text-align: right;\">38.6556</td><td style = \"text-align: right;\">0.0</td><td style = \"text-align: right;\">0.0</td><td style = \"text-align: right;\">0.0</td><td style = \"text-align: left;\">Fair</td></tr></tbody></table></div><p>&vellip;</p><div><div style = \"float: left;\"><span>Last Group (612 rows): gw_eui = &quot;7276FF000B03183D&quot;</span></div><div style = \"float: right;\"><span style = \"font-style: italic;\">587 rows omitted</span></div><div style = \"clear: both;\"></div></div><div class = \"data-frame\" style = \"overflow-x: scroll;\"><table class = \"data-frame\" style = \"margin-bottom: 6px;\"><thead><tr class = \"header\"><th class = \"rowNumber\" style = \"font-weight: bold; text-align: right;\">Row</th><th style = \"text-align: left;\">Column1</th><th style = \"text-align: left;\">dev_eui</th><th style = \"text-align: left;\">gw_eui</th><th style = \"text-align: left;\">timestamp_utc_iso_string</th><th style = \"text-align: left;\">rssi_dbm</th><th style = \"text-align: left;\">snr_db</th><th style = \"text-align: left;\">dev_lon_deg_wgs84</th><th style = \"text-align: left;\">dev_lat_deg_wgs84</th><th style = \"text-align: left;\">battery_v</th><th style = \"text-align: left;\">gw_lon_deg_wgs84</th><th style = \"text-align: left;\">gw_lat_deg_wgs84</th><th style = \"text-align: left;\">signal_quality</th></tr><tr class = \"subheader headerLastRow\"><th class = \"rowNumber\" style = \"font-weight: bold; text-align: right;\"></th><th title = \"Int64\" style = \"text-align: left;\">Int64</th><th title = \"String31\" style = \"text-align: left;\">String31</th><th title = \"String31\" style = \"text-align: left;\">String31</th><th title = \"String31\" style = \"text-align: left;\">String31</th><th title = \"Int64\" style = \"text-align: left;\">Int64</th><th title = \"Float64\" style = \"text-align: left;\">Float64</th><th title = \"Float64\" style = \"text-align: left;\">Float64</th><th title = \"Float64\" style = \"text-align: left;\">Float64</th><th title = \"Float64\" style = \"text-align: left;\">Float64</th><th title = \"Float64\" style = \"text-align: left;\">Float64</th><th title = \"Float64\" style = \"text-align: left;\">Float64</th><th title = \"String31\" style = \"text-align: left;\">String31</th></tr></thead><tbody><tr><td class = \"rowNumber\" style = \"font-weight: bold; text-align: right;\">1</td><td style = \"text-align: right;\">75709</td><td style = \"text-align: left;\">0200000000000000</td><td style = \"text-align: left;\">7276FF000B03183D</td><td style = \"text-align: left;\">2022-02-25 17:22:06</td><td style = \"text-align: right;\">-125</td><td style = \"text-align: right;\">-5.0</td><td style = \"text-align: right;\">-27.2336</td><td style = \"text-align: right;\">38.6935</td><td style = \"text-align: right;\">0.0</td><td style = \"text-align: right;\">0.0</td><td style = \"text-align: right;\">0.0</td><td style = \"text-align: left;\">Very Poor</td></tr><tr><td class = \"rowNumber\" style = \"font-weight: bold; text-align: right;\">2</td><td style = \"text-align: right;\">75710</td><td style = \"text-align: left;\">0200000000000000</td><td style = \"text-align: left;\">7276FF000B03183D</td><td style = \"text-align: left;\">2022-02-25 20:59:37</td><td style = \"text-align: right;\">-115</td><td style = \"text-align: right;\">6.2</td><td style = \"text-align: right;\">-27.2014</td><td style = \"text-align: right;\">38.6822</td><td style = \"text-align: right;\">0.0</td><td style = \"text-align: right;\">0.0</td><td style = \"text-align: right;\">0.0</td><td style = \"text-align: left;\">Poor</td></tr><tr><td class = \"rowNumber\" style = \"font-weight: bold; text-align: right;\">3</td><td style = \"text-align: right;\">75711</td><td style = \"text-align: left;\">0200000000000000</td><td style = \"text-align: left;\">7276FF000B03183D</td><td style = \"text-align: left;\">2022-02-25 21:00:44</td><td style = \"text-align: right;\">-100</td><td style = \"text-align: right;\">9.5</td><td style = \"text-align: right;\">-27.1898</td><td style = \"text-align: right;\">38.6879</td><td style = \"text-align: right;\">0.0</td><td style = \"text-align: right;\">0.0</td><td style = \"text-align: right;\">0.0</td><td style = \"text-align: left;\">Fair</td></tr><tr><td class = \"rowNumber\" style = \"font-weight: bold; text-align: right;\">4</td><td style = \"text-align: right;\">75712</td><td style = \"text-align: left;\">0200000000000000</td><td style = \"text-align: left;\">7276FF000B03183D</td><td style = \"text-align: left;\">2022-02-26 15:10:27</td><td style = \"text-align: right;\">-118</td><td style = \"text-align: right;\">2.5</td><td style = \"text-align: right;\">-27.2017</td><td style = \"text-align: right;\">38.6821</td><td style = \"text-align: right;\">0.0</td><td style = \"text-align: right;\">0.0</td><td style = \"text-align: right;\">0.0</td><td style = \"text-align: left;\">Poor</td></tr><tr><td class = \"rowNumber\" style = \"font-weight: bold; text-align: right;\">5</td><td style = \"text-align: right;\">75713</td><td style = \"text-align: left;\">0200000000000000</td><td style = \"text-align: left;\">7276FF000B03183D</td><td style = \"text-align: left;\">2022-02-26 15:11:33</td><td style = \"text-align: right;\">-94</td><td style = \"text-align: right;\">7.8</td><td style = \"text-align: right;\">-27.1903</td><td style = \"text-align: right;\">38.6876</td><td style = \"text-align: right;\">0.0</td><td style = \"text-align: right;\">0.0</td><td style = \"text-align: right;\">0.0</td><td style = \"text-align: left;\">Good</td></tr><tr><td class = \"rowNumber\" style = \"font-weight: bold; text-align: right;\">6</td><td style = \"text-align: right;\">75714</td><td style = \"text-align: left;\">0200000000000000</td><td style = \"text-align: left;\">7276FF000B03183D</td><td style = \"text-align: left;\">2022-02-26 15:12:06</td><td style = \"text-align: right;\">-102</td><td style = \"text-align: right;\">9.5</td><td style = \"text-align: right;\">-27.1827</td><td style = \"text-align: right;\">38.6929</td><td style = \"text-align: right;\">0.0</td><td style = \"text-align: right;\">0.0</td><td style = \"text-align: right;\">0.0</td><td style = \"text-align: left;\">Fair</td></tr><tr><td class = \"rowNumber\" style = \"font-weight: bold; text-align: right;\">7</td><td style = \"text-align: right;\">75715</td><td style = \"text-align: left;\">0200000000000000</td><td style = \"text-align: left;\">7276FF000B03183D</td><td style = \"text-align: left;\">2022-02-26 19:21:07</td><td style = \"text-align: right;\">-102</td><td style = \"text-align: right;\">11.5</td><td style = \"text-align: right;\">-27.183</td><td style = \"text-align: right;\">38.7864</td><td style = \"text-align: right;\">0.0</td><td style = \"text-align: right;\">0.0</td><td style = \"text-align: right;\">0.0</td><td style = \"text-align: left;\">Fair</td></tr><tr><td class = \"rowNumber\" style = \"font-weight: bold; text-align: right;\">8</td><td style = \"text-align: right;\">75716</td><td style = \"text-align: left;\">0200000000000000</td><td style = \"text-align: left;\">7276FF000B03183D</td><td style = \"text-align: left;\">2022-02-26 19:47:56</td><td style = \"text-align: right;\">-114</td><td style = \"text-align: right;\">9.2</td><td style = \"text-align: right;\">-27.1607</td><td style = \"text-align: right;\">38.7092</td><td style = \"text-align: right;\">0.0</td><td style = \"text-align: right;\">0.0</td><td style = \"text-align: right;\">0.0</td><td style = \"text-align: left;\">Poor</td></tr><tr><td class = \"rowNumber\" style = \"font-weight: bold; text-align: right;\">9</td><td style = \"text-align: right;\">75717</td><td style = \"text-align: left;\">0200000000000000</td><td style = \"text-align: left;\">7276FF000B03183D</td><td style = \"text-align: left;\">2022-02-26 19:48:29</td><td style = \"text-align: right;\">-112</td><td style = \"text-align: right;\">8.8</td><td style = \"text-align: right;\">-27.1674</td><td style = \"text-align: right;\">38.7038</td><td style = \"text-align: right;\">0.0</td><td style = \"text-align: right;\">0.0</td><td style = \"text-align: right;\">0.0</td><td style = \"text-align: left;\">Poor</td></tr><tr><td class = \"rowNumber\" style = \"font-weight: bold; text-align: right;\">10</td><td style = \"text-align: right;\">75718</td><td style = \"text-align: left;\">0200000000000000</td><td style = \"text-align: left;\">7276FF000B03183D</td><td style = \"text-align: left;\">2022-02-26 19:49:02</td><td style = \"text-align: right;\">-102</td><td style = \"text-align: right;\">6.8</td><td style = \"text-align: right;\">-27.1747</td><td style = \"text-align: right;\">38.6986</td><td style = \"text-align: right;\">0.0</td><td style = \"text-align: right;\">0.0</td><td style = \"text-align: right;\">0.0</td><td style = \"text-align: left;\">Fair</td></tr><tr><td class = \"rowNumber\" style = \"font-weight: bold; text-align: right;\">11</td><td style = \"text-align: right;\">75719</td><td style = \"text-align: left;\">0200000000000000</td><td style = \"text-align: left;\">7276FF000B03183D</td><td style = \"text-align: left;\">2022-02-26 19:49:35</td><td style = \"text-align: right;\">-94</td><td style = \"text-align: right;\">6.8</td><td style = \"text-align: right;\">-27.182</td><td style = \"text-align: right;\">38.6935</td><td style = \"text-align: right;\">0.0</td><td style = \"text-align: right;\">0.0</td><td style = \"text-align: right;\">0.0</td><td style = \"text-align: left;\">Good</td></tr><tr><td class = \"rowNumber\" style = \"font-weight: bold; text-align: right;\">12</td><td style = \"text-align: right;\">75720</td><td style = \"text-align: left;\">0200000000000000</td><td style = \"text-align: left;\">7276FF000B03183D</td><td style = \"text-align: left;\">2022-02-26 19:50:09</td><td style = \"text-align: right;\">-120</td><td style = \"text-align: right;\">5.5</td><td style = \"text-align: right;\">-27.1894</td><td style = \"text-align: right;\">38.6883</td><td style = \"text-align: right;\">0.0</td><td style = \"text-align: right;\">0.0</td><td style = \"text-align: right;\">0.0</td><td style = \"text-align: left;\">Poor</td></tr><tr><td class = \"rowNumber\" style = \"font-weight: bold; text-align: right;\">13</td><td style = \"text-align: right;\">75721</td><td style = \"text-align: left;\">0200000000000000</td><td style = \"text-align: left;\">7276FF000B03183D</td><td style = \"text-align: left;\">2022-02-27 20:25:08</td><td style = \"text-align: right;\">-126</td><td style = \"text-align: right;\">-4.5</td><td style = \"text-align: right;\">-27.2271</td><td style = \"text-align: right;\">38.682</td><td style = \"text-align: right;\">0.0</td><td style = \"text-align: right;\">0.0</td><td style = \"text-align: right;\">0.0</td><td style = \"text-align: left;\">Very Poor</td></tr><tr><td style = \"text-align: right;\">&vellip;</td><td style = \"text-align: right;\">&vellip;</td><td style = \"text-align: right;\">&vellip;</td><td style = \"text-align: right;\">&vellip;</td><td style = \"text-align: right;\">&vellip;</td><td style = \"text-align: right;\">&vellip;</td><td style = \"text-align: right;\">&vellip;</td><td style = \"text-align: right;\">&vellip;</td><td style = \"text-align: right;\">&vellip;</td><td style = \"text-align: right;\">&vellip;</td><td style = \"text-align: right;\">&vellip;</td><td style = \"text-align: right;\">&vellip;</td><td style = \"text-align: right;\">&vellip;</td></tr><tr><td class = \"rowNumber\" style = \"font-weight: bold; text-align: right;\">601</td><td style = \"text-align: right;\">76309</td><td style = \"text-align: left;\">70B3D5705000B993</td><td style = \"text-align: left;\">7276FF000B03183D</td><td style = \"text-align: left;\">2023-05-11 08:39:18</td><td style = \"text-align: right;\">-127</td><td style = \"text-align: right;\">-18.2</td><td style = \"text-align: right;\">-27.2133</td><td style = \"text-align: right;\">38.6612</td><td style = \"text-align: right;\">4.3</td><td style = \"text-align: right;\">0.0</td><td style = \"text-align: right;\">0.0</td><td style = \"text-align: left;\">Very Poor</td></tr><tr><td class = \"rowNumber\" style = \"font-weight: bold; text-align: right;\">602</td><td style = \"text-align: right;\">76310</td><td style = \"text-align: left;\">70B3D5705000B993</td><td style = \"text-align: left;\">7276FF000B03183D</td><td style = \"text-align: left;\">2023-05-11 08:47:06</td><td style = \"text-align: right;\">-93</td><td style = \"text-align: right;\">5.8</td><td style = \"text-align: right;\">-27.1831</td><td style = \"text-align: right;\">38.6925</td><td style = \"text-align: right;\">4.3</td><td style = \"text-align: right;\">0.0</td><td style = \"text-align: right;\">0.0</td><td style = \"text-align: left;\">Good</td></tr><tr><td class = \"rowNumber\" style = \"font-weight: bold; text-align: right;\">603</td><td style = \"text-align: right;\">76311</td><td style = \"text-align: left;\">70B3D5705000B993</td><td style = \"text-align: left;\">7276FF000B03183D</td><td style = \"text-align: left;\">2023-05-11 18:31:16</td><td style = \"text-align: right;\">-125</td><td style = \"text-align: right;\">-8.8</td><td style = \"text-align: right;\">-27.206</td><td style = \"text-align: right;\">38.6814</td><td style = \"text-align: right;\">4.3</td><td style = \"text-align: right;\">0.0</td><td style = \"text-align: right;\">0.0</td><td style = \"text-align: left;\">Very Poor</td></tr><tr><td class = \"rowNumber\" style = \"font-weight: bold; text-align: right;\">604</td><td style = \"text-align: right;\">76312</td><td style = \"text-align: left;\">70B3D5705000B993</td><td style = \"text-align: left;\">7276FF000B03183D</td><td style = \"text-align: left;\">2023-05-12 08:51:56</td><td style = \"text-align: right;\">-90</td><td style = \"text-align: right;\">11.5</td><td style = \"text-align: right;\">-27.1878</td><td style = \"text-align: right;\">38.6891</td><td style = \"text-align: right;\">4.3</td><td style = \"text-align: right;\">0.0</td><td style = \"text-align: right;\">0.0</td><td style = \"text-align: left;\">Good</td></tr><tr><td class = \"rowNumber\" style = \"font-weight: bold; text-align: right;\">605</td><td style = \"text-align: right;\">76313</td><td style = \"text-align: left;\">70B3D5705000B993</td><td style = \"text-align: left;\">7276FF000B03183D</td><td style = \"text-align: left;\">2023-05-12 12:21:47</td><td style = \"text-align: right;\">-127</td><td style = \"text-align: right;\">-15.8</td><td style = \"text-align: right;\">-27.2137</td><td style = \"text-align: right;\">38.6763</td><td style = \"text-align: right;\">4.3</td><td style = \"text-align: right;\">0.0</td><td style = \"text-align: right;\">0.0</td><td style = \"text-align: left;\">Very Poor</td></tr><tr><td class = \"rowNumber\" style = \"font-weight: bold; text-align: right;\">606</td><td style = \"text-align: right;\">76314</td><td style = \"text-align: left;\">70B3D5705000B993</td><td style = \"text-align: left;\">7276FF000B03183D</td><td style = \"text-align: left;\">2023-05-15 09:50:48</td><td style = \"text-align: right;\">-126</td><td style = \"text-align: right;\">-18.2</td><td style = \"text-align: right;\">-27.2122</td><td style = \"text-align: right;\">38.6619</td><td style = \"text-align: right;\">4.3</td><td style = \"text-align: right;\">0.0</td><td style = \"text-align: right;\">0.0</td><td style = \"text-align: left;\">Very Poor</td></tr><tr><td class = \"rowNumber\" style = \"font-weight: bold; text-align: right;\">607</td><td style = \"text-align: right;\">76315</td><td style = \"text-align: left;\">70B3D5705000B993</td><td style = \"text-align: left;\">7276FF000B03183D</td><td style = \"text-align: left;\">2023-05-18 12:19:37</td><td style = \"text-align: right;\">-126</td><td style = \"text-align: right;\">-11.5</td><td style = \"text-align: right;\">-27.2075</td><td style = \"text-align: right;\">38.678</td><td style = \"text-align: right;\">4.33</td><td style = \"text-align: right;\">0.0</td><td style = \"text-align: right;\">0.0</td><td style = \"text-align: left;\">Very Poor</td></tr><tr><td class = \"rowNumber\" style = \"font-weight: bold; text-align: right;\">608</td><td style = \"text-align: right;\">76316</td><td style = \"text-align: left;\">70B3D5705000B993</td><td style = \"text-align: left;\">7276FF000B03183D</td><td style = \"text-align: left;\">2023-05-18 12:42:28</td><td style = \"text-align: right;\">-123</td><td style = \"text-align: right;\">-12.0</td><td style = \"text-align: right;\">-27.2155</td><td style = \"text-align: right;\">38.668</td><td style = \"text-align: right;\">4.33</td><td style = \"text-align: right;\">0.0</td><td style = \"text-align: right;\">0.0</td><td style = \"text-align: left;\">Very Poor</td></tr><tr><td class = \"rowNumber\" style = \"font-weight: bold; text-align: right;\">609</td><td style = \"text-align: right;\">76317</td><td style = \"text-align: left;\">70B3D5705000B993</td><td style = \"text-align: left;\">7276FF000B03183D</td><td style = \"text-align: left;\">2023-05-18 19:50:44</td><td style = \"text-align: right;\">-126</td><td style = \"text-align: right;\">-8.8</td><td style = \"text-align: right;\">-27.2113</td><td style = \"text-align: right;\">38.6753</td><td style = \"text-align: right;\">4.33</td><td style = \"text-align: right;\">0.0</td><td style = \"text-align: right;\">0.0</td><td style = \"text-align: left;\">Very Poor</td></tr><tr><td class = \"rowNumber\" style = \"font-weight: bold; text-align: right;\">610</td><td style = \"text-align: right;\">76318</td><td style = \"text-align: left;\">70B3D5705000B993</td><td style = \"text-align: left;\">7276FF000B03183D</td><td style = \"text-align: left;\">2023-05-20 19:56:53</td><td style = \"text-align: right;\">-124</td><td style = \"text-align: right;\">-17.0</td><td style = \"text-align: right;\">-27.2165</td><td style = \"text-align: right;\">38.6678</td><td style = \"text-align: right;\">4.28</td><td style = \"text-align: right;\">0.0</td><td style = \"text-align: right;\">0.0</td><td style = \"text-align: left;\">Very Poor</td></tr><tr><td class = \"rowNumber\" style = \"font-weight: bold; text-align: right;\">611</td><td style = \"text-align: right;\">76319</td><td style = \"text-align: left;\">70B3D5705000B993</td><td style = \"text-align: left;\">7276FF000B03183D</td><td style = \"text-align: left;\">2023-06-02 08:36:03</td><td style = \"text-align: right;\">-125</td><td style = \"text-align: right;\">-12.0</td><td style = \"text-align: right;\">-27.2134</td><td style = \"text-align: right;\">38.6613</td><td style = \"text-align: right;\">4.2</td><td style = \"text-align: right;\">0.0</td><td style = \"text-align: right;\">0.0</td><td style = \"text-align: left;\">Very Poor</td></tr><tr><td class = \"rowNumber\" style = \"font-weight: bold; text-align: right;\">612</td><td style = \"text-align: right;\">76320</td><td style = \"text-align: left;\">70B3D5705000B993</td><td style = \"text-align: left;\">7276FF000B03183D</td><td style = \"text-align: left;\">2023-06-22 11:46:52</td><td style = \"text-align: right;\">-92</td><td style = \"text-align: right;\">10.0</td><td style = \"text-align: right;\">-27.1781</td><td style = \"text-align: right;\">38.696</td><td style = \"text-align: right;\">4.05</td><td style = \"text-align: right;\">0.0</td><td style = \"text-align: right;\">0.0</td><td style = \"text-align: left;\">Good Signal Quality</td></tr></tbody></table></div>"
      ],
      "text/latex": [
       "GroupedDataFrame with 9 groups based on key: gw\\_eui\n",
       "\n",
       "First Group (21189 rows): gw\\_eui = \"7076FF0056060728\"\n",
       "\n",
       "\\begin{tabular}{r|cccccc}\n",
       "\t& Column1 & dev\\_eui & gw\\_eui & timestamp\\_utc\\_iso\\_string & rssi\\_dbm & \\\\\n",
       "\t\\hline\n",
       "\t& Int64 & String31 & String31 & String31 & Int64 & \\\\\n",
       "\t\\hline\n",
       "\t1 & 0 & 0200000000000000 & 7076FF0056060728 & 2022-03-16 03:10:48 & -112 & $\\dots$ \\\\\n",
       "\t2 & 1 & 0200000000000000 & 7076FF0056060728 & 2022-03-16 03:22:19 & -120 & $\\dots$ \\\\\n",
       "\t3 & 2 & 0200000000000000 & 7076FF0056060728 & 2022-03-16 05:41:10 & -100 & $\\dots$ \\\\\n",
       "\t4 & 3 & 0200000000000000 & 7076FF0056060728 & 2022-03-16 05:43:30 & -105 & $\\dots$ \\\\\n",
       "\t5 & 4 & 0200000000000000 & 7076FF0056060728 & 2022-03-16 12:18:26 & -105 & $\\dots$ \\\\\n",
       "\t6 & 5 & 0200000000000000 & 7076FF0056060728 & 2022-03-16 15:38:22 & -102 & $\\dots$ \\\\\n",
       "\t7 & 6 & 0200000000000000 & 7076FF0056060728 & 2022-03-16 23:57:15 & -108 & $\\dots$ \\\\\n",
       "\t8 & 7 & 0200000000000000 & 7076FF0056060728 & 2022-03-16 23:59:34 & -105 & $\\dots$ \\\\\n",
       "\t9 & 8 & 0200000000000000 & 7076FF0056060728 & 2022-03-17 00:01:53 & -107 & $\\dots$ \\\\\n",
       "\t10 & 9 & 0200000000000000 & 7076FF0056060728 & 2022-03-17 00:04:12 & -105 & $\\dots$ \\\\\n",
       "\t11 & 10 & 0200000000000000 & 7076FF0056060728 & 2022-03-17 19:05:30 & -102 & $\\dots$ \\\\\n",
       "\t12 & 11 & 0200000000000000 & 7076FF0056060728 & 2022-03-17 23:00:17 & -101 & $\\dots$ \\\\\n",
       "\t13 & 12 & 0200000000000000 & 7076FF0056060728 & 2022-03-17 23:37:14 & -105 & $\\dots$ \\\\\n",
       "\t14 & 13 & 0200000000000000 & 7076FF0056060728 & 2022-03-17 23:44:09 & -101 & $\\dots$ \\\\\n",
       "\t15 & 14 & 0200000000000000 & 7076FF0056060728 & 2022-03-18 00:46:35 & -103 & $\\dots$ \\\\\n",
       "\t16 & 15 & 0200000000000000 & 7076FF0056060728 & 2022-03-18 00:55:48 & -103 & $\\dots$ \\\\\n",
       "\t17 & 16 & 0200000000000000 & 7076FF0056060728 & 2022-03-18 01:05:01 & -106 & $\\dots$ \\\\\n",
       "\t18 & 17 & 0200000000000000 & 7076FF0056060728 & 2022-03-18 01:09:38 & -102 & $\\dots$ \\\\\n",
       "\t19 & 18 & 0200000000000000 & 7076FF0056060728 & 2022-03-18 01:12:00 & -100 & $\\dots$ \\\\\n",
       "\t20 & 19 & 0200000000000000 & 7076FF0056060728 & 2022-03-18 01:23:30 & -108 & $\\dots$ \\\\\n",
       "\t21 & 20 & 0200000000000000 & 7076FF0056060728 & 2022-03-18 01:25:49 & -104 & $\\dots$ \\\\\n",
       "\t22 & 21 & 0200000000000000 & 7076FF0056060728 & 2022-03-18 01:32:43 & -101 & $\\dots$ \\\\\n",
       "\t23 & 22 & 0200000000000000 & 7076FF0056060728 & 2022-03-18 01:35:01 & -102 & $\\dots$ \\\\\n",
       "\t24 & 23 & 0200000000000000 & 7076FF0056060728 & 2022-03-18 01:46:30 & -102 & $\\dots$ \\\\\n",
       "\t$\\dots$ & $\\dots$ & $\\dots$ & $\\dots$ & $\\dots$ & $\\dots$ &  \\\\\n",
       "\\end{tabular}\n",
       "\n",
       "$\\dots$\n",
       "\n",
       "Last Group (612 rows): gw\\_eui = \"7276FF000B03183D\"\n",
       "\n",
       "\\begin{tabular}{r|cccccc}\n",
       "\t& Column1 & dev\\_eui & gw\\_eui & timestamp\\_utc\\_iso\\_string & rssi\\_dbm & \\\\\n",
       "\t\\hline\n",
       "\t& Int64 & String31 & String31 & String31 & Int64 & \\\\\n",
       "\t\\hline\n",
       "\t1 & 75709 & 0200000000000000 & 7276FF000B03183D & 2022-02-25 17:22:06 & -125 & $\\dots$ \\\\\n",
       "\t2 & 75710 & 0200000000000000 & 7276FF000B03183D & 2022-02-25 20:59:37 & -115 & $\\dots$ \\\\\n",
       "\t3 & 75711 & 0200000000000000 & 7276FF000B03183D & 2022-02-25 21:00:44 & -100 & $\\dots$ \\\\\n",
       "\t4 & 75712 & 0200000000000000 & 7276FF000B03183D & 2022-02-26 15:10:27 & -118 & $\\dots$ \\\\\n",
       "\t5 & 75713 & 0200000000000000 & 7276FF000B03183D & 2022-02-26 15:11:33 & -94 & $\\dots$ \\\\\n",
       "\t6 & 75714 & 0200000000000000 & 7276FF000B03183D & 2022-02-26 15:12:06 & -102 & $\\dots$ \\\\\n",
       "\t7 & 75715 & 0200000000000000 & 7276FF000B03183D & 2022-02-26 19:21:07 & -102 & $\\dots$ \\\\\n",
       "\t8 & 75716 & 0200000000000000 & 7276FF000B03183D & 2022-02-26 19:47:56 & -114 & $\\dots$ \\\\\n",
       "\t9 & 75717 & 0200000000000000 & 7276FF000B03183D & 2022-02-26 19:48:29 & -112 & $\\dots$ \\\\\n",
       "\t10 & 75718 & 0200000000000000 & 7276FF000B03183D & 2022-02-26 19:49:02 & -102 & $\\dots$ \\\\\n",
       "\t11 & 75719 & 0200000000000000 & 7276FF000B03183D & 2022-02-26 19:49:35 & -94 & $\\dots$ \\\\\n",
       "\t12 & 75720 & 0200000000000000 & 7276FF000B03183D & 2022-02-26 19:50:09 & -120 & $\\dots$ \\\\\n",
       "\t13 & 75721 & 0200000000000000 & 7276FF000B03183D & 2022-02-27 20:25:08 & -126 & $\\dots$ \\\\\n",
       "\t14 & 75722 & 0200000000000000 & 7276FF000B03183D & 2022-02-27 20:26:14 & -124 & $\\dots$ \\\\\n",
       "\t15 & 75723 & 0200000000000000 & 7276FF000B03183D & 2022-02-28 09:40:33 & -127 & $\\dots$ \\\\\n",
       "\t16 & 75724 & 0200000000000000 & 7276FF000B03183D & 2022-02-28 09:42:46 & -102 & $\\dots$ \\\\\n",
       "\t17 & 75725 & 0200000000000000 & 7276FF000B03183D & 2022-02-28 09:43:20 & -102 & $\\dots$ \\\\\n",
       "\t18 & 75726 & 0200000000000000 & 7276FF000B03183D & 2022-02-28 09:45:33 & -96 & $\\dots$ \\\\\n",
       "\t19 & 75727 & 0200000000000000 & 7276FF000B03183D & 2022-02-28 09:48:20 & -102 & $\\dots$ \\\\\n",
       "\t20 & 75728 & 0200000000000000 & 7276FF000B03183D & 2022-02-28 09:50:00 & -100 & $\\dots$ \\\\\n",
       "\t21 & 75729 & 0200000000000000 & 7276FF000B03183D & 2022-02-28 14:48:30 & -110 & $\\dots$ \\\\\n",
       "\t22 & 75730 & 0200000000000000 & 7276FF000B03183D & 2022-02-28 14:49:04 & -106 & $\\dots$ \\\\\n",
       "\t23 & 75731 & 0200000000000000 & 7276FF000B03183D & 2022-02-28 14:50:10 & -115 & $\\dots$ \\\\\n",
       "\t24 & 75732 & 0200000000000000 & 7276FF000B03183D & 2022-02-28 14:51:19 & -108 & $\\dots$ \\\\\n",
       "\t$\\dots$ & $\\dots$ & $\\dots$ & $\\dots$ & $\\dots$ & $\\dots$ &  \\\\\n",
       "\\end{tabular}\n"
      ],
      "text/plain": [
       "GroupedDataFrame with 9 groups based on key: gw_eui\n",
       "First Group (21189 rows): gw_eui = \"7076FF0056060728\"\n",
       "\u001b[1m   Row \u001b[0m│\u001b[1m Column1 \u001b[0m\u001b[1m dev_eui          \u001b[0m\u001b[1m gw_eui           \u001b[0m\u001b[1m timestamp_utc_iso_string\u001b[0m ⋯\n",
       "       │\u001b[90m Int64   \u001b[0m\u001b[90m String31         \u001b[0m\u001b[90m String31         \u001b[0m\u001b[90m String31                \u001b[0m ⋯\n",
       "───────┼────────────────────────────────────────────────────────────────────────\n",
       "     1 │       0  0200000000000000  7076FF0056060728  2022-03-16 03:10:48      ⋯\n",
       "     2 │       1  0200000000000000  7076FF0056060728  2022-03-16 03:22:19\n",
       "   ⋮   │    ⋮            ⋮                 ⋮                     ⋮             ⋱\n",
       " 21188 │   21187  0200000000000000  7076FF0056060728  2023-03-10 12:16:52\n",
       " 21189 │   21188  0200000000000000  7076FF0056060728  2023-03-10 12:19:11\n",
       "\u001b[36m                                                8 columns and 21185 rows omitted\u001b[0m\n",
       "⋮\n",
       "Last Group (612 rows): gw_eui = \"7276FF000B03183D\"\n",
       "\u001b[1m Row \u001b[0m│\u001b[1m Column1 \u001b[0m\u001b[1m dev_eui          \u001b[0m\u001b[1m gw_eui           \u001b[0m\u001b[1m timestamp_utc_iso_string \u001b[0m\u001b[1m \u001b[0m ⋯\n",
       "     │\u001b[90m Int64   \u001b[0m\u001b[90m String31         \u001b[0m\u001b[90m String31         \u001b[0m\u001b[90m String31                 \u001b[0m\u001b[90m \u001b[0m ⋯\n",
       "─────┼──────────────────────────────────────────────────────────────────────────\n",
       "   1 │   75709  0200000000000000  7276FF000B03183D  2022-02-25 17:22:06        ⋯\n",
       "   2 │   75710  0200000000000000  7276FF000B03183D  2022-02-25 20:59:37\n",
       "  ⋮  │    ⋮            ⋮                 ⋮                     ⋮               ⋱\n",
       " 612 │   76320  70B3D5705000B993  7276FF000B03183D  2023-06-22 11:46:52\n",
       "\u001b[36m                                                  8 columns and 609 rows omitted\u001b[0m"
      ]
     },
     "metadata": {},
     "output_type": "display_data"
    }
   ],
   "source": [
    "groupby(df, :gw_eui)"
   ]
  },
  {
   "cell_type": "markdown",
   "metadata": {},
   "source": [
    "**Join**"
   ]
  },
  {
   "cell_type": "markdown",
   "metadata": {},
   "source": [
    "Defining our own dataframe using the `DataFrame` function"
   ]
  },
  {
   "cell_type": "code",
   "execution_count": 148,
   "metadata": {},
   "outputs": [
    {
     "data": {
      "text/html": [
       "<div><div style = \"float: left;\"><span>4×2 DataFrame</span></div><div style = \"clear: both;\"></div></div><div class = \"data-frame\" style = \"overflow-x: scroll;\"><table class = \"data-frame\" style = \"margin-bottom: 6px;\"><thead><tr class = \"header\"><th class = \"rowNumber\" style = \"font-weight: bold; text-align: right;\">Row</th><th style = \"text-align: left;\">name</th><th style = \"text-align: left;\">grade_2023</th></tr><tr class = \"subheader headerLastRow\"><th class = \"rowNumber\" style = \"font-weight: bold; text-align: right;\"></th><th title = \"String\" style = \"text-align: left;\">String</th><th title = \"Float64\" style = \"text-align: left;\">Float64</th></tr></thead><tbody><tr><td class = \"rowNumber\" style = \"font-weight: bold; text-align: right;\">1</td><td style = \"text-align: left;\">Sally</td><td style = \"text-align: right;\">1.0</td></tr><tr><td class = \"rowNumber\" style = \"font-weight: bold; text-align: right;\">2</td><td style = \"text-align: left;\">Bob</td><td style = \"text-align: right;\">5.0</td></tr><tr><td class = \"rowNumber\" style = \"font-weight: bold; text-align: right;\">3</td><td style = \"text-align: left;\">Alice</td><td style = \"text-align: right;\">8.5</td></tr><tr><td class = \"rowNumber\" style = \"font-weight: bold; text-align: right;\">4</td><td style = \"text-align: left;\">Hank</td><td style = \"text-align: right;\">4.0</td></tr></tbody></table></div>"
      ],
      "text/latex": [
       "\\begin{tabular}{r|cc}\n",
       "\t& name & grade\\_2023\\\\\n",
       "\t\\hline\n",
       "\t& String & Float64\\\\\n",
       "\t\\hline\n",
       "\t1 & Sally & 1.0 \\\\\n",
       "\t2 & Bob & 5.0 \\\\\n",
       "\t3 & Alice & 8.5 \\\\\n",
       "\t4 & Hank & 4.0 \\\\\n",
       "\\end{tabular}\n"
      ],
      "text/plain": [
       "\u001b[1m4×2 DataFrame\u001b[0m\n",
       "\u001b[1m Row \u001b[0m│\u001b[1m name   \u001b[0m\u001b[1m grade_2023 \u001b[0m\n",
       "     │\u001b[90m String \u001b[0m\u001b[90m Float64    \u001b[0m\n",
       "─────┼────────────────────\n",
       "   1 │ Sally          1.0\n",
       "   2 │ Bob            5.0\n",
       "   3 │ Alice          8.5\n",
       "   4 │ Hank           4.0"
      ]
     },
     "metadata": {},
     "output_type": "display_data"
    }
   ],
   "source": [
    "grades_2023 = DataFrame(; name=[\"Sally\", \"Bob\", \"Alice\", \"Hank\"],\n",
    "grade_2023=[1, 5, 8.5, 4])"
   ]
  },
  {
   "cell_type": "markdown",
   "metadata": {},
   "source": [
    "and creating a new one to join "
   ]
  },
  {
   "cell_type": "code",
   "execution_count": 149,
   "metadata": {},
   "outputs": [
    {
     "data": {
      "text/html": [
       "<div><div style = \"float: left;\"><span>3×2 DataFrame</span></div><div style = \"clear: both;\"></div></div><div class = \"data-frame\" style = \"overflow-x: scroll;\"><table class = \"data-frame\" style = \"margin-bottom: 6px;\"><thead><tr class = \"header\"><th class = \"rowNumber\" style = \"font-weight: bold; text-align: right;\">Row</th><th style = \"text-align: left;\">name</th><th style = \"text-align: left;\">grade_2024</th></tr><tr class = \"subheader headerLastRow\"><th class = \"rowNumber\" style = \"font-weight: bold; text-align: right;\"></th><th title = \"String\" style = \"text-align: left;\">String</th><th title = \"Float64\" style = \"text-align: left;\">Float64</th></tr></thead><tbody><tr><td class = \"rowNumber\" style = \"font-weight: bold; text-align: right;\">1</td><td style = \"text-align: left;\">Bob 2</td><td style = \"text-align: right;\">9.5</td></tr><tr><td class = \"rowNumber\" style = \"font-weight: bold; text-align: right;\">2</td><td style = \"text-align: left;\">Sally</td><td style = \"text-align: right;\">9.5</td></tr><tr><td class = \"rowNumber\" style = \"font-weight: bold; text-align: right;\">3</td><td style = \"text-align: left;\">Hank</td><td style = \"text-align: right;\">6.0</td></tr></tbody></table></div>"
      ],
      "text/latex": [
       "\\begin{tabular}{r|cc}\n",
       "\t& name & grade\\_2024\\\\\n",
       "\t\\hline\n",
       "\t& String & Float64\\\\\n",
       "\t\\hline\n",
       "\t1 & Bob 2 & 9.5 \\\\\n",
       "\t2 & Sally & 9.5 \\\\\n",
       "\t3 & Hank & 6.0 \\\\\n",
       "\\end{tabular}\n"
      ],
      "text/plain": [
       "\u001b[1m3×2 DataFrame\u001b[0m\n",
       "\u001b[1m Row \u001b[0m│\u001b[1m name   \u001b[0m\u001b[1m grade_2024 \u001b[0m\n",
       "     │\u001b[90m String \u001b[0m\u001b[90m Float64    \u001b[0m\n",
       "─────┼────────────────────\n",
       "   1 │ Bob 2          9.5\n",
       "   2 │ Sally          9.5\n",
       "   3 │ Hank           6.0"
      ]
     },
     "metadata": {},
     "output_type": "display_data"
    }
   ],
   "source": [
    "grades_2024 = DataFrame(; name=[\"Bob 2\", \"Sally\", \"Hank\"],\n",
    "grade_2024=[9.5, 9.5, 6])"
   ]
  },
  {
   "cell_type": "markdown",
   "metadata": {},
   "source": [
    "`innerjoin`"
   ]
  },
  {
   "cell_type": "code",
   "execution_count": 150,
   "metadata": {},
   "outputs": [
    {
     "data": {
      "text/html": [
       "<div><div style = \"float: left;\"><span>2×3 DataFrame</span></div><div style = \"clear: both;\"></div></div><div class = \"data-frame\" style = \"overflow-x: scroll;\"><table class = \"data-frame\" style = \"margin-bottom: 6px;\"><thead><tr class = \"header\"><th class = \"rowNumber\" style = \"font-weight: bold; text-align: right;\">Row</th><th style = \"text-align: left;\">name</th><th style = \"text-align: left;\">grade_2023</th><th style = \"text-align: left;\">grade_2024</th></tr><tr class = \"subheader headerLastRow\"><th class = \"rowNumber\" style = \"font-weight: bold; text-align: right;\"></th><th title = \"String\" style = \"text-align: left;\">String</th><th title = \"Float64\" style = \"text-align: left;\">Float64</th><th title = \"Float64\" style = \"text-align: left;\">Float64</th></tr></thead><tbody><tr><td class = \"rowNumber\" style = \"font-weight: bold; text-align: right;\">1</td><td style = \"text-align: left;\">Sally</td><td style = \"text-align: right;\">1.0</td><td style = \"text-align: right;\">9.5</td></tr><tr><td class = \"rowNumber\" style = \"font-weight: bold; text-align: right;\">2</td><td style = \"text-align: left;\">Hank</td><td style = \"text-align: right;\">4.0</td><td style = \"text-align: right;\">6.0</td></tr></tbody></table></div>"
      ],
      "text/latex": [
       "\\begin{tabular}{r|ccc}\n",
       "\t& name & grade\\_2023 & grade\\_2024\\\\\n",
       "\t\\hline\n",
       "\t& String & Float64 & Float64\\\\\n",
       "\t\\hline\n",
       "\t1 & Sally & 1.0 & 9.5 \\\\\n",
       "\t2 & Hank & 4.0 & 6.0 \\\\\n",
       "\\end{tabular}\n"
      ],
      "text/plain": [
       "\u001b[1m2×3 DataFrame\u001b[0m\n",
       "\u001b[1m Row \u001b[0m│\u001b[1m name   \u001b[0m\u001b[1m grade_2023 \u001b[0m\u001b[1m grade_2024 \u001b[0m\n",
       "     │\u001b[90m String \u001b[0m\u001b[90m Float64    \u001b[0m\u001b[90m Float64    \u001b[0m\n",
       "─────┼────────────────────────────────\n",
       "   1 │ Sally          1.0         9.5\n",
       "   2 │ Hank           4.0         6.0"
      ]
     },
     "metadata": {},
     "output_type": "display_data"
    }
   ],
   "source": [
    "innerjoin(grades_2023, grades_2024, on=:name)"
   ]
  },
  {
   "cell_type": "markdown",
   "metadata": {},
   "source": [
    "`outerjoin`"
   ]
  },
  {
   "cell_type": "code",
   "execution_count": 151,
   "metadata": {},
   "outputs": [
    {
     "data": {
      "text/html": [
       "<div><div style = \"float: left;\"><span>5×3 DataFrame</span></div><div style = \"clear: both;\"></div></div><div class = \"data-frame\" style = \"overflow-x: scroll;\"><table class = \"data-frame\" style = \"margin-bottom: 6px;\"><thead><tr class = \"header\"><th class = \"rowNumber\" style = \"font-weight: bold; text-align: right;\">Row</th><th style = \"text-align: left;\">name</th><th style = \"text-align: left;\">grade_2023</th><th style = \"text-align: left;\">grade_2024</th></tr><tr class = \"subheader headerLastRow\"><th class = \"rowNumber\" style = \"font-weight: bold; text-align: right;\"></th><th title = \"String\" style = \"text-align: left;\">String</th><th title = \"Union{Missing, Float64}\" style = \"text-align: left;\">Float64?</th><th title = \"Union{Missing, Float64}\" style = \"text-align: left;\">Float64?</th></tr></thead><tbody><tr><td class = \"rowNumber\" style = \"font-weight: bold; text-align: right;\">1</td><td style = \"text-align: left;\">Sally</td><td style = \"text-align: right;\">1.0</td><td style = \"text-align: right;\">9.5</td></tr><tr><td class = \"rowNumber\" style = \"font-weight: bold; text-align: right;\">2</td><td style = \"text-align: left;\">Hank</td><td style = \"text-align: right;\">4.0</td><td style = \"text-align: right;\">6.0</td></tr><tr><td class = \"rowNumber\" style = \"font-weight: bold; text-align: right;\">3</td><td style = \"text-align: left;\">Bob</td><td style = \"text-align: right;\">5.0</td><td style = \"font-style: italic; text-align: right;\">missing</td></tr><tr><td class = \"rowNumber\" style = \"font-weight: bold; text-align: right;\">4</td><td style = \"text-align: left;\">Alice</td><td style = \"text-align: right;\">8.5</td><td style = \"font-style: italic; text-align: right;\">missing</td></tr><tr><td class = \"rowNumber\" style = \"font-weight: bold; text-align: right;\">5</td><td style = \"text-align: left;\">Bob 2</td><td style = \"font-style: italic; text-align: right;\">missing</td><td style = \"text-align: right;\">9.5</td></tr></tbody></table></div>"
      ],
      "text/latex": [
       "\\begin{tabular}{r|ccc}\n",
       "\t& name & grade\\_2023 & grade\\_2024\\\\\n",
       "\t\\hline\n",
       "\t& String & Float64? & Float64?\\\\\n",
       "\t\\hline\n",
       "\t1 & Sally & 1.0 & 9.5 \\\\\n",
       "\t2 & Hank & 4.0 & 6.0 \\\\\n",
       "\t3 & Bob & 5.0 & \\emph{missing} \\\\\n",
       "\t4 & Alice & 8.5 & \\emph{missing} \\\\\n",
       "\t5 & Bob 2 & \\emph{missing} & 9.5 \\\\\n",
       "\\end{tabular}\n"
      ],
      "text/plain": [
       "\u001b[1m5×3 DataFrame\u001b[0m\n",
       "\u001b[1m Row \u001b[0m│\u001b[1m name   \u001b[0m\u001b[1m grade_2023 \u001b[0m\u001b[1m grade_2024 \u001b[0m\n",
       "     │\u001b[90m String \u001b[0m\u001b[90m Float64?   \u001b[0m\u001b[90m Float64?   \u001b[0m\n",
       "─────┼────────────────────────────────\n",
       "   1 │ Sally          1.0         9.5\n",
       "   2 │ Hank           4.0         6.0\n",
       "   3 │ Bob            5.0 \u001b[90m  missing   \u001b[0m\n",
       "   4 │ Alice          8.5 \u001b[90m  missing   \u001b[0m\n",
       "   5 │ Bob 2  \u001b[90m  missing   \u001b[0m        9.5"
      ]
     },
     "metadata": {},
     "output_type": "display_data"
    }
   ],
   "source": [
    "outerjoin(grades_2023, grades_2024, on=:name)"
   ]
  },
  {
   "cell_type": "markdown",
   "metadata": {},
   "source": [
    "`leftjoin`"
   ]
  },
  {
   "cell_type": "code",
   "execution_count": 152,
   "metadata": {},
   "outputs": [
    {
     "data": {
      "text/html": [
       "<div><div style = \"float: left;\"><span>4×3 DataFrame</span></div><div style = \"clear: both;\"></div></div><div class = \"data-frame\" style = \"overflow-x: scroll;\"><table class = \"data-frame\" style = \"margin-bottom: 6px;\"><thead><tr class = \"header\"><th class = \"rowNumber\" style = \"font-weight: bold; text-align: right;\">Row</th><th style = \"text-align: left;\">name</th><th style = \"text-align: left;\">grade_2023</th><th style = \"text-align: left;\">grade_2024</th></tr><tr class = \"subheader headerLastRow\"><th class = \"rowNumber\" style = \"font-weight: bold; text-align: right;\"></th><th title = \"String\" style = \"text-align: left;\">String</th><th title = \"Float64\" style = \"text-align: left;\">Float64</th><th title = \"Union{Missing, Float64}\" style = \"text-align: left;\">Float64?</th></tr></thead><tbody><tr><td class = \"rowNumber\" style = \"font-weight: bold; text-align: right;\">1</td><td style = \"text-align: left;\">Sally</td><td style = \"text-align: right;\">1.0</td><td style = \"text-align: right;\">9.5</td></tr><tr><td class = \"rowNumber\" style = \"font-weight: bold; text-align: right;\">2</td><td style = \"text-align: left;\">Hank</td><td style = \"text-align: right;\">4.0</td><td style = \"text-align: right;\">6.0</td></tr><tr><td class = \"rowNumber\" style = \"font-weight: bold; text-align: right;\">3</td><td style = \"text-align: left;\">Bob</td><td style = \"text-align: right;\">5.0</td><td style = \"font-style: italic; text-align: right;\">missing</td></tr><tr><td class = \"rowNumber\" style = \"font-weight: bold; text-align: right;\">4</td><td style = \"text-align: left;\">Alice</td><td style = \"text-align: right;\">8.5</td><td style = \"font-style: italic; text-align: right;\">missing</td></tr></tbody></table></div>"
      ],
      "text/latex": [
       "\\begin{tabular}{r|ccc}\n",
       "\t& name & grade\\_2023 & grade\\_2024\\\\\n",
       "\t\\hline\n",
       "\t& String & Float64 & Float64?\\\\\n",
       "\t\\hline\n",
       "\t1 & Sally & 1.0 & 9.5 \\\\\n",
       "\t2 & Hank & 4.0 & 6.0 \\\\\n",
       "\t3 & Bob & 5.0 & \\emph{missing} \\\\\n",
       "\t4 & Alice & 8.5 & \\emph{missing} \\\\\n",
       "\\end{tabular}\n"
      ],
      "text/plain": [
       "\u001b[1m4×3 DataFrame\u001b[0m\n",
       "\u001b[1m Row \u001b[0m│\u001b[1m name   \u001b[0m\u001b[1m grade_2023 \u001b[0m\u001b[1m grade_2024 \u001b[0m\n",
       "     │\u001b[90m String \u001b[0m\u001b[90m Float64    \u001b[0m\u001b[90m Float64?   \u001b[0m\n",
       "─────┼────────────────────────────────\n",
       "   1 │ Sally          1.0         9.5\n",
       "   2 │ Hank           4.0         6.0\n",
       "   3 │ Bob            5.0 \u001b[90m  missing   \u001b[0m\n",
       "   4 │ Alice          8.5 \u001b[90m  missing   \u001b[0m"
      ]
     },
     "metadata": {},
     "output_type": "display_data"
    }
   ],
   "source": [
    "leftjoin(grades_2023, grades_2024, on=:name)"
   ]
  },
  {
   "cell_type": "markdown",
   "metadata": {},
   "source": [
    "`rightjoin`"
   ]
  },
  {
   "cell_type": "code",
   "execution_count": 153,
   "metadata": {},
   "outputs": [
    {
     "data": {
      "text/html": [
       "<div><div style = \"float: left;\"><span>3×3 DataFrame</span></div><div style = \"clear: both;\"></div></div><div class = \"data-frame\" style = \"overflow-x: scroll;\"><table class = \"data-frame\" style = \"margin-bottom: 6px;\"><thead><tr class = \"header\"><th class = \"rowNumber\" style = \"font-weight: bold; text-align: right;\">Row</th><th style = \"text-align: left;\">name</th><th style = \"text-align: left;\">grade_2023</th><th style = \"text-align: left;\">grade_2024</th></tr><tr class = \"subheader headerLastRow\"><th class = \"rowNumber\" style = \"font-weight: bold; text-align: right;\"></th><th title = \"String\" style = \"text-align: left;\">String</th><th title = \"Union{Missing, Float64}\" style = \"text-align: left;\">Float64?</th><th title = \"Float64\" style = \"text-align: left;\">Float64</th></tr></thead><tbody><tr><td class = \"rowNumber\" style = \"font-weight: bold; text-align: right;\">1</td><td style = \"text-align: left;\">Sally</td><td style = \"text-align: right;\">1.0</td><td style = \"text-align: right;\">9.5</td></tr><tr><td class = \"rowNumber\" style = \"font-weight: bold; text-align: right;\">2</td><td style = \"text-align: left;\">Hank</td><td style = \"text-align: right;\">4.0</td><td style = \"text-align: right;\">6.0</td></tr><tr><td class = \"rowNumber\" style = \"font-weight: bold; text-align: right;\">3</td><td style = \"text-align: left;\">Bob 2</td><td style = \"font-style: italic; text-align: right;\">missing</td><td style = \"text-align: right;\">9.5</td></tr></tbody></table></div>"
      ],
      "text/latex": [
       "\\begin{tabular}{r|ccc}\n",
       "\t& name & grade\\_2023 & grade\\_2024\\\\\n",
       "\t\\hline\n",
       "\t& String & Float64? & Float64\\\\\n",
       "\t\\hline\n",
       "\t1 & Sally & 1.0 & 9.5 \\\\\n",
       "\t2 & Hank & 4.0 & 6.0 \\\\\n",
       "\t3 & Bob 2 & \\emph{missing} & 9.5 \\\\\n",
       "\\end{tabular}\n"
      ],
      "text/plain": [
       "\u001b[1m3×3 DataFrame\u001b[0m\n",
       "\u001b[1m Row \u001b[0m│\u001b[1m name   \u001b[0m\u001b[1m grade_2023 \u001b[0m\u001b[1m grade_2024 \u001b[0m\n",
       "     │\u001b[90m String \u001b[0m\u001b[90m Float64?   \u001b[0m\u001b[90m Float64    \u001b[0m\n",
       "─────┼────────────────────────────────\n",
       "   1 │ Sally          1.0         9.5\n",
       "   2 │ Hank           4.0         6.0\n",
       "   3 │ Bob 2  \u001b[90m  missing   \u001b[0m        9.5"
      ]
     },
     "metadata": {},
     "output_type": "display_data"
    }
   ],
   "source": [
    "rightjoin(grades_2023, grades_2024, on=:name)"
   ]
  },
  {
   "cell_type": "markdown",
   "metadata": {},
   "source": [
    "`semijoin`"
   ]
  },
  {
   "cell_type": "code",
   "execution_count": 154,
   "metadata": {},
   "outputs": [
    {
     "data": {
      "text/html": [
       "<div><div style = \"float: left;\"><span>2×2 DataFrame</span></div><div style = \"clear: both;\"></div></div><div class = \"data-frame\" style = \"overflow-x: scroll;\"><table class = \"data-frame\" style = \"margin-bottom: 6px;\"><thead><tr class = \"header\"><th class = \"rowNumber\" style = \"font-weight: bold; text-align: right;\">Row</th><th style = \"text-align: left;\">name</th><th style = \"text-align: left;\">grade_2023</th></tr><tr class = \"subheader headerLastRow\"><th class = \"rowNumber\" style = \"font-weight: bold; text-align: right;\"></th><th title = \"String\" style = \"text-align: left;\">String</th><th title = \"Float64\" style = \"text-align: left;\">Float64</th></tr></thead><tbody><tr><td class = \"rowNumber\" style = \"font-weight: bold; text-align: right;\">1</td><td style = \"text-align: left;\">Sally</td><td style = \"text-align: right;\">1.0</td></tr><tr><td class = \"rowNumber\" style = \"font-weight: bold; text-align: right;\">2</td><td style = \"text-align: left;\">Hank</td><td style = \"text-align: right;\">4.0</td></tr></tbody></table></div>"
      ],
      "text/latex": [
       "\\begin{tabular}{r|cc}\n",
       "\t& name & grade\\_2023\\\\\n",
       "\t\\hline\n",
       "\t& String & Float64\\\\\n",
       "\t\\hline\n",
       "\t1 & Sally & 1.0 \\\\\n",
       "\t2 & Hank & 4.0 \\\\\n",
       "\\end{tabular}\n"
      ],
      "text/plain": [
       "\u001b[1m2×2 DataFrame\u001b[0m\n",
       "\u001b[1m Row \u001b[0m│\u001b[1m name   \u001b[0m\u001b[1m grade_2023 \u001b[0m\n",
       "     │\u001b[90m String \u001b[0m\u001b[90m Float64    \u001b[0m\n",
       "─────┼────────────────────\n",
       "   1 │ Sally          1.0\n",
       "   2 │ Hank           4.0"
      ]
     },
     "metadata": {},
     "output_type": "display_data"
    }
   ],
   "source": [
    "semijoin(grades_2023, grades_2024, on=:name)"
   ]
  },
  {
   "cell_type": "markdown",
   "metadata": {},
   "source": [
    "`antijoin`"
   ]
  },
  {
   "cell_type": "code",
   "execution_count": 155,
   "metadata": {},
   "outputs": [
    {
     "data": {
      "text/html": [
       "<div><div style = \"float: left;\"><span>2×2 DataFrame</span></div><div style = \"clear: both;\"></div></div><div class = \"data-frame\" style = \"overflow-x: scroll;\"><table class = \"data-frame\" style = \"margin-bottom: 6px;\"><thead><tr class = \"header\"><th class = \"rowNumber\" style = \"font-weight: bold; text-align: right;\">Row</th><th style = \"text-align: left;\">name</th><th style = \"text-align: left;\">grade_2023</th></tr><tr class = \"subheader headerLastRow\"><th class = \"rowNumber\" style = \"font-weight: bold; text-align: right;\"></th><th title = \"String\" style = \"text-align: left;\">String</th><th title = \"Float64\" style = \"text-align: left;\">Float64</th></tr></thead><tbody><tr><td class = \"rowNumber\" style = \"font-weight: bold; text-align: right;\">1</td><td style = \"text-align: left;\">Bob</td><td style = \"text-align: right;\">5.0</td></tr><tr><td class = \"rowNumber\" style = \"font-weight: bold; text-align: right;\">2</td><td style = \"text-align: left;\">Alice</td><td style = \"text-align: right;\">8.5</td></tr></tbody></table></div>"
      ],
      "text/latex": [
       "\\begin{tabular}{r|cc}\n",
       "\t& name & grade\\_2023\\\\\n",
       "\t\\hline\n",
       "\t& String & Float64\\\\\n",
       "\t\\hline\n",
       "\t1 & Bob & 5.0 \\\\\n",
       "\t2 & Alice & 8.5 \\\\\n",
       "\\end{tabular}\n"
      ],
      "text/plain": [
       "\u001b[1m2×2 DataFrame\u001b[0m\n",
       "\u001b[1m Row \u001b[0m│\u001b[1m name   \u001b[0m\u001b[1m grade_2023 \u001b[0m\n",
       "     │\u001b[90m String \u001b[0m\u001b[90m Float64    \u001b[0m\n",
       "─────┼────────────────────\n",
       "   1 │ Bob            5.0\n",
       "   2 │ Alice          8.5"
      ]
     },
     "metadata": {},
     "output_type": "display_data"
    }
   ],
   "source": [
    "antijoin(grades_2023, grades_2024, on=:name)"
   ]
  },
  {
   "cell_type": "markdown",
   "metadata": {},
   "source": [
    "**Variable transformation**"
   ]
  },
  {
   "cell_type": "code",
   "execution_count": 156,
   "metadata": {},
   "outputs": [
    {
     "data": {
      "text/plain": [
       "plus_one (generic function with 1 method)"
      ]
     },
     "metadata": {},
     "output_type": "display_data"
    }
   ],
   "source": [
    "plus_one(grades) = grades .+ 1"
   ]
  },
  {
   "cell_type": "code",
   "execution_count": 157,
   "metadata": {},
   "outputs": [
    {
     "data": {
      "text/html": [
       "<div><div style = \"float: left;\"><span>4×3 DataFrame</span></div><div style = \"clear: both;\"></div></div><div class = \"data-frame\" style = \"overflow-x: scroll;\"><table class = \"data-frame\" style = \"margin-bottom: 6px;\"><thead><tr class = \"header\"><th class = \"rowNumber\" style = \"font-weight: bold; text-align: right;\">Row</th><th style = \"text-align: left;\">name</th><th style = \"text-align: left;\">grade_2023</th><th style = \"text-align: left;\">grade_2023_plus_one</th></tr><tr class = \"subheader headerLastRow\"><th class = \"rowNumber\" style = \"font-weight: bold; text-align: right;\"></th><th title = \"String\" style = \"text-align: left;\">String</th><th title = \"Float64\" style = \"text-align: left;\">Float64</th><th title = \"Float64\" style = \"text-align: left;\">Float64</th></tr></thead><tbody><tr><td class = \"rowNumber\" style = \"font-weight: bold; text-align: right;\">1</td><td style = \"text-align: left;\">Sally</td><td style = \"text-align: right;\">1.0</td><td style = \"text-align: right;\">2.0</td></tr><tr><td class = \"rowNumber\" style = \"font-weight: bold; text-align: right;\">2</td><td style = \"text-align: left;\">Bob</td><td style = \"text-align: right;\">5.0</td><td style = \"text-align: right;\">6.0</td></tr><tr><td class = \"rowNumber\" style = \"font-weight: bold; text-align: right;\">3</td><td style = \"text-align: left;\">Alice</td><td style = \"text-align: right;\">8.5</td><td style = \"text-align: right;\">9.5</td></tr><tr><td class = \"rowNumber\" style = \"font-weight: bold; text-align: right;\">4</td><td style = \"text-align: left;\">Hank</td><td style = \"text-align: right;\">4.0</td><td style = \"text-align: right;\">5.0</td></tr></tbody></table></div>"
      ],
      "text/latex": [
       "\\begin{tabular}{r|ccc}\n",
       "\t& name & grade\\_2023 & grade\\_2023\\_plus\\_one\\\\\n",
       "\t\\hline\n",
       "\t& String & Float64 & Float64\\\\\n",
       "\t\\hline\n",
       "\t1 & Sally & 1.0 & 2.0 \\\\\n",
       "\t2 & Bob & 5.0 & 6.0 \\\\\n",
       "\t3 & Alice & 8.5 & 9.5 \\\\\n",
       "\t4 & Hank & 4.0 & 5.0 \\\\\n",
       "\\end{tabular}\n"
      ],
      "text/plain": [
       "\u001b[1m4×3 DataFrame\u001b[0m\n",
       "\u001b[1m Row \u001b[0m│\u001b[1m name   \u001b[0m\u001b[1m grade_2023 \u001b[0m\u001b[1m grade_2023_plus_one \u001b[0m\n",
       "     │\u001b[90m String \u001b[0m\u001b[90m Float64    \u001b[0m\u001b[90m Float64             \u001b[0m\n",
       "─────┼─────────────────────────────────────────\n",
       "   1 │ Sally          1.0                  2.0\n",
       "   2 │ Bob            5.0                  6.0\n",
       "   3 │ Alice          8.5                  9.5\n",
       "   4 │ Hank           4.0                  5.0"
      ]
     },
     "metadata": {},
     "output_type": "display_data"
    }
   ],
   "source": [
    "transform(grades_2023, :grade_2023 => plus_one)"
   ]
  },
  {
   "cell_type": "code",
   "execution_count": 158,
   "metadata": {},
   "outputs": [
    {
     "data": {
      "text/html": [
       "<div><div style = \"float: left;\"><span>4×3 DataFrame</span></div><div style = \"clear: both;\"></div></div><div class = \"data-frame\" style = \"overflow-x: scroll;\"><table class = \"data-frame\" style = \"margin-bottom: 6px;\"><thead><tr class = \"header\"><th class = \"rowNumber\" style = \"font-weight: bold; text-align: right;\">Row</th><th style = \"text-align: left;\">name</th><th style = \"text-align: left;\">grade_2023</th><th style = \"text-align: left;\">grade_2023_2</th></tr><tr class = \"subheader headerLastRow\"><th class = \"rowNumber\" style = \"font-weight: bold; text-align: right;\"></th><th title = \"String\" style = \"text-align: left;\">String</th><th title = \"Float64\" style = \"text-align: left;\">Float64</th><th title = \"Float64\" style = \"text-align: left;\">Float64</th></tr></thead><tbody><tr><td class = \"rowNumber\" style = \"font-weight: bold; text-align: right;\">1</td><td style = \"text-align: left;\">Sally</td><td style = \"text-align: right;\">1.0</td><td style = \"text-align: right;\">2.0</td></tr><tr><td class = \"rowNumber\" style = \"font-weight: bold; text-align: right;\">2</td><td style = \"text-align: left;\">Bob</td><td style = \"text-align: right;\">5.0</td><td style = \"text-align: right;\">6.0</td></tr><tr><td class = \"rowNumber\" style = \"font-weight: bold; text-align: right;\">3</td><td style = \"text-align: left;\">Alice</td><td style = \"text-align: right;\">8.5</td><td style = \"text-align: right;\">9.5</td></tr><tr><td class = \"rowNumber\" style = \"font-weight: bold; text-align: right;\">4</td><td style = \"text-align: left;\">Hank</td><td style = \"text-align: right;\">4.0</td><td style = \"text-align: right;\">5.0</td></tr></tbody></table></div>"
      ],
      "text/latex": [
       "\\begin{tabular}{r|ccc}\n",
       "\t& name & grade\\_2023 & grade\\_2023\\_2\\\\\n",
       "\t\\hline\n",
       "\t& String & Float64 & Float64\\\\\n",
       "\t\\hline\n",
       "\t1 & Sally & 1.0 & 2.0 \\\\\n",
       "\t2 & Bob & 5.0 & 6.0 \\\\\n",
       "\t3 & Alice & 8.5 & 9.5 \\\\\n",
       "\t4 & Hank & 4.0 & 5.0 \\\\\n",
       "\\end{tabular}\n"
      ],
      "text/plain": [
       "\u001b[1m4×3 DataFrame\u001b[0m\n",
       "\u001b[1m Row \u001b[0m│\u001b[1m name   \u001b[0m\u001b[1m grade_2023 \u001b[0m\u001b[1m grade_2023_2 \u001b[0m\n",
       "     │\u001b[90m String \u001b[0m\u001b[90m Float64    \u001b[0m\u001b[90m Float64      \u001b[0m\n",
       "─────┼──────────────────────────────────\n",
       "   1 │ Sally          1.0           2.0\n",
       "   2 │ Bob            5.0           6.0\n",
       "   3 │ Alice          8.5           9.5\n",
       "   4 │ Hank           4.0           5.0"
      ]
     },
     "metadata": {},
     "output_type": "display_data"
    }
   ],
   "source": [
    "# Rename\n",
    "transform(grades_2023, :grade_2023 => plus_one => :grade_2023_2)"
   ]
  },
  {
   "cell_type": "markdown",
   "metadata": {},
   "source": [
    "## 10. The Community\n",
    "Julia has an amazing [User Community](https://julialang.org/community/) that is ready to help you! The main channels where you can seek help if you encounter a problem, bug, or simply have a question to learn more about Julia are:\n",
    "- Forum https://discourse.julialang.org/\n",
    "- Julia Slack https://julialang.slack.com/\n",
    "- Open an issue on Github! "
   ]
  }
 ],
 "metadata": {
  "kernelspec": {
   "display_name": "Julia 1.8.0",
   "language": "julia",
   "name": "julia-1.8"
  },
  "language_info": {
   "file_extension": ".jl",
   "mimetype": "application/julia",
   "name": "julia",
   "version": "1.8.0"
  }
 },
 "nbformat": 4,
 "nbformat_minor": 2
}
